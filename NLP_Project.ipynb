{
  "cells": [
    {
      "cell_type": "code",
      "execution_count": 2,
      "metadata": {
        "colab": {
          "base_uri": "https://localhost:8080/"
        },
        "id": "wYiorCXc0MPz",
        "outputId": "da93cd97-d4d9-4018-b0e9-2dc89a7c6190"
      },
      "outputs": [
        {
          "output_type": "stream",
          "name": "stderr",
          "text": [
            "[nltk_data] Downloading package punkt to /root/nltk_data...\n",
            "[nltk_data]   Unzipping tokenizers/punkt.zip.\n",
            "[nltk_data] Downloading package wordnet to /root/nltk_data...\n",
            "[nltk_data] Downloading package omw-1.4 to /root/nltk_data...\n",
            "[nltk_data] Downloading package stopwords to /root/nltk_data...\n",
            "[nltk_data]   Unzipping corpora/stopwords.zip.\n"
          ]
        },
        {
          "output_type": "execute_result",
          "data": {
            "text/plain": [
              "True"
            ]
          },
          "metadata": {},
          "execution_count": 2
        }
      ],
      "source": [
        "\n",
        "import pandas as pd\n",
        "import nltk\n",
        "import spacy\n",
        "nlp = spacy.load('en_core_web_sm')\n",
        "import tensorflow\n",
        "\n",
        "from nltk.tokenize import sent_tokenize\n",
        "from nltk.tokenize import word_tokenize\n",
        "from nltk.stem import WordNetLemmatizer\n",
        "from nltk.stem.porter import PorterStemmer\n",
        "from nltk.corpus import stopwords\n",
        "from nltk.stem.snowball import SnowballStemmer\n",
        "from nltk.stem.porter import *\n",
        "\n",
        "nltk.download('punkt')\n",
        "nltk.download('wordnet')\n",
        "nltk.download('omw-1.4')\n",
        "nltk.download('stopwords')\n",
        "\n"
      ]
    },
    {
      "cell_type": "code",
      "execution_count": 3,
      "metadata": {
        "id": "dpbk-JuG8gF1"
      },
      "outputs": [],
      "source": [
        "# Load the JSONL file into a pandas DataFrame\n",
        "df = pd.read_json('data.jsonl', lines=True)"
      ]
    },
    {
      "cell_type": "code",
      "execution_count": 4,
      "metadata": {
        "colab": {
          "base_uri": "https://localhost:8080/",
          "height": 206
        },
        "id": "KogPGhbB9PN2",
        "outputId": "e0b59e64-ac30-4eed-92bc-82fe3a039a38"
      },
      "outputs": [
        {
          "output_type": "execute_result",
          "data": {
            "text/plain": [
              "                                            response\n",
              "0  \"Compare and contrast the philosophical founda...\n",
              "1  What are the key differences between classicis...\n",
              "2  Analyze the significance of the concept of \"co...\n",
              "3  \"Compare and contrast two different theories r...\n",
              "4  \"Analyze and discuss the role of artificial in..."
            ],
            "text/html": [
              "\n",
              "  <div id=\"df-bd1b9a69-3aa0-41e9-a763-5ba9c2e74e4c\" class=\"colab-df-container\">\n",
              "    <div>\n",
              "<style scoped>\n",
              "    .dataframe tbody tr th:only-of-type {\n",
              "        vertical-align: middle;\n",
              "    }\n",
              "\n",
              "    .dataframe tbody tr th {\n",
              "        vertical-align: top;\n",
              "    }\n",
              "\n",
              "    .dataframe thead th {\n",
              "        text-align: right;\n",
              "    }\n",
              "</style>\n",
              "<table border=\"1\" class=\"dataframe\">\n",
              "  <thead>\n",
              "    <tr style=\"text-align: right;\">\n",
              "      <th></th>\n",
              "      <th>response</th>\n",
              "    </tr>\n",
              "  </thead>\n",
              "  <tbody>\n",
              "    <tr>\n",
              "      <th>0</th>\n",
              "      <td>\"Compare and contrast the philosophical founda...</td>\n",
              "    </tr>\n",
              "    <tr>\n",
              "      <th>1</th>\n",
              "      <td>What are the key differences between classicis...</td>\n",
              "    </tr>\n",
              "    <tr>\n",
              "      <th>2</th>\n",
              "      <td>Analyze the significance of the concept of \"co...</td>\n",
              "    </tr>\n",
              "    <tr>\n",
              "      <th>3</th>\n",
              "      <td>\"Compare and contrast two different theories r...</td>\n",
              "    </tr>\n",
              "    <tr>\n",
              "      <th>4</th>\n",
              "      <td>\"Analyze and discuss the role of artificial in...</td>\n",
              "    </tr>\n",
              "  </tbody>\n",
              "</table>\n",
              "</div>\n",
              "    <div class=\"colab-df-buttons\">\n",
              "\n",
              "  <div class=\"colab-df-container\">\n",
              "    <button class=\"colab-df-convert\" onclick=\"convertToInteractive('df-bd1b9a69-3aa0-41e9-a763-5ba9c2e74e4c')\"\n",
              "            title=\"Convert this dataframe to an interactive table.\"\n",
              "            style=\"display:none;\">\n",
              "\n",
              "  <svg xmlns=\"http://www.w3.org/2000/svg\" height=\"24px\" viewBox=\"0 -960 960 960\">\n",
              "    <path d=\"M120-120v-720h720v720H120Zm60-500h600v-160H180v160Zm220 220h160v-160H400v160Zm0 220h160v-160H400v160ZM180-400h160v-160H180v160Zm440 0h160v-160H620v160ZM180-180h160v-160H180v160Zm440 0h160v-160H620v160Z\"/>\n",
              "  </svg>\n",
              "    </button>\n",
              "\n",
              "  <style>\n",
              "    .colab-df-container {\n",
              "      display:flex;\n",
              "      gap: 12px;\n",
              "    }\n",
              "\n",
              "    .colab-df-convert {\n",
              "      background-color: #E8F0FE;\n",
              "      border: none;\n",
              "      border-radius: 50%;\n",
              "      cursor: pointer;\n",
              "      display: none;\n",
              "      fill: #1967D2;\n",
              "      height: 32px;\n",
              "      padding: 0 0 0 0;\n",
              "      width: 32px;\n",
              "    }\n",
              "\n",
              "    .colab-df-convert:hover {\n",
              "      background-color: #E2EBFA;\n",
              "      box-shadow: 0px 1px 2px rgba(60, 64, 67, 0.3), 0px 1px 3px 1px rgba(60, 64, 67, 0.15);\n",
              "      fill: #174EA6;\n",
              "    }\n",
              "\n",
              "    .colab-df-buttons div {\n",
              "      margin-bottom: 4px;\n",
              "    }\n",
              "\n",
              "    [theme=dark] .colab-df-convert {\n",
              "      background-color: #3B4455;\n",
              "      fill: #D2E3FC;\n",
              "    }\n",
              "\n",
              "    [theme=dark] .colab-df-convert:hover {\n",
              "      background-color: #434B5C;\n",
              "      box-shadow: 0px 1px 3px 1px rgba(0, 0, 0, 0.15);\n",
              "      filter: drop-shadow(0px 1px 2px rgba(0, 0, 0, 0.3));\n",
              "      fill: #FFFFFF;\n",
              "    }\n",
              "  </style>\n",
              "\n",
              "    <script>\n",
              "      const buttonEl =\n",
              "        document.querySelector('#df-bd1b9a69-3aa0-41e9-a763-5ba9c2e74e4c button.colab-df-convert');\n",
              "      buttonEl.style.display =\n",
              "        google.colab.kernel.accessAllowed ? 'block' : 'none';\n",
              "\n",
              "      async function convertToInteractive(key) {\n",
              "        const element = document.querySelector('#df-bd1b9a69-3aa0-41e9-a763-5ba9c2e74e4c');\n",
              "        const dataTable =\n",
              "          await google.colab.kernel.invokeFunction('convertToInteractive',\n",
              "                                                    [key], {});\n",
              "        if (!dataTable) return;\n",
              "\n",
              "        const docLinkHtml = 'Like what you see? Visit the ' +\n",
              "          '<a target=\"_blank\" href=https://colab.research.google.com/notebooks/data_table.ipynb>data table notebook</a>'\n",
              "          + ' to learn more about interactive tables.';\n",
              "        element.innerHTML = '';\n",
              "        dataTable['output_type'] = 'display_data';\n",
              "        await google.colab.output.renderOutput(dataTable, element);\n",
              "        const docLink = document.createElement('div');\n",
              "        docLink.innerHTML = docLinkHtml;\n",
              "        element.appendChild(docLink);\n",
              "      }\n",
              "    </script>\n",
              "  </div>\n",
              "\n",
              "\n",
              "<div id=\"df-c8c21e91-4b2f-4c31-a975-12069fabc55f\">\n",
              "  <button class=\"colab-df-quickchart\" onclick=\"quickchart('df-c8c21e91-4b2f-4c31-a975-12069fabc55f')\"\n",
              "            title=\"Suggest charts\"\n",
              "            style=\"display:none;\">\n",
              "\n",
              "<svg xmlns=\"http://www.w3.org/2000/svg\" height=\"24px\"viewBox=\"0 0 24 24\"\n",
              "     width=\"24px\">\n",
              "    <g>\n",
              "        <path d=\"M19 3H5c-1.1 0-2 .9-2 2v14c0 1.1.9 2 2 2h14c1.1 0 2-.9 2-2V5c0-1.1-.9-2-2-2zM9 17H7v-7h2v7zm4 0h-2V7h2v10zm4 0h-2v-4h2v4z\"/>\n",
              "    </g>\n",
              "</svg>\n",
              "  </button>\n",
              "\n",
              "<style>\n",
              "  .colab-df-quickchart {\n",
              "      --bg-color: #E8F0FE;\n",
              "      --fill-color: #1967D2;\n",
              "      --hover-bg-color: #E2EBFA;\n",
              "      --hover-fill-color: #174EA6;\n",
              "      --disabled-fill-color: #AAA;\n",
              "      --disabled-bg-color: #DDD;\n",
              "  }\n",
              "\n",
              "  [theme=dark] .colab-df-quickchart {\n",
              "      --bg-color: #3B4455;\n",
              "      --fill-color: #D2E3FC;\n",
              "      --hover-bg-color: #434B5C;\n",
              "      --hover-fill-color: #FFFFFF;\n",
              "      --disabled-bg-color: #3B4455;\n",
              "      --disabled-fill-color: #666;\n",
              "  }\n",
              "\n",
              "  .colab-df-quickchart {\n",
              "    background-color: var(--bg-color);\n",
              "    border: none;\n",
              "    border-radius: 50%;\n",
              "    cursor: pointer;\n",
              "    display: none;\n",
              "    fill: var(--fill-color);\n",
              "    height: 32px;\n",
              "    padding: 0;\n",
              "    width: 32px;\n",
              "  }\n",
              "\n",
              "  .colab-df-quickchart:hover {\n",
              "    background-color: var(--hover-bg-color);\n",
              "    box-shadow: 0 1px 2px rgba(60, 64, 67, 0.3), 0 1px 3px 1px rgba(60, 64, 67, 0.15);\n",
              "    fill: var(--button-hover-fill-color);\n",
              "  }\n",
              "\n",
              "  .colab-df-quickchart-complete:disabled,\n",
              "  .colab-df-quickchart-complete:disabled:hover {\n",
              "    background-color: var(--disabled-bg-color);\n",
              "    fill: var(--disabled-fill-color);\n",
              "    box-shadow: none;\n",
              "  }\n",
              "\n",
              "  .colab-df-spinner {\n",
              "    border: 2px solid var(--fill-color);\n",
              "    border-color: transparent;\n",
              "    border-bottom-color: var(--fill-color);\n",
              "    animation:\n",
              "      spin 1s steps(1) infinite;\n",
              "  }\n",
              "\n",
              "  @keyframes spin {\n",
              "    0% {\n",
              "      border-color: transparent;\n",
              "      border-bottom-color: var(--fill-color);\n",
              "      border-left-color: var(--fill-color);\n",
              "    }\n",
              "    20% {\n",
              "      border-color: transparent;\n",
              "      border-left-color: var(--fill-color);\n",
              "      border-top-color: var(--fill-color);\n",
              "    }\n",
              "    30% {\n",
              "      border-color: transparent;\n",
              "      border-left-color: var(--fill-color);\n",
              "      border-top-color: var(--fill-color);\n",
              "      border-right-color: var(--fill-color);\n",
              "    }\n",
              "    40% {\n",
              "      border-color: transparent;\n",
              "      border-right-color: var(--fill-color);\n",
              "      border-top-color: var(--fill-color);\n",
              "    }\n",
              "    60% {\n",
              "      border-color: transparent;\n",
              "      border-right-color: var(--fill-color);\n",
              "    }\n",
              "    80% {\n",
              "      border-color: transparent;\n",
              "      border-right-color: var(--fill-color);\n",
              "      border-bottom-color: var(--fill-color);\n",
              "    }\n",
              "    90% {\n",
              "      border-color: transparent;\n",
              "      border-bottom-color: var(--fill-color);\n",
              "    }\n",
              "  }\n",
              "</style>\n",
              "\n",
              "  <script>\n",
              "    async function quickchart(key) {\n",
              "      const quickchartButtonEl =\n",
              "        document.querySelector('#' + key + ' button');\n",
              "      quickchartButtonEl.disabled = true;  // To prevent multiple clicks.\n",
              "      quickchartButtonEl.classList.add('colab-df-spinner');\n",
              "      try {\n",
              "        const charts = await google.colab.kernel.invokeFunction(\n",
              "            'suggestCharts', [key], {});\n",
              "      } catch (error) {\n",
              "        console.error('Error during call to suggestCharts:', error);\n",
              "      }\n",
              "      quickchartButtonEl.classList.remove('colab-df-spinner');\n",
              "      quickchartButtonEl.classList.add('colab-df-quickchart-complete');\n",
              "    }\n",
              "    (() => {\n",
              "      let quickchartButtonEl =\n",
              "        document.querySelector('#df-c8c21e91-4b2f-4c31-a975-12069fabc55f button');\n",
              "      quickchartButtonEl.style.display =\n",
              "        google.colab.kernel.accessAllowed ? 'block' : 'none';\n",
              "    })();\n",
              "  </script>\n",
              "</div>\n",
              "\n",
              "    </div>\n",
              "  </div>\n"
            ],
            "application/vnd.google.colaboratory.intrinsic+json": {
              "type": "dataframe",
              "variable_name": "df"
            }
          },
          "metadata": {},
          "execution_count": 4
        }
      ],
      "source": [
        "df.head()"
      ]
    },
    {
      "cell_type": "code",
      "execution_count": 5,
      "metadata": {
        "colab": {
          "base_uri": "https://localhost:8080/"
        },
        "id": "6MBClAzW9QcF",
        "outputId": "deccc70b-ba0a-49e6-9c49-49535d384ae2"
      },
      "outputs": [
        {
          "output_type": "stream",
          "name": "stdout",
          "text": [
            "<class 'pandas.core.frame.DataFrame'>\n",
            "RangeIndex: 250000 entries, 0 to 249999\n",
            "Data columns (total 1 columns):\n",
            " #   Column    Non-Null Count   Dtype \n",
            "---  ------    --------------   ----- \n",
            " 0   response  250000 non-null  object\n",
            "dtypes: object(1)\n",
            "memory usage: 1.9+ MB\n"
          ]
        }
      ],
      "source": [
        "df.info()"
      ]
    },
    {
      "cell_type": "markdown",
      "metadata": {
        "id": "1TRcr5ucQ56e"
      },
      "source": [
        "# **Data Cleaning**"
      ]
    },
    {
      "cell_type": "markdown",
      "metadata": {
        "id": "fPD4rtp9QtE_"
      },
      "source": [
        "By inspecting the dataset, I discovered some rows that have the same word repeated many times. This needs to be cleaned by dropping these rows.\n",
        "\n",
        "Below is an example of some of these rows:"
      ]
    },
    {
      "cell_type": "code",
      "execution_count": 6,
      "metadata": {
        "colab": {
          "base_uri": "https://localhost:8080/"
        },
        "id": "Yt_tZMjGPfq_",
        "outputId": "7e014b22-2c6e-449c-ff0c-40d34df14c5b"
      },
      "outputs": [
        {
          "output_type": "stream",
          "name": "stderr",
          "text": [
            "<ipython-input-6-fc6e1fa13723>:5: UserWarning: This pattern is interpreted as a regular expression, and has match groups. To actually get the groups, use str.extract.\n",
            "  repeated_rows = df[df['response'].str.contains(r'\\b(\\w+)\\s+\\1\\s+\\1\\s+\\1\\b')]\n"
          ]
        },
        {
          "output_type": "stream",
          "name": "stdout",
          "text": [
            "                                                                                                                                                                                                       response\n",
            "14875   How does the concept of paradoxical paradox paradox paradox paradox paradox paradox paradox paradox paradox paradox paradox paradox paradox paradox paradox paradox paradox paradox paradox paradox ...\n",
            "68210                \"Compare and contrast the key theories periodically periodically proposed in the history of X period (e.g period period period period period period period period period period period ).\"\n",
            "82552   Explain the defining characteristics of an Empirical Research Study defining Empirical defining Research Research Study Study defining defining defining defining defining defining defining definin...\n",
            "111862  Compare everyday everyday everyday everyday everyday everyday everyday everyday everyday everyday everyday everyday everyday everyday everyday everyday everyday everyday everyday everyday everyday...\n",
            "112666  \"Compare and contrast the Learning Learning Learning Learning Cycle and the Connectivism Learning Theory: How do they differ in their approach to knowledge acquisition, and what are their implicat...\n",
            "231265                                                                                \"In your opinion, what is the most significant development in your chosen field of study in taught taught taught taught?\"\n"
          ]
        }
      ],
      "source": [
        "# Adjust display options to show full content of DataFrame column\n",
        "pd.set_option('display.max_colwidth', 200)\n",
        "\n",
        "#Check rows with repeated values\n",
        "repeated_rows = df[df['response'].str.contains(r'\\b(\\w+)\\s+\\1\\s+\\1\\s+\\1\\b')]\n",
        "print(repeated_rows)"
      ]
    },
    {
      "cell_type": "markdown",
      "metadata": {
        "id": "KvbQ9P0rSClY"
      },
      "source": [
        "I will drop any row that has the same word repeated more than 4 times"
      ]
    },
    {
      "cell_type": "code",
      "execution_count": 7,
      "metadata": {
        "id": "fw_kLP4PROvu"
      },
      "outputs": [],
      "source": [
        "# Dropping rows that have the same word repeated more than 4 times\n",
        "def drop_repeated_words(df, max_repeats=4):\n",
        "\n",
        "    # Splitting each row's text into words\n",
        "    words = df['response'].str.split()\n",
        "\n",
        "    # Checking for repeated words\n",
        "    repeated_indices = []\n",
        "    for i, row_words in enumerate(words):\n",
        "        word_counts = {}\n",
        "        for word in row_words:\n",
        "            word_counts[word] = word_counts.get(word, 0) + 1\n",
        "            if word_counts[word] > max_repeats:\n",
        "                repeated_indices.append(i)\n",
        "                break\n",
        "\n",
        "\n",
        "    df.drop(repeated_indices, inplace=True)\n"
      ]
    },
    {
      "cell_type": "code",
      "execution_count": 9,
      "metadata": {
        "id": "m_9P0VYhSUT4"
      },
      "outputs": [],
      "source": [
        "drop_repeated_words(df)"
      ]
    },
    {
      "cell_type": "code",
      "execution_count": 10,
      "metadata": {
        "colab": {
          "base_uri": "https://localhost:8080/"
        },
        "id": "4QyYtX6pSNeW",
        "outputId": "e82d8178-9d17-4310-a0e2-a9330d4f1349"
      },
      "outputs": [
        {
          "output_type": "stream",
          "name": "stdout",
          "text": [
            "<class 'pandas.core.frame.DataFrame'>\n",
            "Index: 249118 entries, 0 to 249999\n",
            "Data columns (total 1 columns):\n",
            " #   Column    Non-Null Count   Dtype \n",
            "---  ------    --------------   ----- \n",
            " 0   response  249118 non-null  object\n",
            "dtypes: object(1)\n",
            "memory usage: 3.8+ MB\n"
          ]
        }
      ],
      "source": [
        "# Now the prompts are 249118 instead of 250,000\n",
        "df.info()"
      ]
    },
    {
      "cell_type": "code",
      "execution_count": 11,
      "metadata": {
        "colab": {
          "base_uri": "https://localhost:8080/"
        },
        "id": "n5DYIOc79pVX",
        "outputId": "8caac99c-f34d-47d8-f1fe-4a3834f14795"
      },
      "outputs": [
        {
          "output_type": "execute_result",
          "data": {
            "text/plain": [
              "response    0\n",
              "dtype: int64"
            ]
          },
          "metadata": {},
          "execution_count": 11
        }
      ],
      "source": [
        "# There are no null values\n",
        "df.isnull().sum()"
      ]
    },
    {
      "cell_type": "code",
      "execution_count": 12,
      "metadata": {
        "colab": {
          "base_uri": "https://localhost:8080/"
        },
        "id": "CQ0EkltQ-IKF",
        "outputId": "2dfd0a14-92c4-48e4-919c-8a900ab9a4b0"
      },
      "outputs": [
        {
          "output_type": "execute_result",
          "data": {
            "text/plain": [
              "0         20\n",
              "1         13\n",
              "2         19\n",
              "3         12\n",
              "4         13\n",
              "          ..\n",
              "249995    22\n",
              "249996    22\n",
              "249997    21\n",
              "249998    13\n",
              "249999    19\n",
              "Name: prompt_length, Length: 249118, dtype: int64"
            ]
          },
          "metadata": {},
          "execution_count": 12
        }
      ],
      "source": [
        "# Get the length of each prompt\n",
        "df['prompt_length'] = df['response'].apply(lambda x: len(x.split()))\n",
        "df['prompt_length']"
      ]
    },
    {
      "cell_type": "code",
      "execution_count": 13,
      "metadata": {
        "colab": {
          "base_uri": "https://localhost:8080/"
        },
        "id": "DNTY8Lrc-UB_",
        "outputId": "7b884434-0bf7-43a9-b9fa-e94160d8da60"
      },
      "outputs": [
        {
          "output_type": "execute_result",
          "data": {
            "text/plain": [
              "count    249118.000000\n",
              "mean         16.648291\n",
              "std           4.436962\n",
              "min           2.000000\n",
              "25%          14.000000\n",
              "50%          16.000000\n",
              "75%          19.000000\n",
              "max          76.000000\n",
              "Name: prompt_length, dtype: float64"
            ]
          },
          "metadata": {},
          "execution_count": 13
        }
      ],
      "source": [
        "# basic statistics of prompt lengths\n",
        "df['prompt_length'].describe()"
      ]
    },
    {
      "cell_type": "code",
      "execution_count": 14,
      "metadata": {
        "id": "ZslT9fQmAwil"
      },
      "outputs": [],
      "source": [
        "import re\n",
        "\n",
        "# Remove special characters and non-alphanumeric characters\n",
        "df['response'] = df['response'].apply(lambda x: re.sub(r'[^a-zA-Z0-9\\s]', '', x))"
      ]
    },
    {
      "cell_type": "code",
      "execution_count": 15,
      "metadata": {
        "id": "JQJWoiVtF-zH"
      },
      "outputs": [],
      "source": [
        "# Remove leading and trailing whitespaces\n",
        "df['response'] = df['response'].apply(lambda x: x.strip())"
      ]
    },
    {
      "cell_type": "markdown",
      "metadata": {
        "id": "9PeIO4Ihwy-v"
      },
      "source": [
        "# **Data Preprocessing**"
      ]
    },
    {
      "cell_type": "code",
      "execution_count": 16,
      "metadata": {
        "id": "eUubSxEgGmiq"
      },
      "outputs": [],
      "source": [
        "# Tokenization\n",
        "def preprocessing(text):\n",
        "    doc = nlp(text)\n",
        "\n",
        "    # Extract tokens from the SpaCy document\n",
        "    tokens = [token.text for token in doc]\n",
        "    return tokens\n",
        "\n",
        "df['tokens'] = df['response'].apply(preprocessing)\n"
      ]
    },
    {
      "cell_type": "code",
      "execution_count": 17,
      "metadata": {
        "colab": {
          "base_uri": "https://localhost:8080/",
          "height": 580
        },
        "id": "5UZq8W5pMy2y",
        "outputId": "55c31ad6-6305-43bf-92a9-ce20ff21a80d"
      },
      "outputs": [
        {
          "output_type": "execute_result",
          "data": {
            "text/plain": [
              "                                                                                                                                                  response  \\\n",
              "0                Compare and contrast the philosophical foundations of two major schools of thought in the field of psychology Behaviorism and Cognitivism   \n",
              "1                                                                    What are the key differences between classicism and romanticism in literature and art   \n",
              "2               Analyze the significance of the concept of cognitive dissonance in social psychology and its implications for understanding human behavior   \n",
              "3                                                                   Compare and contrast two different theories related to human development in psychology   \n",
              "4                                                                       Analyze and discuss the role of artificial intelligence in the future of education   \n",
              "...                                                                                                                                                    ...   \n",
              "249995                   What is the significance of the concept of homeostasis in biology and how does it relate to the functioning of biological systems   \n",
              "249996    Discuss the role of cellular respiration in energy production within living organisms and how it contributes to the overall functioning of cells   \n",
              "249997  In the field of artificial intelligence explain the difference between supervised and unsupervised learning and provide a reallife example of each   \n",
              "249998                                                         Compare and contrast the key differences between Classical and Quantum Mechanics in physics   \n",
              "249999                              In what ways has the use of technology impacted the education system and its effectiveness in achieving academic goals   \n",
              "\n",
              "        prompt_length  \\\n",
              "0                  20   \n",
              "1                  13   \n",
              "2                  19   \n",
              "3                  12   \n",
              "4                  13   \n",
              "...               ...   \n",
              "249995             22   \n",
              "249996             22   \n",
              "249997             21   \n",
              "249998             13   \n",
              "249999             19   \n",
              "\n",
              "                                                                                                                                                                          tokens  \n",
              "0                 [Compare, and, contrast, the, philosophical, foundations, of, two, major, schools, of, thought, in, the, field, of, psychology, Behaviorism, and, Cognitivism]  \n",
              "1                                                                            [What, are, the, key, differences, between, classicism, and, romanticism, in, literature, and, art]  \n",
              "2                 [Analyze, the, significance, of, the, concept, of, cognitive, dissonance, in, social, psychology, and, its, implications, for, understanding, human, behavior]  \n",
              "3                                                                            [Compare, and, contrast, two, different, theories, related, to, human, development, in, psychology]  \n",
              "4                                                                               [Analyze, and, discuss, the, role, of, artificial, intelligence, in, the, future, of, education]  \n",
              "...                                                                                                                                                                          ...  \n",
              "249995                  [What, is, the, significance, of, the, concept, of, homeostasis, in, biology, and, how, does, it, relate, to, the, functioning, of, biological, systems]  \n",
              "249996   [Discuss, the, role, of, cellular, respiration, in, energy, production, within, living, organisms, and, how, it, contributes, to, the, overall, functioning, of, cells]  \n",
              "249997  [In, the, field, of, artificial, intelligence, explain, the, difference, between, supervised, and, unsupervised, learning, and, provide, a, reallife, example, of, each]  \n",
              "249998                                                                 [Compare, and, contrast, the, key, differences, between, Classical, and, Quantum, Mechanics, in, physics]  \n",
              "249999                                [In, what, ways, has, the, use, of, technology, impacted, the, education, system, and, its, effectiveness, in, achieving, academic, goals]  \n",
              "\n",
              "[249118 rows x 3 columns]"
            ],
            "text/html": [
              "\n",
              "  <div id=\"df-ee3f74cc-54b3-4265-ae87-10f6d9367427\" class=\"colab-df-container\">\n",
              "    <div>\n",
              "<style scoped>\n",
              "    .dataframe tbody tr th:only-of-type {\n",
              "        vertical-align: middle;\n",
              "    }\n",
              "\n",
              "    .dataframe tbody tr th {\n",
              "        vertical-align: top;\n",
              "    }\n",
              "\n",
              "    .dataframe thead th {\n",
              "        text-align: right;\n",
              "    }\n",
              "</style>\n",
              "<table border=\"1\" class=\"dataframe\">\n",
              "  <thead>\n",
              "    <tr style=\"text-align: right;\">\n",
              "      <th></th>\n",
              "      <th>response</th>\n",
              "      <th>prompt_length</th>\n",
              "      <th>tokens</th>\n",
              "    </tr>\n",
              "  </thead>\n",
              "  <tbody>\n",
              "    <tr>\n",
              "      <th>0</th>\n",
              "      <td>Compare and contrast the philosophical foundations of two major schools of thought in the field of psychology Behaviorism and Cognitivism</td>\n",
              "      <td>20</td>\n",
              "      <td>[Compare, and, contrast, the, philosophical, foundations, of, two, major, schools, of, thought, in, the, field, of, psychology, Behaviorism, and, Cognitivism]</td>\n",
              "    </tr>\n",
              "    <tr>\n",
              "      <th>1</th>\n",
              "      <td>What are the key differences between classicism and romanticism in literature and art</td>\n",
              "      <td>13</td>\n",
              "      <td>[What, are, the, key, differences, between, classicism, and, romanticism, in, literature, and, art]</td>\n",
              "    </tr>\n",
              "    <tr>\n",
              "      <th>2</th>\n",
              "      <td>Analyze the significance of the concept of cognitive dissonance in social psychology and its implications for understanding human behavior</td>\n",
              "      <td>19</td>\n",
              "      <td>[Analyze, the, significance, of, the, concept, of, cognitive, dissonance, in, social, psychology, and, its, implications, for, understanding, human, behavior]</td>\n",
              "    </tr>\n",
              "    <tr>\n",
              "      <th>3</th>\n",
              "      <td>Compare and contrast two different theories related to human development in psychology</td>\n",
              "      <td>12</td>\n",
              "      <td>[Compare, and, contrast, two, different, theories, related, to, human, development, in, psychology]</td>\n",
              "    </tr>\n",
              "    <tr>\n",
              "      <th>4</th>\n",
              "      <td>Analyze and discuss the role of artificial intelligence in the future of education</td>\n",
              "      <td>13</td>\n",
              "      <td>[Analyze, and, discuss, the, role, of, artificial, intelligence, in, the, future, of, education]</td>\n",
              "    </tr>\n",
              "    <tr>\n",
              "      <th>...</th>\n",
              "      <td>...</td>\n",
              "      <td>...</td>\n",
              "      <td>...</td>\n",
              "    </tr>\n",
              "    <tr>\n",
              "      <th>249995</th>\n",
              "      <td>What is the significance of the concept of homeostasis in biology and how does it relate to the functioning of biological systems</td>\n",
              "      <td>22</td>\n",
              "      <td>[What, is, the, significance, of, the, concept, of, homeostasis, in, biology, and, how, does, it, relate, to, the, functioning, of, biological, systems]</td>\n",
              "    </tr>\n",
              "    <tr>\n",
              "      <th>249996</th>\n",
              "      <td>Discuss the role of cellular respiration in energy production within living organisms and how it contributes to the overall functioning of cells</td>\n",
              "      <td>22</td>\n",
              "      <td>[Discuss, the, role, of, cellular, respiration, in, energy, production, within, living, organisms, and, how, it, contributes, to, the, overall, functioning, of, cells]</td>\n",
              "    </tr>\n",
              "    <tr>\n",
              "      <th>249997</th>\n",
              "      <td>In the field of artificial intelligence explain the difference between supervised and unsupervised learning and provide a reallife example of each</td>\n",
              "      <td>21</td>\n",
              "      <td>[In, the, field, of, artificial, intelligence, explain, the, difference, between, supervised, and, unsupervised, learning, and, provide, a, reallife, example, of, each]</td>\n",
              "    </tr>\n",
              "    <tr>\n",
              "      <th>249998</th>\n",
              "      <td>Compare and contrast the key differences between Classical and Quantum Mechanics in physics</td>\n",
              "      <td>13</td>\n",
              "      <td>[Compare, and, contrast, the, key, differences, between, Classical, and, Quantum, Mechanics, in, physics]</td>\n",
              "    </tr>\n",
              "    <tr>\n",
              "      <th>249999</th>\n",
              "      <td>In what ways has the use of technology impacted the education system and its effectiveness in achieving academic goals</td>\n",
              "      <td>19</td>\n",
              "      <td>[In, what, ways, has, the, use, of, technology, impacted, the, education, system, and, its, effectiveness, in, achieving, academic, goals]</td>\n",
              "    </tr>\n",
              "  </tbody>\n",
              "</table>\n",
              "<p>249118 rows × 3 columns</p>\n",
              "</div>\n",
              "    <div class=\"colab-df-buttons\">\n",
              "\n",
              "  <div class=\"colab-df-container\">\n",
              "    <button class=\"colab-df-convert\" onclick=\"convertToInteractive('df-ee3f74cc-54b3-4265-ae87-10f6d9367427')\"\n",
              "            title=\"Convert this dataframe to an interactive table.\"\n",
              "            style=\"display:none;\">\n",
              "\n",
              "  <svg xmlns=\"http://www.w3.org/2000/svg\" height=\"24px\" viewBox=\"0 -960 960 960\">\n",
              "    <path d=\"M120-120v-720h720v720H120Zm60-500h600v-160H180v160Zm220 220h160v-160H400v160Zm0 220h160v-160H400v160ZM180-400h160v-160H180v160Zm440 0h160v-160H620v160ZM180-180h160v-160H180v160Zm440 0h160v-160H620v160Z\"/>\n",
              "  </svg>\n",
              "    </button>\n",
              "\n",
              "  <style>\n",
              "    .colab-df-container {\n",
              "      display:flex;\n",
              "      gap: 12px;\n",
              "    }\n",
              "\n",
              "    .colab-df-convert {\n",
              "      background-color: #E8F0FE;\n",
              "      border: none;\n",
              "      border-radius: 50%;\n",
              "      cursor: pointer;\n",
              "      display: none;\n",
              "      fill: #1967D2;\n",
              "      height: 32px;\n",
              "      padding: 0 0 0 0;\n",
              "      width: 32px;\n",
              "    }\n",
              "\n",
              "    .colab-df-convert:hover {\n",
              "      background-color: #E2EBFA;\n",
              "      box-shadow: 0px 1px 2px rgba(60, 64, 67, 0.3), 0px 1px 3px 1px rgba(60, 64, 67, 0.15);\n",
              "      fill: #174EA6;\n",
              "    }\n",
              "\n",
              "    .colab-df-buttons div {\n",
              "      margin-bottom: 4px;\n",
              "    }\n",
              "\n",
              "    [theme=dark] .colab-df-convert {\n",
              "      background-color: #3B4455;\n",
              "      fill: #D2E3FC;\n",
              "    }\n",
              "\n",
              "    [theme=dark] .colab-df-convert:hover {\n",
              "      background-color: #434B5C;\n",
              "      box-shadow: 0px 1px 3px 1px rgba(0, 0, 0, 0.15);\n",
              "      filter: drop-shadow(0px 1px 2px rgba(0, 0, 0, 0.3));\n",
              "      fill: #FFFFFF;\n",
              "    }\n",
              "  </style>\n",
              "\n",
              "    <script>\n",
              "      const buttonEl =\n",
              "        document.querySelector('#df-ee3f74cc-54b3-4265-ae87-10f6d9367427 button.colab-df-convert');\n",
              "      buttonEl.style.display =\n",
              "        google.colab.kernel.accessAllowed ? 'block' : 'none';\n",
              "\n",
              "      async function convertToInteractive(key) {\n",
              "        const element = document.querySelector('#df-ee3f74cc-54b3-4265-ae87-10f6d9367427');\n",
              "        const dataTable =\n",
              "          await google.colab.kernel.invokeFunction('convertToInteractive',\n",
              "                                                    [key], {});\n",
              "        if (!dataTable) return;\n",
              "\n",
              "        const docLinkHtml = 'Like what you see? Visit the ' +\n",
              "          '<a target=\"_blank\" href=https://colab.research.google.com/notebooks/data_table.ipynb>data table notebook</a>'\n",
              "          + ' to learn more about interactive tables.';\n",
              "        element.innerHTML = '';\n",
              "        dataTable['output_type'] = 'display_data';\n",
              "        await google.colab.output.renderOutput(dataTable, element);\n",
              "        const docLink = document.createElement('div');\n",
              "        docLink.innerHTML = docLinkHtml;\n",
              "        element.appendChild(docLink);\n",
              "      }\n",
              "    </script>\n",
              "  </div>\n",
              "\n",
              "\n",
              "<div id=\"df-cb63f145-468e-483e-bc9c-047d33f9d510\">\n",
              "  <button class=\"colab-df-quickchart\" onclick=\"quickchart('df-cb63f145-468e-483e-bc9c-047d33f9d510')\"\n",
              "            title=\"Suggest charts\"\n",
              "            style=\"display:none;\">\n",
              "\n",
              "<svg xmlns=\"http://www.w3.org/2000/svg\" height=\"24px\"viewBox=\"0 0 24 24\"\n",
              "     width=\"24px\">\n",
              "    <g>\n",
              "        <path d=\"M19 3H5c-1.1 0-2 .9-2 2v14c0 1.1.9 2 2 2h14c1.1 0 2-.9 2-2V5c0-1.1-.9-2-2-2zM9 17H7v-7h2v7zm4 0h-2V7h2v10zm4 0h-2v-4h2v4z\"/>\n",
              "    </g>\n",
              "</svg>\n",
              "  </button>\n",
              "\n",
              "<style>\n",
              "  .colab-df-quickchart {\n",
              "      --bg-color: #E8F0FE;\n",
              "      --fill-color: #1967D2;\n",
              "      --hover-bg-color: #E2EBFA;\n",
              "      --hover-fill-color: #174EA6;\n",
              "      --disabled-fill-color: #AAA;\n",
              "      --disabled-bg-color: #DDD;\n",
              "  }\n",
              "\n",
              "  [theme=dark] .colab-df-quickchart {\n",
              "      --bg-color: #3B4455;\n",
              "      --fill-color: #D2E3FC;\n",
              "      --hover-bg-color: #434B5C;\n",
              "      --hover-fill-color: #FFFFFF;\n",
              "      --disabled-bg-color: #3B4455;\n",
              "      --disabled-fill-color: #666;\n",
              "  }\n",
              "\n",
              "  .colab-df-quickchart {\n",
              "    background-color: var(--bg-color);\n",
              "    border: none;\n",
              "    border-radius: 50%;\n",
              "    cursor: pointer;\n",
              "    display: none;\n",
              "    fill: var(--fill-color);\n",
              "    height: 32px;\n",
              "    padding: 0;\n",
              "    width: 32px;\n",
              "  }\n",
              "\n",
              "  .colab-df-quickchart:hover {\n",
              "    background-color: var(--hover-bg-color);\n",
              "    box-shadow: 0 1px 2px rgba(60, 64, 67, 0.3), 0 1px 3px 1px rgba(60, 64, 67, 0.15);\n",
              "    fill: var(--button-hover-fill-color);\n",
              "  }\n",
              "\n",
              "  .colab-df-quickchart-complete:disabled,\n",
              "  .colab-df-quickchart-complete:disabled:hover {\n",
              "    background-color: var(--disabled-bg-color);\n",
              "    fill: var(--disabled-fill-color);\n",
              "    box-shadow: none;\n",
              "  }\n",
              "\n",
              "  .colab-df-spinner {\n",
              "    border: 2px solid var(--fill-color);\n",
              "    border-color: transparent;\n",
              "    border-bottom-color: var(--fill-color);\n",
              "    animation:\n",
              "      spin 1s steps(1) infinite;\n",
              "  }\n",
              "\n",
              "  @keyframes spin {\n",
              "    0% {\n",
              "      border-color: transparent;\n",
              "      border-bottom-color: var(--fill-color);\n",
              "      border-left-color: var(--fill-color);\n",
              "    }\n",
              "    20% {\n",
              "      border-color: transparent;\n",
              "      border-left-color: var(--fill-color);\n",
              "      border-top-color: var(--fill-color);\n",
              "    }\n",
              "    30% {\n",
              "      border-color: transparent;\n",
              "      border-left-color: var(--fill-color);\n",
              "      border-top-color: var(--fill-color);\n",
              "      border-right-color: var(--fill-color);\n",
              "    }\n",
              "    40% {\n",
              "      border-color: transparent;\n",
              "      border-right-color: var(--fill-color);\n",
              "      border-top-color: var(--fill-color);\n",
              "    }\n",
              "    60% {\n",
              "      border-color: transparent;\n",
              "      border-right-color: var(--fill-color);\n",
              "    }\n",
              "    80% {\n",
              "      border-color: transparent;\n",
              "      border-right-color: var(--fill-color);\n",
              "      border-bottom-color: var(--fill-color);\n",
              "    }\n",
              "    90% {\n",
              "      border-color: transparent;\n",
              "      border-bottom-color: var(--fill-color);\n",
              "    }\n",
              "  }\n",
              "</style>\n",
              "\n",
              "  <script>\n",
              "    async function quickchart(key) {\n",
              "      const quickchartButtonEl =\n",
              "        document.querySelector('#' + key + ' button');\n",
              "      quickchartButtonEl.disabled = true;  // To prevent multiple clicks.\n",
              "      quickchartButtonEl.classList.add('colab-df-spinner');\n",
              "      try {\n",
              "        const charts = await google.colab.kernel.invokeFunction(\n",
              "            'suggestCharts', [key], {});\n",
              "      } catch (error) {\n",
              "        console.error('Error during call to suggestCharts:', error);\n",
              "      }\n",
              "      quickchartButtonEl.classList.remove('colab-df-spinner');\n",
              "      quickchartButtonEl.classList.add('colab-df-quickchart-complete');\n",
              "    }\n",
              "    (() => {\n",
              "      let quickchartButtonEl =\n",
              "        document.querySelector('#df-cb63f145-468e-483e-bc9c-047d33f9d510 button');\n",
              "      quickchartButtonEl.style.display =\n",
              "        google.colab.kernel.accessAllowed ? 'block' : 'none';\n",
              "    })();\n",
              "  </script>\n",
              "</div>\n",
              "\n",
              "  <div id=\"id_a9e3baea-f5ce-4125-87a6-687356066e36\">\n",
              "    <style>\n",
              "      .colab-df-generate {\n",
              "        background-color: #E8F0FE;\n",
              "        border: none;\n",
              "        border-radius: 50%;\n",
              "        cursor: pointer;\n",
              "        display: none;\n",
              "        fill: #1967D2;\n",
              "        height: 32px;\n",
              "        padding: 0 0 0 0;\n",
              "        width: 32px;\n",
              "      }\n",
              "\n",
              "      .colab-df-generate:hover {\n",
              "        background-color: #E2EBFA;\n",
              "        box-shadow: 0px 1px 2px rgba(60, 64, 67, 0.3), 0px 1px 3px 1px rgba(60, 64, 67, 0.15);\n",
              "        fill: #174EA6;\n",
              "      }\n",
              "\n",
              "      [theme=dark] .colab-df-generate {\n",
              "        background-color: #3B4455;\n",
              "        fill: #D2E3FC;\n",
              "      }\n",
              "\n",
              "      [theme=dark] .colab-df-generate:hover {\n",
              "        background-color: #434B5C;\n",
              "        box-shadow: 0px 1px 3px 1px rgba(0, 0, 0, 0.15);\n",
              "        filter: drop-shadow(0px 1px 2px rgba(0, 0, 0, 0.3));\n",
              "        fill: #FFFFFF;\n",
              "      }\n",
              "    </style>\n",
              "    <button class=\"colab-df-generate\" onclick=\"generateWithVariable('df')\"\n",
              "            title=\"Generate code using this dataframe.\"\n",
              "            style=\"display:none;\">\n",
              "\n",
              "  <svg xmlns=\"http://www.w3.org/2000/svg\" height=\"24px\"viewBox=\"0 0 24 24\"\n",
              "       width=\"24px\">\n",
              "    <path d=\"M7,19H8.4L18.45,9,17,7.55,7,17.6ZM5,21V16.75L18.45,3.32a2,2,0,0,1,2.83,0l1.4,1.43a1.91,1.91,0,0,1,.58,1.4,1.91,1.91,0,0,1-.58,1.4L9.25,21ZM18.45,9,17,7.55Zm-12,3A5.31,5.31,0,0,0,4.9,8.1,5.31,5.31,0,0,0,1,6.5,5.31,5.31,0,0,0,4.9,4.9,5.31,5.31,0,0,0,6.5,1,5.31,5.31,0,0,0,8.1,4.9,5.31,5.31,0,0,0,12,6.5,5.46,5.46,0,0,0,6.5,12Z\"/>\n",
              "  </svg>\n",
              "    </button>\n",
              "    <script>\n",
              "      (() => {\n",
              "      const buttonEl =\n",
              "        document.querySelector('#id_a9e3baea-f5ce-4125-87a6-687356066e36 button.colab-df-generate');\n",
              "      buttonEl.style.display =\n",
              "        google.colab.kernel.accessAllowed ? 'block' : 'none';\n",
              "\n",
              "      buttonEl.onclick = () => {\n",
              "        google.colab.notebook.generateWithVariable('df');\n",
              "      }\n",
              "      })();\n",
              "    </script>\n",
              "  </div>\n",
              "\n",
              "    </div>\n",
              "  </div>\n"
            ],
            "application/vnd.google.colaboratory.intrinsic+json": {
              "type": "dataframe",
              "variable_name": "df"
            }
          },
          "metadata": {},
          "execution_count": 17
        }
      ],
      "source": [
        "df"
      ]
    },
    {
      "cell_type": "code",
      "execution_count": 18,
      "metadata": {
        "id": "j3_aJi1ay21d"
      },
      "outputs": [],
      "source": [
        "# Lemmatization\n",
        "lemmatized_responses = []\n",
        "\n",
        "for token in df['tokens']:\n",
        "    doc = nlp(\" \".join(token))\n",
        "    lemmatized_response = [token.lemma_ for token in doc]\n",
        "    lemmatized_responses.append(lemmatized_response)"
      ]
    },
    {
      "cell_type": "code",
      "execution_count": 19,
      "metadata": {
        "colab": {
          "base_uri": "https://localhost:8080/"
        },
        "id": "XoCFdo1XMT7r",
        "outputId": "9c4df806-9086-43fa-d1aa-5e47e57136cd"
      },
      "outputs": [
        {
          "output_type": "execute_result",
          "data": {
            "text/plain": [
              "['compare',\n",
              " 'and',\n",
              " 'contrast',\n",
              " 'the',\n",
              " 'philosophical',\n",
              " 'foundation',\n",
              " 'of',\n",
              " 'two',\n",
              " 'major',\n",
              " 'school',\n",
              " 'of',\n",
              " 'thought',\n",
              " 'in',\n",
              " 'the',\n",
              " 'field',\n",
              " 'of',\n",
              " 'psychology',\n",
              " 'Behaviorism',\n",
              " 'and',\n",
              " 'Cognitivism']"
            ]
          },
          "metadata": {},
          "execution_count": 19
        }
      ],
      "source": [
        "lemmatized_responses[0]"
      ]
    },
    {
      "cell_type": "code",
      "execution_count": 20,
      "metadata": {
        "id": "QhEy8ns9joZC"
      },
      "outputs": [],
      "source": [
        "# Remove Stop words\n",
        "filtered_responses = []\n",
        "for response in lemmatized_responses:\n",
        "    filtered_response = [token for token in response if not nlp.vocab[token].is_stop]\n",
        "    filtered_responses.append(filtered_response)\n"
      ]
    },
    {
      "cell_type": "code",
      "execution_count": 21,
      "metadata": {
        "colab": {
          "base_uri": "https://localhost:8080/"
        },
        "id": "3WaQytb2MOnE",
        "outputId": "266d007f-dda7-42f6-db90-e783e3f1b61b"
      },
      "outputs": [
        {
          "output_type": "execute_result",
          "data": {
            "text/plain": [
              "['compare',\n",
              " 'contrast',\n",
              " 'philosophical',\n",
              " 'foundation',\n",
              " 'major',\n",
              " 'school',\n",
              " 'thought',\n",
              " 'field',\n",
              " 'psychology',\n",
              " 'Behaviorism',\n",
              " 'Cognitivism']"
            ]
          },
          "metadata": {},
          "execution_count": 21
        }
      ],
      "source": [
        "filtered_responses[0]"
      ]
    },
    {
      "cell_type": "code",
      "execution_count": 22,
      "metadata": {
        "id": "hf_Aci5N4-an"
      },
      "outputs": [],
      "source": [
        "# Responses after removing stop words.\n",
        "df['filtered_response'] = filtered_responses"
      ]
    },
    {
      "cell_type": "code",
      "execution_count": 24,
      "metadata": {
        "colab": {
          "base_uri": "https://localhost:8080/",
          "height": 327
        },
        "id": "O5azwnAZ6LFB",
        "outputId": "b389ce29-6ca8-46b9-8fd4-0486aea283f5"
      },
      "outputs": [
        {
          "output_type": "execute_result",
          "data": {
            "text/plain": [
              "                                                                                                                                     response  \\\n",
              "0   Compare and contrast the philosophical foundations of two major schools of thought in the field of psychology Behaviorism and Cognitivism   \n",
              "1                                                       What are the key differences between classicism and romanticism in literature and art   \n",
              "2  Analyze the significance of the concept of cognitive dissonance in social psychology and its implications for understanding human behavior   \n",
              "3                                                      Compare and contrast two different theories related to human development in psychology   \n",
              "4                                                          Analyze and discuss the role of artificial intelligence in the future of education   \n",
              "\n",
              "   prompt_length  \\\n",
              "0             20   \n",
              "1             13   \n",
              "2             19   \n",
              "3             12   \n",
              "4             13   \n",
              "\n",
              "                                                                                                                                                           tokens  \\\n",
              "0  [Compare, and, contrast, the, philosophical, foundations, of, two, major, schools, of, thought, in, the, field, of, psychology, Behaviorism, and, Cognitivism]   \n",
              "1                                                             [What, are, the, key, differences, between, classicism, and, romanticism, in, literature, and, art]   \n",
              "2  [Analyze, the, significance, of, the, concept, of, cognitive, dissonance, in, social, psychology, and, its, implications, for, understanding, human, behavior]   \n",
              "3                                                             [Compare, and, contrast, two, different, theories, related, to, human, development, in, psychology]   \n",
              "4                                                                [Analyze, and, discuss, the, role, of, artificial, intelligence, in, the, future, of, education]   \n",
              "\n",
              "                                                                                                       filtered_response  \n",
              "0    [compare, contrast, philosophical, foundation, major, school, thought, field, psychology, Behaviorism, Cognitivism]  \n",
              "1                                                            [key, difference, classicism, romanticism, literature, art]  \n",
              "2  [analyze, significance, concept, cognitive, dissonance, social, psychology, implication, understand, human, behavior]  \n",
              "3                                         [compare, contrast, different, theory, relate, human, development, psychology]  \n",
              "4                                                  [analyze, discuss, role, artificial, intelligence, future, education]  "
            ],
            "text/html": [
              "\n",
              "  <div id=\"df-3ebf9102-33eb-4f3e-8d6c-8c42bc846e97\" class=\"colab-df-container\">\n",
              "    <div>\n",
              "<style scoped>\n",
              "    .dataframe tbody tr th:only-of-type {\n",
              "        vertical-align: middle;\n",
              "    }\n",
              "\n",
              "    .dataframe tbody tr th {\n",
              "        vertical-align: top;\n",
              "    }\n",
              "\n",
              "    .dataframe thead th {\n",
              "        text-align: right;\n",
              "    }\n",
              "</style>\n",
              "<table border=\"1\" class=\"dataframe\">\n",
              "  <thead>\n",
              "    <tr style=\"text-align: right;\">\n",
              "      <th></th>\n",
              "      <th>response</th>\n",
              "      <th>prompt_length</th>\n",
              "      <th>tokens</th>\n",
              "      <th>filtered_response</th>\n",
              "    </tr>\n",
              "  </thead>\n",
              "  <tbody>\n",
              "    <tr>\n",
              "      <th>0</th>\n",
              "      <td>Compare and contrast the philosophical foundations of two major schools of thought in the field of psychology Behaviorism and Cognitivism</td>\n",
              "      <td>20</td>\n",
              "      <td>[Compare, and, contrast, the, philosophical, foundations, of, two, major, schools, of, thought, in, the, field, of, psychology, Behaviorism, and, Cognitivism]</td>\n",
              "      <td>[compare, contrast, philosophical, foundation, major, school, thought, field, psychology, Behaviorism, Cognitivism]</td>\n",
              "    </tr>\n",
              "    <tr>\n",
              "      <th>1</th>\n",
              "      <td>What are the key differences between classicism and romanticism in literature and art</td>\n",
              "      <td>13</td>\n",
              "      <td>[What, are, the, key, differences, between, classicism, and, romanticism, in, literature, and, art]</td>\n",
              "      <td>[key, difference, classicism, romanticism, literature, art]</td>\n",
              "    </tr>\n",
              "    <tr>\n",
              "      <th>2</th>\n",
              "      <td>Analyze the significance of the concept of cognitive dissonance in social psychology and its implications for understanding human behavior</td>\n",
              "      <td>19</td>\n",
              "      <td>[Analyze, the, significance, of, the, concept, of, cognitive, dissonance, in, social, psychology, and, its, implications, for, understanding, human, behavior]</td>\n",
              "      <td>[analyze, significance, concept, cognitive, dissonance, social, psychology, implication, understand, human, behavior]</td>\n",
              "    </tr>\n",
              "    <tr>\n",
              "      <th>3</th>\n",
              "      <td>Compare and contrast two different theories related to human development in psychology</td>\n",
              "      <td>12</td>\n",
              "      <td>[Compare, and, contrast, two, different, theories, related, to, human, development, in, psychology]</td>\n",
              "      <td>[compare, contrast, different, theory, relate, human, development, psychology]</td>\n",
              "    </tr>\n",
              "    <tr>\n",
              "      <th>4</th>\n",
              "      <td>Analyze and discuss the role of artificial intelligence in the future of education</td>\n",
              "      <td>13</td>\n",
              "      <td>[Analyze, and, discuss, the, role, of, artificial, intelligence, in, the, future, of, education]</td>\n",
              "      <td>[analyze, discuss, role, artificial, intelligence, future, education]</td>\n",
              "    </tr>\n",
              "  </tbody>\n",
              "</table>\n",
              "</div>\n",
              "    <div class=\"colab-df-buttons\">\n",
              "\n",
              "  <div class=\"colab-df-container\">\n",
              "    <button class=\"colab-df-convert\" onclick=\"convertToInteractive('df-3ebf9102-33eb-4f3e-8d6c-8c42bc846e97')\"\n",
              "            title=\"Convert this dataframe to an interactive table.\"\n",
              "            style=\"display:none;\">\n",
              "\n",
              "  <svg xmlns=\"http://www.w3.org/2000/svg\" height=\"24px\" viewBox=\"0 -960 960 960\">\n",
              "    <path d=\"M120-120v-720h720v720H120Zm60-500h600v-160H180v160Zm220 220h160v-160H400v160Zm0 220h160v-160H400v160ZM180-400h160v-160H180v160Zm440 0h160v-160H620v160ZM180-180h160v-160H180v160Zm440 0h160v-160H620v160Z\"/>\n",
              "  </svg>\n",
              "    </button>\n",
              "\n",
              "  <style>\n",
              "    .colab-df-container {\n",
              "      display:flex;\n",
              "      gap: 12px;\n",
              "    }\n",
              "\n",
              "    .colab-df-convert {\n",
              "      background-color: #E8F0FE;\n",
              "      border: none;\n",
              "      border-radius: 50%;\n",
              "      cursor: pointer;\n",
              "      display: none;\n",
              "      fill: #1967D2;\n",
              "      height: 32px;\n",
              "      padding: 0 0 0 0;\n",
              "      width: 32px;\n",
              "    }\n",
              "\n",
              "    .colab-df-convert:hover {\n",
              "      background-color: #E2EBFA;\n",
              "      box-shadow: 0px 1px 2px rgba(60, 64, 67, 0.3), 0px 1px 3px 1px rgba(60, 64, 67, 0.15);\n",
              "      fill: #174EA6;\n",
              "    }\n",
              "\n",
              "    .colab-df-buttons div {\n",
              "      margin-bottom: 4px;\n",
              "    }\n",
              "\n",
              "    [theme=dark] .colab-df-convert {\n",
              "      background-color: #3B4455;\n",
              "      fill: #D2E3FC;\n",
              "    }\n",
              "\n",
              "    [theme=dark] .colab-df-convert:hover {\n",
              "      background-color: #434B5C;\n",
              "      box-shadow: 0px 1px 3px 1px rgba(0, 0, 0, 0.15);\n",
              "      filter: drop-shadow(0px 1px 2px rgba(0, 0, 0, 0.3));\n",
              "      fill: #FFFFFF;\n",
              "    }\n",
              "  </style>\n",
              "\n",
              "    <script>\n",
              "      const buttonEl =\n",
              "        document.querySelector('#df-3ebf9102-33eb-4f3e-8d6c-8c42bc846e97 button.colab-df-convert');\n",
              "      buttonEl.style.display =\n",
              "        google.colab.kernel.accessAllowed ? 'block' : 'none';\n",
              "\n",
              "      async function convertToInteractive(key) {\n",
              "        const element = document.querySelector('#df-3ebf9102-33eb-4f3e-8d6c-8c42bc846e97');\n",
              "        const dataTable =\n",
              "          await google.colab.kernel.invokeFunction('convertToInteractive',\n",
              "                                                    [key], {});\n",
              "        if (!dataTable) return;\n",
              "\n",
              "        const docLinkHtml = 'Like what you see? Visit the ' +\n",
              "          '<a target=\"_blank\" href=https://colab.research.google.com/notebooks/data_table.ipynb>data table notebook</a>'\n",
              "          + ' to learn more about interactive tables.';\n",
              "        element.innerHTML = '';\n",
              "        dataTable['output_type'] = 'display_data';\n",
              "        await google.colab.output.renderOutput(dataTable, element);\n",
              "        const docLink = document.createElement('div');\n",
              "        docLink.innerHTML = docLinkHtml;\n",
              "        element.appendChild(docLink);\n",
              "      }\n",
              "    </script>\n",
              "  </div>\n",
              "\n",
              "\n",
              "<div id=\"df-d161fe33-bf46-4f94-9c45-cae56609b322\">\n",
              "  <button class=\"colab-df-quickchart\" onclick=\"quickchart('df-d161fe33-bf46-4f94-9c45-cae56609b322')\"\n",
              "            title=\"Suggest charts\"\n",
              "            style=\"display:none;\">\n",
              "\n",
              "<svg xmlns=\"http://www.w3.org/2000/svg\" height=\"24px\"viewBox=\"0 0 24 24\"\n",
              "     width=\"24px\">\n",
              "    <g>\n",
              "        <path d=\"M19 3H5c-1.1 0-2 .9-2 2v14c0 1.1.9 2 2 2h14c1.1 0 2-.9 2-2V5c0-1.1-.9-2-2-2zM9 17H7v-7h2v7zm4 0h-2V7h2v10zm4 0h-2v-4h2v4z\"/>\n",
              "    </g>\n",
              "</svg>\n",
              "  </button>\n",
              "\n",
              "<style>\n",
              "  .colab-df-quickchart {\n",
              "      --bg-color: #E8F0FE;\n",
              "      --fill-color: #1967D2;\n",
              "      --hover-bg-color: #E2EBFA;\n",
              "      --hover-fill-color: #174EA6;\n",
              "      --disabled-fill-color: #AAA;\n",
              "      --disabled-bg-color: #DDD;\n",
              "  }\n",
              "\n",
              "  [theme=dark] .colab-df-quickchart {\n",
              "      --bg-color: #3B4455;\n",
              "      --fill-color: #D2E3FC;\n",
              "      --hover-bg-color: #434B5C;\n",
              "      --hover-fill-color: #FFFFFF;\n",
              "      --disabled-bg-color: #3B4455;\n",
              "      --disabled-fill-color: #666;\n",
              "  }\n",
              "\n",
              "  .colab-df-quickchart {\n",
              "    background-color: var(--bg-color);\n",
              "    border: none;\n",
              "    border-radius: 50%;\n",
              "    cursor: pointer;\n",
              "    display: none;\n",
              "    fill: var(--fill-color);\n",
              "    height: 32px;\n",
              "    padding: 0;\n",
              "    width: 32px;\n",
              "  }\n",
              "\n",
              "  .colab-df-quickchart:hover {\n",
              "    background-color: var(--hover-bg-color);\n",
              "    box-shadow: 0 1px 2px rgba(60, 64, 67, 0.3), 0 1px 3px 1px rgba(60, 64, 67, 0.15);\n",
              "    fill: var(--button-hover-fill-color);\n",
              "  }\n",
              "\n",
              "  .colab-df-quickchart-complete:disabled,\n",
              "  .colab-df-quickchart-complete:disabled:hover {\n",
              "    background-color: var(--disabled-bg-color);\n",
              "    fill: var(--disabled-fill-color);\n",
              "    box-shadow: none;\n",
              "  }\n",
              "\n",
              "  .colab-df-spinner {\n",
              "    border: 2px solid var(--fill-color);\n",
              "    border-color: transparent;\n",
              "    border-bottom-color: var(--fill-color);\n",
              "    animation:\n",
              "      spin 1s steps(1) infinite;\n",
              "  }\n",
              "\n",
              "  @keyframes spin {\n",
              "    0% {\n",
              "      border-color: transparent;\n",
              "      border-bottom-color: var(--fill-color);\n",
              "      border-left-color: var(--fill-color);\n",
              "    }\n",
              "    20% {\n",
              "      border-color: transparent;\n",
              "      border-left-color: var(--fill-color);\n",
              "      border-top-color: var(--fill-color);\n",
              "    }\n",
              "    30% {\n",
              "      border-color: transparent;\n",
              "      border-left-color: var(--fill-color);\n",
              "      border-top-color: var(--fill-color);\n",
              "      border-right-color: var(--fill-color);\n",
              "    }\n",
              "    40% {\n",
              "      border-color: transparent;\n",
              "      border-right-color: var(--fill-color);\n",
              "      border-top-color: var(--fill-color);\n",
              "    }\n",
              "    60% {\n",
              "      border-color: transparent;\n",
              "      border-right-color: var(--fill-color);\n",
              "    }\n",
              "    80% {\n",
              "      border-color: transparent;\n",
              "      border-right-color: var(--fill-color);\n",
              "      border-bottom-color: var(--fill-color);\n",
              "    }\n",
              "    90% {\n",
              "      border-color: transparent;\n",
              "      border-bottom-color: var(--fill-color);\n",
              "    }\n",
              "  }\n",
              "</style>\n",
              "\n",
              "  <script>\n",
              "    async function quickchart(key) {\n",
              "      const quickchartButtonEl =\n",
              "        document.querySelector('#' + key + ' button');\n",
              "      quickchartButtonEl.disabled = true;  // To prevent multiple clicks.\n",
              "      quickchartButtonEl.classList.add('colab-df-spinner');\n",
              "      try {\n",
              "        const charts = await google.colab.kernel.invokeFunction(\n",
              "            'suggestCharts', [key], {});\n",
              "      } catch (error) {\n",
              "        console.error('Error during call to suggestCharts:', error);\n",
              "      }\n",
              "      quickchartButtonEl.classList.remove('colab-df-spinner');\n",
              "      quickchartButtonEl.classList.add('colab-df-quickchart-complete');\n",
              "    }\n",
              "    (() => {\n",
              "      let quickchartButtonEl =\n",
              "        document.querySelector('#df-d161fe33-bf46-4f94-9c45-cae56609b322 button');\n",
              "      quickchartButtonEl.style.display =\n",
              "        google.colab.kernel.accessAllowed ? 'block' : 'none';\n",
              "    })();\n",
              "  </script>\n",
              "</div>\n",
              "\n",
              "    </div>\n",
              "  </div>\n"
            ],
            "application/vnd.google.colaboratory.intrinsic+json": {
              "type": "dataframe",
              "variable_name": "df"
            }
          },
          "metadata": {},
          "execution_count": 24
        }
      ],
      "source": [
        "df.head()"
      ]
    },
    {
      "cell_type": "code",
      "execution_count": 25,
      "metadata": {
        "id": "x9Eowg6bzu0u"
      },
      "outputs": [],
      "source": [
        "# Remove punctuation\n",
        "punctuations = \"?:!.,;\"\n",
        "filtered_responses_without_punctuation = []\n",
        "\n",
        "for response in filtered_responses:\n",
        "    filtered_response = [word for word in response if word not in punctuations]\n",
        "    filtered_responses_without_punctuation.append(filtered_response)"
      ]
    },
    {
      "cell_type": "code",
      "execution_count": 26,
      "metadata": {
        "colab": {
          "base_uri": "https://localhost:8080/"
        },
        "id": "DWrsngBhzu-V",
        "outputId": "5fbe5ac9-8494-47e3-c83e-a7c259d15cae"
      },
      "outputs": [
        {
          "output_type": "execute_result",
          "data": {
            "text/plain": [
              "['compare',\n",
              " 'contrast',\n",
              " 'philosophical',\n",
              " 'foundation',\n",
              " 'major',\n",
              " 'school',\n",
              " 'thought',\n",
              " 'field',\n",
              " 'psychology',\n",
              " 'Behaviorism',\n",
              " 'Cognitivism']"
            ]
          },
          "metadata": {},
          "execution_count": 26
        }
      ],
      "source": [
        "filtered_responses_without_punctuation[0]"
      ]
    },
    {
      "cell_type": "code",
      "execution_count": null,
      "metadata": {
        "id": "HfmtSqkd464c"
      },
      "outputs": [],
      "source": []
    },
    {
      "cell_type": "code",
      "execution_count": 27,
      "metadata": {
        "id": "6R5NoPAAjUT_"
      },
      "outputs": [],
      "source": [
        "# POS tagging\n",
        "def pos_tagging(filtered_responses):\n",
        "    tagged_responses = []\n",
        "    for response in filtered_responses:\n",
        "        doc = nlp(\" \".join(response))\n",
        "        tagged_response = [(token.text, token.pos_) for token in doc]\n",
        "        tagged_responses.append(tagged_response)\n",
        "    return tagged_responses\n",
        "\n",
        "tagged_responses = pos_tagging(filtered_responses)"
      ]
    },
    {
      "cell_type": "code",
      "execution_count": null,
      "metadata": {
        "id": "d7wD81HFkfkC"
      },
      "outputs": [],
      "source": []
    },
    {
      "cell_type": "code",
      "execution_count": 28,
      "metadata": {
        "id": "mP7ieRpgrF1O"
      },
      "outputs": [],
      "source": [
        "# Named Entity Recognition (NER)\n",
        "def ner_tagging(filtered_responses):\n",
        "    tagged_responses = []\n",
        "    for response in filtered_responses:\n",
        "        doc = nlp(\" \".join(response))\n",
        "        tagged_response = [(ent.text, ent.label_) for ent in doc.ents]\n",
        "        tagged_responses.append(tagged_response)\n",
        "    return tagged_responses\n",
        "\n",
        "ner_tagged_responses = ner_tagging(filtered_responses)"
      ]
    },
    {
      "cell_type": "code",
      "execution_count": null,
      "metadata": {
        "id": "EgcRK0P4quVg"
      },
      "outputs": [],
      "source": []
    },
    {
      "cell_type": "code",
      "execution_count": 29,
      "metadata": {
        "colab": {
          "base_uri": "https://localhost:8080/",
          "height": 466
        },
        "id": "qglv1O3CxOwc",
        "outputId": "c4a6f2af-2f1f-4026-c457-956f4149b0ba"
      },
      "outputs": [
        {
          "output_type": "execute_result",
          "data": {
            "text/plain": [
              "                                                                                                                                     response  \\\n",
              "0   Compare and contrast the philosophical foundations of two major schools of thought in the field of psychology Behaviorism and Cognitivism   \n",
              "1                                                       What are the key differences between classicism and romanticism in literature and art   \n",
              "2  Analyze the significance of the concept of cognitive dissonance in social psychology and its implications for understanding human behavior   \n",
              "3                                                      Compare and contrast two different theories related to human development in psychology   \n",
              "4                                                          Analyze and discuss the role of artificial intelligence in the future of education   \n",
              "\n",
              "   prompt_length  \\\n",
              "0             20   \n",
              "1             13   \n",
              "2             19   \n",
              "3             12   \n",
              "4             13   \n",
              "\n",
              "                                                                                                                                                           tokens  \\\n",
              "0  [Compare, and, contrast, the, philosophical, foundations, of, two, major, schools, of, thought, in, the, field, of, psychology, Behaviorism, and, Cognitivism]   \n",
              "1                                                             [What, are, the, key, differences, between, classicism, and, romanticism, in, literature, and, art]   \n",
              "2  [Analyze, the, significance, of, the, concept, of, cognitive, dissonance, in, social, psychology, and, its, implications, for, understanding, human, behavior]   \n",
              "3                                                             [Compare, and, contrast, two, different, theories, related, to, human, development, in, psychology]   \n",
              "4                                                                [Analyze, and, discuss, the, role, of, artificial, intelligence, in, the, future, of, education]   \n",
              "\n",
              "                                                                                                       filtered_response  \\\n",
              "0    [compare, contrast, philosophical, foundation, major, school, thought, field, psychology, Behaviorism, Cognitivism]   \n",
              "1                                                            [key, difference, classicism, romanticism, literature, art]   \n",
              "2  [analyze, significance, concept, cognitive, dissonance, social, psychology, implication, understand, human, behavior]   \n",
              "3                                         [compare, contrast, different, theory, relate, human, development, psychology]   \n",
              "4                                                  [analyze, discuss, role, artificial, intelligence, future, education]   \n",
              "\n",
              "                                                                                                                                                                                               ner_results  \n",
              "0  [(compare, VERB), (contrast, NOUN), (philosophical, ADJ), (foundation, NOUN), (major, ADJ), (school, NOUN), (thought, VERB), (field, NOUN), (psychology, NOUN), (Behaviorism, PROPN), (Cognitivism, ...  \n",
              "1                                                                                              [(key, ADJ), (difference, NOUN), (classicism, NOUN), (romanticism, NOUN), (literature, PROPN), (art, NOUN)]  \n",
              "2  [(analyze, VERB), (significance, NOUN), (concept, NOUN), (cognitive, ADJ), (dissonance, NOUN), (social, ADJ), (psychology, NOUN), (implication, NOUN), (understand, VERB), (human, ADJ), (behavior, ...  \n",
              "3                                                           [(compare, VERB), (contrast, NOUN), (different, ADJ), (theory, NOUN), (relate, VERB), (human, PROPN), (development, NOUN), (psychology, NOUN)]  \n",
              "4                                                                              [(analyze, VERB), (discuss, VERB), (role, NOUN), (artificial, ADJ), (intelligence, NOUN), (future, ADJ), (education, NOUN)]  "
            ],
            "text/html": [
              "\n",
              "  <div id=\"df-0687b510-1a7f-4716-b686-02b14b5dab25\" class=\"colab-df-container\">\n",
              "    <div>\n",
              "<style scoped>\n",
              "    .dataframe tbody tr th:only-of-type {\n",
              "        vertical-align: middle;\n",
              "    }\n",
              "\n",
              "    .dataframe tbody tr th {\n",
              "        vertical-align: top;\n",
              "    }\n",
              "\n",
              "    .dataframe thead th {\n",
              "        text-align: right;\n",
              "    }\n",
              "</style>\n",
              "<table border=\"1\" class=\"dataframe\">\n",
              "  <thead>\n",
              "    <tr style=\"text-align: right;\">\n",
              "      <th></th>\n",
              "      <th>response</th>\n",
              "      <th>prompt_length</th>\n",
              "      <th>tokens</th>\n",
              "      <th>filtered_response</th>\n",
              "      <th>ner_results</th>\n",
              "    </tr>\n",
              "  </thead>\n",
              "  <tbody>\n",
              "    <tr>\n",
              "      <th>0</th>\n",
              "      <td>Compare and contrast the philosophical foundations of two major schools of thought in the field of psychology Behaviorism and Cognitivism</td>\n",
              "      <td>20</td>\n",
              "      <td>[Compare, and, contrast, the, philosophical, foundations, of, two, major, schools, of, thought, in, the, field, of, psychology, Behaviorism, and, Cognitivism]</td>\n",
              "      <td>[compare, contrast, philosophical, foundation, major, school, thought, field, psychology, Behaviorism, Cognitivism]</td>\n",
              "      <td>[(compare, VERB), (contrast, NOUN), (philosophical, ADJ), (foundation, NOUN), (major, ADJ), (school, NOUN), (thought, VERB), (field, NOUN), (psychology, NOUN), (Behaviorism, PROPN), (Cognitivism, ...</td>\n",
              "    </tr>\n",
              "    <tr>\n",
              "      <th>1</th>\n",
              "      <td>What are the key differences between classicism and romanticism in literature and art</td>\n",
              "      <td>13</td>\n",
              "      <td>[What, are, the, key, differences, between, classicism, and, romanticism, in, literature, and, art]</td>\n",
              "      <td>[key, difference, classicism, romanticism, literature, art]</td>\n",
              "      <td>[(key, ADJ), (difference, NOUN), (classicism, NOUN), (romanticism, NOUN), (literature, PROPN), (art, NOUN)]</td>\n",
              "    </tr>\n",
              "    <tr>\n",
              "      <th>2</th>\n",
              "      <td>Analyze the significance of the concept of cognitive dissonance in social psychology and its implications for understanding human behavior</td>\n",
              "      <td>19</td>\n",
              "      <td>[Analyze, the, significance, of, the, concept, of, cognitive, dissonance, in, social, psychology, and, its, implications, for, understanding, human, behavior]</td>\n",
              "      <td>[analyze, significance, concept, cognitive, dissonance, social, psychology, implication, understand, human, behavior]</td>\n",
              "      <td>[(analyze, VERB), (significance, NOUN), (concept, NOUN), (cognitive, ADJ), (dissonance, NOUN), (social, ADJ), (psychology, NOUN), (implication, NOUN), (understand, VERB), (human, ADJ), (behavior, ...</td>\n",
              "    </tr>\n",
              "    <tr>\n",
              "      <th>3</th>\n",
              "      <td>Compare and contrast two different theories related to human development in psychology</td>\n",
              "      <td>12</td>\n",
              "      <td>[Compare, and, contrast, two, different, theories, related, to, human, development, in, psychology]</td>\n",
              "      <td>[compare, contrast, different, theory, relate, human, development, psychology]</td>\n",
              "      <td>[(compare, VERB), (contrast, NOUN), (different, ADJ), (theory, NOUN), (relate, VERB), (human, PROPN), (development, NOUN), (psychology, NOUN)]</td>\n",
              "    </tr>\n",
              "    <tr>\n",
              "      <th>4</th>\n",
              "      <td>Analyze and discuss the role of artificial intelligence in the future of education</td>\n",
              "      <td>13</td>\n",
              "      <td>[Analyze, and, discuss, the, role, of, artificial, intelligence, in, the, future, of, education]</td>\n",
              "      <td>[analyze, discuss, role, artificial, intelligence, future, education]</td>\n",
              "      <td>[(analyze, VERB), (discuss, VERB), (role, NOUN), (artificial, ADJ), (intelligence, NOUN), (future, ADJ), (education, NOUN)]</td>\n",
              "    </tr>\n",
              "  </tbody>\n",
              "</table>\n",
              "</div>\n",
              "    <div class=\"colab-df-buttons\">\n",
              "\n",
              "  <div class=\"colab-df-container\">\n",
              "    <button class=\"colab-df-convert\" onclick=\"convertToInteractive('df-0687b510-1a7f-4716-b686-02b14b5dab25')\"\n",
              "            title=\"Convert this dataframe to an interactive table.\"\n",
              "            style=\"display:none;\">\n",
              "\n",
              "  <svg xmlns=\"http://www.w3.org/2000/svg\" height=\"24px\" viewBox=\"0 -960 960 960\">\n",
              "    <path d=\"M120-120v-720h720v720H120Zm60-500h600v-160H180v160Zm220 220h160v-160H400v160Zm0 220h160v-160H400v160ZM180-400h160v-160H180v160Zm440 0h160v-160H620v160ZM180-180h160v-160H180v160Zm440 0h160v-160H620v160Z\"/>\n",
              "  </svg>\n",
              "    </button>\n",
              "\n",
              "  <style>\n",
              "    .colab-df-container {\n",
              "      display:flex;\n",
              "      gap: 12px;\n",
              "    }\n",
              "\n",
              "    .colab-df-convert {\n",
              "      background-color: #E8F0FE;\n",
              "      border: none;\n",
              "      border-radius: 50%;\n",
              "      cursor: pointer;\n",
              "      display: none;\n",
              "      fill: #1967D2;\n",
              "      height: 32px;\n",
              "      padding: 0 0 0 0;\n",
              "      width: 32px;\n",
              "    }\n",
              "\n",
              "    .colab-df-convert:hover {\n",
              "      background-color: #E2EBFA;\n",
              "      box-shadow: 0px 1px 2px rgba(60, 64, 67, 0.3), 0px 1px 3px 1px rgba(60, 64, 67, 0.15);\n",
              "      fill: #174EA6;\n",
              "    }\n",
              "\n",
              "    .colab-df-buttons div {\n",
              "      margin-bottom: 4px;\n",
              "    }\n",
              "\n",
              "    [theme=dark] .colab-df-convert {\n",
              "      background-color: #3B4455;\n",
              "      fill: #D2E3FC;\n",
              "    }\n",
              "\n",
              "    [theme=dark] .colab-df-convert:hover {\n",
              "      background-color: #434B5C;\n",
              "      box-shadow: 0px 1px 3px 1px rgba(0, 0, 0, 0.15);\n",
              "      filter: drop-shadow(0px 1px 2px rgba(0, 0, 0, 0.3));\n",
              "      fill: #FFFFFF;\n",
              "    }\n",
              "  </style>\n",
              "\n",
              "    <script>\n",
              "      const buttonEl =\n",
              "        document.querySelector('#df-0687b510-1a7f-4716-b686-02b14b5dab25 button.colab-df-convert');\n",
              "      buttonEl.style.display =\n",
              "        google.colab.kernel.accessAllowed ? 'block' : 'none';\n",
              "\n",
              "      async function convertToInteractive(key) {\n",
              "        const element = document.querySelector('#df-0687b510-1a7f-4716-b686-02b14b5dab25');\n",
              "        const dataTable =\n",
              "          await google.colab.kernel.invokeFunction('convertToInteractive',\n",
              "                                                    [key], {});\n",
              "        if (!dataTable) return;\n",
              "\n",
              "        const docLinkHtml = 'Like what you see? Visit the ' +\n",
              "          '<a target=\"_blank\" href=https://colab.research.google.com/notebooks/data_table.ipynb>data table notebook</a>'\n",
              "          + ' to learn more about interactive tables.';\n",
              "        element.innerHTML = '';\n",
              "        dataTable['output_type'] = 'display_data';\n",
              "        await google.colab.output.renderOutput(dataTable, element);\n",
              "        const docLink = document.createElement('div');\n",
              "        docLink.innerHTML = docLinkHtml;\n",
              "        element.appendChild(docLink);\n",
              "      }\n",
              "    </script>\n",
              "  </div>\n",
              "\n",
              "\n",
              "<div id=\"df-11017608-9df2-4ef4-9b0c-0daabe9b60a8\">\n",
              "  <button class=\"colab-df-quickchart\" onclick=\"quickchart('df-11017608-9df2-4ef4-9b0c-0daabe9b60a8')\"\n",
              "            title=\"Suggest charts\"\n",
              "            style=\"display:none;\">\n",
              "\n",
              "<svg xmlns=\"http://www.w3.org/2000/svg\" height=\"24px\"viewBox=\"0 0 24 24\"\n",
              "     width=\"24px\">\n",
              "    <g>\n",
              "        <path d=\"M19 3H5c-1.1 0-2 .9-2 2v14c0 1.1.9 2 2 2h14c1.1 0 2-.9 2-2V5c0-1.1-.9-2-2-2zM9 17H7v-7h2v7zm4 0h-2V7h2v10zm4 0h-2v-4h2v4z\"/>\n",
              "    </g>\n",
              "</svg>\n",
              "  </button>\n",
              "\n",
              "<style>\n",
              "  .colab-df-quickchart {\n",
              "      --bg-color: #E8F0FE;\n",
              "      --fill-color: #1967D2;\n",
              "      --hover-bg-color: #E2EBFA;\n",
              "      --hover-fill-color: #174EA6;\n",
              "      --disabled-fill-color: #AAA;\n",
              "      --disabled-bg-color: #DDD;\n",
              "  }\n",
              "\n",
              "  [theme=dark] .colab-df-quickchart {\n",
              "      --bg-color: #3B4455;\n",
              "      --fill-color: #D2E3FC;\n",
              "      --hover-bg-color: #434B5C;\n",
              "      --hover-fill-color: #FFFFFF;\n",
              "      --disabled-bg-color: #3B4455;\n",
              "      --disabled-fill-color: #666;\n",
              "  }\n",
              "\n",
              "  .colab-df-quickchart {\n",
              "    background-color: var(--bg-color);\n",
              "    border: none;\n",
              "    border-radius: 50%;\n",
              "    cursor: pointer;\n",
              "    display: none;\n",
              "    fill: var(--fill-color);\n",
              "    height: 32px;\n",
              "    padding: 0;\n",
              "    width: 32px;\n",
              "  }\n",
              "\n",
              "  .colab-df-quickchart:hover {\n",
              "    background-color: var(--hover-bg-color);\n",
              "    box-shadow: 0 1px 2px rgba(60, 64, 67, 0.3), 0 1px 3px 1px rgba(60, 64, 67, 0.15);\n",
              "    fill: var(--button-hover-fill-color);\n",
              "  }\n",
              "\n",
              "  .colab-df-quickchart-complete:disabled,\n",
              "  .colab-df-quickchart-complete:disabled:hover {\n",
              "    background-color: var(--disabled-bg-color);\n",
              "    fill: var(--disabled-fill-color);\n",
              "    box-shadow: none;\n",
              "  }\n",
              "\n",
              "  .colab-df-spinner {\n",
              "    border: 2px solid var(--fill-color);\n",
              "    border-color: transparent;\n",
              "    border-bottom-color: var(--fill-color);\n",
              "    animation:\n",
              "      spin 1s steps(1) infinite;\n",
              "  }\n",
              "\n",
              "  @keyframes spin {\n",
              "    0% {\n",
              "      border-color: transparent;\n",
              "      border-bottom-color: var(--fill-color);\n",
              "      border-left-color: var(--fill-color);\n",
              "    }\n",
              "    20% {\n",
              "      border-color: transparent;\n",
              "      border-left-color: var(--fill-color);\n",
              "      border-top-color: var(--fill-color);\n",
              "    }\n",
              "    30% {\n",
              "      border-color: transparent;\n",
              "      border-left-color: var(--fill-color);\n",
              "      border-top-color: var(--fill-color);\n",
              "      border-right-color: var(--fill-color);\n",
              "    }\n",
              "    40% {\n",
              "      border-color: transparent;\n",
              "      border-right-color: var(--fill-color);\n",
              "      border-top-color: var(--fill-color);\n",
              "    }\n",
              "    60% {\n",
              "      border-color: transparent;\n",
              "      border-right-color: var(--fill-color);\n",
              "    }\n",
              "    80% {\n",
              "      border-color: transparent;\n",
              "      border-right-color: var(--fill-color);\n",
              "      border-bottom-color: var(--fill-color);\n",
              "    }\n",
              "    90% {\n",
              "      border-color: transparent;\n",
              "      border-bottom-color: var(--fill-color);\n",
              "    }\n",
              "  }\n",
              "</style>\n",
              "\n",
              "  <script>\n",
              "    async function quickchart(key) {\n",
              "      const quickchartButtonEl =\n",
              "        document.querySelector('#' + key + ' button');\n",
              "      quickchartButtonEl.disabled = true;  // To prevent multiple clicks.\n",
              "      quickchartButtonEl.classList.add('colab-df-spinner');\n",
              "      try {\n",
              "        const charts = await google.colab.kernel.invokeFunction(\n",
              "            'suggestCharts', [key], {});\n",
              "      } catch (error) {\n",
              "        console.error('Error during call to suggestCharts:', error);\n",
              "      }\n",
              "      quickchartButtonEl.classList.remove('colab-df-spinner');\n",
              "      quickchartButtonEl.classList.add('colab-df-quickchart-complete');\n",
              "    }\n",
              "    (() => {\n",
              "      let quickchartButtonEl =\n",
              "        document.querySelector('#df-11017608-9df2-4ef4-9b0c-0daabe9b60a8 button');\n",
              "      quickchartButtonEl.style.display =\n",
              "        google.colab.kernel.accessAllowed ? 'block' : 'none';\n",
              "    })();\n",
              "  </script>\n",
              "</div>\n",
              "\n",
              "    </div>\n",
              "  </div>\n"
            ],
            "application/vnd.google.colaboratory.intrinsic+json": {
              "type": "dataframe",
              "variable_name": "df"
            }
          },
          "metadata": {},
          "execution_count": 29
        }
      ],
      "source": [
        "df['ner_results'] = tagged_responses\n",
        "df.head()"
      ]
    },
    {
      "cell_type": "markdown",
      "metadata": {
        "id": "4845Ki3AUeBs"
      },
      "source": [
        "# **Data Analysis and insights**"
      ]
    },
    {
      "cell_type": "code",
      "execution_count": 31,
      "metadata": {
        "id": "xK4WQHlq_3GE"
      },
      "outputs": [],
      "source": [
        "# This method returns a list of all the words in the dataset after removing stopwords, removing punctuation, lowercasing, and lemmatization\n",
        "\n",
        "def extract_vocab(filtered_responses):\n",
        "    vocab = set()\n",
        "    for response in filtered_responses:\n",
        "        for word in response:\n",
        "            vocab.add(word)\n",
        "    return list(vocab)\n"
      ]
    },
    {
      "cell_type": "code",
      "execution_count": 32,
      "metadata": {
        "colab": {
          "base_uri": "https://localhost:8080/"
        },
        "id": "BZY5lAHzL3hS",
        "outputId": "4540a101-f368-4631-b463-1b6344efd964"
      },
      "outputs": [
        {
          "output_type": "execute_result",
          "data": {
            "text/plain": [
              "['Substance',\n",
              " 'naturehuman',\n",
              " 'Deutsch',\n",
              " 'alHusain',\n",
              " 'genetically',\n",
              " 'support',\n",
              " 'possible',\n",
              " 'stoic',\n",
              " 'Islamic',\n",
              " 'mc2',\n",
              " '1859',\n",
              " 'Kagans',\n",
              " 'Alabama',\n",
              " 'Mover',\n",
              " 'fastpace',\n",
              " 'highlight',\n",
              " 'Watson',\n",
              " 'Senge',\n",
              " 'StefanBoltzmann',\n",
              " 'twin',\n",
              " 'Boccaccios',\n",
              " 'syllabus',\n",
              " 'Meritocracy',\n",
              " 'Samuel',\n",
              " 'institution',\n",
              " 'undecided',\n",
              " 'send',\n",
              " 'Mesopotamians',\n",
              " 'Korolev',\n",
              " 'progressive']"
            ]
          },
          "metadata": {},
          "execution_count": 32
        }
      ],
      "source": [
        "# My Vocab\n",
        "# Word_list contains all the words \"Vocab\" of my dataset\n",
        "words_list = extract_vocab(filtered_responses)\n",
        "\n",
        "# Example of some of the words\n",
        "words_list[0:30]"
      ]
    },
    {
      "cell_type": "code",
      "execution_count": null,
      "metadata": {
        "colab": {
          "base_uri": "https://localhost:8080/"
        },
        "id": "CfW2tbyrhHaa",
        "outputId": "5f42fba9-02fe-4bbf-efd8-b26186b1ac27"
      },
      "outputs": [
        {
          "data": {
            "text/plain": [
              "7908"
            ]
          },
          "execution_count": 60,
          "metadata": {},
          "output_type": "execute_result"
        }
      ],
      "source": []
    },
    {
      "cell_type": "code",
      "execution_count": 33,
      "metadata": {
        "id": "jwchRGAcc8Tl"
      },
      "outputs": [],
      "source": [
        "# This methods returns a dictionary where each 'key' is a word in the dataset and each 'value' is the frequency of that word in the dataset.\n",
        "def termFrequency(filtered_responses):\n",
        "    term_freq_dict = {}\n",
        "    for response in filtered_responses:\n",
        "        for word in response:\n",
        "            if word not in nlp.Defaults.stop_words:  # Check if word is not a stop word\n",
        "                term_freq_dict[word] = term_freq_dict.get(word, 0) + 1\n",
        "    return term_freq_dict"
      ]
    },
    {
      "cell_type": "code",
      "execution_count": 34,
      "metadata": {
        "colab": {
          "base_uri": "https://localhost:8080/"
        },
        "id": "_2eiGpe1eP7H",
        "outputId": "54338e61-0c29-4b05-9e66-061e669149f6"
      },
      "outputs": [
        {
          "output_type": "execute_result",
          "data": {
            "text/plain": [
              "{'compare': 57516,\n",
              " 'significance': 57396,\n",
              " 'contrast': 57024,\n",
              " 'field': 56935,\n",
              " 'theory': 56283,\n",
              " 'explain': 54501,\n",
              " 'key': 53012,\n",
              " 'concept': 42367,\n",
              " 'difference': 38508,\n",
              " 'development': 35789}"
            ]
          },
          "metadata": {},
          "execution_count": 34
        }
      ],
      "source": [
        "#word_freq_dict having each word in the dataset and it's corresponding count\n",
        "term_freq = termFrequency(filtered_responses)\n",
        "sorted_term_freq = dict(sorted(term_freq.items(), key=lambda item: item[1], reverse=True))\n",
        "\n",
        "# Take only the top 10 items\n",
        "top_10_term_freq = dict(list(sorted_term_freq.items())[:10])\n",
        "\n",
        "top_10_term_freq"
      ]
    },
    {
      "cell_type": "code",
      "execution_count": 35,
      "metadata": {
        "colab": {
          "base_uri": "https://localhost:8080/"
        },
        "id": "GuS-yjK8ax3Q",
        "outputId": "a760bd21-3fb5-4895-a63d-f5b875f7b3c3"
      },
      "outputs": [
        {
          "output_type": "stream",
          "name": "stdout",
          "text": [
            "Most frequent word: compare\n",
            "Frequency: 57516\n"
          ]
        }
      ],
      "source": [
        "# Getting the most frequent word\n",
        "def most_frequent_word(term_freq_dict):\n",
        "\n",
        "    max_freq_word = max(term_freq_dict, key=term_freq_dict.get)\n",
        "    max_freq = term_freq_dict[max_freq_word]\n",
        "    return max_freq_word, max_freq\n",
        "\n",
        "most_freq_word, freq = most_frequent_word(term_freq)\n",
        "print(\"Most frequent word:\", most_freq_word)\n",
        "print(\"Frequency:\", freq)"
      ]
    },
    {
      "cell_type": "markdown",
      "metadata": {
        "id": "ZaqOmslIjAWT"
      },
      "source": [
        "As we can see, the most frquent word is **\"Compare\"**. This can provide insights about our data that most of the prompts focus on prompting comparisons between different entities, concepts, ideas, or phenomena."
      ]
    },
    {
      "cell_type": "code",
      "execution_count": 36,
      "metadata": {
        "colab": {
          "base_uri": "https://localhost:8080/",
          "height": 607
        },
        "id": "BhgSKzZsbRTV",
        "outputId": "4b3c9a17-ef23-438a-fbf2-e7a69a9d9fbd"
      },
      "outputs": [
        {
          "output_type": "display_data",
          "data": {
            "text/plain": [
              "<Figure size 1000x600 with 1 Axes>"
            ],
            "image/png": "[encoded data removed]"
          },
          "metadata": {}
        }
      ],
      "source": [
        "import matplotlib.pyplot as plt\n",
        "\n",
        "def plot_top_10_words(term_freq_dict):\n",
        "\n",
        "    sorted_freq = sorted(term_freq_dict.items(), key=lambda x: x[1], reverse=True)\n",
        "\n",
        "\n",
        "    top_10_words = sorted_freq[:10]\n",
        "\n",
        "\n",
        "    words = [item[0] for item in top_10_words]\n",
        "    frequencies = [item[1] for item in top_10_words]\n",
        "\n",
        "\n",
        "    plt.figure(figsize=(10, 6))\n",
        "    plt.bar(words, frequencies, color='skyblue')\n",
        "    plt.xlabel('Words')\n",
        "    plt.ylabel('Frequency')\n",
        "    plt.title('Top 10 Most Frequent Words')\n",
        "    plt.xticks(rotation=45, ha='right')\n",
        "    plt.tight_layout()\n",
        "    plt.show()\n",
        "plot_top_10_words(term_freq)"
      ]
    },
    {
      "cell_type": "code",
      "execution_count": 37,
      "metadata": {
        "id": "sCbFMKUygfGT"
      },
      "outputs": [],
      "source": [
        "# This method calculates the docunemt frequency of each word, which means how many prompts contain each word.\n",
        "def wordDocFreq(filtered_responses):\n",
        "    doc_freq_dict = {}\n",
        "    for response in filtered_responses:\n",
        "        seen_words = set()\n",
        "        for word in response:\n",
        "            if word not in seen_words:\n",
        "                doc_freq_dict[word] = doc_freq_dict.get(word, 0) + 1\n",
        "                seen_words.add(word)\n",
        "    return doc_freq_dict"
      ]
    },
    {
      "cell_type": "code",
      "execution_count": 38,
      "metadata": {
        "colab": {
          "base_uri": "https://localhost:8080/"
        },
        "id": "G4YUW1ZhghT0",
        "outputId": "b9baa6e1-c2e8-4592-9146-a9fc49fc6686"
      },
      "outputs": [
        {
          "output_type": "execute_result",
          "data": {
            "text/plain": [
              "{'compare': 57516,\n",
              " 'significance': 57396,\n",
              " 'contrast': 56974,\n",
              " 'field': 56809,\n",
              " 'explain': 54482,\n",
              " 'theory': 54240,\n",
              " 'key': 53002,\n",
              " 'concept': 42281,\n",
              " 'difference': 37749,\n",
              " 'development': 35407}"
            ]
          },
          "metadata": {},
          "execution_count": 38
        }
      ],
      "source": [
        "doc_freq = wordDocFreq(filtered_responses)\n",
        "sorted_doc_freq = dict(sorted(doc_freq.items(), key=lambda item: item[1], reverse=True))\n",
        "\n",
        "# Take only the top 10 items\n",
        "top_10_doc_freq = dict(list(sorted_doc_freq.items())[:10])\n",
        "\n",
        "top_10_doc_freq"
      ]
    },
    {
      "cell_type": "code",
      "execution_count": 39,
      "metadata": {
        "colab": {
          "base_uri": "https://localhost:8080/"
        },
        "id": "opWOA4H1chhl",
        "outputId": "940e83ca-8381-4f04-a080-cc0e2c965e02"
      },
      "outputs": [
        {
          "output_type": "stream",
          "name": "stdout",
          "text": [
            "Word with highest document frequency: compare\n",
            "Document Frequency: 57516\n"
          ]
        }
      ],
      "source": [
        "# Finding the word with the highest document frequency count\n",
        "def word_with_highest_doc_freq(doc_freq_dict):\n",
        "\n",
        "    max_freq_word = max(doc_freq_dict, key=doc_freq_dict.get)\n",
        "    max_freq = doc_freq_dict[max_freq_word]\n",
        "    return max_freq_word, max_freq\n",
        "\n",
        "\n",
        "max_freq_word, freq = word_with_highest_doc_freq(doc_freq)\n",
        "print(\"Word with highest document frequency:\", max_freq_word)\n",
        "print(\"Document Frequency:\", freq)"
      ]
    },
    {
      "cell_type": "markdown",
      "metadata": {
        "id": "pJRohSCckEUK"
      },
      "source": [
        "Again, \"**Compare**\" has the highest document frequency. This again means that most of the documents contain questions in the form of comparison"
      ]
    },
    {
      "cell_type": "code",
      "execution_count": 40,
      "metadata": {
        "colab": {
          "base_uri": "https://localhost:8080/",
          "height": 607
        },
        "id": "PeLg9MJkcuVV",
        "outputId": "d0e59690-0004-4614-f42a-9ad935b6c268"
      },
      "outputs": [
        {
          "output_type": "display_data",
          "data": {
            "text/plain": [
              "<Figure size 1000x600 with 1 Axes>"
            ],
            "image/png": "[encoded data removed]"
          },
          "metadata": {}
        }
      ],
      "source": [
        "import matplotlib.pyplot as plt\n",
        "\n",
        "sorted_doc_freq = sorted(doc_freq.items(), key=lambda x: x[1], reverse=True)\n",
        "\n",
        "\n",
        "top_10_words = sorted_doc_freq[:10]\n",
        "\n",
        "\n",
        "words = [item[0] for item in top_10_words]\n",
        "frequencies = [item[1] for item in top_10_words]\n",
        "\n",
        "\n",
        "plt.figure(figsize=(10, 6))\n",
        "plt.bar(words, frequencies, color='skyblue')\n",
        "plt.xlabel('Words')\n",
        "plt.ylabel('Document Frequency')\n",
        "plt.title('Top 10 Words with Highest Document Frequency Counts')\n",
        "plt.xticks(rotation=45, ha='right')\n",
        "plt.tight_layout()\n",
        "plt.show()"
      ]
    },
    {
      "cell_type": "code",
      "execution_count": 41,
      "metadata": {
        "id": "Vzidal6DjPaq"
      },
      "outputs": [],
      "source": [
        "# This function calculates the IDF score for each word in the entire dataset\n",
        "# The IDF score indicates how unique or important each word is relative to the entire corpus of documents.\n",
        "import math\n",
        "\n",
        "def calculate_idf(filtered_responses):\n",
        "    total_documents = len(filtered_responses)\n",
        "    word_document_count = {}\n",
        "\n",
        "    for response in filtered_responses:\n",
        "        seen_words = set()\n",
        "        for word in response:\n",
        "            if word not in seen_words:\n",
        "                word_document_count[word] = word_document_count.get(word, 0) + 1\n",
        "                seen_words.add(word)\n",
        "\n",
        "\n",
        "    idf_scores = {}\n",
        "    for word, doc_count in word_document_count.items():\n",
        "        idf_scores[word] = math.log(total_documents / (doc_count + 1))\n",
        "\n",
        "    return idf_scores"
      ]
    },
    {
      "cell_type": "markdown",
      "metadata": {
        "id": "fR5680IkkxCb"
      },
      "source": [
        "The IDF score indicates how unique or important each word is relative to the entire corpus of documents"
      ]
    },
    {
      "cell_type": "code",
      "execution_count": 42,
      "metadata": {
        "colab": {
          "base_uri": "https://localhost:8080/"
        },
        "id": "bFxapRYpjRPZ",
        "outputId": "85fdb77f-faf2-41e1-80b3-274fd468b72f"
      },
      "outputs": [
        {
          "output_type": "execute_result",
          "data": {
            "text/plain": [
              "{'compare': 1.465846123513262,\n",
              " 'contrast': 1.4753141046622402,\n",
              " 'philosophical': 2.5594290928502232,\n",
              " 'foundation': 3.867538781030934,\n",
              " 'major': 3.7083272924376023,\n",
              " 'school': 5.537109499210763,\n",
              " 'thought': 4.682412257947121,\n",
              " 'field': 1.4782143132249528,\n",
              " 'psychology': 2.5559063207255335,\n",
              " 'Behaviorism': 5.944104829499694}"
            ]
          },
          "metadata": {},
          "execution_count": 42
        }
      ],
      "source": [
        "#IDF score for each word\n",
        "idf_scores = calculate_idf(filtered_responses)\n",
        "sorted_idf_scores = dict(sorted(idf_scores.items(), key=lambda item: item[1], reverse=True))\n",
        "\n",
        "# Take only the top 10 items\n",
        "top_10_idf_scores = dict(list(idf_scores.items())[:10])\n",
        "\n",
        "top_10_idf_scores"
      ]
    },
    {
      "cell_type": "code",
      "execution_count": 43,
      "metadata": {
        "colab": {
          "base_uri": "https://localhost:8080/"
        },
        "id": "v_3Okiixdcvd",
        "outputId": "13690012-b94c-42ce-8396-7f582eee6e7e"
      },
      "outputs": [
        {
          "output_type": "stream",
          "name": "stdout",
          "text": [
            "Word with highest IDF score: connectionism\n",
            "IDF Score: 11.73253477821618\n"
          ]
        }
      ],
      "source": [
        "# Finding the word with the highest IDF score\n",
        "max_idf_word = max(idf_scores, key=idf_scores.get)\n",
        "max_idf_score = idf_scores[max_idf_word]\n",
        "\n",
        "print(\"Word with highest IDF score:\", max_idf_word)\n",
        "print(\"IDF Score:\", max_idf_score)"
      ]
    },
    {
      "cell_type": "markdown",
      "metadata": {
        "id": "pPdVNB4EdjHk"
      },
      "source": [
        "The IDF score reflects how much information the word provides.The higher the IDF score, the more rare or unique the word is, and therefore, it's considered more important or significant in distinguishing between documents.\n",
        "\n",
        "Words with high IDF scores are often indicative of terms that are crucial for understanding specific topics or concepts in the dataset. **\"connectionism\"** may be a key concept within psychology or cognitive science"
      ]
    },
    {
      "cell_type": "code",
      "execution_count": 44,
      "metadata": {
        "colab": {
          "base_uri": "https://localhost:8080/",
          "height": 607
        },
        "id": "7gWOf3UDebrL",
        "outputId": "165c7458-b91c-48b8-ae1c-a234d1eef9e7"
      },
      "outputs": [
        {
          "output_type": "display_data",
          "data": {
            "text/plain": [
              "<Figure size 1000x600 with 1 Axes>"
            ],
            "image/png": "[encoded data removed]"
          },
          "metadata": {}
        }
      ],
      "source": [
        "import matplotlib.pyplot as plt\n",
        "\n",
        "sorted_idf_scores = sorted(idf_scores.items(), key=lambda x: x[1], reverse=True)\n",
        "\n",
        "top_10_words = sorted_idf_scores[:10]\n",
        "\n",
        "words = [item[0] for item in top_10_words]\n",
        "idf_scores = [item[1] for item in top_10_words]\n",
        "\n",
        "plt.figure(figsize=(10, 6))\n",
        "plt.bar(words, idf_scores, color='skyblue')\n",
        "plt.xlabel('Words')\n",
        "plt.ylabel('IDF Score')\n",
        "plt.title('Top 10 Words with Highest IDF Scores')\n",
        "plt.xticks(rotation=45, ha='right')\n",
        "plt.tight_layout()\n",
        "plt.show()"
      ]
    },
    {
      "cell_type": "code",
      "execution_count": 45,
      "metadata": {
        "id": "W3oov3PcnC13"
      },
      "outputs": [],
      "source": [
        "#This function Calculates the TF-IDF score for each word in each preprocessed response individually.\n",
        "import math\n",
        "\n",
        "def calculate_tf_idf(filtered_responses):\n",
        "    # Calculate TF (Term Frequency)\n",
        "    tf_scores = {}\n",
        "    for response in filtered_responses:\n",
        "        for word in response:\n",
        "            tf_scores[word] = tf_scores.get(word, 0) + 1\n",
        "\n",
        "    # Calculate IDF (Inverse Document Frequency)\n",
        "    total_documents = len(filtered_responses)\n",
        "    word_document_count = {}\n",
        "    for response in filtered_responses:\n",
        "        seen_words = set()  # Keep track of words already seen in the current response\n",
        "        for word in response:\n",
        "            if word not in seen_words:  # Only count each word once per response\n",
        "                word_document_count[word] = word_document_count.get(word, 0) + 1\n",
        "                seen_words.add(word)\n",
        "\n",
        "    idf_scores = {}\n",
        "    for word, doc_count in word_document_count.items():\n",
        "        idf_scores[word] = math.log(total_documents / (doc_count + 1))  # Add 1 to avoid division by zero\n",
        "\n",
        "    # Calculate TF-IDF (Term Frequency-Inverse Document Frequency)\n",
        "    tf_idf_scores = {}\n",
        "    for word, tf_score in tf_scores.items():\n",
        "        tf_idf_scores[word] = tf_score * idf_scores.get(word, 0)\n",
        "\n",
        "    return tf_idf_scores"
      ]
    },
    {
      "cell_type": "markdown",
      "metadata": {
        "id": "f4eN9Hs-mb6D"
      },
      "source": [
        "The TF-IDF score is a statistical measure used to evaluate the importance of a word in a document relative to a collection of document.\n",
        "\n",
        "a high TF-IDF score for a word in a document indicates that the word is both frequent within that document and rare across the entire corpus, making it more likely to be relevant to the content of that document."
      ]
    },
    {
      "cell_type": "code",
      "execution_count": 46,
      "metadata": {
        "colab": {
          "base_uri": "https://localhost:8080/"
        },
        "id": "52Ze3eesnC4I",
        "outputId": "79f668a3-c29a-467f-cfb7-820a8685faa4"
      },
      "outputs": [
        {
          "output_type": "execute_result",
          "data": {
            "text/plain": [
              "{'compare': 84309.60563998877,\n",
              " 'contrast': 84128.31150425959,\n",
              " 'philosophical': 49402.10035019501,\n",
              " 'foundation': 20149.877049171166,\n",
              " 'major': 22654.17142950131,\n",
              " 'school': 5470.664185220234,\n",
              " 'thought': 10811.689903599901,\n",
              " 'field': 84162.13192346269,\n",
              " 'psychology': 50392.24901942462,\n",
              " 'Behaviorism': 3875.5563488338007}"
            ]
          },
          "metadata": {},
          "execution_count": 46
        }
      ],
      "source": [
        "tf_idf_scores = calculate_tf_idf(filtered_responses)\n",
        "sorted_tf_idf_scores = dict(sorted(tf_idf_scores.items(), key=lambda item: item[1], reverse=True))\n",
        "\n",
        "# Take only the top 10 items\n",
        "top_10_tf_idf_scores = dict(list(tf_idf_scores.items())[:10])\n",
        "\n",
        "top_10_tf_idf_scores"
      ]
    },
    {
      "cell_type": "code",
      "execution_count": 47,
      "metadata": {
        "colab": {
          "base_uri": "https://localhost:8080/"
        },
        "id": "AsopT7-9fM5k",
        "outputId": "87fdb4f0-6110-4a1c-dc84-72951fec1a44"
      },
      "outputs": [
        {
          "output_type": "stream",
          "name": "stdout",
          "text": [
            "Word with highest TF-IDF score: theory\n",
            "TF-IDF Score: 85802.8481429335\n"
          ]
        }
      ],
      "source": [
        "# Finding the highest TF-IDF score\n",
        "max_tfidf_word = max(tf_idf_scores, key=tf_idf_scores.get)\n",
        "max_tfidf_score = tf_idf_scores[max_tfidf_word]\n",
        "\n",
        "print(\"Word with highest TF-IDF score:\", max_tfidf_word)\n",
        "print(\"TF-IDF Score:\", max_tfidf_score)"
      ]
    },
    {
      "cell_type": "markdown",
      "metadata": {
        "id": "MNB6iLtWfAEX"
      },
      "source": [
        "A high TF-IDF score suggests that the word **\"theory\"** is significant and representative of the content in the dataset. It indicates that **\"theory**\" appears frequently in some documents (high TF) but is relatively rare across the entire dataset (high IDF), making it a distinguishing term.\n",
        "\n",
        "Moreover, The presence of **\"theory\"** as the word with the highest TF-IDF score may indicate that the dataset contains documents with a strong focus on theoretical concepts or discussions. It suggests that the topic or theme revolving around **\"theory\"** is central to the dataset."
      ]
    },
    {
      "cell_type": "code",
      "execution_count": 48,
      "metadata": {
        "colab": {
          "base_uri": "https://localhost:8080/"
        },
        "id": "nPgUOuy2mPUB",
        "outputId": "0bdfdd3a-cc43-401d-f16a-a2e5f07d4423"
      },
      "outputs": [
        {
          "output_type": "stream",
          "name": "stdout",
          "text": [
            "1. Word: theory, TF-IDF Score: 85802.8481429335\n",
            "2. Word: compare, TF-IDF Score: 84309.60563998877\n",
            "3. Word: significance, TF-IDF Score: 84253.57674911941\n",
            "4. Word: field, TF-IDF Score: 84162.13192346269\n",
            "5. Word: contrast, TF-IDF Score: 84128.31150425959\n",
            "6. Word: explain, TF-IDF Score: 82843.58849768207\n",
            "7. Word: key, TF-IDF Score: 82040.21363369022\n",
            "8. Word: concept, TF-IDF Score: 75140.63751563714\n",
            "9. Word: difference, TF-IDF Score: 72662.33188744255\n",
            "10. Word: development, TF-IDF Score: 69823.94161631221\n"
          ]
        }
      ],
      "source": [
        "# Finding the top 10 highest TF-IDF scores\n",
        "sorted_tf_idf_scores = sorted(tf_idf_scores.items(), key=lambda x: x[1], reverse=True)\n",
        "\n",
        "top_10_words = sorted_tf_idf_scores[:10]\n",
        "\n",
        "for i, (word, score) in enumerate(top_10_words, 1):\n",
        "    print(f\"{i}. Word: {word}, TF-IDF Score: {score}\")"
      ]
    },
    {
      "cell_type": "markdown",
      "metadata": {
        "id": "cHKl8S6ThXHV"
      },
      "source": [
        "# **Neural Network model**"
      ]
    },
    {
      "cell_type": "markdown",
      "metadata": {
        "id": "qO82y9pxoFwo"
      },
      "source": [
        "### Embedding Layer"
      ]
    },
    {
      "cell_type": "markdown",
      "source": [
        " Assigning a unique index to each word in my dataset."
      ],
      "metadata": {
        "id": "dROKIxdwZ8ND"
      }
    },
    {
      "cell_type": "code",
      "source": [
        "# Create a vocabulary dictionary to map words to indices\n",
        "vocab = {}\n",
        "index = 0\n",
        "\n",
        "# Iterate through each word in the vocabulary list\n",
        "for word in words_list:\n",
        "    # Check if the word is not already in the vocabulary\n",
        "    if word not in vocab:\n",
        "        # Assign the current index to the word and increment the index\n",
        "        vocab[word] = index\n",
        "        index += 1\n",
        "\n",
        "print(vocab)\n"
      ],
      "metadata": {
        "colab": {
          "base_uri": "https://localhost:8080/"
        },
        "id": "46h6-vcMZv2B",
        "outputId": "4eda44af-7bd9-48db-c9ec-7a56a1504b8a"
      },
      "execution_count": 49,
      "outputs": [
        {
          "output_type": "stream",
          "name": "stdout",
          "text": [
            "{'Substance': 0, 'naturehuman': 1, 'Deutsch': 2, 'alHusain': 3, 'genetically': 4, 'support': 5, 'possible': 6, 'stoic': 7, 'Islamic': 8, 'mc2': 9, '1859': 10, 'Kagans': 11, 'Alabama': 12, 'Mover': 13, 'fastpace': 14, 'highlight': 15, 'Watson': 16, 'Senge': 17, 'StefanBoltzmann': 18, 'twin': 19, 'Boccaccios': 20, 'syllabus': 21, 'Meritocracy': 22, 'Samuel': 23, 'institution': 24, 'undecided': 25, 'send': 26, 'Mesopotamians': 27, 'Korolev': 28, 'progressive': 29, 'freuds': 30, 'genomic': 31, 'universally': 32, 'ecology': 33, 'selforganization': 34, 'ion': 35, 'align': 36, 'ofCellular': 37, 'Johannson': 38, 'RSA': 39, 'uncertainty': 40, 'facilitation': 41, 'anecdotal': 42, 'Townsend': 43, 'unusual': 44, 'Contract': 45, 'week': 46, 'outdated': 47, 'predestination': 48, 'cv': 49, 'Csikszentmihalyis': 50, 'andY': 51, 'Snyder': 52, 'logistic': 53, 'factorial': 54, 'Applications': 55, 'Constantin': 56, 'Arctic': 57, 'regardless': 58, 'mitigation': 59, 'longevity': 60, 'Logotherapy': 61, 'everchanging': 62, 'seismic': 63, 'endocrine': 64, 'MRI': 65, 'warn': 66, 'Cities': 67, 'noncode': 68, 'execute': 69, 'Concepts': 70, 'programming': 71, 'supply': 72, 'soil': 73, 'Jean': 74, 'expression': 75, 'Oppressed': 76, 'oppression': 77, 'inductive': 78, 'hypothesisdriven': 79, 'Habermas': 80, 'Incompleteness': 81, 'Democracy': 82, 'consume': 83, 'highpressure': 84, 'particlewave': 85, 'corrective': 86, 'Bowling': 87, 'togeorge': 88, 'butterfly': 89, 'Fouriers': 90, 'functioning': 91, 'Attribution': 92, 'parallel': 93, '250word': 94, 'teacher': 95, 'marine': 96, 'JeanPaul': 97, 'lens': 98, 'exploration': 99, 'Analysis': 100, 'eukaryote': 101, 'supplyside': 102, 'time': 103, 'rotation': 104, 'intervene': 105, 'visit': 106, 'reach': 107, 'recommend': 108, 'Gilles': 109, 'Brown': 110, 'decline': 111, 'Market': 112, 'Noam': 113, 'Ikenberrys': 114, 'igneous': 115, 'committee': 116, 'commodity': 117, 'standard': 118, 'Geology': 119, 'Origins': 120, 'boxmodel': 121, 'meditation': 122, 'survival': 123, 'Bowlby': 124, 'sophrosyne': 125, 'close': 126, 'unsuccessful': 127, 'Utilitarianism': 128, 'idealism': 129, 'poststructuralism': 130, '1500word': 131, 'processing': 132, 'classifier': 133, 'intuition': 134, 'Fredrick': 135, 'scaffolding': 136, 'rightangled': 137, 'symbiotic': 138, 'Vygotskian': 139, 'exploratory': 140, 'Marketplace': 141, 'reinforc': 142, 'utilization': 143, 'environmentally': 144, 'excretion': 145, 'Becks': 146, 'Logical': 147, 'rationalism': 148, 'Das': 149, 'standardize': 150, 'size': 151, 'weakness': 152, 'wellbee': 153, 'reconciliation': 154, 'readiness': 155, 'ameticism': 156, 'soliloquy': 157, 'digital': 158, 'eastern': 159, 'strengthening': 160, 'Graph': 161, 'standardized': 162, 'heart': 163, 'face': 164, 'affect': 165, 'asymmetrical': 166, 'fascinating': 167, 'allostasis': 168, 'Supplyside': 169, 'epidemiology': 170, 'Commentaries': 171, 'nagelian': 172, 'thevarious': 173, 'hydro': 174, 'Walker': 175, 'accessible': 176, 'journey': 177, 'Goethe': 178, 'Ovid': 179, 'sociocultural': 180, 'wallace': 181, 'understandable': 182, 'exposure': 183, 'Computer': 184, 'layout': 185, 'cellular': 186, 'freud': 187, 'spectrum': 188, 'Mercantilism': 189, 'Greshams': 190, 'PROMPT': 191, 'simplified': 192, 'perspectivism': 193, 'constituent': 194, 'Cave': 195, 'variable': 196, 'studentteacher': 197, 'Outline': 198, 'regeneration': 199, 'Superman': 200, 'Numbers': 201, 'share': 202, 'Skepticism': 203, 'insightful': 204, 'typical': 205, 'civil': 206, 'Vaishnav': 207, 'systematic': 208, 'ofmitosis': 209, 'Math': 210, 'protagonist': 211, 'researchbased': 212, 'subsequent': 213, 'Hotspots': 214, 'Lord': 215, 'simultaneously': 216, 'required': 217, 'syllogism': 218, 'Media': 219, 'fix': 220, 'tone': 221, 'reversible': 222, 'situational': 223, 'rehabilitation': 224, 'Critical': 225, 'engage': 226, 'UTC': 227, 'Gonzo': 228, 'press': 229, 'dichotomy': 230, 'dominance': 231, 'immigration': 232, 'lesson': 233, 'audience': 234, 'resistance': 235, 'unification': 236, 'preparation': 237, 'hegemony': 238, 'Goethes': 239, 'Halliday': 240, 'zeta': 241, '2x': 242, 'phenomenon': 243, 'psychometric': 244, 'phrase': 245, 'law': 246, 'reliant': 247, 'imply': 248, 'operational': 249, 'smallscale': 250, 'declarative': 251, 'assay': 252, 'mining': 253, '2003': 254, 'network': 255, 'housing': 256, 'ofform': 257, 'taxonomy': 258, 'legislation': 259, 'historic': 260, 'behaviour': 261, 'Juliet': 262, 'Pride': 263, 'diatom': 264, 'Principles': 265, 'movement': 266, 'advocacy': 267, 'serotonin': 268, 'globule': 269, 'tool': 270, 'Personality': 271, 'absorption': 272, 'RA': 273, 'advantageous': 274, 'fake': 275, 'Martin': 276, 'sound': 277, 'stagebase': 278, 'Steinbecks': 279, 'cloth': 280, 'Frankl': 281, 'warming': 282, 'welldesigne': 283, 'nonverbal': 284, 'teambase': 285, 'shock': 286, 'cybersecurity': 287, 'fifth': 288, 'competition': 289, 'Zimbardo': 290, 'MOOCs': 291, 'adolescence': 292, 'fission': 293, 'synopsis': 294, 'Explore': 295, 'Ju': 296, 'swoop': 297, 'Accidents': 298, 'Structuralism': 299, 'sole': 300, 'chromosome': 301, 'causal': 302, 'Adaptive': 303, 'manifest': 304, 'Transition': 305, 'ensemble': 306, 'Algorithm': 307, 'Fundamental': 308, 'offspre': 309, 'modernism': 310, 'unified': 311, 'expand': 312, 'Lovelaces': 313, 'sterile': 314, 'coli': 315, 'enlightening': 316, 'nativist': 317, 'prefer': 318, 'transition': 319, 'compass': 320, 'rapon': 321, 'alike': 322, 'mental': 323, 'design': 324, 'Investigations': 325, 'accurately': 326, 'hold': 327, 'communicative': 328, 'active': 329, 'scientific': 330, 'problembase': 331, 'stimulation': 332, 'hereditary': 333, 'automobile': 334, 'tolerance': 335, 'instead': 336, 'livability': 337, 'Gratifications': 338, 'proof': 339, 'polarization': 340, 'metaphase': 341, 'Maturation': 342, 'Boer': 343, 'morality': 344, 'Play': 345, 'Dawkins': 346, 'c': 347, 'suddenly': 348, 'observe': 349, 'Edwards': 350, 'successful': 351, 'yield': 352, 'Interactionist': 353, 'CAM': 354, 'media': 355, 'latitude': 356, 'Inclusive': 357, 'objectively': 358, 'reverberate': 359, '1985': 360, 'Ritalin': 361, 'amide': 362, 'Fallacies': 363, 'cathedral': 364, 'Symbolic': 365, 'Mann': 366, 'schizophrenia': 367, 'great': 368, 'connectionist': 369, 'biochemical': 370, '1page': 371, 'Khan': 372, 'unmitigated': 373, 'lean': 374, 'max': 375, 'Simpsons': 376, 'outdoor': 377, 'database': 378, '250': 379, 'lifespan': 380, 'potentially': 381, 'higherlevel': 382, 'Objectivism': 383, 'IQ': 384, 'employment': 385, 'passage': 386, 'occurrence': 387, 'byPiaget': 388, 'primaryancient': 389, 'Empirical': 390, 'cerebral': 391, 'algorithmic': 392, 'essentialist': 393, 'Classroom': 394, 'primordial': 395, 'Y': 396, 'crystallize': 397, 'Open': 398, 'transplantation': 399, 'Tomasellos': 400, 'Transformation': 401, 'note': 402, 'reticulum': 403, 'inclusive': 404, 'erosional': 405, 'Sergei': 406, 'reciprocity': 407, 'kind': 408, 'evolve': 409, 'coaster': 410, 'think': 411, 'mitochondria': 412, 'algorithm': 413, 'econometric': 414, 'longitudinal': 415, 'subject': 416, 'common': 417, 'high': 418, 'voyage': 419, 'drug': 420, 'Bradbury': 421, 'failure': 422, 'orbit': 423, 'relativism': 424, 'psychosexual': 425, 'monetary': 426, 'preservation': 427, 'Gene': 428, 'connection': 429, 'Campbell': 430, 'subjectivism': 431, 'species': 432, 'pair': 433, 'Steven': 434, 'boost': 435, 'anemia': 436, 'Maynard': 437, 'Linear': 438, 'agricultural': 439, 'Johann': 440, 'original': 441, '19thcentury': 442, 'Nichomachean': 443, 'sunlight': 444, 'postworld': 445, 'Gravity': 446, 'methodology': 447, 'seamless': 448, 'internship': 449, 'dataset': 450, 'Comics': 451, 'Formal': 452, 'Seven': 453, 'historiography': 454, 'contrastadafavist': 455, 'directly': 456, 'claim': 457, 'Gottfried': 458, 'Bismuth': 459, 'City': 460, 'Werner': 461, 'crystallography': 462, 'lesbian': 463, 'severely': 464, 'ofCONTENT': 465, 'deviation': 466, 'crossborder': 467, 'atomistic': 468, 'presidential': 469, 'philosopherking': 470, 'public': 471, 'intertwine': 472, 'Pavlov': 473, 'Jensen': 474, '500800': 475, 'Robert': 476, 'exceptional': 477, 'privilege': 478, 'finch': 479, 'trustworthy': 480, 'administrative': 481, 'lowincome': 482, 'fluctuation': 483, 'pentameter': 484, 'Discuss': 485, 'mnemonic': 486, 'autonomously': 487, 'selfrealization': 488, 'computation': 489, 'g': 490, 'previously': 491, 'continent': 492, 'violence': 493, 'Schrdingers': 494, 'dance': 495, 'asian': 496, 'prosperity': 497, 'peak': 498, 'protective': 499, 'bacteriology': 500, 'positioning': 501, 'survey': 502, 'beneficial': 503, 'erikson': 504, 'arte': 505, 'Leonardo': 506, 'Geist': 507, 'household': 508, 'assimilation': 509, 'branch': 510, 'acidity': 511, 'Grammar': 512, 'honesty': 513, 'inhabitant': 514, 'intersubjectivity': 515, 'Meads': 516, 'twofactor': 517, 'examination': 518, 'future': 519, 'Criticism': 520, 'random': 521, 'Catholic': 522, 'site': 523, 'prevention': 524, 'decade': 525, 'commentary': 526, 'dualism': 527, 'Rudolf': 528, 'Agreement': 529, 'PennCentral': 530, 'Literature': 531, 'exhibit': 532, 'Sexual': 533, 'wake': 534, 'ofcommunicative': 535, 'Settings': 536, 'event': 537, 'multiculturalism': 538, 'Bronisaw': 539, 'physiological': 540, 'nihilism': 541, 'depth': 542, 'Property': 543, 'Song': 544, 'Cat': 545, 'maximize': 546, 'Magic': 547, 'founder': 548, 'Data': 549, 'ofsigmund': 550, 'anonymity': 551, 'perpetuation': 552, 'Schleiden': 553, 'Sociological': 554, 'appear': 555, 'hierarchy': 556, 'theperiodic': 557, 'platform': 558, 'structure': 559, 'agree': 560, 'astrophysic': 561, 'able': 562, 'Hans': 563, 'relevance': 564, 'facility': 565, 'Edgar': 566, 'fifthgrade': 567, 'Kauffman': 568, '6thgrader': 569, 'African': 570, 'Sternbergs': 571, 'Academia': 572, 'context': 573, 'periodic': 574, 'Bacons': 575, 'rebellion': 576, 'involved': 577, 'socialcognitive': 578, 'Asperger': 579, 'Art': 580, 'twosentence': 581, 'city': 582, 'wellresearched': 583, 'Explosion': 584, 'ant': 585, 'WaveParticle': 586, 'manipulate': 587, 'catalyst': 588, 'Answer': 589, 'Morgan': 590, 'macroeconomic': 591, 'Vocabulary': 592, 'money': 593, 'atom': 594, 'philosophy': 595, 'Silvasphere': 596, 'impetus': 597, 'novella': 598, 'humananimal': 599, 'Lyell': 600, 'Means': 601, 'blend': 602, 'Gregor': 603, 'Communism': 604, 'Deconstructionism': 605, 'mile': 606, 'meselson': 607, 'graduate': 608, 'Expectations': 609, 'Comprehensive': 610, 'etiology': 611, 'wellrounded': 612, 'unpack': 613, 'telephone': 614, 'emphasizing': 615, 'schema': 616, 'Deviation': 617, 'alternate': 618, 'separation': 619, 'aging': 620, 'Ellison': 621, 'hobbess': 622, 'circumference': 623, 'convergence': 624, 'Shifts': 625, 'biopsychological': 626, 'seminal': 627, 'Bruners': 628, 'diplomatic': 629, 'consideration': 630, 'speech': 631, 'limit': 632, 'transformational': 633, 'branchs': 634, 'unpredictability': 635, 'Merkel': 636, 'subtract': 637, 'semipermanent': 638, 'Siddique': 639, 'Dependency': 640, 'analysis': 641, 'unconditioned': 642, 'twoparagraph': 643, 'Curies': 644, 'kindly': 645, 'setup': 646, 'friction': 647, 'aware': 648, 'hydrophobic': 649, 'Language': 650, 'symbol': 651, 'assess': 652, 'realism': 653, 'plastic': 654, 'taxation': 655, 'fx': 656, 'Confirmation': 657, 'schoolwide': 658, 'Pathos': 659, 'Secondary': 660, 'teleological': 661, 'specify': 662, 'subtraction': 663, 'neuronal': 664, 'Mark': 665, 'salient': 666, 'recycling': 667, 'theorist': 668, 'justice': 669, 'influx': 670, 'ofbayesian': 671, 'conversion': 672, 'Conservatism': 673, 'wide': 674, 'questioning': 675, 'procedural': 676, 'piaget': 677, 'magnet': 678, 'humanitie': 679, 'young': 680, 'dependent': 681, 'evolution': 682, 'parasitic': 683, 'demotion': 684, 'disappear': 685, 'andconstructivism': 686, 'ethos': 687, 'Nihilism': 688, 'Haber': 689, 'backsubstitution': 690, 'company': 691, 'immune': 692, 'Herings': 693, 'weighted': 694, 'revenue': 695, 'Times': 696, 'meta': 697, 'macroevolution': 698, 'Hypothetical': 699, 'recognition': 700, 'Differentiation': 701, 'communism': 702, 'nutritious': 703, 'fauna': 704, 'female': 705, 'Peach': 706, 'foil': 707, 'multilingualism': 708, 'Pavlovs': 709, 'arrange': 710, 'fulfillment': 711, 'organizational': 712, '100': 713, 'taylor': 714, 'labeling': 715, 'Elaborate': 716, 'pavlovian': 717, 'perfectly': 718, 'stemfocuse': 719, 'suitability': 720, 'Melville': 721, 'yx': 722, '2020': 723, 'solvability': 724, 'x3': 725, 'hydrodynamic': 726, 'geneticist': 727, 'Geographic': 728, 'Uranus': 729, 'Kimura': 730, 'science': 731, 'Achebe': 732, 'teacherstudent': 733, 'preglobalization': 734, 'Marvin': 735, 'sensitivity': 736, 'anarchy': 737, 'hidden': 738, 'propose': 739, 'Philosophers': 740, 'earthquake': 741, 'student': 742, 'independence': 743, 'SchottenBaumann': 744, 'journal': 745, 'apparatus': 746, 'interpretation': 747, 'Production': 748, 'triarchic': 749, 'Education': 750, 'contributor': 751, 'Early': 752, 'intersectionality': 753, 'posit': 754, 'Word': 755, 'variation': 756, 'Transfers': 757, 'theorship': 758, 'descend': 759, 'Altruism': 760, 'reuptake': 761, 'train': 762, 'diminish': 763, 'terminology': 764, '5z': 765, 'checkpoint': 766, 'atomos': 767, 'segregation': 768, 'induce': 769, '200': 770, 'prejudice': 771, 'postpositivism': 772, 'firstorder': 773, 'Mandelbrot': 774, 'Bayesian': 775, 'Renaissance': 776, 'psychologist': 777, 'exergonic': 778, 'work': 779, 'mixed': 780, 'crossculturally': 781, 'Hobbes': 782, 'Dogma': 783, 'equivalence': 784, 'promotional': 785, 'viable': 786, 'Freudian': 787, 'Kant': 788, 'gmo': 789, 'doityourself': 790, 'outermost': 791, 'authoritarianism': 792, 'parenting': 793, 'Carol': 794, 'organization': 795, 'projection': 796, 'processi': 797, 'continued': 798, 'biogeochemical': 799, 'Cantors': 800, 'ciencia': 801, 'community': 802, 'calculation': 803, 'covalent': 804, 'natural': 805, 'agency': 806, 'osteoarthritis': 807, 'Courses': 808, 'output': 809, 'Rythm': 810, 'critically': 811, 'ideology': 812, 'large': 813, 'precise': 814, 'gratification': 815, 'Kirchhoffs': 816, 'paragraph': 817, 'Bok': 818, 'Lightness': 819, 'research': 820, 'Hunt': 821, 'Beckett': 822, 'recognize': 823, 'Growth': 824, 'racism': 825, 'inner': 826, 'gene': 827, 'selfdirected': 828, 'validity': 829, 'Jerome': 830, 'dystopian': 831, 'Resonance': 832, 'methodological': 833, 'continue': 834, 'rock': 835, 'cumulative': 836, 'MMT': 837, 'Gregorys': 838, 'Tomasello': 839, 'creationism': 840, 'discoveryresearch': 841, 'surrealism': 842, 'thymine': 843, 'multilayere': 844, 'compound': 845, 'sentence': 846, 'Creationism': 847, 'implementation': 848, 'Quantities': 849, 'List': 850, 'deliver': 851, 'electrochemical': 852, 'minimally': 853, 'plane': 854, 'Triarchic': 855, 'contemplate': 856, 'photoelectric': 857, 'feasible': 858, 'Huckleberry': 859, 'longitude': 860, 'Decameron': 861, 'inanimate': 862, 'wellinformed': 863, 'Hawthorn': 864, 'Neoclassical': 865, 'propaganda': 866, 'Algorithms': 867, 'multiple': 868, 'success': 869, 'nightactive': 870, 'classicalconditioningandoperantconditioninginpsychology': 871, 'deepsea': 872, 'punctuation': 873, 'dating': 874, 'Particle': 875, 'categorize': 876, 'Nature': 877, 'SMART': 878, 'detection': 879, 'tragedy': 880, 'expertise': 881, 'Coordinate': 882, 'revisionist': 883, 'Welt': 884, 'Emergent': 885, 'apply': 886, 'biomedical': 887, 'darwin': 888, 'portray': 889, 'selfstudy': 890, 'panpsychism': 891, 'shell': 892, 'selfdetermination': 893, 'dictatorship': 894, 'stylistic': 895, 'plagiarism': 896, 'Theories': 897, 'Central': 898, 'Eisenhower': 899, 'anxiety': 900, 'Theorem': 901, 'extrovert': 902, 'Virginia': 903, 'contradictory': 904, 'antipoverty': 905, 'peer': 906, 'notable': 907, 'Loops': 908, 'Victor': 909, 'notion': 910, 'Alzheimers': 911, 'hypotenuse': 912, 'Magical': 913, 'inscription': 914, '5page': 915, 'stoicism': 916, 'incoming': 917, 'postmodernism': 918, 'employee': 919, 'citizen': 920, 'astrobiology': 921, 'HallHroult': 922, 'xp': 923, 'Writing': 924, 'Political': 925, 'Valley': 926, 'Jrgen': 927, 'associate': 928, 'Persuasive': 929, 'contest': 930, 'journalism': 931, 'Hegelian': 932, 'Prompt': 933, '2010': 934, 'parallelism': 935, 'trial': 936, 'Commitment': 937, 'truly': 938, 'rely': 939, 'degeneration': 940, 'Hamlets': 941, 'Leonard': 942, 'sapiens': 943, 'emphasize': 944, 'weigh': 945, 'vast': 946, 'goadal': 947, 'Zoological': 948, 'transcendental': 949, 'growthmindset': 950, 'equitably': 951, 'attractor': 952, 'Orwell': 953, 'urban': 954, 'Daryl': 955, 'Unmoved': 956, 'Computing': 957, 'sheet': 958, 'try': 959, 'interpreting': 960, '4x2': 961, 'Liberation': 962, 'ofdependency': 963, 'liminality': 964, 'Samsung': 965, 'Monets': 966, 'hydrologic': 967, 'Principal': 968, 'multisensory': 969, 'ammonia': 970, 'Describe': 971, 'purpose': 972, 'waste': 973, 'marriage': 974, 'amplitude': 975, 'revolutionary': 976, 'dendritic': 977, 'specific': 978, 'Herrmann': 979, 'E': 980, 'Strain': 981, 'Therapy': 982, 'drift': 983, 'Large': 984, 'wish': 985, 'Chaos': 986, 'foresee': 987, 'Constitutionalism': 988, 'P': 989, 'storm': 990, 'abstract': 991, 'resilience': 992, '1948': 993, 'snippet': 994, 'die': 995, 'nonliving': 996, 'stage': 997, 'February': 998, 'country': 999, 'Gordon': 1000, 'privacy': 1001, 'Joseph': 1002, 'constitutional': 1003, 'state': 1004, 'popularization': 1005, 'detailoriente': 1006, 'Andreolis': 1007, 'ThingInItself': 1008, 'rate': 1009, 'distribution': 1010, 'ofexistentialism': 1011, 'Analytical': 1012, 'old': 1013, 'Instruction': 1014, 'goal': 1015, 'monetarist': 1016, 'commonly': 1017, 'instrumentalism': 1018, 'Declaration': 1019, 'risk': 1020, 'Code': 1021, 'onesentence': 1022, 'value': 1023, 'making': 1024, 'Riesman': 1025, 'nurture': 1026, 'macroeconomics': 1027, 'curvature': 1028, 'performancebase': 1029, 'aibased': 1030, '7thgrade': 1031, 'selfperception': 1032, 'etc': 1033, 'capable': 1034, 'Elizabeth': 1035, 'entelechy': 1036, 'modernization': 1037, 'Library': 1038, 'scratch': 1039, 'inherity': 1040, 'School': 1041, 'smartphone': 1042, 'Title': 1043, 'neutrino': 1044, 'epiphenomenalism': 1045, 'spectroscopy': 1046, 'Egyptians': 1047, 'Harrison': 1048, 'faulty': 1049, 'dualsystem': 1050, 'statement': 1051, 'attend': 1052, 'adequate': 1053, 'romantic': 1054, 'Timeline': 1055, 'umbilical': 1056, 'Thrown': 1057, 'feminism': 1058, 'ordinal': 1059, 'muscle': 1060, '\\n ': 1061, 'obedience': 1062, 'productivity': 1063, 'Bernard': 1064, 'general': 1065, 'Laws': 1066, '5x2': 1067, 'convincing': 1068, 'interview': 1069, 'Peloponnesian': 1070, 'augment': 1071, 'peaceful': 1072, 'anthropologist': 1073, 'legal': 1074, 'Rationalism': 1075, 'agent': 1076, 'cite': 1077, 'resonance': 1078, 'dominant': 1079, 'archaeology': 1080, 'GDP': 1081, 'participate': 1082, 'madness': 1083, 'visual': 1084, 'Keynes': 1085, 'Gothic': 1086, 'multidisciplinary': 1087, 'logarithmic': 1088, 'interior': 1089, 'degrade': 1090, 'Michel': 1091, 'Greeces': 1092, 'andBehaviorism': 1093, 'subatomic': 1094, 'Movement': 1095, 'College': 1096, 'Frantz': 1097, 'timeframe': 1098, 'Models': 1099, 'Phenomenology': 1100, 'css': 1101, 'plain': 1102, 'theorize': 1103, 'Schools': 1104, 'Dwecks': 1105, 'glance': 1106, 'eg': 1107, 'dx': 1108, 'locus': 1109, 'velocity': 1110, 'habit': 1111, 'Geography': 1112, 'document': 1113, 'attain': 1114, 'Abelard': 1115, 'Nagels': 1116, 'xenobiology': 1117, 'Opponent': 1118, 'Bachs': 1119, 'Rasa': 1120, 'tactic': 1121, 'Wilkinson': 1122, 'malleable': 1123, 'ofnoam': 1124, 'organism': 1125, 'culturally': 1126, 'body': 1127, 'receive': 1128, 'cost': 1129, 'Assess': 1130, 'pop': 1131, 'Shaws': 1132, 'Things': 1133, 'intrigue': 1134, 'Wealth': 1135, 'Dialectic': 1136, 'flashcard': 1137, 'objective': 1138, 'Postmodern': 1139, 'reduce': 1140, 'planet': 1141, 'middle': 1142, 'InformationProcessing': 1143, 'interrelate': 1144, 'acquire': 1145, 'Allen': 1146, 'orator': 1147, 'Wiggins': 1148, 'facilitate': 1149, 'certainty': 1150, 'study': 1151, 'strength': 1152, 'blank': 1153, 'factual': 1154, 'healthcare': 1155, 'principal': 1156, 'Newton': 1157, 'p': 1158, 'ecological': 1159, 'vastness': 1160, 'grade': 1161, 'seismology': 1162, 'o': 1163, 'assassination': 1164, 'radio': 1165, 'authoritative': 1166, 'Iliad': 1167, 'discuss': 1168, 'period': 1169, 'SelfDetermination': 1170, 'affirmation': 1171, 'creator': 1172, 'jungian': 1173, 'autoimmune': 1174, 'ergo': 1175, 'prince': 1176, 'act': 1177, 'Sapir': 1178, 'toddler': 1179, 'threeminute': 1180, 'shepherd': 1181, 'Bickerton': 1182, 'theatrical': 1183, 'spinal': 1184, 'shortterm': 1185, 'availability': 1186, 'Intellectual': 1187, 'hallucinationist': 1188, 'financial': 1189, 'Postulate': 1190, 'MillsUtilitarianism': 1191, 'UDL': 1192, 'Carta': 1193, 'autocratic': 1194, '12yearold': 1195, 'cryogenic': 1196, 'NeoMarxist': 1197, 'Universes': 1198, 'Mental': 1199, 'vacuum': 1200, 'Organizational': 1201, 'spark': 1202, 'recover': 1203, 'Physics': 1204, 'McGregor': 1205, 'identical': 1206, 'like': 1207, 'Nothingness': 1208, 'Prejudice': 1209, 'deprivation': 1210, '1921': 1211, 'bending': 1212, 'NewtonsThree': 1213, 'topic': 1214, 'Hebbian': 1215, 'crossing': 1216, 'democratic': 1217, 'inquirybase': 1218, 'sustenance': 1219, 'Bronte': 1220, 'inflation': 1221, 'Gauss': 1222, 'threeparagraph': 1223, 'Photoelectric': 1224, 'extrinsic': 1225, 'resolute': 1226, 'wellsupported': 1227, 'mutualistic': 1228, 'biotic': 1229, 'Metamorphosis': 1230, 'enzyme': 1231, 'genetic': 1232, 'actively': 1233, 'serendipity': 1234, 'Hawking': 1235, 'renowned': 1236, 'Popper': 1237, '2': 1238, 'taskbase': 1239, 'Nicholas': 1240, 'Digital': 1241, 'McPherson': 1242, 'Vrooms': 1243, 'depletion': 1244, 'Childhood': 1245, 'Narrative': 1246, 'SelfEfficacy': 1247, 'selfawareness': 1248, 'Antarctic': 1249, 'God': 1250, 'phonetic': 1251, 'storytelling': 1252, 'cambrian': 1253, 'technical': 1254, 'Bubonic': 1255, 'Supply': 1256, 'bottomup': 1257, 'covid19': 1258, 'betweensupervise': 1259, 'curiosity': 1260, 'Cognitivist': 1261, 'advancement': 1262, 'affinity': 1263, 'recessive': 1264, 'Perspectives': 1265, 'Cooperative': 1266, 'chemosynthesis': 1267, 'DL': 1268, 'centralism': 1269, 'myth': 1270, 'norm': 1271, 'recovery': 1272, 'water': 1273, 'Heider': 1274, 'Control': 1275, 'Law': 1276, 'screen': 1277, 'Identity': 1278, 'Marlowes': 1279, 'Fitzgerald': 1280, 'andAndragogy': 1281, 'fragility': 1282, 'TS': 1283, 'misinformation': 1284, 'american': 1285, 'properly': 1286, 'Superposition': 1287, 'Technology': 1288, '3yx': 1289, 'plasticity': 1290, 'stance': 1291, 'collaborate': 1292, 'anaphase': 1293, 'reason': 1294, 'Weber': 1295, 'Finches': 1296, 'federation': 1297, 'reactive': 1298, 'tooth': 1299, 'algae': 1300, 'college': 1301, 'relate': 1302, 'understate': 1303, 'opposing': 1304, 'Mendel': 1305, 'Supravalvular': 1306, 'inheritance': 1307, 'cogito': 1308, 'correct': 1309, 'respiration': 1310, 'anatomy': 1311, 'possess': 1312, 'film': 1313, 'earn': 1314, 'thephotosynthesis': 1315, 'cognitive': 1316, 'Kafka': 1317, 'involvement': 1318, 'materialism': 1319, 'proceed': 1320, 'academician': 1321, 'base': 1322, 'bright': 1323, 'disabled': 1324, 'exact': 1325, 'Emc': 1326, 'Fourier': 1327, 'tomato': 1328, 'Rutherford': 1329, 'q': 1330, 'twentiethcentury': 1331, 'congestion': 1332, 'Panspermia': 1333, 'Traditional': 1334, 'Viktor': 1335, 'sonography': 1336, 'Wonders': 1337, 'seed': 1338, 'mayan': 1339, 'Shareholders': 1340, 'chromatography': 1341, 'oceanic': 1342, 'economic': 1343, 'Rubric': 1344, 'impactful': 1345, 'conservatism': 1346, 'Wilkins': 1347, 'devolution': 1348, 'groundwork': 1349, 'untapped': 1350, 'greenhouse': 1351, 'Variable': 1352, 'StructuralFunctionalism': 1353, 'jewish': 1354, 'difference': 1355, 'postfeminism': 1356, 'RNAi': 1357, 'Pinks': 1358, 'unfold': 1359, 'divergent': 1360, 'socioemotional': 1361, 'Supreme': 1362, 'biomimicry': 1363, 'boson': 1364, 'h': 1365, 'Swifts': 1366, 'adaptable': 1367, 'Montessori': 1368, 'woman': 1369, 'causality': 1370, 'volunteer': 1371, 'Cell': 1372, 'Triphosphate': 1373, 'Karl': 1374, 'Biopower': 1375, '2yx': 1376, 'Marshalls': 1377, 'structuration': 1378, 'Arthur': 1379, 'waveparticle': 1380, 'darwinism': 1381, 'Rebellion': 1382, 'facilitated': 1383, 'autism': 1384, '10yearold': 1385, 'Learning': 1386, 'utilitarianism': 1387, 'Ayurveda': 1388, 'phonology': 1389, 'leveraged': 1390, 'synthesis': 1391, 'correlational': 1392, 'pure': 1393, 'psychomotor': 1394, 'Capital': 1395, 'microplastic': 1396, 'Agnostic': 1397, 'Vladimir': 1398, 'analyze': 1399, 'Benthams': 1400, 'academic': 1401, 'molecular': 1402, 'Roman': 1403, 'Bloomfields': 1404, 'Virgil': 1405, 'viral': 1406, 'radical': 1407, 'Gutenbergs': 1408, 'Insert': 1409, '20': 1410, 'Protocol': 1411, 'guess': 1412, 'Homers': 1413, 'discoverer': 1414, 'Photosynthesis': 1415, '23': 1416, 'primary': 1417, 'nonviolence': 1418, 'theology': 1419, 'neuropsychological': 1420, 'popularity': 1421, 'ideologie': 1422, 'frequency': 1423, 'worldsystem': 1424, 'ACADEMICTOPIC': 1425, 'Lucas': 1426, 'Monte': 1427, 'instructional': 1428, 'Hegels': 1429, 'apparent': 1430, 'similarity': 1431, 'Tuckman': 1432, 'painting': 1433, 'rulebase': 1434, 'Academy': 1435, 'Julius': 1436, 'Grapes': 1437, 'height': 1438, 'printing': 1439, 'subdiscipline': 1440, 'Similarities': 1441, 'kinesthetic': 1442, 'self': 1443, 'cybernetic': 1444, 'masculinity': 1445, 'existential': 1446, 'ProblemFocused': 1447, 'Likelihood': 1448, 'acidbase': 1449, 'interdependence': 1450, 'pedagogy': 1451, 'graphic': 1452, 'vividly': 1453, 'aftertax': 1454, 'cytosine': 1455, 'Machs': 1456, 'PI': 1457, 'sign': 1458, 'objectivity': 1459, 'Euclid': 1460, 'new': 1461, 'Ignorance': 1462, 'lighting': 1463, 'reading': 1464, 'Implications': 1465, 'ignite': 1466, 'ecosystem': 1467, 'Medical': 1468, 'Interpretivism': 1469, 'ax2': 1470, 'isotope': 1471, 'Theorems': 1472, 'compelling': 1473, 'magnitude': 1474, 'Reasoning': 1475, 'phaedrus': 1476, 'electronegativity': 1477, 'Lewontin': 1478, 'Nisbett': 1479, 'Abiogenesis': 1480, 'underrepresented': 1481, 'blended': 1482, 'galilei': 1483, 'pleasure': 1484, 'bisection': 1485, 'AC': 1486, 'Economy': 1487, 'Board': 1488, 'John': 1489, 'mixture': 1490, 'verbal': 1491, 'fascinate': 1492, 'archaeologist': 1493, 'mitochondrion': 1494, 'Maria': 1495, 'mutation': 1496, 'Incident': 1497, 'SWOT': 1498, 'adaption': 1499, 'substantiate': 1500, 'Functional': 1501, 'Health': 1502, 'Reason': 1503, 'novel': 1504, 'critic': 1505, 'physical': 1506, 'objectivism': 1507, 'essentialism': 1508, 'Amygdala': 1509, 'finland': 1510, 'replicate': 1511, 'San': 1512, 'length': 1513, 'ranking': 1514, 'influencer': 1515, 'neolithic': 1516, 'reveal': 1517, 'Dynamics': 1518, 'Autonomy': 1519, 'Kuhns': 1520, 'Gutenberg': 1521, 'Weinbergs': 1522, 'foreshadow': 1523, 'classification': 1524, 'reaction': 1525, 'Reflect': 1526, 'Tilden': 1527, 'metaphorical': 1528, 'nonempirical': 1529, 'philosophical': 1530, 'allosteric': 1531, 'hieroglyphic': 1532, 'progress': 1533, 'Norman': 1534, 'SAT': 1535, 'confirmation': 1536, 'classicalconditioning': 1537, 'Detail': 1538, 'mole': 1539, 'Originality': 1540, 'Device': 1541, 'conflict': 1542, 'z': 1543, 'Greys': 1544, 'determination': 1545, 'peace': 1546, '10slide': 1547, 'Albert': 1548, 'humanlike': 1549, 'polymer': 1550, 'fermat': 1551, '1915': 1552, 'biosphere': 1553, 'supercomputer': 1554, 'Broecker': 1555, 'standing': 1556, 'reader': 1557, 'transport': 1558, 'wellrounde': 1559, 'Heideggers': 1560, 'sharing': 1561, 'dishonesty': 1562, 'flourishing': 1563, 'Putnams': 1564, 'Innovation': 1565, 'augmented': 1566, 'plot': 1567, 'Holocaust': 1568, 'profound': 1569, 'savage': 1570, 'socialinteractionist': 1571, 'Shannons': 1572, 'quotient': 1573, 'cure': 1574, 'relatable': 1575, 'Account': 1576, 'ingredient': 1577, 'transference': 1578, 'Divergence': 1579, 'mathematician': 1580, 'Craft': 1581, 'lamarckian': 1582, 'alternative': 1583, 'verb': 1584, 'text': 1585, 'Velocity': 1586, 'revenge': 1587, 'accelerator': 1588, 'ethical': 1589, 'energyproduce': 1590, 'Achebes': 1591, 'children': 1592, 'apperception': 1593, 'Intergovernmental': 1594, 'ponder': 1595, 'Certainty': 1596, 'Banduras': 1597, 'tissue': 1598, 'Biological': 1599, 'Butterfly': 1600, 'counterevidence': 1601, 'robust': 1602, 'microbial': 1603, 'association': 1604, '7501000': 1605, 'inspire': 1606, 'racial': 1607, 'Fords': 1608, 'learningbased': 1609, 'wayfinde': 1610, 'Earth': 1611, 'republic': 1612, 'Nozick': 1613, 'dualcode': 1614, 'trigger': 1615, 'numeric': 1616, 'chocolate': 1617, 'Orange': 1618, 'Intrinsic': 1619, 'photographic': 1620, 'regurgitate': 1621, 'Q': 1622, 'skepticism': 1623, 'radically': 1624, 'authentic': 1625, 'hurricane': 1626, 'Appraisal': 1627, 'talented': 1628, 'pharmaceutical': 1629, 'Blooming': 1630, 'slit': 1631, 'Kuhn': 1632, 'validation': 1633, 'geneedite': 1634, 'rdbms': 1635, 'motor': 1636, 'Incas': 1637, 'digestive': 1638, 'ofartificial': 1639, 'plate': 1640, 'embryonic': 1641, 'service': 1642, 'Theoryin': 1643, 'visualization': 1644, 'Bhakti': 1645, 'retrieval': 1646, 'symptom': 1647, 'memorize': 1648, 'Revolutions': 1649, 'Liberty': 1650, 'interpersonal': 1651, 'approach': 1652, 'arrow': 1653, 'Deontology': 1654, 'EPR': 1655, 'individually': 1656, 'neoliberalism': 1657, 'debate': 1658, 'Philosopher': 1659, 'telecommunication': 1660, 'crystal': 1661, 'faculty': 1662, 'Pi': 1663, 'geneenvironment': 1664, 'travel': 1665, 'Lacan': 1666, 'Butler': 1667, 'eternal': 1668, 'sustain': 1669, 'Proximal': 1670, 'postmodernization': 1671, 'Paradigm': 1672, 'field': 1673, 'Brainstorming': 1674, 'onset': 1675, '1800': 1676, 'coexistence': 1677, 'postconsumer': 1678, 'Beths': 1679, 'ProjectBased': 1680, 'remote': 1681, 'instrumental': 1682, 'away': 1683, 'observational': 1684, 'spoken': 1685, 'employ': 1686, 'dalton': 1687, 'Plato': 1688, 'adenine': 1689, 'microbiome': 1690, 'kinase': 1691, 'carbon': 1692, 'NAT': 1693, 'logo': 1694, 'lasting': 1695, 'reflect': 1696, 'single': 1697, 'Parsons': 1698, 'Define': 1699, 'explanatory': 1700, 'graphical': 1701, 'habitable': 1702, 'tumor': 1703, 'gig': 1704, 'subfield': 1705, 'Gramsci': 1706, 'Keynesian': 1707, 'selfish': 1708, 'credit': 1709, 'expansion': 1710, 'Ninety': 1711, 'Differentiate': 1712, 'Expansion': 1713, 'Machiavellis': 1714, 'literary': 1715, 'AIbased': 1716, 'nonrenewable': 1717, 'exam': 1718, 'date': 1719, '800': 1720, 'Spencer': 1721, 'permafrost': 1722, 'emc': 1723, 'automata': 1724, 'Social': 1725, 'evolucin': 1726, 'calorie': 1727, 'Dark': 1728, 'quick': 1729, 'formative': 1730, 'marketplace': 1731, 'Thurstone': 1732, 'Madisons': 1733, 'morpheme': 1734, 'Protestant': 1735, 'Thomas': 1736, 'musicology': 1737, 'Attachment': 1738, 'Hawkswood': 1739, 'Hobbess': 1740, 'Gramscis': 1741, 'Keats': 1742, 'robot': 1743, 'Diamond': 1744, 'flaw': 1745, 'Dostoevskys': 1746, 'FiveStage': 1747, 'monologue': 1748, 'paint': 1749, 'look': 1750, 'realist': 1751, 'foundations': 1752, 'Karma': 1753, 'turnofthecentury': 1754, 'interaction': 1755, 'allow': 1756, 'Nations': 1757, 'Paradise': 1758, 'Adorno': 1759, '1991': 1760, 'Mend': 1761, 'selfcontrol': 1762, 'systemic': 1763, 'Gagne': 1764, 'thoughtprovoking': 1765, 'alloy': 1766, 'alleviate': 1767, 'scarcity': 1768, 'commerce': 1769, 'comprise': 1770, 'Explain': 1771, 'embrace': 1772, 'Zarathustra': 1773, 'Left': 1774, 'ofconstructivism': 1775, 'user': 1776, 'sigmoid': 1777, 'responsible': 1778, 'homework': 1779, 'Globalization': 1780, 'answer': 1781, 'Complete': 1782, 'Hamlet': 1783, 'Dasein': 1784, 'Wave': 1785, 'club': 1786, 'disturbance': 1787, 'postpandemic': 1788, 'substance': 1789, 'Pros': 1790, 'Madison': 1791, 'tax': 1792, 'Christopher': 1793, 'wellorganized': 1794, 'existentialist': 1795, 'S': 1796, 'memoryenhancing': 1797, 'Basel': 1798, 'reception': 1799, 'Tragedy': 1800, 'XX': 1801, 'drama': 1802, 'Neuropsychology': 1803, 'Eldredge': 1804, 'ACT': 1805, 'Cattells': 1806, 'del': 1807, 'happy': 1808, 'C': 1809, 'Walkers': 1810, 'Infringement': 1811, 'display': 1812, 'osmosis': 1813, 'Crick': 1814, 'hydrogen': 1815, 'hemoglobin': 1816, '300': 1817, 'hylemorphic': 1818, 'Bus': 1819, 'significantly': 1820, 'Functionalism': 1821, 'SturmLiouville': 1822, 'Attention': 1823, 'gifted': 1824, 'Reagents': 1825, 'Mars': 1826, 'administrator': 1827, 'Chaucers': 1828, 'Gravitation': 1829, 'refinement': 1830, 'informed': 1831, 'Cause': 1832, 'responsive': 1833, 'Sound': 1834, 'forecast': 1835, 'prompt': 1836, 'nonmendelian': 1837, 'centripetal': 1838, 'Gamification': 1839, 'transduction': 1840, 'Interaction': 1841, 'wind': 1842, 'intelligence': 1843, 'wellsupporte': 1844, 'postmodernist': 1845, 'skinnerian': 1846, 'Sugata': 1847, 'pragmatic': 1848, 'Investigate': 1849, 'reign': 1850, 'astronomical': 1851, 'ofquantum': 1852, 'tailor': 1853, 'Choice': 1854, 'excubitorum': 1855, 'completing': 1856, 'Inheritance': 1857, 'rationalist': 1858, 'civilization': 1859, 'Harre': 1860, 'membrane': 1861, 'resolution': 1862, 'Future': 1863, 'Critique': 1864, 'phenomena': 1865, 'vertex': 1866, 'Alexander': 1867, 'physiology': 1868, 'linguist': 1869, 'juggle': 1870, 'currentology': 1871, 'unknown': 1872, 'Freires': 1873, 'personally': 1874, 'adp': 1875, 'hoc': 1876, 'precautionary': 1877, 'Keplers': 1878, 'stress': 1879, 'landmark': 1880, 'Jigsaw': 1881, 'legislative': 1882, 'deformation': 1883, 'resolve': 1884, 'multidimensional': 1885, 'digitization': 1886, 'paradox': 1887, 'boiling': 1888, 'Wonderland': 1889, 'completion': 1890, '1990s': 1891, 'Principle': 1892, 'Ali': 1893, 'medication': 1894, 'solve': 1895, 'content': 1896, 'undiscovered': 1897, 'solely': 1898, 'dinosaur': 1899, 'criticism': 1900, 'interactiveemergent': 1901, 'game': 1902, 'Green': 1903, 'monumental': 1904, 'alWalid': 1905, 'Enlightenmentera': 1906, 'entertainment': 1907, '200300': 1908, 'Journey': 1909, 'ahead': 1910, 'Orientalism': 1911, 'Syndrome': 1912, 'Extrinsic': 1913, 'creationalism': 1914, 'perform': 1915, 'Venn': 1916, 'Comparative': 1917, 'policymaker': 1918, 'legitimacy': 1919, 'indicator': 1920, 'secure': 1921, 'Alpha': 1922, 'Antoine': 1923, 'hypothesize': 1924, 'Edward': 1925, 'Death': 1926, 'Vroom': 1927, 'love': 1928, 'pave': 1929, 'language': 1930, 'Prior': 1931, 'deepen': 1932, 'subconcept': 1933, 'industrial': 1934, 'Ones': 1935, '18th': 1936, 'Copernicus': 1937, 'parent': 1938, 'intellectualism': 1939, 'importance': 1940, 'Daniel': 1941, 'authority': 1942, 'Constructivist': 1943, 'treatise': 1944, 'Niche': 1945, 'color': 1946, 'wellinforme': 1947, 'oil': 1948, 'Lennebergs': 1949, 'ohms': 1950, 'Color': 1951, 'envelope': 1952, 'motivate': 1953, 'liberty': 1954, 'Spaghetti': 1955, 'Poppers': 1956, 'attention': 1957, 'recombination': 1958, 'psycholinguistic': 1959, 'physically': 1960, 'UK': 1961, 'hunger': 1962, 'Medicine': 1963, 'Panel': 1964, 'Treatise': 1965, 'night': 1966, 'unsupervised': 1967, 'undergo': 1968, 'Bem': 1969, 'Multiverse': 1970, 'paleontology': 1971, 'recurrence': 1972, 'preferred': 1973, 'dna': 1974, 'livable': 1975, 'Architecture': 1976, 'duality': 1977, 'protection': 1978, 'multimedia': 1979, 'Grape': 1980, 'Enlightenments': 1981, 'Field': 1982, 'Epigenetics': 1983, 'culturalism': 1984, 'repression': 1985, 'semantic': 1986, 'SelfDirected': 1987, 'Niles': 1988, 'paper': 1989, 'selfdiscipline': 1990, 'assignment': 1991, 'introvert': 1992, 'repeat': 1993, 'elevator': 1994, 'term': 1995, 'detailed': 1996, 'Mitosis': 1997, 'neighboring': 1998, 'coevolution': 1999, 'battle': 2000, 'Cornell': 2001, 'intercultural': 2002, 'step': 2003, 'microscopy': 2004, 'Republic': 2005, 'invite': 2006, 'streamofconsciousness': 2007, 'enzymecatalyzed': 2008, 'thomson': 2009, 'antagonism': 2010, 'disease': 2011, 'Korea': 2012, 'accelerate': 2013, 'fractal': 2014, 'transpiration': 2015, 'Orwells': 2016, 'outside': 2017, 'photograph': 2018, 'technological': 2019, 'preserve': 2020, 'evenly': 2021, 'Brains': 2022, 'Gardner': 2023, 'celltocell': 2024, 'account': 2025, 'Charlotte': 2026, 'inhibitor': 2027, 'Constructionism': 2028, 'production': 2029, 'NonEuclidean': 2030, 'infection': 2031, 'Contamination': 2032, 'sensory': 2033, 'algebra': 2034, 'inreallife': 2035, 'viii': 2036, 'Hydrogen': 2037, 'Sarkozy': 2038, 'Introduction': 2039, '21st': 2040, 'transmit': 2041, 'kant': 2042, 'constitute': 2043, 'atmosphere': 2044, 'sample': 2045, 'fermentation': 2046, 'net': 2047, 'mineral': 2048, 'prolific': 2049, 'supersymmetry': 2050, 'definition': 2051, 'NeoLiberalism': 2052, 'capital': 2053, 'Dostoevsky': 2054, 'Montesquieus': 2055, 'effectively': 2056, 'heat': 2057, 'coral': 2058, 'Leo': 2059, 'nervous': 2060, 'Deficit': 2061, 'Rational': 2062, 'dog': 2063, 'vesicle': 2064, 'emulate': 2065, 'Agricultural': 2066, 'comma': 2067, 'Wittgenstein': 2068, 'store': 2069, 'transitive': 2070, 'predominant': 2071, 'world': 2072, 'divergence': 2073, 'dopamine': 2074, 'Sun': 2075, 'Whitehead': 2076, 'viability': 2077, 'histogram': 2078, 'Lamarcks': 2079, 'Differentiated': 2080, 'outer': 2081, 'Wolfgang': 2082, 'nonphysic': 2083, 'polysyndeton': 2084, 'Poverty': 2085, 'brain': 2086, 'curriculum': 2087, 'highquality': 2088, 'stochastic': 2089, 'interactivist': 2090, 'surface': 2091, 'Bion': 2092, 'pitfall': 2093, 'shutter': 2094, 'Veil': 2095, 'reputation': 2096, 'implication': 2097, 'measure': 2098, 'Rauscher': 2099, 'euler': 2100, 'interleave': 2101, 'internalize': 2102, 'Reading': 2103, 'Conception': 2104, 'societys': 2105, 'Gatsby': 2106, 'Rome': 2107, 'introductory': 2108, 'weekly': 2109, 'fieldsubject': 2110, 'stabilize': 2111, 'bonding': 2112, 'interesting': 2113, 'Essentialism': 2114, 'JosephLouis': 2115, 'therapeutic': 2116, 'Pestalozzi': 2117, 'root': 2118, 'empower': 2119, 'Angela': 2120, 'Wittgensteins': 2121, 'NeoPlatonism': 2122, 'pamphlet': 2123, 'Machlups': 2124, 'Winston': 2125, 'animation': 2126, 'urbanization': 2127, 'Milton': 2128, 'overarching': 2129, 'saturation': 2130, 'intellect': 2131, 'Mahatma': 2132, 'carie': 2133, 'liar': 2134, 'friedman': 2135, 'narratology': 2136, 'mobilization': 2137, 'Owen': 2138, 'Technique': 2139, 'morally': 2140, 'Amarna': 2141, 'east': 2142, 'Crime': 2143, 'Nutella': 2144, 'ofcellular': 2145, 'formulation': 2146, 'Coleridges': 2147, 'fostering': 2148, 'Allport': 2149, 'Different': 2150, 'electron': 2151, '100word': 2152, 'perceive': 2153, 'meme': 2154, 'persuasion': 2155, 'pollination': 2156, 'widely': 2157, 'Stoppard': 2158, 'merit': 2159, 'prepared': 2160, 'psychoanalysis': 2161, 'moment': 2162, 'Williams': 2163, 'differ': 2164, 'groundbreake': 2165, 'deontology': 2166, 'interstate': 2167, 'Hofstedes': 2168, 'aristotles': 2169, 'Decis': 2170, 'Impressionism': 2171, 'extinction': 2172, 'astronomer': 2173, 'nonexistence': 2174, 'example': 2175, 'experiential': 2176, 'causation': 2177, 'persist': 2178, 'inherent': 2179, 'supportive': 2180, 'nonphysicist': 2181, 'nineteenth': 2182, 'Act': 2183, 'debt': 2184, 'syllogistic': 2185, 'inherit': 2186, 'affair': 2187, 'confucian': 2188, 'completely': 2189, 'presocratic': 2190, 'quark': 2191, 'cement': 2192, 'competitive': 2193, 'Gere': 2194, 'publication': 2195, 'determinant': 2196, 'neutral': 2197, 'Kants': 2198, 'Voyage': 2199, 'Jurisdiction': 2200, 'thinking': 2201, 'abolish': 2202, 'nucleus': 2203, 'corresponding': 2204, 'DNAs': 2205, 'variability': 2206, 'modernday': 2207, 'Euclidean': 2208, 'Kleins': 2209, 'crosse': 2210, 'revisionism': 2211, 'modification': 2212, 'MATLAB': 2213, 'uncanny': 2214, 'cerebellum': 2215, 'socialist': 2216, 'Ivan': 2217, 'room': 2218, 'dynamic': 2219, 'mastery': 2220, 'ofsymbolic': 2221, 'numerous': 2222, 'globalized': 2223, 'mandatory': 2224, 'Zotero': 2225, 'Lorenz': 2226, 'Virgin': 2227, 'Bang': 2228, 'calculate': 2229, 'increase': 2230, 'surveillance': 2231, 'uncover': 2232, 'versus': 2233, 'variance': 2234, 'healing': 2235, 'viewpoint': 2236, 'perturbation': 2237, 'differentq': 2238, 'Organism': 2239, 'messaging': 2240, 'noise': 2241, 'Chinua': 2242, 'hour': 2243, 'originate': 2244, 'Davidson': 2245, 'Allports': 2246, '2y': 2247, 'youth': 2248, 'absolutism': 2249, 'combination': 2250, 'intercellular': 2251, 'air': 2252, '19': 2253, 'pedagogical': 2254, 'utopianism': 2255, 'admission': 2256, 'consult': 2257, 'depressive': 2258, 'Frederick': 2259, 'Joshua': 2260, 'groupthink': 2261, 'descriptive': 2262, 'geologist': 2263, 'fastpaced': 2264, 'metaphysical': 2265, 'Stages': 2266, 'H': 2267, '15th': 2268, 'limbic': 2269, 'Ernest': 2270, 'mix': 2271, 'Schrodingers': 2272, 'voltaire': 2273, 'Scale': 2274, 'Benjamin': 2275, 'Marxs': 2276, 'generic': 2277, 'Rockwells': 2278, 'behavioural': 2279, 'editing': 2280, 'Asian': 2281, 'Memorization': 2282, 'null': 2283, 'conjunction': 2284, 'neutrality': 2285, 'Frameworks': 2286, 'source': 2287, 'useful': 2288, 'fallibility': 2289, 'Beings': 2290, 'Yuri': 2291, 'Consolidation': 2292, 'electromagnetic': 2293, 'Edmund': 2294, 'selfimprovement': 2295, 'neoliberal': 2296, 'wave': 2297, 'Major': 2298, 'geological': 2299, 'plasma': 2300, 'Franklins': 2301, 'exploitation': 2302, 'Minskys': 2303, 'memorable': 2304, 'Chomskys': 2305, 'transmission': 2306, 'storys': 2307, 'formalism': 2308, 'Geological': 2309, 'Anderson': 2310, 'microbiology': 2311, 'Blockchain': 2312, 'biography': 2313, 'Venice': 2314, 'decentralized': 2315, 'Kyoto': 2316, 'pique': 2317, 'German': 2318, 'crossdisciplinary': 2319, 'bond': 2320, 'Kalervo': 2321, 'Minds': 2322, 'Gould': 2323, 'nuance': 2324, 'sort': 2325, 'facetoface': 2326, 'attempt': 2327, 'prioritization': 2328, '16th': 2329, 'Pentax': 2330, 'Categories': 2331, 'rapidly': 2332, 'Business': 2333, 'LGBTQ': 2334, 'weaknesse': 2335, 'Western': 2336, 'consequence': 2337, 'appreciation': 2338, 'Romeo': 2339, 'lifestyle': 2340, 'globallydistribute': 2341, 'Sartres': 2342, 'Stoicism': 2343, 'Epicurean': 2344, 'instructor': 2345, 'recreate': 2346, 'pivotal': 2347, 'makeup': 2348, 'externality': 2349, 'Geworfene': 2350, 'selffulfillment': 2351, 'MagnitudeFrequency': 2352, 'Jensens': 2353, 'Amazon': 2354, 'wiki': 2355, 'amphibian': 2356, 'perception': 2357, 'lexical': 2358, 'theHistorical': 2359, 'reference': 2360, 'gas': 2361, 'artificial': 2362, 'Obstacle': 2363, 'NonContradiction': 2364, 'Amplifiers': 2365, 'jargon': 2366, 'climactic': 2367, 'Sparta': 2368, 'Sojourner': 2369, 'Gilman': 2370, 'Naturalistic': 2371, 'generally': 2372, 'Problem': 2373, 'Strengths': 2374, 'Society': 2375, 'Jared': 2376, 'Archipelago': 2377, 'chlorophyll': 2378, 'reformbase': 2379, 'heliocentric': 2380, 'Hebb': 2381, 'consistent': 2382, 'quanta': 2383, 'Disorder': 2384, 'highlighting': 2385, 'battery': 2386, 'recession': 2387, 'Necessary': 2388, 'Kardashev': 2389, 'artist': 2390, 'cohesive': 2391, 'writer': 2392, 'Multiregional': 2393, 'recent': 2394, '4y': 2395, 'multimodal': 2396, 'degeneracy': 2397, 'desire': 2398, 'promptly': 2399, 'SAR': 2400, 'stakeholder': 2401, 'neuroplasticity': 2402, 'sense': 2403, 'congruence': 2404, 'soul': 2405, 'bulk': 2406, 'Mitchells': 2407, 'earth': 2408, 'inspiration': 2409, 'optic': 2410, 'Bavli': 2411, 'additionally': 2412, 'v': 2413, 'Voronoi': 2414, 'fertilized': 2415, 'classicism': 2416, 'archaeological': 2417, 'operationalsim': 2418, 'social': 2419, 'run': 2420, 'decomposition': 2421, 'conducive': 2422, 'Milan': 2423, 'confluence': 2424, 'character': 2425, 'Online': 2426, 'Massive': 2427, 'einsteinian': 2428, 'Knowledge': 2429, 'Sociocultural': 2430, 'Sternberg': 2431, 'composer': 2432, 'everevolve': 2433, 'Opportunities': 2434, 'ofjohn': 2435, 'pay': 2436, 'populist': 2437, 'extracurricular': 2438, 'expert': 2439, 'Stanford': 2440, 'Saussures': 2441, 'govern': 2442, 'prediction': 2443, 'valence': 2444, 'arc': 2445, 'Triangle': 2446, 'stem': 2447, 'clue': 2448, 'TheoriesX': 2449, 'appropriate': 2450, 'innatist': 2451, 'L': 2452, 'sun': 2453, 'conceptualize': 2454, 'collegelevel': 2455, 'micrornas': 2456, 'sin': 2457, 'sociobiology': 2458, 'russian': 2459, 'Algebraic': 2460, 'practical': 2461, 'indirect': 2462, 'Solar': 2463, 'adjust': 2464, 'unemployment': 2465, 'Bertrands': 2466, 'Hanssen': 2467, 'aerobic': 2468, 'Malcolm': 2469, 'constant': 2470, 'Categorial': 2471, 'overestimate': 2472, 'inversion': 2473, 'final': 2474, 'Bechterev': 2475, 'firstgeneration': 2476, 'theoretical': 2477, 'satisfaction': 2478, 'voice': 2479, 'parse': 2480, 'Binary': 2481, 'decay': 2482, 'impedance': 2483, 'Zoologique': 2484, 'Diaspora': 2485, 'HardyWeinberg': 2486, 'Darwinian': 2487, 'translate': 2488, 'proper': 2489, 'radioactivity': 2490, 'sensing': 2491, 'Understanding': 2492, 'hypotheticodeductive': 2493, 'Poe': 2494, 'Sina': 2495, 'parental': 2496, 'Dynasty': 2497, 'setting': 2498, 'blood': 2499, 'combinatoric': 2500, 'hashtable': 2501, 'Comte': 2502, 'Pet': 2503, 'Father': 2504, 'ERG': 2505, 'naturenurture': 2506, 'dissonance': 2507, 'Austen': 2508, 'Union': 2509, 'erosion': 2510, 'regard': 2511, 'outbreak': 2512, 'esteemed': 2513, 'ilearn': 2514, 'suit': 2515, 'spherical': 2516, 'chamber': 2517, 'stack': 2518, 'ne': 2519, 'PCR': 2520, 'imbalance': 2521, 'Kurt': 2522, 'Homer': 2523, 'Basin': 2524, 'Bront': 2525, 'indepth': 2526, 'View': 2527, 'democratization': 2528, 'dietary': 2529, 'popular': 2530, 'clinical': 2531, 'application': 2532, 'Syllabus': 2533, 'efficiency': 2534, 'RamsayHunt': 2535, 'bag': 2536, 'landing': 2537, 'Constitutionism': 2538, 'biologyrelated': 2539, 'alter': 2540, 'Jeffersons': 2541, 'dioxide': 2542, 'bermensch': 2543, 'adeptly': 2544, 'Comparison': 2545, 'Citric': 2546, 'Knowles': 2547, 'intersect': 2548, 'opinion': 2549, 'genius': 2550, 'differently': 2551, 'actualitypotentiality': 2552, 'limitingreactant': 2553, 'liberalism': 2554, 'Gdels': 2555, 'rste': 2556, 'Mention': 2557, 'meritocracy': 2558, 'series': 2559, 'sophisticated': 2560, 'Drucker': 2561, 'Soboul': 2562, 'Russell': 2563, 'higherincome': 2564, 'climate': 2565, 'Garden': 2566, 'acceptance': 2567, 'tech': 2568, 'musical': 2569, 'America': 2570, 'conversational': 2571, 'Gestalt': 2572, 'dream': 2573, 'Symbiosis': 2574, 'establish': 2575, 'Power': 2576, 'indoctrination': 2577, 'dive': 2578, 'loss': 2579, 'oxidase': 2580, 'Interactionism': 2581, 'category': 2582, 'meter': 2583, 'Modernism': 2584, 'Frederic': 2585, 'timeless': 2586, 'steinbeck': 2587, 'Marian': 2588, 'Biology': 2589, 'Double': 2590, 'touch': 2591, 'hypnosis': 2592, 'relative': 2593, 'Conference': 2594, 'paleoanthropology': 2595, 'homeostasis': 2596, 'oxytocin': 2597, 'Collider': 2598, 'penicillin': 2599, 'Sophrosyne': 2600, 'Einstein': 2601, 'record': 2602, 'perfect': 2603, 'Kingdom': 2604, ' \\n\\n ': 2605, 'status': 2606, 'Bacterial': 2607, 'conclusion': 2608, 'ofbehaviorism': 2609, 'CICD': 2610, 'Dyslexia': 2611, 'newly': 2612, 'fossil': 2613, 'EndNote': 2614, 'aquatic': 2615, 'Giovanni': 2616, 'ofkepler': 2617, 'Cricks': 2618, 'comparative': 2619, 'frequently': 2620, 'disprove': 2621, 'Emile': 2622, 'political': 2623, 'Stigler': 2624, 'rank': 2625, 'Bwiti': 2626, 'XYZ': 2627, 'transatlantic': 2628, 'nontraditional': 2629, 'observed': 2630, 'prokaryotic': 2631, 'ultimately': 2632, 'ofwater': 2633, 'Jrs': 2634, 'Herbart': 2635, 'perceptual': 2636, 'randomization': 2637, 'guest': 2638, 'diet': 2639, 'Process': 2640, '1984': 2641, 'free': 2642, 'development': 2643, 'integer': 2644, 'turning': 2645, 'RASA': 2646, 'Unbearable': 2647, 'structural': 2648, 'Adler': 2649, 'internet': 2650, 'advent': 2651, 'andquantum': 2652, 'Sagan': 2653, 'Eastern': 2654, 'test': 2655, 'freudian': 2656, 'Heisenberg': 2657, 'collectivization': 2658, 'neopiagetian': 2659, 'Harm': 2660, 'Aquinas': 2661, 'enhancement': 2662, 'Properties': 2663, 'biologist': 2664, 'main': 2665, 'generate': 2666, 'Versailles': 2667, 'producer': 2668, 'food': 2669, 'referencing': 2670, 'diabetes': 2671, 'web': 2672, 'compete': 2673, 'randomized': 2674, 'closure': 2675, 'Monetary': 2676, 'ideal': 2677, 'Montessoris': 2678, 'Dennetts': 2679, 'attainment': 2680, 'predetermine': 2681, 'Vincis': 2682, 'cascade': 2683, 'delay': 2684, 'scholar': 2685, 'ofhomeostasis': 2686, 'antirealism': 2687, 'Neuroscience': 2688, 'commensalism': 2689, 'favor': 2690, 'hybridization': 2691, 'introduction': 2692, 'infectious': 2693, 'extension': 2694, 'Hadron': 2695, 'literature': 2696, 'ancestry': 2697, 'draft': 2698, 'Sort': 2699, 'graph': 2700, 'return': 2701, 'Nicolaus': 2702, '5thgrader': 2703, 'Bloom': 2704, 'distinctive': 2705, 'fee': 2706, 'oceanography': 2707, 'sympathetic': 2708, 'achievement': 2709, 'Scaffolding': 2710, 'agrarian': 2711, 'schedule': 2712, 'Pierre': 2713, 'positivism': 2714, 'innovative': 2715, 'Heart': 2716, 'level': 2717, 'Aristotles': 2718, 'Ausubel': 2719, 'lab': 2720, 'convey': 2721, 'Equality': 2722, 'absurdist': 2723, 'protein': 2724, 'enthusiast': 2725, 'Webers': 2726, 'Model': 2727, 'Spinozas': 2728, 'motion': 2729, 'resource': 2730, 'difficult': 2731, 'let': 2732, 'start': 2733, 'pi': 2734, 'nature': 2735, 'Tabula': 2736, 'Camus': 2737, 'Industrial': 2738, 'computing': 2739, '200word': 2740, 'Tajfel': 2741, 'Teachers': 2742, 'amygdala': 2743, 'Dominance': 2744, 'capture': 2745, 'computer': 2746, '400': 2747, 'realm': 2748, 'opera': 2749, 'quote': 2750, 'Periodic': 2751, 'behaviorist': 2752, 'osmoregulation': 2753, 've': 2754, 'graphtheoretic': 2755, 'Georg': 2756, 'egg': 2757, 'Feynmans': 2758, 'Coping': 2759, 'policymaking': 2760, 'Briefly': 2761, 'libertarianism': 2762, 'Durkheim': 2763, 'Wallace': 2764, 'attitude': 2765, 'deciphering': 2766, 'patient': 2767, 'esoteric': 2768, 'invasive': 2769, 'emerge': 2770, 'Anomie': 2771, 'punctuate': 2772, 'grader': 2773, 'Shaping': 2774, 'Talent': 2775, 'indigenous': 2776, 'Machiavellianism': 2777, 'Comedy': 2778, 'Black': 2779, 'knowledgeable': 2780, 'prose': 2781, 'path': 2782, 'suppose': 2783, 'child': 2784, 'Phillips': 2785, 'societal': 2786, 'occur': 2787, 'correspond': 2788, 'Lead': 2789, 'illness': 2790, 'Gellner': 2791, 'explainable': 2792, 'Xrays': 2793, 'deduction': 2794, 'secretion': 2795, 'fiveyearold': 2796, 'Day': 2797, 'bolster': 2798, 'scientism': 2799, 'inferior': 2800, 'seafood': 2801, 'treatment': 2802, 'United': 2803, 'amuse': 2804, 'est': 2805, 'Classical': 2806, 'Exchange': 2807, 'Graham': 2808, 'symmetrical': 2809, '1917': 2810, 'struggle': 2811, 'McClellands': 2812, 'moderation': 2813, 'challenging': 2814, 'educational': 2815, 'mendeleevs': 2816, 'healthy': 2817, 'multivariate': 2818, 'Heaps': 2819, 'Wordsworth': 2820, 'Success': 2821, 'reproducibility': 2822, 'incorporate': 2823, 'Archimedes': 2824, 'externalization': 2825, 'sixthgrader': 2826, '3dimensional': 2827, 'Burke': 2828, '180': 2829, 'singlesex': 2830, 'Rasmussen': 2831, 'bee': 2832, 'malthusian': 2833, 'Merge': 2834, 'mindfulness': 2835, 'advocate': 2836, 'aluminum': 2837, 'approximation': 2838, 'hypothetical': 2839, 'quadrivium': 2840, 'marketdriven': 2841, 'Twain': 2842, 'AngloAmerican': 2843, 'quoi': 2844, 'archaea': 2845, 'Rosas': 2846, 'Baileys': 2847, 'adkin': 2848, 'creationist': 2849, 'point': 2850, 'thoughtprovoke': 2851, 'trigonometric': 2852, 'legacy': 2853, 'economically': 2854, 'detergency': 2855, 'International': 2856, 'communitarianism': 2857, 'Substantial': 2858, 'decomposer': 2859, 'Piagets': 2860, 'reliable': 2861, 'Philosophy': 2862, 'degradation': 2863, 'morphology': 2864, 'Quick': 2865, 'Becker': 2866, 'trompenaar': 2867, 'Regression': 2868, 'progression': 2869, 'stereotype': 2870, 'Tool': 2871, 'human': 2872, 'conditionality': 2873, 'intelligent': 2874, 'fraction': 2875, 'access': 2876, 'Mrs': 2877, 'Spencers': 2878, 'exercise': 2879, 'iterative': 2880, 'maximization': 2881, 'actionreaction': 2882, 'thermal': 2883, 'ofbread': 2884, 'register': 2885, 'Herder': 2886, 'aqueduct': 2887, 'Moocs': 2888, 'anaerobicaerobic': 2889, 'ofcell': 2890, 'Sparks': 2891, 'disrupted': 2892, 'modeling': 2893, 'criminology': 2894, 'metamorphosis': 2895, 'describe': 2896, 'External': 2897, 'fable': 2898, 'carry': 2899, 'Baron': 2900, 'loci': 2901, 'interdependent': 2902, 'discipline': 2903, 'Anthropology': 2904, 'Bruce': 2905, 'civic': 2906, 'rulebased': 2907, 'ofmemory': 2908, 'propagation': 2909, 'Teslas': 2910, 'Commons': 2911, 'British': 2912, 'accord': 2913, 'theory': 2914, 'Petroleum': 2915, 'edge': 2916, 'globalization': 2917, 'Creative': 2918, 'Michael': 2919, 'Conservation': 2920, 'sidebyside': 2921, 'maritime': 2922, 'opportunity': 2923, 'Langston': 2924, 'avoid': 2925, 'Operational': 2926, 'multicellular': 2927, 'leg': 2928, 'peppered': 2929, 'Napoleon': 2930, 'teach': 2931, 'chaos': 2932, 'Ethos': 2933, 'endless': 2934, 'infancy': 2935, 'easing': 2936, 'subjective': 2937, 'breed': 2938, 'partition': 2939, 'politics': 2940, 'refute': 2941, 'theinteractionist': 2942, 'of75': 2943, 'restoration': 2944, 'Scholasticism': 2945, 'atp': 2946, 'car': 2947, 'Halls': 2948, 'Seligman': 2949, 'structured': 2950, 'spacetime': 2951, 'Communication': 2952, 'contrastillo': 2953, 'light': 2954, 'Economics': 2955, 'complete': 2956, 'fly': 2957, 'enact': 2958, 'violation': 2959, 'find': 2960, 'capitalist': 2961, 'quantummechanical': 2962, 'affordable': 2963, 'perimeter': 2964, 'ex': 2965, 'expedition': 2966, 'idealistic': 2967, 'susceptibility': 2968, 'Shore': 2969, 'Bertrand': 2970, 'C3': 2971, 'market': 2972, 'T': 2973, 'completeness': 2974, 'randomly': 2975, 'Newtons': 2976, 'euclidean': 2977, 'Medieval': 2978, 'Index': 2979, 'latent': 2980, 'worldviews': 2981, 'pragmatisim': 2982, 'Harvard': 2983, 'realworld': 2984, 'disciplinary': 2985, 'MichaelisMenten': 2986, 'FR': 2987, 'Construct': 2988, 'SETI': 2989, 'entanglement': 2990, 'speciation': 2991, 'biopsychosocial': 2992, 'elearne': 2993, 'lose': 2994, 'immersion': 2995, 'Transformational': 2996, 'firsthand': 2997, 'ofphotosynthesis': 2998, 'Allegory': 2999, 'humanistic': 3000, 'contemporary': 3001, 'leverage': 3002, 'reallife': 3003, 'revolutionize': 3004, 'CulturalHistorical': 3005, 'Harper': 3006, 'sword': 3007, 'surplus': 3008, 'organ': 3009, 'Lavender': 3010, 'USA': 3011, 'mythology': 3012, 'invisible': 3013, 'closely': 3014, 'nietzschean': 3015, 'chinese': 3016, 'topology': 3017, 'Biggs': 3018, 'Mead': 3019, 'Spearmans': 3020, 'Consciousness': 3021, 'replace': 3022, '12': 3023, 'quantity': 3024, 'Empiricist': 3025, 'expectancy': 3026, 'compatible': 3027, 'vary': 3028, 'Anne': 3029, 'Smoluchowski': 3030, 'accreditation': 3031, 'VOLP': 3032, 'multistep': 3033, 'recursive': 3034, 'postindustrial': 3035, 'steam': 3036, 'Eriksons': 3037, 'diverge': 3038, 'Ill': 3039, 'Technologies': 3040, 'expectation': 3041, 'Fields': 3042, 'wealth': 3043, 'observation': 3044, 'Husserl': 3045, 'Britain': 3046, 'Carr': 3047, 'summarize': 3048, 'layer': 3049, 'disobedience': 3050, 'Phenotype': 3051, 'operationalization': 3052, 'nocturnal': 3053, 'Feedback': 3054, 'Thinker': 3055, 'wellwritten': 3056, 'grammar': 3057, 'Steel': 3058, 'land': 3059, 'engaged': 3060, 'modernquantum': 3061, 'Selection': 3062, 'University': 3063, 'phylogenetic': 3064, 'STEM': 3065, 'concerned': 3066, 'distinct': 3067, 'Adlers': 3068, 'organized': 3069, 'evidencebase': 3070, 'technology': 3071, 'Enlightenment': 3072, 'Hayek': 3073, 'Constitution': 3074, 'form': 3075, 'revamp': 3076, 'dominate': 3077, 'trend': 3078, 'efficiently': 3079, 'Lovelace': 3080, 'floor': 3081, 'Relational': 3082, 'Aeneid': 3083, 'manufacture': 3084, 'conservation': 3085, 'Relative': 3086, 'Cyanobacteria': 3087, 'electrophoresis': 3088, 'reactant': 3089, 'black': 3090, 'pertain': 3091, 'Sanger': 3092, 'Gibbon': 3093, 'aristotle': 3094, 'ABCT': 3095, 'aid': 3096, 'intersectional': 3097, 'symbiosis': 3098, 'Mapping': 3099, 'aberration': 3100, 'achieve': 3101, 'dwarf': 3102, 'Teaching': 3103, 'subjectivist': 3104, '1953': 3105, 'chemical': 3106, 'classroombase': 3107, 'codon': 3108, 'foster': 3109, 'Divide': 3110, 'Comprehension': 3111, 'benchmark': 3112, 'mitochondrial': 3113, 'Humanities': 3114, 'continuity': 3115, 'solid': 3116, 'epistemic': 3117, 'rhetorical': 3118, 'Court': 3119, 'reformation': 3120, 'layman': 3121, 'Vinci': 3122, 'Active': 3123, 'interdisciplinarity': 3124, 'Webbs': 3125, 'termite': 3126, 'analytical': 3127, 'excel': 3128, 'border': 3129, 'multinational': 3130, 'Classicism': 3131, 'endeavor': 3132, 'tenet': 3133, '2x2': 3134, 'Free': 3135, 'sixthgrade': 3136, 'forecasting': 3137, 'conformity': 3138, 'Archetypes': 3139, 'Friedman': 3140, 'bacterial': 3141, 'Interrelationism': 3142, 'scheduling': 3143, 'postCOVID': 3144, 'eriksonian': 3145, 'competencybased': 3146, 'Descriptions': 3147, 'ofageragerageagerageagerageagerageagerageerageerageerageerageerageerageerageerageerageerageerageerageerageerageerageerageerageerageerageerageerageerageerageerageerageerageerageerageerageerageeragerageerageagererageerageerageerageerageeragerageerageageragerageeragerageeragereagerageragerageeragereagerageragerageeragereagerageragerageeragerageeragerageeragereagerageragerageeragerageeragerageeragereagerageragerageeragerageeragerageeragereagerageragerageeragerageeragerageeragereagerageragerageeragerageeragerageeragereagerageragerage': 3148, 'VAK': 3149, 'notation': 3150, 'Woodmansee': 3151, 'Events': 3152, 'Nicomachean': 3153, 'master': 3154, 'debunk': 3155, 'tree': 3156, 'Gesell': 3157, 'finnish': 3158, 'Robinson': 3159, 'safely': 3160, 'Jung': 3161, 'check': 3162, 'iot': 3163, 'compute': 3164, 'briefly': 3165, 'mark': 3166, 'Huxley': 3167, 'exoplanet': 3168, 'exemplary': 3169, 'DM': 3170, 'Rashomon': 3171, 'postcritical': 3172, 'movie': 3173, 'rise': 3174, 'transformation': 3175, 'trialanderror': 3176, 'Searles': 3177, 'precision': 3178, 'Sum': 3179, 'unconscious': 3180, 'presentation': 3181, 'modernize': 3182, 'Poincars': 3183, 'shape': 3184, 'Validity': 3185, 'rural': 3186, 'dialectic': 3187, 'virtual': 3188, 'Peer': 3189, 'spreading': 3190, 'Hawthornes': 3191, 'Horn': 3192, 'Spaced': 3193, 'potentiality': 3194, 'nucleotide': 3195, 'ttest': 3196, 'promotion': 3197, 'deterministic': 3198, 'undergraduate': 3199, 'Socialism': 3200, 'Hume': 3201, '300word': 3202, 'Inc': 3203, 'metacognition': 3204, 'brand': 3205, 'Flow': 3206, 'leader': 3207, 'congruent': 3208, 'sexual': 3209, 'futuristic': 3210, 'Real': 3211, 'congenital': 3212, 'set': 3213, 'Uses': 3214, 'ratio': 3215, 'happen': 3216, 'chance': 3217, 'Boson': 3218, 'Efficient': 3219, 'BrainGut': 3220, 'external': 3221, 'Kunderas': 3222, 'EricksenLeslie': 3223, 'Lockes': 3224, 'Java': 3225, 'Student': 3226, 'Compose': 3227, 'constructivist': 3228, 'Harold': 3229, 'forensic': 3230, 'interpretivism': 3231, '\\n\\n ': 3232, 'open': 3233, '500': 3234, 'Morrison': 3235, 'South': 3236, 'inherited': 3237, 'organic': 3238, 'math': 3239, 'inclusion': 3240, 'epidemic': 3241, 'Interest': 3242, 'nonexpert': 3243, 'onesemester': 3244, 'heuristic': 3245, 'd': 3246, 'policy': 3247, 'subconscious': 3248, 'Crystallized': 3249, 'persuade': 3250, 'poem': 3251, 'primate': 3252, 'Rosetta': 3253, 'rearing': 3254, 'Evolution': 3255, 'planning': 3256, 'judicial': 3257, 'craft': 3258, 'Mother': 3259, 'stability': 3260, 'capillary': 3261, 'iso': 3262, 'Equity': 3263, 'album': 3264, 'O': 3265, 'differentiate': 3266, 'tomorrow': 3267, 'promote': 3268, 'Goal': 3269, 'Behavior': 3270, 'peerreviewe': 3271, 'environmentalist': 3272, 'Motive': 3273, 'Talcott': 3274, 'discovery': 3275, 'sociology': 3276, 'noetic': 3277, 'intercept': 3278, 'Public': 3279, 'reef': 3280, 'Chromosomal': 3281, 'attack': 3282, 'Ptolemaic': 3283, 'victimage': 3284, 'composition': 3285, 'Francis': 3286, 'Maurice': 3287, 'Pale': 3288, 'inheritable': 3289, 'alertness': 3290, 'playwright': 3291, 'Modular': 3292, 'wellreasoned': 3293, 'fabric': 3294, 'right': 3295, 'ofheimlichkeit': 3296, 'loops': 3297, 'reinforce': 3298, 'classic': 3299, '0': 3300, 'synaptic': 3301, 'crisprcas9': 3302, 'numerical': 3303, 'Silver': 3304, '10minute': 3305, 'Caesars': 3306, 'Galaxy': 3307, 'Turner': 3308, 'Platonism': 3309, 'okay': 3310, 'wellprepare': 3311, 'Darkness': 3312, 'aspire': 3313, 'cycling': 3314, 'professional': 3315, 'Ray': 3316, 'Fritz': 3317, 'help': 3318, 'cosmo': 3319, 'shall': 3320, 'Tainter': 3321, 'scaffolded': 3322, 'Froebel': 3323, 'DSM5': 3324, 'filtration': 3325, 'selffulfille': 3326, 'vehicle': 3327, 'blue': 3328, 'Status': 3329, 'Hand': 3330, 'sugar': 3331, 'Margaret': 3332, 'problem': 3333, 'accelerated': 3334, 'liminal': 3335, 'lower': 3336, 'leadership': 3337, 'Germs': 3338, 'society': 3339, 'calculus': 3340, 'tension': 3341, 'Spearman': 3342, '16th17th': 3343, 'relationship': 3344, 'feel': 3345, 'request': 3346, 'salt': 3347, 'thermodynamic': 3348, 'rote': 3349, 'globally': 3350, 'confuciuss': 3351, 'iceberg': 3352, 'pvalue': 3353, 'Sagans': 3354, 'retrovirus': 3355, 'prevail': 3356, 'degree': 3357, 'real': 3358, 'biophilia': 3359, 'phonic': 3360, 'cover': 3361, 'Hawkings': 3362, 'Ansel': 3363, 'ontological': 3364, 'dyslexia': 3365, 'postnewtonian': 3366, 'bx': 3367, 'Rosalind': 3368, 'connect': 3369, 'recommendation': 3370, 'specialization': 3371, 'factbased': 3372, 'affordability': 3373, 'Greens': 3374, 'basic': 3375, 'gravity': 3376, 'Frequentist': 3377, 'crossbreeding': 3378, 'letter': 3379, 'prominent': 3380, 'capitalism': 3381, 'wound': 3382, 'abortion': 3383, 'fuzzy': 3384, '1dx': 3385, 'situation': 3386, 'Encouraging': 3387, 'index': 3388, 'extent': 3389, '14': 3390, 'computerbased': 3391, 'Land': 3392, 'industrialization': 3393, 'enable': 3394, 'outsidethebox': 3395, 'neoclassical': 3396, 'promise': 3397, 'grief': 3398, 'PostPositivism': 3399, 'probe': 3400, 'Vygot': 3401, 'constitutionalism': 3402, 'sampling': 3403, 'suffering': 3404, 'Uncertainly': 3405, 'Astronomy': 3406, 'change': 3407, 'Royce': 3408, 'hydroelectric': 3409, 'forth': 3410, 'Quotient': 3411, 'equipment': 3412, 'Toni': 3413, 'AI': 3414, 'trench': 3415, 'Russells': 3416, 'stroke': 3417, 'later': 3418, 'neurology': 3419, 'finance': 3420, 'bandgap': 3421, 'enhance': 3422, 'embody': 3423, 'tan': 3424, 'extremely': 3425, 'Revolution': 3426, 'ego': 3427, 'Little': 3428, 'heliocentrism': 3429, 'vivid': 3430, 'break': 3431, 'imperialism': 3432, 'Eliots': 3433, 'selfactualization': 3434, 'contribute': 3435, 'shaping': 3436, 'consent': 3437, 'forward': 3438, 'Natalia': 3439, 'volcano': 3440, 'la': 3441, 'twopage': 3442, 'near': 3443, 'charge': 3444, 'pricing': 3445, 'cooperative': 3446, 'richard': 3447, 'excessive': 3448, 'Man': 3449, 'vessel': 3450, 'programs': 3451, 'Helix': 3452, 'Schwann': 3453, 'DoubleSlit': 3454, 'paleolithic': 3455, 'lifetime': 3456, 'negatively': 3457, 'Simon': 3458, 'fallacy': 3459, 'Approaches': 3460, 'iambic': 3461, 'analog': 3462, 'storytelle': 3463, 'enrollment': 3464, 'Mass': 3465, 'cynic': 3466, 'cytoplasm': 3467, 'projectbased': 3468, 'CRISPR': 3469, 'improved': 3470, 'defense': 3471, 'war': 3472, 'Sunk': 3473, 'track': 3474, 'Othello': 3475, 'SEL': 3476, 'Practical': 3477, 'evolutionarily': 3478, 'Abbott': 3479, 'hybrid': 3480, 'Milgram': 3481, 'big': 3482, 'Reactant': 3483, 'mpacte': 3484, 'dual': 3485, 'Haidt': 3486, 'limestone': 3487, 'conductivity': 3488, 'Greece': 3489, 'gratitude': 3490, 'Stone': 3491, 'crop': 3492, 'loyalty': 3493, 'Britton': 3494, 'examine': 3495, 'Logic': 3496, 'scatter': 3497, 'outweigh': 3498, 'Anatomy': 3499, 'synthetic': 3500, 'Heres': 3501, 'Computational': 3502, 'Bells': 3503, 'reagent': 3504, 'Dunbars': 3505, 'Stars': 3506, 'Characteristics': 3507, 'Philip': 3508, 'todays': 3509, 'diagram': 3510, 'bear': 3511, 'sexuality': 3512, 'niche': 3513, 'score': 3514, 'smooth': 3515, 'Primary': 3516, 'african': 3517, 'Aquinass': 3518, 'technologyenhance': 3519, 'Use': 3520, 'India': 3521, 'Kierkegaard': 3522, 'safe': 3523, 'electroweak': 3524, 'Ricardos': 3525, 'Woodrow': 3526, 'Ludwig': 3527, 'pyramiding': 3528, 'widespread': 3529, 'spiral': 3530, 'humanity': 3531, 'matrix': 3532, 'concern': 3533, 'Decline': 3534, 'slate': 3535, 'divorce': 3536, 'stand': 3537, 'synapsis': 3538, 'sociological': 3539, 'focused': 3540, 'reciprocal': 3541, 'photo': 3542, 'tedstyle': 3543, 'Function': 3544, 'illustrate': 3545, 'authoritarian': 3546, 'book': 3547, 'MitchelAdams': 3548, 'notetaking': 3549, 'drought': 3550, 'Sanskrit': 3551, 'redemption': 3552, 'flow': 3553, 'shortanswer': 3554, 'Avicenna': 3555, '50': 3556, '7thgrader': 3557, 'parentchild': 3558, 'Southern': 3559, 'Neil': 3560, 'girl': 3561, 'clarke': 3562, 'simplify': 3563, 'wellexecute': 3564, 'founding': 3565, 'Dweck': 3566, 'vibration': 3567, 'auditory': 3568, 'agreement': 3569, 'architecture': 3570, 'Flying': 3571, 'redefine': 3572, 'trichromacy': 3573, 'collaboration': 3574, 'genotype': 3575, ' \\n ': 3576, 'hinder': 3577, 'factoring': 3578, 'come': 3579, 'forest': 3580, 'rasa': 3581, 'Rene': 3582, 'lie': 3583, 'Museo': 3584, 'SapirWhorf': 3585, 'cord': 3586, 'origin': 3587, 'Beowulf': 3588, 'learn': 3589, 'Banana': 3590, '30second': 3591, 'reflective': 3592, 'Soil': 3593, 'Jr': 3594, 'uniformly': 3595, 'andQuantum': 3596, 'irony': 3597, 'enter': 3598, 'MultiDisciplinary': 3599, 'detrimental': 3600, 'gamification': 3601, 'Fibonacci': 3602, 'gravitational': 3603, 'opensource': 3604, 'persistence': 3605, 'evaluate': 3606, 'abstraction': 3607, 'Crassulacean': 3608, 'meiosis': 3609, 'minimalist': 3610, 'response': 3611, 'coexist': 3612, 'easier': 3613, 'Pearl': 3614, 'english': 3615, 'secularism': 3616, 'Castells': 3617, 'creatively': 3618, 'blockchain': 3619, 'assessment': 3620, 'medieval': 3621, 'reinforcement': 3622, 'cause': 3623, 'defect': 3624, 'investigation': 3625, 'isolation': 3626, 'evaluative': 3627, 'represent': 3628, 'learner': 3629, 'Shakespeare': 3630, 'Geoffrey': 3631, 'Herzberg': 3632, 'person': 3633, 'convolution': 3634, 'Provide': 3635, 'neomarxism': 3636, 'central': 3637, 'task': 3638, 'lecturebased': 3639, 'recessiveness': 3640, 'Higgs': 3641, '500700': 3642, 'neuron': 3643, 'yo': 3644, 'paedomorphosis': 3645, 'Elements': 3646, 'habitability': 3647, 'left': 3648, 'Blue': 3649, 'patienttherapist': 3650, 'Pure': 3651, 'firstyear': 3652, 'Salman': 3653, 'gravitation': 3654, 'Fractals': 3655, 'comprehension': 3656, '20thcentury': 3657, 'safety': 3658, 'independently': 3659, 'economy': 3660, 'Poetics': 3661, 'efficacy': 3662, 'correlation': 3663, 'mc': 3664, 'layperson': 3665, 'theatre': 3666, 'problemsolution': 3667, 'limitation': 3668, 'renewable': 3669, 'luck': 3670, 'formation': 3671, 'inference': 3672, 'x': 3673, 'amendment': 3674, 'selftalk': 3675, 'Gardners': 3676, 'advantage': 3677, 'historical': 3678, 'Diagonalization': 3679, 'Hygiene': 3680, 'IPCC': 3681, 'clarification': 3682, 'region': 3683, 'Rhetorical': 3684, 'pressing': 3685, 'Entrepreneurship': 3686, 'Convergence': 3687, 'postclassical': 3688, 'meteorology': 3689, 'construction': 3690, 'Gandhis': 3691, 'Past': 3692, 'destruction': 3693, 'word': 3694, 'Wrath': 3695, 'add': 3696, 'clive': 3697, 'magnetism': 3698, 'particle': 3699, 'RW': 3700, 'spiritual': 3701, 'aperture': 3702, 'happiness': 3703, 'dualistic': 3704, 'Programming': 3705, 'Freudianism': 3706, 'guide': 3707, 'copyright': 3708, 'Plancks': 3709, 'Columbus': 3710, 'Kalidasas': 3711, 'shakespearian': 3712, 'slope': 3713, 'page': 3714, 'background': 3715, 'SelfActualization': 3716, 'strain': 3717, 'Epistemology': 3718, 'essay': 3719, 'vygotsky': 3720, 'Entanglement': 3721, 'theen': 3722, 'packaging': 3723, 'Dalloway': 3724, 'Papers': 3725, 'oneparagraph': 3726, 'spirituality': 3727, 'Lee': 3728, 'hashtag': 3729, 'marginalize': 3730, 'rediscovery': 3731, 'dental': 3732, 'interchangeability': 3733, 'vocabulary': 3734, 'nonlinear': 3735, 'devise': 3736, 'Parks': 3737, 'studentcentered': 3738, 'evident': 3739, 'Portlands': 3740, 'childhood': 3741, 'Civilizations': 3742, 'capability': 3743, 'simile': 3744, 'Instrument': 3745, 'Write': 3746, 'hamlets': 3747, 'altruism': 3748, 'applicability': 3749, 'Informal': 3750, 'reliance': 3751, 'subjectdiscipline': 3752, 'Connectionism': 3753, 'member': 3754, 'b': 3755, 'masternovel': 3756, 'metabolite': 3757, 'Da': 3758, 'functional': 3759, 'interval': 3760, 'educator': 3761, 'entropy': 3762, 'Fitzhughs': 3763, 'organelle': 3764, 'deductive': 3765, 'Purple': 3766, 'Devices': 3767, 'Constructivism': 3768, 'signalregulate': 3769, 'disequilibrium': 3770, 'RutherfordBohr': 3771, 'selection': 3772, 'ModelA': 3773, 'genre': 3774, 'Nathaniel': 3775, 'Clifford': 3776, 'problemsolving': 3777, 'Smiths': 3778, 'Clerk': 3779, 'vegetation': 3780, 'prokaryote': 3781, 'Sander': 3782, 'core': 3783, 'fingerprinting': 3784, 'intend': 3785, 'fielddiscipline': 3786, '17th': 3787, 'Kapital': 3788, 'Belgian': 3789, 'scientifically': 3790, 'turn': 3791, 'erg': 3792, 'ID': 3793, 'George': 3794, 'aim': 3795, '2page': 3796, 'Middle': 3797, 'oppress': 3798, 'underpin': 3799, 'integration': 3800, 'Importance': 3801, 'ensure': 3802, 'democracy': 3803, 'grow': 3804, 'Argue': 3805, 'transistor': 3806, 'da': 3807, 'rhetoric': 3808, 'mesopotamian': 3809, 'Solipsism': 3810, 'Gagarins': 3811, 'rainforest': 3812, 'Romanticism': 3813, '1930': 3814, 'humanism': 3815, 'induction': 3816, 'persuasiveness': 3817, 'collaborative': 3818, 'metaphysic': 3819, 'acidification': 3820, 'inventor': 3821, 'contract': 3822, 'powerknowledge': 3823, 'adenosine': 3824, 'Examine': 3825, 'extreme': 3826, 'onepage': 3827, 'whorfian': 3828, 'proliferation': 3829, 'Challenges': 3830, 'Agriculture': 3831, 'Floyd': 3832, 'Formalism': 3833, 'controversy': 3834, 'green': 3835, '10page': 3836, 'Mind': 3837, 'flabbergast': 3838, 'Nitrogen': 3839, 'Supervised': 3840, 'ice': 3841, 'inverse': 3842, 'contingency': 3843, 'deep': 3844, 'Adam': 3845, 'Islam': 3846, 'athlete': 3847, 'amplifier': 3848, 'rewarding': 3849, 'neutralize': 3850, 'absolute': 3851, 'Asia': 3852, '14th17th': 3853, 'Alfonso': 3854, 'Toleration': 3855, 'distant': 3856, 'Visual': 3857, 'Operant': 3858, 'software': 3859, 'hedonic': 3860, 'surgery': 3861, 'Rainforest': 3862, 'implicit': 3863, 'starting': 3864, 'diplomacy': 3865, 'tripartite': 3866, 'Bakr': 3867, '15': 3868, 'teaching': 3869, 'variety': 3870, 'archetype': 3871, 'culture': 3872, 'Middlemarch': 3873, 'modernity': 3874, 'Hint': 3875, 'Cellular': 3876, 'OER': 3877, 'Plagiarism': 3878, 'femininity': 3879, 'Jay': 3880, 'workshop': 3881, 'newton': 3882, 'clone': 3883, 'team': 3884, 'relevant': 3885, 'Formulate': 3886, 'element': 3887, 'Proposal': 3888, 'coordination': 3889, 'regulation': 3890, 'incentivize': 3891, 'technique': 3892, 'Herbert': 3893, 'arbitrage': 3894, 'arise': 3895, 'bird': 3896, 'logical': 3897, 'studys': 3898, 'Philosophies': 3899, 'ofpeer': 3900, 'express': 3901, 'Effects': 3902, 'overcome': 3903, 'perseverance': 3904, 'asteroid': 3905, 'manufacturing': 3906, 'SteadyState': 3907, 'growth': 3908, 'onetotwo': 3909, 'postcolonialism': 3910, 'distortion': 3911, 'electrical': 3912, 'geopolitical': 3913, 'Hegel': 3914, 'Adams': 3915, 'suggest': 3916, 'german': 3917, 'Gospel': 3918, 'photonic': 3919, 'Works': 3920, 'prepare': 3921, 'Perception': 3922, 'Ralph': 3923, 'leave': 3924, 'assign': 3925, 'putative': 3926, 'Light': 3927, 'anthropogenic': 3928, 'Supper': 3929, 'psychopathology': 3930, 'neutron': 3931, 'usable': 3932, 'white': 3933, 'Islands': 3934, 'prism': 3935, 'Pragmatism': 3936, 'Wade': 3937, 'piagetian': 3938, 'curve': 3939, 'Alan': 3940, 'ofhuman': 3941, 'Bohrs': 3942, 'interpretivist': 3943, 'foresight': 3944, 'mapmaker': 3945, '5yearold': 3946, 'revival': 3947, 'Absolute': 3948, 'Design': 3949, 'Reagent': 3950, 'activism': 3951, 'Formation': 3952, 'oxidative': 3953, 'deforestation': 3954, 'Instructional': 3955, 'K': 3956, 'anthropology': 3957, 'hero': 3958, 'beginning': 3959, 'geniuss': 3960, 'Behaviourism': 3961, 'Idealism': 3962, 'Jeremy': 3963, 'isought': 3964, 'academia': 3965, 'profoundly': 3966, 'proposing': 3967, 'geography': 3968, 'Leibnizs': 3969, 'pursuit': 3970, 'brownian': 3971, 'Choose': 3972, 'Tolstoy': 3973, 'purchase': 3974, 'television': 3975, '3y': 3976, 'circadian': 3977, 'outline': 3978, 'Sweller': 3979, 'multiplier': 3980, 'personality': 3981, 'Salesman': 3982, 'machine': 3983, 'row': 3984, 'Libertarianism': 3985, 'Peter': 3986, 'university': 3987, 'pumping': 3988, 'formulate': 3989, 'Government': 3990, 'Climate': 3991, 'Developmental': 3992, 'Ideal': 3993, 'Enquiry': 3994, 'ofArtificial': 3995, 'Auguste': 3996, 'fuel': 3997, 'selfassessment': 3998, 'define': 3999, 'begin': 4000, 'convention': 4001, 'valid': 4002, 'chemicy': 4003, 'contrast': 4004, 'Kanner': 4005, 'listening': 4006, 'Velikovsky': 4007, 'Methodology': 4008, 'psychodynamic': 4009, 'overlap': 4010, 'tea': 4011, 'meaningful': 4012, 'PostModern': 4013, 'Artificial': 4014, 'case': 4015, 'Carbon': 4016, 'Spinoza': 4017, 'polynomial': 4018, 'Meditations': 4019, 'CattellHornCarroll': 4020, 'Strategies': 4021, 'stratigraphy': 4022, 'subtopic': 4023, 'Kolb': 4024, 'costeffective': 4025, 'NeoDarwinian': 4026, 'nicotine': 4027, 'AIdriven': 4028, 'postcolonial': 4029, 'e': 4030, 'psychophysiological': 4031, 'Prison': 4032, 'Vitruvian': 4033, 'Sinek': 4034, 'cathonism': 4035, 'generalize': 4036, 'Annunciation': 4037, 'star': 4038, 'standardization': 4039, 'cave': 4040, 'queue': 4041, 'grammartranslation': 4042, 'Monster': 4043, 'australian': 4044, 'Nobel': 4045, 'Neoliberal': 4046, 'syntactic': 4047, 'labor': 4048, 'limited': 4049, 'diverse': 4050, 'proposal': 4051, 'spectra': 4052, 'matter': 4053, 'multiplication': 4054, 'rule': 4055, 'Warming': 4056, 'Politics': 4057, 'postmodern': 4058, 'Vygotky': 4059, 'Time': 4060, 'Bruner': 4061, '16': 4062, 'Foucault': 4063, 'pose': 4064, 'accounting': 4065, '  ': 4066, 'Gas': 4067, 'Golding': 4068, 'EH': 4069, 'depict': 4070, 'existentialism': 4071, 'specialized': 4072, 'gold': 4073, 'plagiarize': 4074, 'mendelian': 4075, 'genealogy': 4076, 'fiscal': 4077, 'Treaties': 4078, 'underpinning': 4079, 'thriving': 4080, 'Confucianism': 4081, 'Levels': 4082, 'Animal': 4083, 'climatology': 4084, 'alliteration': 4085, '2012': 4086, 'classicial': 4087, '5minute': 4088, 'flight': 4089, 'Stewart': 4090, 'microeconomic': 4091, 'interdisciplinary': 4092, 'domestic': 4093, 'Change': 4094, 'Bacon': 4095, 'misuse': 4096, 'parasitism': 4097, 'drilling': 4098, 'geology': 4099, 'Definition': 4100, 'Intelligent': 4101, 'Mauss': 4102, 'humidity': 4103, 'temperament': 4104, 'fusion': 4105, 'effective': 4106, 'McGregors': 4107, 'abiogenesis': 4108, 'globalize': 4109, 'hierarchical': 4110, 'removal': 4111, 'subbranche': 4112, 'ADHD': 4113, 'foundation': 4114, 'SupplySide': 4115, 'acquisition': 4116, 'reproduce': 4117, 'vpn': 4118, 'Renissance': 4119, 'wage': 4120, 'progressivism': 4121, 'circumstellar': 4122, 'consistency': 4123, 'realization': 4124, 'Differences': 4125, 'conceptualization': 4126, 'assault': 4127, 'bomb': 4128, 'exponentially': 4129, 'opposite': 4130, 'harness': 4131, 'profession': 4132, 'Postmodernism': 4133, 'Euler': 4134, 'sister': 4135, 'weather': 4136, 'usage': 4137, 'Heros': 4138, 'pass': 4139, 'evaporation': 4140, 'Discipline': 4141, 'inequality': 4142, 'Methodological': 4143, 'Scarcity': 4144, 'communication': 4145, 'photographsynthesis': 4146, 'noneuclidean': 4147, '6yearold': 4148, 'mot': 4149, '50word': 4150, 'archeologist': 4151, 'mindbody': 4152, 'Oil': 4153, 'processs': 4154, 'Nicholson': 4155, 'eager': 4156, 'architectural': 4157, 'Ferdinand': 4158, 'different': 4159, 'plateau': 4160, 'agronomy': 4161, 'Euclids': 4162, 'wellbalanced': 4163, 'positively': 4164, 'Linguistic': 4165, 'efficient': 4166, 'wellmanage': 4167, 'absoltmism': 4168, 'hand': 4169, 'Damocles': 4170, 'trivium': 4171, 'Foerster': 4172, 'peerled': 4173, 'Abu': 4174, '12bh': 4175, 'Ecosystems': 4176, 'peripheral': 4177, 'especially': 4178, 'influential': 4179, 'unify': 4180, 'trust': 4181, 'website': 4182, 'autonomous': 4183, 'accuracy': 4184, 'Steiner': 4185, 'symmetry': 4186, 'Key': 4187, 'abduction': 4188, 'thesis': 4189, 'Mills': 4190, 'enhanced': 4191, 'Cartesian': 4192, 'legionum': 4193, 'behavior': 4194, 'thorough': 4195, 'penetration': 4196, 'coffee': 4197, 'zeroin': 4198, 'Internal': 4199, 'decisionmaking': 4200, 'drink': 4201, 'Compatibilism': 4202, 'creative': 4203, 'soft': 4204, 'exacerbate': 4205, 'population': 4206, 'Antonio': 4207, 'Bourdieu': 4208, 'Quantitative': 4209, 'Electrical': 4210, 'sonnet': 4211, 'far': 4212, 'Europe': 4213, 'socially': 4214, 'intensity': 4215, 'position': 4216, 'Ecological': 4217, 'Psychoanalysis': 4218, 'Demand': 4219, 'stock': 4220, 'fill': 4221, 'Commune': 4222, 'spatial': 4223, 'laymans': 4224, 'Realism': 4225, 'fun': 4226, 'Emily': 4227, 'Sociobiology': 4228, 'comic': 4229, 'Derridas': 4230, 'Noumenon': 4231, 'western': 4232, 'adhere': 4233, 'biodiversity': 4234, 'triangle': 4235, 'integrative': 4236, 'obligation': 4237, 'Paulis': 4238, 'history': 4239, 'bias': 4240, 'schoolaged': 4241, 'extraterrestrial': 4242, 'technologybased': 4243, 'Method': 4244, 'causeandeffect': 4245, 'FourGroup': 4246, 'boycott': 4247, 'Existentialist': 4248, 'intermittent': 4249, 'Short': 4250, 'Lost': 4251, 'pressure': 4252, 'autonomy': 4253, 'national': 4254, 'proficiency': 4255, 'Boycott': 4256, 'density': 4257, 'catalysis': 4258, 'microevolution': 4259, 'Convention': 4260, 'NeoClassical': 4261, 'higherdimensional': 4262, 'lymphatic': 4263, 'engineering': 4264, '30th': 4265, 'terrestrial': 4266, 'system': 4267, 'Hyperactivity': 4268, 'archeology': 4269, 'Slit': 4270, 'IA': 4271, 'bubble': 4272, 'Baudrillard': 4273, 'Sir': 4274, 'conveying': 4275, 'socialcultural': 4276, 'Mey': 4277, 'release': 4278, 'Rosa': 4279, 'Roger': 4280, 'pathos': 4281, 'Monetarism': 4282, 'Maxwells': 4283, 'decentralization': 4284, 'scholarly': 4285, 'respectively': 4286, 'distribute': 4287, '1000': 4288, 'pertinent': 4289, 'utility': 4290, 'cancer': 4291, 'section': 4292, 'decision': 4293, 'Level': 4294, 'abundance': 4295, 'distance': 4296, 'ligase': 4297, 'Solving': 4298, 'engagement': 4299, 'Mean': 4300, 'Edison': 4301, 'Circuit': 4302, 'flexible': 4303, 'impulse': 4304, 'Analyze': 4305, 'objectoriented': 4306, 'indispensable': 4307, 'taste': 4308, 'counterargument': 4309, 'Pollution': 4310, 'neoteny': 4311, 'selfdirecte': 4312, 'Symbolism': 4313, 'Galileis': 4314, 'phoneme': 4315, 'shakespearean': 4316, 'unit': 4317, 'quantus': 4318, 'balanced': 4319, 'prime': 4320, 'Common': 4321, 'Alfred': 4322, '17th18th': 4323, 'Stanley': 4324, 'Paradox': 4325, 'remarkable': 4326, 'vaccination': 4327, 'General': 4328, 'seventeenthcentury': 4329, 'psychiatry': 4330, 'Views': 4331, 'binary': 4332, 'scope': 4333, 'Systems': 4334, 'measurement': 4335, 'Scientific': 4336, 'Voltaire': 4337, 'East': 4338, 'summative': 4339, 'moth': 4340, 'sleep': 4341, 'milestone': 4342, 'chemiosmosis': 4343, 'Vy': 4344, 'backpropagation': 4345, 'suite': 4346, 'Question': 4347, 'lecturestyle': 4348, 'singleuse': 4349, 'Structure': 4350, 'compassionate': 4351, 'fictional': 4352, 'Russian': 4353, 'depend': 4354, 'projectoriente': 4355, 'formula': 4356, 'title': 4357, 'ambition': 4358, 'comparison': 4359, 'email': 4360, 'condense': 4361, '2minute': 4362, 'consider': 4363, 'Framework': 4364, 'Kryter': 4365, 'Boas': 4366, 'Propose': 4367, 'Liability': 4368, 'Listening': 4369, 'spread': 4370, 'Prize': 4371, 'Energy': 4372, 'massive': 4373, 'M': 4374, 'apart': 4375, 'nominalism': 4376, 'betweenclassical': 4377, 'Personal': 4378, 'eudaimonia': 4379, 'offspring': 4380, 'education': 4381, 'Standard': 4382, 'Table': 4383, 'projectile': 4384, 'intellectually': 4385, 'recursion': 4386, 'charity': 4387, 'Matthews': 4388, '19th': 4389, 'guideline': 4390, 'family': 4391, 'daytoday': 4392, 'choosing': 4393, 'Piagetian': 4394, 'faith': 4395, 'nonfiction': 4396, 'Keynsianism': 4397, 'noumena': 4398, 'scientist': 4399, 'KonTiki': 4400, 's': 4401, 'clownfish': 4402, 'behavorism': 4403, 'message': 4404, 'box': 4405, 'potential': 4406, 'Big': 4407, 'Chain': 4408, 'phenotype': 4409, 'compareandcontrast': 4410, 'unchecked': 4411, 'Bernal': 4412, 'Men': 4413, 'Peace': 4414, 'Aperture': 4415, 'modern': 4416, 'epic': 4417, 'Pedagogy': 4418, 'accountable': 4419, 'Sophists': 4420, 'orbital': 4421, 'generation': 4422, 'lobe': 4423, 'Putnam': 4424, 'underlying': 4425, 'summarization': 4426, 'judgment': 4427, 'Holmes': 4428, 'randomness': 4429, 'relativity': 4430, 'surprise': 4431, 'noun': 4432, 'inquirybased': 4433, 'consumption': 4434, 'selfexpression': 4435, 'Dot': 4436, 'Arnold': 4437, 'Ai': 4438, 'childrearing': 4439, 'Merzenich': 4440, 'Howard': 4441, 'stressor': 4442, 'Que': 4443, 'raise': 4444, 'Skinner': 4445, 'Rogers': 4446, 'Geertz': 4447, 'radar': 4448, 'passive': 4449, 'adulthood': 4450, 'multitaske': 4451, 'Exclusion': 4452, 'driver': 4453, 'Multiple': 4454, 'ineffective': 4455, 'Bourdieus': 4456, 'Mechanics': 4457, 'ethnocentrism': 4458, 'recall': 4459, 'evidence': 4460, 'stable': 4461, 'tenure': 4462, 'Conan': 4463, 'phd': 4464, 'Research': 4465, 'cocaine': 4466, 'allocate': 4467, 'Age': 4468, 'Gandolfos': 4469, 'landform': 4470, 'justify': 4471, 'benefit': 4472, 'Dewey': 4473, 'Equation': 4474, 'microorganism': 4475, 'technologicallydriven': 4476, 'shortcoming': 4477, 'Prado': 4478, 'emergence': 4479, 'determinism': 4480, 'Buridans': 4481, 'existence': 4482, 'regression': 4483, 'procedure': 4484, 'consist': 4485, 'functionality': 4486, 'Environment': 4487, 'Faradays': 4488, 'Subjective': 4489, 'Rousseau': 4490, 'Womens': 4491, 'prevalent': 4492, 'comet': 4493, 'typically': 4494, 'wholegroup': 4495, 'technologybase': 4496, 'belong': 4497, 'factor': 4498, 'Hamming': 4499, 'career': 4500, '750': 4501, 'Cogito': 4502, 'attachment': 4503, 'tunneling': 4504, 'impact': 4505, 'Anna': 4506, 'illustration': 4507, 'approximately': 4508, 'function': 4509, 'poster': 4510, 'constructivism': 4511, 'aspiring': 4512, 'argumentative': 4513, 'mid20th': 4514, 'depiction': 4515, 'material': 4516, 'sociopsychological': 4517, 'Hermeneutics': 4518, 'superconductivity': 4519, 'reservoir': 4520, 'summary': 4521, 'Groundwork': 4522, 'realize': 4523, 'Fischer': 4524, 'Human': 4525, 'countless': 4526, 'input': 4527, 'Genetics': 4528, '6': 4529, 'Whiteheads': 4530, 'ofwaveparticle': 4531, 'governed': 4532, 'digitize': 4533, 'fourdimensional': 4534, 'Science': 4535, 'angles': 4536, 'antibody': 4537, 'Galilei': 4538, 'Native': 4539, 'germ': 4540, 'Minuchin': 4541, 'artwork': 4542, 'Abelsons': 4543, 'persuasive': 4544, 'thundercloud': 4545, 'Deweyan': 4546, '17thcentury': 4547, 'annual': 4548, 'hat': 4549, 'Petrarchan': 4550, 'Marxism': 4551, 'bacteria': 4552, 'disadvantaged': 4553, 'serve': 4554, 'verifying': 4555, 'reflection': 4556, 'aspect': 4557, 'transformative': 4558, 'age': 4559, 'fear': 4560, 'inhabit': 4561, 'Co': 4562, 'Festinger': 4563, 'dinner': 4564, 'reforestation': 4565, 'promising': 4566, 'Sigmund': 4567, 'nursing': 4568, 'potassium': 4569, 'Second': 4570, 'Programs': 4571, 'Skinners': 4572, 'effort': 4573, 'Julian': 4574, 'thetiming': 4575, 'cycle': 4576, 'welfare': 4577, 'priority': 4578, 'breadth': 4579, 'utilize': 4580, 'States': 4581, 'compost': 4582, 'Psychiatry': 4583, 'technologydriven': 4584, 'War': 4585, 'Waldorf': 4586, 'binet': 4587, 'French': 4588, 'proponent': 4589, 'identity': 4590, 'victorian': 4591, 'Present': 4592, 'platonian': 4593, 'mind': 4594, 'ridley': 4595, 'Pascals': 4596, 'NADH': 4597, 'Ulysses': 4598, 'experimentation': 4599, 'Deweys': 4600, 'overall': 4601, 'nonnewtonian': 4602, 'Punishment': 4603, 'kepler': 4604, 'peerreviewed': 4605, 'Copernican': 4606, 'personalization': 4607, 'successfully': 4608, 'introverted': 4609, 'caregiver': 4610, 'threeyearold': 4611, 'Equations': 4612, 'gather': 4613, 'create': 4614, 'redox': 4615, 'Cognitive': 4616, 'economist': 4617, 'Kekule': 4618, 'bring': 4619, 'testable': 4620, 'Imagine': 4621, 'ofBehaviorism': 4622, 'orientation': 4623, 'Modernist': 4624, 'andragogy': 4625, 'question': 4626, '110': 4627, 'Heap': 4628, 'Freges': 4629, 'figure': 4630, 'edit': 4631, 'primarily': 4632, 'extraversion': 4633, 'plant': 4634, 'suspend': 4635, 'regenerative': 4636, 'maturity': 4637, 'betterment': 4638, 'Johannes': 4639, 'cash': 4640, 'repetition': 4641, 'Progressivism': 4642, 'humanist': 4643, 'Woolf': 4644, 'Primacy': 4645, 'dissemination': 4646, 'demandside': 4647, 'poison': 4648, 'music': 4649, 'classmate': 4650, 'internationalization': 4651, 'home': 4652, 'grip': 4653, 'item': 4654, 'Buhler': 4655, 'counterrevolutionary': 4656, 'Monetarist': 4657, 'Dialogic': 4658, 'activity': 4659, 'people': 4660, 'Sequence': 4661, 'ActorNetwork': 4662, 'celestial': 4663, 'learning': 4664, 'dimensional': 4665, 'Tennessee': 4666, 'selfidentity': 4667, 'thinker': 4668, 'academically': 4669, 'triangular': 4670, 'critical': 4671, 'weaken': 4672, 'polyp': 4673, 'relativistic': 4674, 'learnercentered': 4675, 'upper': 4676, 'insert': 4677, 'Carlo': 4678, 'communicate': 4679, 'Note': 4680, 'Kochs': 4681, 'Inquiry': 4682, 'characterization': 4683, 'creativity': 4684, 'foreshorten': 4685, 'Chemistry': 4686, 'approval': 4687, 'program': 4688, 'Razor': 4689, 'propter': 4690, 'interconnectedness': 4691, 'humanitys': 4692, 'odd': 4693, 'Heinrich': 4694, 'Complexity': 4695, 'versatility': 4696, 'Mertons': 4697, '9yearold': 4698, 'Malay': 4699, 'Cycle': 4700, 'habitat': 4701, 'valuable': 4702, 'algebraic': 4703, 'voltage': 4704, 'identify': 4705, 'moon': 4706, 'result': 4707, 'phospholipid': 4708, 'programmer': 4709, 'environmentalism': 4710, 'hubris': 4711, 'interact': 4712, 'biochemistry': 4713, 'clause': 4714, '9': 4715, 'AtkinsonShiffrins': 4716, '20th': 4717, 'reductionism': 4718, 'distinguish': 4719, 'crucial': 4720, 'antibiotic': 4721, 'Develop': 4722, 'Testing': 4723, 'Contrasting': 4724, 'explain': 4725, 'assumption': 4726, 'optimization': 4727, 'humaninduce': 4728, 'space': 4729, 'falsifiability': 4730, 'environment': 4731, 'Thinking': 4732, 'comprehend': 4733, 'Corporatist': 4734, 'lense': 4735, 'Algebra': 4736, 'exponentiation': 4737, 'nucleosome': 4738, 'mindset': 4739, 'climatic': 4740, 'pythagorean': 4741, 'inquiry': 4742, 'Party': 4743, 'Synthetic': 4744, 'thedouble': 4745, 'Fahrenheit': 4746, 'methanol': 4747, 'welldocumented': 4748, 'Benedict': 4749, 'openaccess': 4750, 'complexity': 4751, 'alchemy': 4752, 'colonization': 4753, 'diathesisstress': 4754, 'article': 4755, 'psychologicalEDGES': 4756, 'read': 4757, 'credible': 4758, 'Leadership': 4759, 'Luther': 4760, 'neighborhood': 4761, 'epigenetic': 4762, 'PersonCentered': 4763, 'Doctrine': 4764, 'distinguishable': 4765, 'Operating': 4766, 'representative': 4767, 'Josiah': 4768, 'price': 4769, 'ofpostmodernism': 4770, 'peerreview': 4771, 'Doyle': 4772, 'idea': 4773, 'Montesquieu': 4774, 'astronomy': 4775, 'Pyramids': 4776, 'peptide': 4777, 'Martha': 4778, 'indian': 4779, 'library': 4780, 'Susan': 4781, 'cope': 4782, 'entreprenuership': 4783, 'Richard': 4784, 'uphold': 4785, 'photosynthetic': 4786, 'solvay': 4787, 'inconsistency': 4788, 'chapter': 4789, 'Recognition': 4790, 'Needs': 4791, 'Music': 4792, 'pigment': 4793, 'exemplify': 4794, 'Wally': 4795, 'horizon': 4796, 'threat': 4797, 'hook': 4798, 'suggestion': 4799, 'fire': 4800, 'paradigm': 4801, 'appropriation': 4802, 'immanence': 4803, 'Input': 4804, 'photon': 4805, 'meritbase': 4806, 'instate': 4807, 'belief': 4808, 'Cantor': 4809, 'allocation': 4810, 'intricate': 4811, 'diagnose': 4812, 'Biodiversity': 4813, 'unable': 4814, 'Industrialization': 4815, 'Eliot': 4816, 'reproducible': 4817, 'fulfil': 4818, 'Suns': 4819, 'textbook': 4820, 'DNA': 4821, 'Relationship': 4822, 'freemarket': 4823, 'pluralist': 4824, 'compose': 4825, 'DualCoding': 4826, 'succession': 4827, 'experiment': 4828, 'ssri': 4829, 'lowtemperature': 4830, 'LAD': 4831, 'biomass': 4832, 'Relativism': 4833, 'arm': 4834, 'selfunderstande': 4835, 'Manuel': 4836, 'WatsonCrick': 4837, 'jurisprudence': 4838, 'hearing': 4839, 'cultivate': 4840, 'life': 4841, 'worth': 4842, 'Tesla': 4843, 'internalcombustionengine': 4844, 'Durkheims': 4845, 'Radiation': 4846, 'scripted': 4847, 'Dissonance': 4848, 'Nietzsches': 4849, '3z': 4850, 'fasting': 4851, '\\n\\n\\n ': 4852, 'format': 4853, 'session': 4854, 'MindBody': 4855, 'unoperated': 4856, 'Whorfianism': 4857, 'fundamental': 4858, 'acculturation': 4859, 'captivate': 4860, 'Germany': 4861, 'Byzantine': 4862, 'crust': 4863, 'Gilligans': 4864, 'eruption': 4865, 'solidstate': 4866, 'datadriven': 4867, 'available': 4868, 'xenotransplantation': 4869, 'Literary': 4870, 'interphase': 4871, 'Greek': 4872, 'sedimentary': 4873, 'Gilligan': 4874, 'Friedmans': 4875, 'conception': 4876, 'Farm': 4877, 'adler': 4878, 'convenience': 4879, 'empiricist': 4880, 'metaphilosophy': 4881, 'rational': 4882, 'complement': 4883, 'opponent': 4884, 'operate': 4885, 'Compare': 4886, 'Buddha': 4887, 'Darwin': 4888, 'absorb': 4889, 'thunderstorm': 4890, 'Complementary': 4891, 'epistemology': 4892, 'stimulusresponse': 4893, 'Theoretical': 4894, 'melt': 4895, 'operant': 4896, 'essential': 4897, 'Scratch': 4898, 'contradict': 4899, 'Jonathan': 4900, 'presentday': 4901, 'antecedent': 4902, 'issue': 4903, 'cohesion': 4904, 'multilingual': 4905, 'Greeks': 4906, 'regulate': 4907, 'conversation': 4908, 'pseudoclasse': 4909, 'cloning': 4910, 'ecofriendly': 4911, 'normal': 4912, 'Sustainable': 4913, 'Carnot': 4914, 'Humes': 4915, 'D': 4916, 'CognitiveBehavioral': 4917, 'YY': 4918, 'Tom': 4919, 'Nurses': 4920, '1000word': 4921, 'Oppenheimers': 4922, 'Game': 4923, 'citystate': 4924, 'Dr': 4925, 'valuebase': 4926, 'controversial': 4927, 'Paines': 4928, 'product': 4929, 'syndrome': 4930, 'thematic': 4931, 'shapememory': 4932, 'Matthias': 4933, 'trade': 4934, 'Soviet': 4935, 'biome': 4936, 'Homo': 4937, 'want': 4938, 'socialemotional': 4939, 'Internet': 4940, 'objection': 4941, 'gathering': 4942, 'delicate': 4943, 'involve': 4944, 'geothermal': 4945, 'power': 4946, 'trigonometry': 4947, 'hypothesis': 4948, 'philospher': 4949, 'universe': 4950, 'ED': 4951, 'fiveparagraph': 4952, 'rhythm': 4953, 'ai': 4954, 'knowledge': 4955, 'trophic': 4956, 'Belonging': 4957, 'mood': 4958, 'eugenic': 4959, 'accommodate': 4960, 'virus': 4961, 'Chateliers': 4962, 'manner': 4963, 'Poststructuralist': 4964, 'practitioner': 4965, 'Psychological': 4966, 'experimental': 4967, 'Turing': 4968, 'optimism': 4969, 'Distribution': 4970, 'Baddeleys': 4971, 'Boolean': 4972, 'Scott': 4973, 'infrastructure': 4974, 'Booles': 4975, 'link': 4976, 'transparency': 4977, 'logicial': 4978, 'Athens': 4979, 'factorization': 4980, 'psychoanalytic': 4981, 'executive': 4982, 'relativedate': 4983, 'prophecy': 4984, 'span': 4985, 'cosmic': 4986, 'attribute': 4987, 'Advancement': 4988, 'Lavoisier': 4989, 'speak': 4990, 'neural': 4991, 'Krebs': 4992, 'heritage': 4993, 'formal': 4994, 'linguistics': 4995, 'cosmology': 4996, 'strengthen': 4997, 'feeling': 4998, 'Emotional': 4999, 'Abraham': 5000, 'Twenties': 5001, 'Species': 5002, 'teacherle': 5003, 'functionalism': 5004, 'interconnect': 5005, 'disseminate': 5006, 'noumenon': 5007, 'einstein': 5008, 'specie': 5009, '5': 5010, 'competency': 5011, 'anthropomorphism': 5012, 'theHeisenberg': 5013, 'particular': 5014, 'currentday': 5015, 'colloid': 5016, 'Contributions': 5017, 'evolutionary': 5018, 'interplay': 5019, 'contrary': 5020, 'equity': 5021, 'Vycedure': 5022, 'Pygmalion': 5023, 'geographic': 5024, 'Fault': 5025, 'neuroscience': 5026, 'problemsolve': 5027, 'applied': 5028, 'synergistic': 5029, 'Marx': 5030, 'WWII': 5031, 'continuously': 5032, 'photic': 5033, 'head': 5034, 'Galileo': 5035, 'favorite': 5036, 'substitution': 5037, 'Analytics': 5038, 'similaritie': 5039, 'communist': 5040, 'investment': 5041, 'lay': 5042, 'eventual': 5043, 'Heisenbergs': 5044, 'decisionmake': 5045, 'tie': 5046, 'innate': 5047, 'Hubble': 5048, 'platonic': 5049, 'Couples': 5050, 'microservice': 5051, 'farming': 5052, 'Refer': 5053, 'systemicfunctional': 5054, 'similar': 5055, 'ontology': 5056, 'Roaring': 5057, 'Erikson': 5058, 'necessary': 5059, 'Bank': 5060, 'Origin': 5061, 'global': 5062, 'electrolysis': 5063, 'Self': 5064, 'generative': 5065, 'certain': 5066, 'current': 5067, 'll': 5068, 'vector': 5069, 'project': 5070, 'hamiltonian': 5071, 'Wynns': 5072, 'PowerKnowledge': 5073, 'Platos': 5074, 'sculpt': 5075, 'fate': 5076, 'probability': 5077, 'stimulus': 5078, 'Mendels': 5079, 'Socrates': 5080, 'injustice': 5081, 'neurotransmitter': 5082, 'survivorship': 5083, 'steady': 5084, 'philosopher': 5085, 'Unions': 5086, 'welcome': 5087, 'kickstart': 5088, 'trajectory': 5089, 'educate': 5090, 'MotivationHygiene': 5091, 'mentorship': 5092, 'domestication': 5093, 'Friedrich': 5094, 'situate': 5095, 'electrostatic': 5096, 'Transforms': 5097, 'Studies': 5098, 'cultural': 5099, 'Civil': 5100, 'primacy': 5101, 'trauma': 5102, 'cater': 5103, 'paradigms': 5104, 'tutor': 5105, 'eventually': 5106, 'postmodernity': 5107, 'abnormal': 5108, 'symbolic': 5109, 'Gross': 5110, 'Kekuls': 5111, 'McCullough': 5112, 'Generative': 5113, 'speed': 5114, 'Romans': 5115, 'guanine': 5116, 'Niels': 5117, 'Privilege': 5118, 'e2x': 5119, 'stressful': 5120, 'impression': 5121, 'seat': 5122, 'Aristotelianism': 5123, 'Zombie': 5124, 'Ethics': 5125, 'B': 5126, 'physics': 5127, 'refrigeration': 5128, 'Louis': 5129, 'Kotter': 5130, 'Drake': 5131, 'Gallic': 5132, 'Conditioning': 5133, 'APA': 5134, 'theater': 5135, 'swiss': 5136, 'Italy': 5137, 'Physical': 5138, 'Vygoteme': 5139, 'outlook': 5140, 'magnetic': 5141, 'panel': 5142, 'christian': 5143, 'overpopulation': 5144, 'ofocialization': 5145, 'basis': 5146, 'Proteins': 5147, 'disciplinesubject': 5148, 'Faraday': 5149, 'Hallmarks': 5150, 'fast': 5151, 'unravel': 5152, 'Logos': 5153, 'Deal': 5154, 'mistake': 5155, 'small': 5156, 'piece': 5157, 'Symphony': 5158, 'Bonus': 5159, 'parameter': 5160, 'atomic': 5161, '7yearold': 5162, 'catchy': 5163, 'intrinsic': 5164, 'bodys': 5165, 'assortment': 5166, 'Cognition': 5167, 'bilingualism': 5168, 'regular': 5169, 'Conduct': 5170, 'PostStructuralism': 5171, 'histrica': 5172, 'temporal': 5173, 'impost': 5174, 'signaling': 5175, 'monument': 5176, 'brief': 5177, 'use': 5178, 'mystery': 5179, 'helplessness': 5180, 'mentor': 5181, 'Cosmos': 5182, 'teachinglearning': 5183, 'oper': 5184, 'Evaluate': 5185, 'landscape': 5186, 'Thorndike': 5187, 'standpoint': 5188, 'prospect': 5189, 'framework': 5190, 'normalization': 5191, 'connectivism': 5192, 'marginal': 5193, 'double': 5194, 'empire': 5195, 'American': 5196, 'Prizewinning': 5197, 'states': 5198, 'little': 5199, 'write': 5200, 'ture': 5201, 'critique': 5202, 'label': 5203, 'gardner': 5204, 'Goffman': 5205, 'boolean': 5206, 'Sapirs': 5207, 'theepistemological': 5208, 'commitment': 5209, 'reform': 5210, 'option': 5211, 'Curie': 5212, 'custom': 5213, 'Levinas': 5214, 'government': 5215, 'Wastewater': 5216, 'Standards': 5217, 'logarithm': 5218, 'protect': 5219, 'childreare': 5220, 'Kin': 5221, 'Bandwra': 5222, 'portfolio': 5223, 'K12': 5224, 'Ancient': 5225, 'classificatory': 5226, 'postulate': 5227, 'phosphorylation': 5228, 'Malinowski': 5229, 'Access': 5230, 'beckian': 5231, 'conditioning': 5232, 'ie': 5233, 'differentiation': 5234, 'citation': 5235, 'select': 5236, 'PlatosAllegory': 5237, 'Circular': 5238, 'era': 5239, 'cyanobacteria': 5240, 'mean': 5241, 'armed': 5242, 'calorimetry': 5243, 'Leslie': 5244, 'found': 5245, 'comprehensive': 5246, 'circular': 5247, '2z': 5248, 'Arete': 5249, 'selective': 5250, 'Global': 5251, 'Mendeleevs': 5252, 'Python': 5253, 'mortality': 5254, 'traditionalism': 5255, 'credibility': 5256, 'bell': 5257, 'Astrophysics': 5258, 'argument': 5259, 'Pasteurs': 5260, 'Justice': 5261, 'irrigation': 5262, 'hamilton': 5263, 'Era': 5264, 'Baroque': 5265, 'Tools': 5266, 'Radicalism': 5267, 'Chomsky': 5268, 'wellversed': 5269, 'Isaac': 5270, 'King': 5271, 'introduce': 5272, 'epistemological': 5273, 'revolution': 5274, 'informationdriven': 5275, 'tsunami': 5276, 'empiricism': 5277, 'simple': 5278, 'interpenetration': 5279, 'New': 5280, 'Shelleys': 5281, 'Improve': 5282, 'count': 5283, 'acid': 5284, 'Bergson': 5285, 'tragic': 5286, 'Taoism': 5287, 'enamel': 5288, 'Causality': 5289, 'Moores': 5290, 'disorder': 5291, 'DeciRyan': 5292, 'champion': 5293, 'Aristotelian': 5294, 'avenue': 5295, 'newtonian': 5296, 'Whorf': 5297, 'copernican': 5298, 'journalistic': 5299, 'retain': 5300, 'roman': 5301, 'startup': 5302, 'footprint': 5303, 'individualism': 5304, '7': 5305, 'number': 5306, 'Contribution': 5307, 'supervise': 5308, 'foreign': 5309, 'compatibility': 5310, 'ozone': 5311, 'sido': 5312, 'Phalanstery': 5313, 'Manovich': 5314, 'exclude': 5315, 'teachercentere': 5316, 'Epicurus': 5317, 'Ass': 5318, 'Bandura': 5319, 'Connections': 5320, 'Bonos': 5321, 'Quennect': 5322, 'googles': 5323, 'LeviStrauss': 5324, 'Isolation': 5325, 'fold': 5326, 'cognitively': 5327, 'welldefined': 5328, 'thrive': 5329, '5thgrade': 5330, 'Periods': 5331, 'ageold': 5332, 'Bartlett': 5333, 'Cambourne': 5334, 'enjoy': 5335, 'error': 5336, 'Employment': 5337, 'schoolwork': 5338, 'rationality': 5339, 'empirical': 5340, 'De': 5341, 'Moral': 5342, 'theme': 5343, 'vitamin': 5344, 'Archaeology': 5345, 'Penetration': 5346, 'establishment': 5347, 'modify': 5348, 'Elizabethan': 5349, 'Dream': 5350, 'Singer': 5351, 'minimize': 5352, 'Basis': 5353, 'control': 5354, 'Atom': 5355, 'Mona': 5356, 'Holistic': 5357, 'diffusion': 5358, '500word': 5359, 'Faulkners': 5360, 'obstacle': 5361, 'militarism': 5362, 'glucose': 5363, 'Network': 5364, 'Geometry': 5365, 'collectivist': 5366, 'Clash': 5367, 'Joyces': 5368, 'seventhgrader': 5369, 'Liberalism': 5370, 'surpass': 5371, 'geometry': 5372, 'm': 5373, 'ProblemSolving': 5374, 'Bowen': 5375, 'November': 5376, 'vs': 5377, 'microenvironment': 5378, 'bill': 5379, 'PlayPleasure': 5380, 'block': 5381, 'Notes': 5382, 'float': 5383, 'tend': 5384, 'Psychology': 5385, 'Translocation': 5386, 'fund': 5387, 'abiotic': 5388, 'EinsteinPodolskyRosen': 5389, 'Trade': 5390, 'Years': 5391, 'Story': 5392, 'group': 5393, 'cognition': 5394, 'intergroup': 5395, 'humanlevel': 5396, 'Fill': 5397, 'strategic': 5398, 'initiative': 5399, 'Copyright': 5400, 'maxwell': 5401, 'information': 5402, 'tertiary': 5403, 'chloroplast': 5404, 'meet': 5405, 'preference': 5406, 'Structural': 5407, 'international': 5408, 'creation': 5409, 'Examples': 5410, 'informationprocessing': 5411, 'humancomputer': 5412, 'manipulation': 5413, 'Freud': 5414, 'Lyceum': 5415, 'correctly': 5416, 'Statistics': 5417, 'statistic': 5418, 'consolidation': 5419, 'Renaisansance': 5420, 'Schrdinger': 5421, 'Bayes': 5422, 'obtain': 5423, 'Todays': 5424, 'LMS': 5425, 'Empiricism': 5426, 'Samsa': 5427, 'data': 5428, 'way': 5429, 'V': 5430, 'theorem': 5431, 'physis': 5432, 'endoplasmic': 5433, 'paleo': 5434, 'accomplishment': 5435, 'Enhancing': 5436, 'responsibility': 5437, 'Huxleys': 5438, 'People': 5439, 'Hirsch': 5440, 'coherent': 5441, 'Modest': 5442, 'nationalism': 5443, 'constraint': 5444, 'rohlfe': 5445, '8th': 5446, 'dividend': 5447, 'Standardized': 5448, 'adopt': 5449, 'polymerase': 5450, 'Reinforcement': 5451, 'nonnative': 5452, 'instinct': 5453, '3': 5454, 'Bon': 5455, 'Experiment': 5456, 'feminist': 5457, 'addiction': 5458, 'Maslow': 5459, 'Blair': 5460, 'Odyssey': 5461, 'Taylor': 5462, 'nutritional': 5463, 'Pleck': 5464, 'comedy': 5465, 'generator': 5466, 'Diversity': 5467, 'philosopherke': 5468, 'justintime': 5469, 'pandemic': 5470, 'instance': 5471, 'mountain': 5472, 'refine': 5473, 'rite': 5474, 'photography': 5475, 'endergonic': 5476, 'psychologybehaviorism': 5477, 'Begin': 5478, 'compile': 5479, 'SelfRegulated': 5480, 'deviance': 5481, 'Peak': 5482, 'actuality': 5483, 'prior': 5484, 'Materialism': 5485, 'flora': 5486, 'target': 5487, 'energy': 5488, 'Childs': 5489, 'geometrical': 5490, 'suffer': 5491, 'QA': 5492, 'Monitor': 5493, 'permeability': 5494, 'Edwin': 5495, 'choice': 5496, 'discomfort': 5497, 'caffeine': 5498, 'Dalton': 5499, 'supermarket': 5500, 'genome': 5501, 'observer': 5502, 'method': 5503, 'Macbeth': 5504, 'build': 5505, 'Genome': 5506, 'dynamical': 5507, 'Canal': 5508, 'Labeling': 5509, 'Irony': 5510, 'Punish': 5511, 'invent': 5512, 'Stuart': 5513, 'psychotherapy': 5514, 'Bohr': 5515, 'neuropsychology': 5516, 'Favorite': 5517, 'deeply': 5518, 'Smith': 5519, 'crime': 5520, 'Jane': 5521, 'daily': 5522, 'negative': 5523, 'abroad': 5524, 'Historical': 5525, 'hypothesized': 5526, 'Pythagorean': 5527, 'Erik': 5528, 'search': 5529, 'gap': 5530, 'Period': 5531, 'venture': 5532, 'harmony': 5533, 'proprietary': 5534, 'Educational': 5535, '15x': 5536, 'enumerate': 5537, 'beautiful': 5538, 'hawking': 5539, 'lifeform': 5540, 'rigor': 5541, 'frame': 5542, 'liberal': 5543, 'Steady': 5544, 'predict': 5545, 'Borellis': 5546, 'Kepler': 5547, 'universitylevel': 5548, 'proofbase': 5549, 'assistant': 5550, 'atonement': 5551, 'polytroponym': 5552, 'fourpage': 5553, 'map': 5554, 'Thinginitself': 5555, 'ObjectOriented': 5556, 'linear': 5557, 'compare': 5558, 'Gapminder': 5559, 'Mandarin': 5560, 'xenophobia': 5561, 'string': 5562, 'teleportation': 5563, 'Study': 5564, 'Foxs': 5565, 'darwinian': 5566, 'Instinct': 5567, 'emission': 5568, 'melting': 5569, 'condition': 5570, 'Stephen': 5571, 'wrath': 5572, 'rightwe': 5573, 'descartess': 5574, 'fight': 5575, 'breakthrough': 5576, 'encounter': 5577, 'cystic': 5578, 'Stockholm': 5579, 'gdp': 5580, 'turnover': 5581, 'hindrance': 5582, '1': 5583, 'vygotskys': 5584, 'Roccos': 5585, 'helix': 5586, 'triphosphate': 5587, 'fit': 5588, 'intertextuality': 5589, 'GWF': 5590, 'Porter': 5591, 'ofmits': 5592, 'sociopolitical': 5593, 'Lamarckism': 5594, 'intervention': 5595, 'psychoanalytical': 5596, 'molecule': 5597, 'instruction': 5598, 'reshape': 5599, 'flipped': 5600, 'arrangement': 5601, 'Leibniz': 5602, 'rechargeable': 5603, 'warfare': 5604, 'Andragogy': 5605, 'permanent': 5606, 'carbohydrate': 5607, 'Rule': 5608, 'falsification': 5609, 'keystone': 5610, 'RNA': 5611, 'lifelong': 5612, 'Genetic': 5613, 'Management': 5614, 'PowerPoint': 5615, 'Sphere': 5616, 'Rise': 5617, 'campaign': 5618, 'unfamiliar': 5619, 'code': 5620, 'Paolo': 5621, 'Wilsons': 5622, 'division': 5623, 'race': 5624, 'health': 5625, 'digitalization': 5626, 'polygon': 5627, 'tackle': 5628, 'Chaucer': 5629, 'interpretationism': 5630, 'Capitalism': 5631, 'Bell': 5632, 'hylomorphism': 5633, '150': 5634, 'reproduction': 5635, 'tangible': 5636, 'Geert': 5637, 'surrounding': 5638, 'party': 5639, 'Logarithmic': 5640, 'guilt': 5641, 'Significance': 5642, 'partial': 5643, 'Interstate': 5644, 'initial': 5645, 'Neoliberalism': 5646, 'Humidity': 5647, 'Naturalism': 5648, 'Miller': 5649, 'casebase': 5650, 'JIT': 5651, 'learned': 5652, 'reward': 5653, 'NeoDarwinism': 5654, 'internal': 5655, 'albirunis': 5656, 'corruption': 5657, 'hormone': 5658, 'infant': 5659, 'ofpostpostmodernism': 5660, 'Hawthorne': 5661, 'adoption': 5662, 'ionic': 5663, 'dialogic': 5664, 'second': 5665, 'chaucer': 5666, 'workplace': 5667, 'Leeuwenhoeks': 5668, 'regressive': 5669, 'impressionist': 5670, 'ability': 5671, 'analytic': 5672, 'reverse': 5673, 'remediation': 5674, 'ABC': 5675, 'scaffold': 5676, 'Noethers': 5677, 'Aristotle': 5678, 'projectbase': 5679, 'domain': 5680, 'cleaning': 5681, 'vulnerability': 5682, 'simulation': 5683, 'Herman': 5684, 'instigate': 5685, 'J': 5686, 'adaptation': 5687, 'treat': 5688, 'thing': 5689, 'chemist': 5690, 'supporter': 5691, 'tectonic': 5692, 'Fruits': 5693, 'biopower': 5694, 'skill': 5695, 'sich': 5696, 'Circle': 5697, 'InquiryBased': 5698, 'agriculture': 5699, 'elderly': 5700, 'allegory': 5701, 'Type': 5702, 'reasoning': 5703, 'siberias': 5704, 'polytheism': 5705, 'ask': 5706, 'nanoscale': 5707, 'prevent': 5708, 'Freuds': 5709, 'Hats': 5710, 'produce': 5711, 'strategy': 5712, 'election': 5713, 'nondeterministic': 5714, 'topdown': 5715, 'european': 5716, 'resist': 5717, 'Riemann': 5718, 'Radar': 5719, 'transparent': 5720, 'ERK': 5721, 'Krashen': 5722, 'selfhelp': 5723, 'decrease': 5724, 'objectiveoriente': 5725, 'man': 5726, 'vulnerable': 5727, 'poh': 5728, 'Lay': 5729, 'joint': 5730, 'Immanuel': 5731, 'succeed': 5732, 'fact': 5733, 'seamlessly': 5734, 'Limits': 5735, 'outcome': 5736, 'Occams': 5737, 'Naledi': 5738, 'instantly': 5739, 'beinginitself': 5740, 'understand': 5741, 'Hubbles': 5742, 'robotic': 5743, 'inclusiveness': 5744, 'predictive': 5745, 'business': 5746, 'quantum': 5747, 'chronological': 5748, 'Cold': 5749, 'wilkin': 5750, 'cone': 5751, 'electoral': 5752, 'complicated': 5753, 'Ellis': 5754, 'egyptian': 5755, 'job': 5756, 'appetit': 5757, 'deal': 5758, 'ready': 5759, 'Psychosocial': 5760, 'Mihaly': 5761, 'Wilfred': 5762, 'recreational': 5763, 'Syllogism': 5764, 'Locke': 5765, 'Administration': 5766, 'inconsistent': 5767, '21stcentury': 5768, 'sociolinguistic': 5769, 'manage': 5770, 'poor': 5771, 'climaterelate': 5772, 'heritability': 5773, '35': 5774, 'Sense': 5775, 'Communist': 5776, 'equation': 5777, 'Hypatias': 5778, 'Limit': 5779, 'Robespierre': 5780, 'policymake': 5781, 'Fyodor': 5782, 'aptitude': 5783, 'conciseness': 5784, 'school': 5785, 'ofhenry': 5786, 'Processing': 5787, 'Punnett': 5788, 'contain': 5789, 'Lewis': 5790, 'discourse': 5791, 'quantitative': 5792, 'complex': 5793, 'n': 5794, 'classical': 5795, 'Utopia': 5796, 'total': 5797, 'Buddhism': 5798, 'innovation': 5799, 'Shame': 5800, 'curious': 5801, 'Sea': 5802, 'image': 5803, 'York': 5804, 'equilibrium': 5805, 'delve': 5806, 'therapy': 5807, 'SelfPerception': 5808, 'Octavia': 5809, 'incrementum': 5810, 'Ren': 5811, 'chain': 5812, 'offer': 5813, 'suitable': 5814, 'proton': 5815, 'electromagnetism': 5816, 'Wolfram': 5817, 'Whorfs': 5818, 'Probability': 5819, 'Rousseaus': 5820, 'minor': 5821, 'Replace': 5822, 'mutualism': 5823, 'countrys': 5824, 'short': 5825, 'lipid': 5826, 'Approach': 5827, 'truth': 5828, 'duty': 5829, 'led': 5830, 'helpful': 5831, 'Hierarchy': 5832, 'amenity': 5833, 'boat': 5834, 'Ding': 5835, 'contribution': 5836, 'dosage': 5837, 'grape': 5838, 'concise': 5839, 'Electromagnetic': 5840, 'balance': 5841, 'socioeconomic': 5842, 'corrupt': 5843, 'worldview': 5844, 'validate': 5845, 'Connell': 5846, 'thought': 5847, 'planetary': 5848, 'Respiration': 5849, 'collect': 5850, 'y': 5851, 'C4': 5852, 'respective': 5853, 'Alice': 5854, 'fundamentally': 5855, 'address': 5856, 'Forms': 5857, 'Pink': 5858, 'Guns': 5859, 'implement': 5860, 'ascend': 5861, 'Linnaeus': 5862, 'Guilford': 5863, 'news': 5864, 'effervescent': 5865, 'Acquisition': 5866, 'Cost': 5867, 'tuition': 5868, 'keynote': 5869, 'dialogue': 5870, 'Integration': 5871, 'famine': 5872, 'transportation': 5873, 'remotely': 5874, 'biological': 5875, 'Hofstede': 5876, 'France': 5877, 'Nietzsche': 5878, 'traffic': 5879, 'unsupervise': 5880, 'friendly': 5881, 'goalsetting': 5882, 'dissent': 5883, 'angular': 5884, 'cornerstone': 5885, 'Druckers': 5886, 'elaborate': 5887, 'Herzbergs': 5888, 'integral': 5889, 'encourage': 5890, 'imagine': 5891, 'accessibility': 5892, 'categorical': 5893, 'selffulfilling': 5894, 'Mahabharata': 5895, 'Order': 5896, 'Component': 5897, 'interactionist': 5898, 'quadratic': 5899, 'additional': 5900, 'Truths': 5901, 'Sherlock': 5902, 'angle': 5903, 'actual': 5904, 'digit': 5905, 'Ryan': 5906, 'Planetary': 5907, 'Woman': 5908, 'Elaboration': 5909, 'confidence': 5910, 'Eureka': 5911, 'anticipate': 5912, 'Qualitative': 5913, 'battering': 5914, 'quiz': 5915, 'applicable': 5916, 'connected': 5917, 'demonstrate': 5918, 'y0': 5919, 'talk': 5920, 'report': 5921, 'precedence': 5922, 'Skeptics': 5923, 'generalization': 5924, 'Han': 5925, 'operation': 5926, 'late': 5927, 'gestalt': 5928, 'Solitude': 5929, 'type': 5930, 'TED': 5931, 'scalability': 5932, 'dilemma': 5933, 'repair': 5934, 'exothermic': 5935, 'resilient': 5936, 'Erving': 5937, 'fiction': 5938, 'Operations': 5939, 'English': 5940, 'modal': 5941, 'entrepreneur': 5942, 'ReninAngiotensinAldosterone': 5943, 'arrive': 5944, 'virtue': 5945, 'humanenvironment': 5946, 'iq': 5947, '2000': 5948, 'radiationmatter': 5949, 'naturalism': 5950, 'dark': 5951, 'Kroeber': 5952, 'radiation': 5953, 'Exponential': 5954, 'Florida': 5955, 'Carroll': 5956, 'regime': 5957, 'post': 5958, 'utilitarian': 5959, 'axial': 5960, 'Poststructuralism': 5961, 'weight': 5962, 'Virtue': 5963, 'deweyan': 5964, 'endanger': 5965, 'analyse': 5966, 'Rotter': 5967, 'Evolutionary': 5968, 'CommunityBased': 5969, 'Johannsson': 5970, 'cognitivedevelopmental': 5971, 'neurological': 5972, 'unequal': 5973, 'Deductive': 5974, 'previous': 5975, 'Franklin': 5976, 'drawing': 5977, 'Feminism': 5978, 'descarte': 5979, 'twostep': 5980, 'citys': 5981, 'privileged': 5982, 'smallgroup': 5983, 'behaviourism': 5984, 'massenergy': 5985, 'Surrealism': 5986, 'vital': 5987, 'selfcategorization': 5988, 'satire': 5989, 'device': 5990, 'farmer': 5991, 'Force': 5992, 'innovator': 5993, 'process': 5994, 'James': 5995, 'JP': 5996, 'glycolysis': 5997, 'Blooms': 5998, 'Rory': 5999, 'totalitarianism': 6000, 'reputable': 6001, 'organize': 6002, 'mirror': 6003, 'Butlers': 6004, 'Ado': 6005, 'structuring': 6006, 'gothic': 6007, 'migratory': 6008, 'catalyze': 6009, 'Interdisciplinary': 6010, 'cinema': 6011, 'organismal': 6012, 'Focus': 6013, 'thehuman': 6014, 'addition': 6015, 'expense': 6016, 'contentious': 6017, 'participation': 6018, 'beauty': 6019, 'submit': 6020, 'Kenneth': 6021, 'Willis': 6022, 'FMRI': 6023, 'department': 6024, 'arthurian': 6025, 'BaconFollett': 6026, 'electronic': 6027, 'graphene': 6028, 'synergy': 6029, 'acidic': 6030, 'transitivity': 6031, 'Reactants': 6032, 'Horace': 6033, 'FC': 6034, 'inform': 6035, 'JeanBaptiste': 6036, 'Synthesis': 6037, 'Ruggles': 6038, 'Perelmans': 6039, 'Applied': 6040, 'connectionism': 6041, 'node': 6042, 'David': 6043, 'Select': 6044, 'Start': 6045, 'externalize': 6046, 'worry': 6047, 'lecturebase': 6048, 'donation': 6049, '5step': 6050, 'effectiveness': 6051, 'declare': 6052, 'Leitner': 6053, 'Categorical': 6054, 'vision': 6055, 'Schumpeters': 6056, 'theeffect': 6057, 'Distance': 6058, 'Bias': 6059, 'Great': 6060, 'Lamarck': 6061, 'unmoved': 6062, 'openbook': 6063, 'Fittest': 6064, 'metabolic': 6065, 'Thought': 6066, 'Information': 6067, 'powerpoint': 6068, 'thekey': 6069, 'transfer': 6070, 'Meuniers': 6071, 'postsecondary': 6072, 'derivative': 6073, 'Hari': 6074, 'punishment': 6075, 'staff': 6076, 'speaker': 6077, 'X': 6078, 'sink': 6079, 'anatomical': 6080, 'Conrads': 6081, '11': 6082, 'minimum': 6083, 'servant': 6084, 'medicine': 6085, 'modernapproache': 6086, 'Hall': 6087, 'object': 6088, 'Project': 6089, 'Leon': 6090, 'Uncertainty': 6091, 'resonate': 6092, 'Commerce': 6093, 'contributing': 6094, 'nonEuclidean': 6095, 'author': 6096, 'fibrosis': 6097, 'Murray': 6098, 'imitation': 6099, 'Memory': 6100, 'alienation': 6101, 'Fury': 6102, 'Skills': 6103, 'supervised': 6104, 'Basic': 6105, 'Selfdetermination': 6106, 'finding': 6107, 'location': 6108, 'retention': 6109, 'place': 6110, 'Sartre': 6111, 'BF': 6112, 'selfimage': 6113, 'fixation': 6114, 'Plates': 6115, 'overview': 6116, 'Alderfers': 6117, 'Invisible': 6118, 'unique': 6119, 'wellbeing': 6120, 'configuration': 6121, 'widen': 6122, 'Mathematical': 6123, 'emotional': 6124, 'transcription': 6125, 'long': 6126, 'ofaxiom': 6127, 'video': 6128, 'reproductive': 6129, 'electricmotor': 6130, 'universality': 6131, 'nation': 6132, 'emc2': 6133, 'feedback': 6134, 'positive': 6135, 'Address': 6136, 'Styles': 6137, 'ribosome': 6138, 'Bentham': 6139, 'adverse': 6140, 'complementary': 6141, 'crosscultural': 6142, 'nutrient': 6143, 'Postmans': 6144, 'necessity': 6145, 'continental': 6146, 'art': 6147, 'speaking': 6148, 'takeaway': 6149, 'shift': 6150, 'somatic': 6151, 'scarce': 6152, '\\n  ': 6153, 'wonder': 6154, 'tide': 6155, 'criminal': 6156, 'insurance': 6157, 'monism': 6158, 'intext': 6159, 'existing': 6160, 'Compassionate': 6161, 'marxist': 6162, 'Roe': 6163, 'anomie': 6164, 'phone': 6165, 'Intelligence': 6166, 'kin': 6167, 'Tale': 6168, 'Eysenck': 6169, 'microscopic': 6170, 'andskinner': 6171, 'Stochastic': 6172, 'deontological': 6173, 'Coulombs': 6174, 'Universal': 6175, 'cell': 6176, 'Huguenot': 6177, 'pragmatism': 6178, 'deoxyribonucleic': 6179, 'interested': 6180, 'probabilistic': 6181, 'lecture': 6182, 'military': 6183, 'indicate': 6184, 'EmotionFocused': 6185, 'Derek': 6186, 'harm': 6187, 'upcoming': 6188, 'boundary': 6189, 'reserve': 6190, 'present': 6191, 'Motivation': 6192, 'embed': 6193, 'thoughtful': 6194, 'femme': 6195, 'Wall': 6196, 'Douglas': 6197, 'kinetic': 6198, 'clear': 6199, 'theeffectiveness': 6200, 'symbolism': 6201, 'ofsocial': 6202, 'array': 6203, 'breeding': 6204, 'Universe': 6205, 'employability': 6206, 'objectivist': 6207, 'visualize': 6208, 'mathematical': 6209, 'poetic': 6210, 'mechanic': 6211, 'anthropological': 6212, 'Brave': 6213, 'electric': 6214, 'alright': 6215, 'ring': 6216, 'exceed': 6217, 'immunity': 6218, 'corporation': 6219, 'homophonic': 6220, 'bureaucracy': 6221, 'deconstruction': 6222, 'relation': 6223, 'Fermats': 6224, 'ofdescriptive': 6225, 'inferential': 6226, 'coinsurance': 6227, 'catalase': 6228, 'volume': 6229, 'biofeedback': 6230, 'World': 6231, 'Metabolism': 6232, 'Darwinism': 6233, 'Max': 6234, 'texture': 6235, 'temporality': 6236, 'disaster': 6237, 'Machiavelli': 6238, 'income': 6239, 'threelayer': 6240, 'intermediate': 6241, 'clearly': 6242, 'Maya': 6243, 'midterm': 6244, 'Linguistics': 6245, 'Transportation': 6246, 'prefrontal': 6247, 'imagery': 6248, 'women': 6249, 'Form': 6250, 'Toulmins': 6251, 'Churchill': 6252, 'optimize': 6253, 'misconception': 6254, 'religion': 6255, 'neurodegenerative': 6256, 'primatology': 6257, 'industry': 6258, 'semilogarithmic': 6259, 'Earths': 6260, 'Aldous': 6261, 'Continental': 6262, 'classify': 6263, 'combine': 6264, 'description': 6265, 'hear': 6266, 'consumer': 6267, 'ideological': 6268, 'ambitious': 6269, 'stereochemistry': 6270, 'circulatory': 6271, 'iron': 6272, 'season': 6273, 'improve': 6274, 'allergy': 6275, 'anarchism': 6276, 'poetry': 6277, 'informal': 6278, 'analogy': 6279, 'Competence': 6280, 'welldevelope': 6281, 'JeanJan': 6282, 'viscosity': 6283, 'experience': 6284, 'Hughes': 6285, 'motivation': 6286, 'freshwater': 6287, 'G': 6288, 'plantbase': 6289, 'qualification': 6290, 'hegelian': 6291, 'consensus': 6292, 'helped': 6293, 'Intelligences': 6294, 'Kaizen': 6295, 'Marie': 6296, 'Prediction': 6297, 'accurate': 6298, 'corporate': 6299, 'wellargue': 6300, 'Rawls': 6301, 'highstress': 6302, 'synthesize': 6303, 'Wallaces': 6304, 'discover': 6305, 'Tony': 6306, 'disparity': 6307, 'CognitiveDevelopmental': 6308, 'trace': 6309, 'DC': 6310, 'companys': 6311, 'astronautic': 6312, 'deployment': 6313, 'Apple': 6314, 'environmental': 6315, 'volcanic': 6316, 'performance': 6317, 'Auditory': 6318, 'portrayal': 6319, 'timeline': 6320, 'improper': 6321, 'Wierzbicka': 6322, 'Trace': 6323, 'solipsism': 6324, 'lack': 6325, 'magical': 6326, 'intake': 6327, 'threesentence': 6328, '60': 6329, 'tell': 6330, 'Feynman': 6331, 'Gaia': 6332, 'Extended': 6333, 'lead': 6334, 'Asch': 6335, 'debatable': 6336, 'questionnaire': 6337, 'native': 6338, 'mechanization': 6339, 'teleology': 6340, 'Finn': 6341, 'generalizability': 6342, 'Alderfer': 6343, 'superior': 6344, 'voluntary': 6345, 'interconnectivity': 6346, 'subroutine': 6347, 'Sociology': 6348, 'mozart': 6349, 'Deep': 6350, 'Creativity': 6351, 'Renewable': 6352, 'passfail': 6353, 'marketing': 6354, 'individualist': 6355, 'Narratology': 6356, 'traditionally': 6357, 'MillerUrey': 6358, 'Positive': 6359, 'Theaetetus': 6360, 'studentcentere': 6361, 'surround': 6362, 'false': 6363, 'cancel': 6364, 'selfconcept': 6365, 'minority': 6366, 'foundational': 6367, 'Absolutism': 6368, 'Ada': 6369, 'authentication': 6370, 'refer': 6371, 'ownership': 6372, '13': 6373, 'Marcel': 6374, 'germination': 6375, 'linguistic': 6376, 'qualitative': 6377, 'differential': 6378, 'approximate': 6379, 'japanese': 6380, 'distinction': 6381, 'pattern': 6382, '1690': 6383, 'Tzus': 6384, 'Denmarks': 6385, 'publishing': 6386, 'idiom': 6387, 'spooky': 6388, 'Le': 6389, 'neuroscientific': 6390, 'Moon': 6391, 'institutional': 6392, 'contexts': 6393, 'Mutualistic': 6394, 'accept': 6395, 'exist': 6396, 'substantial': 6397, 'Rights': 6398, 'accountability': 6399, 'teamwork': 6400, 'invention': 6401, 'Leavis': 6402, 'recently': 6403, 'holistic': 6404, 'major': 6405, '10': 6406, 'peertopeer': 6407, 'independent': 6408, 'North': 6409, 'Population': 6410, 'ongoing': 6411, 'freedom': 6412, 'true': 6413, 'curricula': 6414, 'Rubicon': 6415, 'detail': 6416, 'ancient': 6417, 'Letter': 6418, 'pyramid': 6419, 'constitution': 6420, 'inception': 6421, 'cooperation': 6422, 'mangrove': 6423, 'semester': 6424, 'TwoFactor': 6425, 'homeostatic': 6426, 'Z': 6427, 'Lasswell': 6428, 'engine': 6429, 'Shakespeares': 6430, '1950': 6431, 'pick': 6432, 'Anscombe': 6433, 'improvement': 6434, 'Product': 6435, 'motorcycle': 6436, 'Rutherfords': 6437, 'Schizophrenia': 6438, 'History': 6439, 'Sren': 6440, 'flexibility': 6441, 'xray': 6442, 'cognitivebehavioral': 6443, 'Mozarts': 6444, 'Fitzgeralds': 6445, 'scenario': 6446, 'Fichte': 6447, 'Spectrum': 6448, 'freire': 6449, 'SelfCategorization': 6450, 'sector': 6451, 'banking': 6452, 'clarify': 6453, 'counseling': 6454, 'bodily': 6455, 'Curve': 6456, 'million': 6457, 'memorization': 6458, 'Brain': 6459, 'enthalpy': 6460, 'graduation': 6461, 'Draft': 6462, 'underprivileged': 6463, 'Leonhard': 6464, 'stoichiometry': 6465, 'sovereignty': 6466, 'partnership': 6467, 'gottfrie': 6468, 'adverb': 6469, 'de': 6470, 'arete': 6471, 'spindle': 6472, 'Keynesianism': 6473, 'listen': 6474, 'maturation': 6475, 'Galapagos': 6476, 'Hard': 6477, 'drinking': 6478, 'geomorphology': 6479, 'Symmetry': 6480, 'expect': 6481, 'evolutional': 6482, 'conventional': 6483, 'Neural': 6484, 'Country': 6485, 'capturing': 6486, 'ebook': 6487, 'Core': 6488, 'personalize': 6489, 'coordinate': 6490, 'Special': 6491, 'Seattle': 6492, 'insect': 6493, 'simply': 6494, 'oxygen': 6495, 'motivational': 6496, 'Jevons': 6497, 'categorization': 6498, 'Homeostasis': 6499, 'gender': 6500, 'ModernDay': 6501, 'seven': 6502, 'doublehelix': 6503, 'Renaisance': 6504, 'Mesmer': 6505, 'conditional': 6506, 'specifically': 6507, 'authenticity': 6508, 'literal': 6509, 'Gardiner': 6510, 'minute': 6511, 'interconnected': 6512, 'neomarxist': 6513, 'Experimental': 6514, 'awareness': 6515, 'emergent': 6516, 'scheme': 6517, 'Psychodynamic': 6518, 'dropout': 6519, 'highstake': 6520, 'Aitken': 6521, 'noumenal': 6522, 'Haussmanns': 6523, 'inorganic': 6524, 'load': 6525, 'classroombased': 6526, 'father': 6527, 'Galileos': 6528, 'fair': 6529, 'Democritus': 6530, 'certainly': 6531, 'competence': 6532, 'unconsciousness': 6533, 'medium': 6534, 'french': 6535, 'electrochemistry': 6536, 'theological': 6537, 'signal': 6538, 'microscope': 6539, 'syntax': 6540, 'embryology': 6541, 'mosaic': 6542, 'sum': 6543, 'mentoring': 6544, 'maintainance': 6545, 'selfreflection': 6546, 'Poincar': 6547, 'stay': 6548, 'Ken': 6549, 'security': 6550, 'polar': 6551, 'evidencebased': 6552, 'hippocampus': 6553, 'Structuralist': 6554, 'Cognitivism': 6555, 'principle': 6556, 'Relativity': 6557, 'Concerning': 6558, 'command': 6559, 'consequent': 6560, 'investigate': 6561, 'Leviathan': 6562, 'Licensing': 6563, 'equal': 6564, 'instrument': 6565, 'Press': 6566, 'heros': 6567, 'disadvantage': 6568, 'Taxonomy': 6569, 'incentive': 6570, 'coastal': 6571, 'mechanism': 6572, 'sociologist': 6573, 'nonbiological': 6574, 'historian': 6575, 'collection': 6576, 'maintain': 6577, 'loop': 6578, 'greener': 6579, 'Direct': 6580, 'Feminist': 6581, 'compression': 6582, 'Mayans': 6583, 'literacy': 6584, 'displacement': 6585, 'selfdevelopment': 6586, 'entanglementbase': 6587, 'Modern': 6588, 'broad': 6589, 'nutrition': 6590, 'Augustines': 6591, 'Foundations': 6592, 'witness': 6593, 'medical': 6594, 'Woolfs': 6595, 'unresolved': 6596, 'revision': 6597, 'lockin': 6598, 'retrieve': 6599, 'working': 6600, 'Darwins': 6601, 'accumulation': 6602, 'Lavoisiers': 6603, 'Emotive': 6604, 'contemplation': 6605, 'tradition': 6606, 'pseudocode': 6607, 'romanticism': 6608, 'Elephant': 6609, 'operating': 6610, 'Biopsychosocial': 6611, 'Deci': 6612, 'heavily': 6613, 'antioxidant': 6614, 'Deleuze': 6615, 'hydrological': 6616, 'HBDI': 6617, 'Environmental': 6618, 'twominute': 6619, 'Pinker': 6620, 'selfdiscovery': 6621, 'aboutapproach': 6622, 'physiologist': 6623, 'Determinism': 6624, 'highincome': 6625, 'nonhuman': 6626, '150word': 6627, 'diagnosis': 6628, 'metallic': 6629, 'Acquired': 6630, 'nonscientific': 6631, 'postquam': 6632, 'Old': 6633, 'mobile': 6634, 'anaerobic': 6635, 'wavelength': 6636, 'Brian': 6637, 'conduct': 6638, 'JamesLoudon': 6639, 'Stenosis': 6640, 'Maupertuis': 6641, 'inertia': 6642, 'underdevelopment': 6643, 'convince': 6644, 'remember': 6645, 'Wavelets': 6646, 'Maximum': 6647, 'synecdoche': 6648, 'conflicting': 6649, 'Freinet': 6650, 'focus': 6651, 'Hookes': 6652, 'Reactions': 6653, 'computational': 6654, 'Parkinsons': 6655, 'stop': 6656, 'commonality': 6657, 'pillar': 6658, 'mode': 6659, 'Summarize': 6660, 'Freedom': 6661, 'Oedipus': 6662, 'Ex': 6663, 'Challenge': 6664, 'mathematics': 6665, 'precaution': 6666, 'Differential': 6667, 'discussion': 6668, 'misunderstanding': 6669, 'poverty': 6670, 'Levenson': 6671, 'Communicative': 6672, 'Federalist': 6673, 'view': 6674, 'rehearsal': 6675, '5x': 6676, 'Mathematics': 6677, 'motifs': 6678, 'Japan': 6679, 'DArcy': 6680, 'studentfaculty': 6681, 'Fermi': 6682, 'Binets': 6683, 'perspective': 6684, 'rapid': 6685, 'prestige': 6686, 'Charles': 6687, 'understanding': 6688, 'confident': 6689, 'everyday': 6690, 'Ages': 6691, 'Spoke': 6692, 'Baruch': 6693, 'Adventures': 6694, 'Quantum': 6695, 'Mill': 6696, 'Planck': 6697, 'Heliocentric': 6698, 'geometric': 6699, 'honeybee': 6700, 'Alexandria': 6701, 'Chaim': 6702, '8': 6703, 'worker': 6704, 'duration': 6705, 'psychology': 6706, 'aristotelian': 6707, 'finish': 6708, 'frog': 6709, 'interrelationship': 6710, '3d': 6711, 'emotion': 6712, 'Derrida': 6713, 'underlie': 6714, 'familiar': 6715, 'imperfect': 6716, 'chemistry': 6717, 'empathy': 6718, 'argumentation': 6719, 'brainstorm': 6720, 'grocery': 6721, 'ibn': 6722, 'Austens': 6723, 'continuous': 6724, 'constructionism': 6725, 'poststructuralist': 6726, 'ethic': 6727, 'Contrast': 6728, 'visually': 6729, 'Accords': 6730, 'SAMR': 6731, 'learnbydoe': 6732, 'naturalistic': 6733, 'Carl': 6734, 'Metaphysics': 6735, 'Hegelianism': 6736, 'animal': 6737, 'Kohlberg': 6738, 'cosmological': 6739, 'Hawaiian': 6740, 'antimatter': 6741, 'Frankenstein': 6742, 'Mice': 6743, 'Series': 6744, 'Chinese': 6745, 'intent': 6746, 'dialectical': 6747, 'theorie': 6748, 'Millsutilitarianism': 6749, 'individual': 6750, 'assist': 6751, '3x2': 6752, 'Ibsen': 6753, 'colleague': 6754, 'oppose': 6755, 'restriction': 6756, 'Cosmology': 6757, 'storage': 6758, 'Weiner': 6759, 'convergent': 6760, 'Subject': 6761, 'byproduct': 6762, 'oncampus': 6763, 'generalizable': 6764, 'JD': 6765, 'misinterpretation': 6766, 'van': 6767, 'disposal': 6768, 'refusal': 6769, 'intelligencegathere': 6770, 'dimension': 6771, 'Maslows': 6772, 'transactional': 6773, 'cryptography': 6774, 'infographic': 6775, 'longlaste': 6776, 'print': 6777, 'Alices': 6778, 'dysfunction': 6779, 'Descartes': 6780, 'Atoms': 6781, 'depression': 6782, 'folksonomy': 6783, 'accordingly': 6784, 'butch': 6785, 'epistasis': 6786, 'Mary': 6787, 'dogma': 6788, 'Natural': 6789, 'Malthus': 6790, 'range': 6791, 'fairly': 6792, 'line': 6793, 'adaptive': 6794, 'Ricardo': 6795, 'Spatial': 6796, 'polarity': 6797, 'Alberto': 6798, 'descent': 6799, 'Baddeley': 6800, 'artifact': 6801, 'Number': 6802, 'publish': 6803, 'shed': 6804, 'Empire': 6805, 'Pinkers': 6806, 'grasp': 6807, 'Savage': 6808, 'Conflict': 6809, 'wildlife': 6810, 'cortex': 6811, 'derive': 6812, 'neoMarxist': 6813, 'envision': 6814, 'Affective': 6815, 'disruptive': 6816, 'Bronfenbrenners': 6817, 'evaluation': 6818, 'wisdom': 6819, 'Race': 6820, 'selfesteem': 6821, 'beginner': 6822, 'course': 6823, 'Transcendental': 6824, 'Dualism': 6825, 'likely': 6826, 'selfefficacy': 6827, 'colonialism': 6828, 'fertilizer': 6829, 'anemone': 6830, 'stoichiometric': 6831, 'epigenesis': 6832, 'Hemingways': 6833, 'gate': 6834, 'screening': 6835, 'easily': 6836, 'galaxy': 6837, 'providence': 6838, 'endure': 6839, 'State': 6840, 'Campbells': 6841, 'mitosis': 6842, 'past': 6843, 'excellence': 6844, '4': 6845, 'minimal': 6846, 'Ernst': 6847, '1930s': 6848, 'clothing': 6849, 'chronology': 6850, 'connectivity': 6851, 'birth': 6852, 'Tempest': 6853, 'genetics': 6854, 'Reformation': 6855, 'thinginitself': 6856, 'frequentist': 6857, 'Falkner': 6858, 'follow': 6859, 'professor': 6860, 'concept': 6861, 'list': 6862, 'attribution': 6863, 'predisposition': 6864, 'advanced': 6865, 'geopolitic': 6866, 'bus': 6867, 'secondarylevel': 6868, 'reactivity': 6869, 'developed': 6870, 'immediately': 6871, '4x': 6872, 'Einsteins': 6873, 'keynesian': 6874, 'con': 6875, 'Transcendentalism': 6876, 'Pauli': 6877, 'oscillation': 6878, 'epidemiologist': 6879, 'longterm': 6880, 'golden': 6881, 'particularly': 6882, 'Plate': 6883, 'eukaryotic': 6884, 'Thompsons': 6885, 'sustainable': 6886, 'Psychoanalytic': 6887, 'Doubt': 6888, 'sais': 6889, 'noiseinduced': 6890, 'dilation': 6891, 'obesity': 6892, 'confucianism': 6893, 'ocean': 6894, 'phase': 6895, 'premise': 6896, 'workload': 6897, 'temple': 6898, 'ultimate': 6899, 'sequestration': 6900, 'worldwide': 6901, 'develop': 6902, 'logic': 6903, 'herehttpswwwsurveymonkeycomrBJK3BZK': 6904, 'Curiosity': 6905, 'Beethovens': 6906, 'discrete': 6907, 'property': 6908, 'Review': 6909, 'gardenier': 6910, 'phenomenological': 6911, 'rival': 6912, 'citizenship': 6913, 'Mindset': 6914, 'important': 6915, 'Judith': 6916, 'composite': 6917, 'alliance': 6918, 'gaussian': 6919, 'economics': 6920, 'unrelated': 6921, 'dependence': 6922, '1967': 6923, 'drinker': 6924, 'year': 6925, 'navigation': 6926, 'edtech': 6927, 'drawback': 6928, 'ofuate': 6929, 'phenomenology': 6930, 'Expectancy': 6931, 'hawaiian': 6932, 'Africa': 6933, 'moral': 6934, 'infinity': 6935, 'excubitantium': 6936, 'seedling': 6937, 'readerresponse': 6938, 'Lewontins': 6939, 'Oxford': 6940, 'fulfill': 6941, 'challenge': 6942, 'Epicureanism': 6943, 'fairness': 6944, 'Ergo': 6945, 'historically': 6946, 'Freshman': 6947, 'interference': 6948, 'lastminute': 6949, 'EightyFour': 6950, 'Piaget': 6951, 'despite': 6952, 'demographic': 6953, 'gerontology': 6954, 'structuralism': 6955, 'representation': 6956, 'educationdiscuss': 6957, 'bilingual': 6958, 'recurrent': 6959, 'Anton': 6960, 'regulatory': 6961, 'mapping': 6962, 'grammatical': 6963, 'writing': 6964, 'british': 6965, 'maslow': 6966, 'square': 6967, 'Pomodoro': 6968, 'action': 6969, 'trait': 6970, 'artistic': 6971, 'invest': 6972, 'Drift': 6973, 'stahl': 6974, 'memory': 6975, 'honorable': 6976, 'psyche': 6977, 'postwwii': 6978, 'Development': 6979, 'tabula': 6980, 'expectancyvalue': 6981, 'enlightenment': 6982, 'ground': 6983, 'Burton': 6984, 'distributive': 6985, 'survive': 6986, 'ph': 6987, 'Shakhova': 6988, 'Motion': 6989, 'handson': 6990, 'nonlive': 6991, 'key': 6992, 'circulation': 6993, 'encryption': 6994, 'tutoring': 6995, 'Behavioral': 6996, 'criterion': 6997, 'mill': 6998, 'navigate': 6999, 'carefully': 7000, 'Good': 7001, 'Idea': 7002, 'interactionism': 7003, 'dramatic': 7004, 'Issues': 7005, 'fourdimensionalism': 7006, 'feature': 7007, 'VARK': 7008, 'fat': 7009, 'II': 7010, 'Survival': 7011, 'fury': 7012, 'aristocratic': 7013, 'Load': 7014, 'cap': 7015, 'hole': 7016, 'Galton': 7017, 'breakdown': 7018, 'concentration': 7019, 'metaphysics': 7020, 'zero': 7021, 'Sciences': 7022, 'Frankls': 7023, 'Existentialism': 7024, 'exponent': 7025, 'reinforcer': 7026, 'Kindred': 7027, 'Hypothesis': 7028, 'essence': 7029, 'Behaviorism': 7030, 'Philosophical': 7031, 'Squares': 7032, 'SocialCultural': 7033, 'modularity': 7034, 'combat': 7035, 'showcase': 7036, 'ease': 7037, 'sequence': 7038, 'kingdom': 7039, 'transcendentalism': 7040, 'motif': 7041, 'China': 7042, 'populous': 7043, 'mass': 7044, 'allele': 7045, 'doctrine': 7046, 'Millers': 7047, 'unity': 7048, 'decide': 7049, 'Niches': 7050, 'Grief': 7051, 'Error': 7052, 'superconducte': 7053, 'datum': 7054, 'increasingly': 7055, 'Lisa': 7056, 'remove': 7057, 'training': 7058, 'phenotypic': 7059, 'andoperant': 7060, 'physic': 7061, 'Calculus': 7062, 'effect': 7063, 'benzene': 7064, 'Inequality': 7065, 'extracellular': 7066, 'socialization': 7067, 'review': 7068, 'determine': 7069, 'willing': 7070, 'Indus': 7071, 'NAFTA': 7072, 'exchange': 7073, 'atmospheric': 7074, 'numeracy': 7075, 'Ideas': 7076, 'adjective': 7077, 'Roslings': 7078, 'component': 7079, 'glass': 7080, 'Henri': 7081, 'good': 7082, 'banduras': 7083, 'Essentials': 7084, 'wellstructured': 7085, 'Water': 7086, 'Contemporary': 7087, 'lyrical': 7088, '5point': 7089, 'Discovery': 7090, 'soviet': 7091, 'Confucius': 7092, 'postglobalization': 7093, 'counterexample': 7094, 'require': 7095, 'entrepreneurship': 7096, 'Je': 7097, 'Sebastian': 7098, 'cytoskeleton': 7099, 'MLA': 7100, 'Australia': 7101, 'practice': 7102, 'figurative': 7103, 'Mitra': 7104, 'characteristic': 7105, 'living': 7106, 'reptile': 7107, 'Paulo': 7108, 'translation': 7109, 'fundamentalism': 7110, 'meaning': 7111, 'adjacency': 7112, 'Paine': 7113, 'governance': 7114, 'cartesian': 7115, 'nonviolent': 7116, 'Romes': 7117, 'Scales': 7118, 'governmental': 7119, 'Accord': 7120, 'mindmap': 7121, 'dollar': 7122, 'disruption': 7123, 'prescriptive': 7124, 'module': 7125, 'demand': 7126, 'Set': 7127, 'revise': 7128, 'replication': 7129, 'bridge': 7130, 'Triad': 7131, 'teenager': 7132, 'intellectual': 7133, 'temperature': 7134, 'Panopticism': 7135, 'collective': 7136, 'hormesis': 7137, 'class': 7138, 'Flemings': 7139, 'rigorous': 7140, 'unintended': 7141, 'GMO': 7142, 'aerodynamic': 7143, 'uniform': 7144, 'largescale': 7145, 'ofastic': 7146, 'strike': 7147, 'Jacques': 7148, 'Russel': 7149, 'Imperative': 7150, 'aiassiste': 7151, 'pathogen': 7152, 'physicist': 7153, 'Fallacy': 7154, 'wild': 7155, 'et': 7156, 'Ironworkers': 7157, 'maintenance': 7158, 'Pareto': 7159, 'Processes': 7160, 'biotechnology': 7161, 'chaotic': 7162, 'standardsbase': 7163, 'death': 7164, 'mentally': 7165, 'style': 7166, 'proposition': 7167, 'Doyles': 7168, 'seek': 7169, 'Bass': 7170, 'personification': 7171, 'closed': 7172, 'adolescent': 7173, 'Influence': 7174, 'Donald': 7175, 'Vietnams': 7176, 'universitys': 7177, 'traumatic': 7178, 'verification': 7179, 'conceptual': 7180, 'Hallidays': 7181, 'McGuffins': 7182, 'crisis': 7183, '1900s': 7184, 'JS': 7185, 'intricacy': 7186, 'sphere': 7187, 'threepage': 7188, 'personalized': 7189, 'protestant': 7190, 'intersection': 7191, 'presence': 7192, 'reliability': 7193, 'acclimatization': 7194, 'Kantianism': 7195, 'biomechanic': 7196, 'direct': 7197, 'explanation': 7198, 'Pairing': 7199, 'monitor': 7200, 'management': 7201, 'Said': 7202, 'low': 7203, 'interconnection': 7204, 'marsh': 7205, 'isolate': 7206, 'epigenome': 7207, 'reclassification': 7208, 'candidate': 7209, 'x2': 7210, 'monoamine': 7211, 'cuttingedge': 7212, 'insight': 7213, 'rest': 7214, 'Plutos': 7215, 'daughter': 7216, 'Theodor': 7217, 'humanitarian': 7218, 'Unmotivated': 7219, 'underdeveloped': 7220, 'Goals': 7221, 'QuineDu': 7222, 'investor': 7223, 'actualization': 7224, 'mention': 7225, 'Mosess': 7226, 'Divine': 7227, 'nonrenormalizable': 7228, 'testing': 7229, 'justification': 7230, 'Bronfenbrenner': 7231, 'pioneer': 7232, 'adult': 7233, 'transform': 7234, 'Faulkner': 7235, 'needbased': 7236, 'momentum': 7237, 'socialism': 7238, 'punnett': 7239, 'modernist': 7240, 'worklife': 7241, 'Sophocles': 7242, 'Franz': 7243, 'Abnormal': 7244, 'order': 7245, 'Revolutionary': 7246, 'significance': 7247, 'mitigate': 7248, 'genomics': 7249, 'triple': 7250, 'respect': 7251, 'Allan': 7252, 'possibility': 7253, 'PostClassical': 7254, '1914': 7255, 'equitable': 7256, 'greatly': 7257, 'mechanics': 7258, 'basin': 7259, 'problematic': 7260, 'Duality': 7261, 'Nurture': 7262, 'reality': 7263, 'mobility': 7264, 'Life': 7265, 'pitch': 7266, 'ironically': 7267, 'lunch': 7268, 'Lakoff': 7269, 'workforce': 7270, 'Stampp': 7271, 'elimination': 7272, 'CO2': 7273, 'Mores': 7274, 'ewaste': 7275, 'draw': 7276, 'pale': 7277, 'fmri': 7278, 'poet': 7279, 'higherorder': 7280, 'Adolescent': 7281, 'underestimate': 7282, 'Positivism': 7283, 'exponential': 7284, 'decode': 7285, 'Darwanism': 7286, 'dot': 7287, 'Critically': 7288, 'wellknown': 7289, 'socratic': 7290, 'famous': 7291, 'maoi': 7292, 'Gilmore': 7293, 'Nineteen': 7294, 'imperative': 7295, 'sorting': 7296, 'subtle': 7297, 'blessing': 7298, 'Intersectionality': 7299, 'argue': 7300, 'quest': 7301, 'settlement': 7302, 'Montgomery': 7303, 'equality': 7304, 'harmonic': 7305, 'finite': 7306, '22': 7307, 'Wilhelm': 7308, 'Debate': 7309, 'logicbase': 7310, 'fluid': 7311, 'inexistentialism': 7312, 'accident': 7313, 'Gagnes': 7314, 'integrity': 7315, 'heroism': 7316, 'observable': 7317, 'Mesmerism': 7318, 'Revival': 7319, 'eliminate': 7320, 'politic': 7321, 'phonicsbase': 7322, 'classroom': 7323, 'ATP': 7324, 'Cramers': 7325, 'Depression': 7326, 'sight': 7327, 'indeterminism': 7328, 'elicit': 7329, 'elaborative': 7330, 'participant': 7331, 'private': 7332, 'Meno': 7333, 'meeting': 7334, 'Jungs': 7335, 'Repetition': 7336, 'collectivism': 7337, 'interest': 7338, 'aviation': 7339, 'Hayeks': 7340, 'nuclear': 7341, 'Celsius': 7342, 'highly': 7343, 'manageable': 7344, 'widelyaccepte': 7345, 'Vedanta': 7346, 'Goldings': 7347, 'works': 7348, 'ei': 7349, 'currently': 7350, 'internalization': 7351, 'physicalism': 7352, 'barrier': 7353, 'catharsis': 7354, 'Henry': 7355, 'electricity': 7356, 'Evaluation': 7357, 'selfregulate': 7358, 'Cohen': 7359, 'easytounderstand': 7360, 'Chicagostyle': 7361, 'Nativist': 7362, 'hieroglyph': 7363, 'infinite': 7364, 'interpret': 7365, 'today': 7366, 'calculator': 7367, 'motivated': 7368, 'know': 7369, 'verify': 7370, 'originality': 7371, 'circle': 7372, '3minute': 7373, 'roller': 7374, 'photojournalism': 7375, 'Essence': 7376, 'Caesar': 7377, 'Mesopotamia': 7378, 'Machine': 7379, 'monarchy': 7380, 'kill': 7381, 'bayesian': 7382, 'construct': 7383, 'Relations': 7384, 'psychosocial': 7385, 'adversity': 7386, 'Discourse': 7387, 'Role': 7388, 'purification': 7389, 'liquid': 7390, 'Engineering': 7391, 'developmental': 7392, 'definitely': 7393, 'pathway': 7394, 'epoch': 7395, 'routine': 7396, 'ofplitonic': 7397, 'Axis': 7398, 'Laffer': 7399, 'betwen': 7400, 'wrong': 7401, 'microprocessor': 7402, 'AIpowered': 7403, 'psychological': 7404, 'Connectivism': 7405, 'innovate': 7406, 'narrow': 7407, 'desalination': 7408, 'Metacognition': 7409, 'canon': 7410, 'omission': 7411, 'nonmathematical': 7412, 'overload': 7413, 'vyerly': 7414, 'censorship': 7415, 'walk': 7416, 'European': 7417, 'Adenosine': 7418, 'aquinass': 7419, 'RAS': 7420, 'FBI': 7421, 'Kubla': 7422, 'average': 7423, 'defend': 7424, 'pea': 7425, 'motive': 7426, 'strange': 7427, 'sustainability': 7428, 'Vygotskys': 7429, 'Tectonics': 7430, 'adapt': 7431, 'disagreement': 7432, 'counterpart': 7433, 'McClelland': 7434, 'campus': 7435, 'diversity': 7436, 'multicultural': 7437, 'teenage': 7438, 'Disadvantages': 7439, 'Flowerdew': 7440, 'Gibsons': 7441, 'model': 7442, 'absentia': 7443, 'diabete': 7444, 'advertising': 7445, 'solar': 7446, 'Acceptance': 7447, 'Meiosis': 7448, 'Egypt': 7449, 'incorporation': 7450, 'emphasis': 7451, 'Guanxi': 7452, 'century': 7453, 'Golden': 7454, 'convert': 7455, 'day': 7456, 'fixedmindset': 7457, 'diagnostic': 7458, 'knowledgesharing': 7459, 'nanotechnology': 7460, 'flip': 7461, 'Methods': 7462, 'linearity': 7463, 'telophase': 7464, 'coursework': 7465, 'window': 7466, 'eating': 7467, 'Liberal': 7468, 'laboratory': 7469, 'environmentallyfriendly': 7470, 'philosophyrelate': 7471, 'timber': 7472, 'cognitivism': 7473, 'negotiation': 7474, 'Fanon': 7475, 'hypothesizing': 7476, 'Retrieval': 7477, 'Jill': 7478, 'elementary': 7479, 'leftwe': 7480, 'Acid': 7481, 'influence': 7482, 'pursue': 7483, 'h4': 7484, 'reconcile': 7485, 'following': 7486, 'sickle': 7487, 'chart': 7488, 'Lagrange': 7489, 'significant': 7490, 'curse': 7491, 'Prince': 7492, 'Christianity': 7493, 'consciousness': 7494, 'kantian': 7495, 'advice': 7496, 'motivator': 7497, 'Transform': 7498, 'Quarks': 7499, 'Saussure': 7500, 'mover': 7501, 'EQ': 7502, 'scholarship': 7503, 'topological': 7504, 'Foucaults': 7505, 'passing': 7506, 'adaptability': 7507, 'innateness': 7508, 'Kohlbergs': 7509, 'White': 7510, 'Thermodynamics': 7511, 'proximity': 7512, 'amino': 7513, 'cardiovascular': 7514, 'Mendeley': 7515, 'facilitator': 7516, 'Relativistic': 7517, 'impressionism': 7518, 'globe': 7519, 'disrupt': 7520, 'friendship': 7521, 'RNAs': 7522, 'Merton': 7523, 'holism': 7524, 'supplemental': 7525, 'monotheism': 7526, 'postindependence': 7527, 'table': 7528, 'remain': 7529, 'communitys': 7530, 'Hindu': 7531, 'precolonial': 7532, 'conclude': 7533, 'seminar': 7534, 'selfmotivation': 7535, 'detract': 7536, 'fall': 7537, 'Miltons': 7538, 'budget': 7539, 'DualProcess': 7540, 'mimic': 7541, 'behavioral': 7542, 'flagship': 7543, 'wellstructure': 7544, '17891799': 7545, 'prophase': 7546, 'therapistclient': 7547, 'Marlowe': 7548, 'related': 7549, 'grit': 7550, 'Freire': 7551, 'wellestablished': 7552, 'story': 7553, 'reduction': 7554, 'circuit': 7555, 'intriguing': 7556, 'Francisco': 7557, 'hawk': 7558, 'akrasia': 7559, 'System': 7560, 'mechanical': 7561, 'advance': 7562, 'autocracy': 7563, 'interrogation': 7564, 'Fission': 7565, 'publisher': 7566, 'metaphor': 7567, 'Finland': 7568, 'lecturer': 7569, 'triad': 7570, 'locally': 7571, 'disability': 7572, 'relatability': 7573, 'Magna': 7574, 'Essay': 7575, 'pareto': 7576, 'JeanJacques': 7577, 'Bertalanffys': 7578, 'Escherichia': 7579, 'Test': 7580, 'Fons': 7581, '6thgrade': 7582, 'Monism': 7583, 'confound': 7584, 'sport': 7585, 'quality': 7586, 'Academic': 7587, 'hard': 7588, 'legend': 7589, 'Lorentz': 7590, 'Advantages': 7591, 'choose': 7592, 'mitotic': 7593, 'outlier': 7594, 'Krashens': 7595, 'microeconomics': 7596, 'Fborn': 7597, 'Ryans': 7598, 'prioritize': 7599, 'difficulty': 7600, 'electromagnet': 7601, 'building': 7602, 'divide': 7603, 'Whitmans': 7604, 'dependency': 7605, 'deconstructed': 7606, 'Lawrence': 7607, 'respond': 7608, 'manager': 7609, 'solvent': 7610, 'inperson': 7611, 'photosynthesis': 7612, 'highachieving': 7613, 'Kinesthetic': 7614, 'philosophers': 7615, 'cartography': 7616, 'Empires': 7617, 'assume': 7618, 'Box': 7619, 'traditional': 7620, 'Thucydides': 7621, 'automation': 7622, 'potentiation': 7623, 'handwritten': 7624, 'Merchant': 7625, 'William': 7626, 'religious': 7627, 'acceleration': 7628, 'role': 7629, '10000': 7630, 'inaction': 7631, 'engaging': 7632, 'breathing': 7633, 'diversification': 7634, 'end': 7635, 'thejourney': 7636, 'Wright': 7637, 'individuality': 7638, 'hemisphere': 7639, 'secondary': 7640, 'Critiques': 7641, 'multiplechoice': 7642, 'federalism': 7643, 'Philosophie': 7644, 'endothermic': 7645, 'injury': 7646, 'solution': 7647, 'geographical': 7648, 'metamorphic': 7649, 'Huntingtons': 7650, 'ramification': 7651, 'provide': 7652, 'Portfolio': 7653, 'respiratory': 7654, 'HaberBosch': 7655, 'livelihood': 7656, 'converge': 7657, 'Mendelian': 7658, 'Achievement': 7659, 'von': 7660, 'Chemical': 7661, 'collapse': 7662, 'prove': 7663, '5th': 7664, 'Base': 7665, 'appreciate': 7666, 'Rhetoric': 7667, 'Mastering': 7668, 'noble': 7669, 'Humanism': 7670, 'stellar': 7671, 'Greenhouse': 7672, 'Beckian': 7673, 'threecueing': 7674, 'educationconstructivism': 7675, 'drive': 7676, 'circumstance': 7677, 'autonomic': 7678, 'webs': 7679, 'interviewing': 7680, 'precipitation': 7681, 'spirit': 7682, 'heredity': 7683, 'seo': 7684, 'vinegar': 7685, 'grab': 7686, 'Newtonian': 7687, 'Claude': 7688, 'Pythagoras': 7689, 'force': 7690, 'multislide': 7691, 'Conquest': 7692, 'priori': 7693, 'citric': 7694, 'ThreeStratum': 7695, 'mutual': 7696, 'Amendment': 7697, 'Zone': 7698, 'Schopenhauers': 7699, 'Pyne': 7700, 'persu': 7701, 'separate': 7702, 'Economic': 7703, 'Victorian': 7704, 'play': 7705, 'compositional': 7706, 'Krathwohl': 7707, 'subjectivity': 7708, 'compatibilism': 7709, 'easy': 7710, 'skinner': 7711, 'Simulation': 7712, 'integrate': 7713, 'Specific': 7714, 'Info': 7715, 'formulating': 7716, 'Gaussian': 7717, 'colony': 7718, 'RAAS': 7719, 'Dickens': 7720, 'Judea': 7721, 'energyrelate': 7722, 'asymmetric': 7723, 'differing': 7724, '3page': 7725, 'informationprocesse': 7726, 'divine': 7727, 'Theory': 7728, 'live': 7729, 'groundbreaking': 7730, 'Cultural': 7731, 'Molecular': 7732, 'Lepore': 7733, 'gain': 7734, 'explore': 7735, 'superposition': 7736, 'strong': 7737, 'Lev': 7738, 'Socratic': 7739, 'Matrix': 7740, 'match': 7741, 'studentle': 7742, 'encapsulate': 7743, 'Equus': 7744, 'slogan': 7745, 'early': 7746, 'teleport': 7747, 'Heidegger': 7748, 'seemingly': 7749, 'selfregulation': 7750, 'Mockingbird': 7751, 'Gazzaniga': 7752, 'extend': 7753, 'detective': 7754, '5paragraph': 7755, 'Anthonys': 7756, '3x': 7757, 'maximum': 7758, 'attendance': 7759, 'highspeed': 7760, 'Baldwin': 7761, 'stepbystep': 7762, 'personal': 7763, 'clean': 7764, 'technologys': 7765, 'Causes': 7766, 'selforganize': 7767, 'interactive': 7768, 'multivariable': 7769, 'requirement': 7770, 'Tang': 7771, 'Moment': 7772, 'Humanistic': 7773, 'remodeling': 7774, 'biology': 7775, 'universal': 7776, 'Binet': 7777, 'positivist': 7778, 'individuation': 7779, 'informative': 7780, 'vocational': 7781, 'Click': 7782, 'island': 7783, 'special': 7784, 'wall': 7785, 'stratification': 7786, 'Indias': 7787, 'pessimism': 7788, 'tropical': 7789, 'Discrete': 7790, 'endosymbiont': 7791, 'Christiansen': 7792, 'eighteenthcentury': 7793, 'optimal': 7794, 'Schutz': 7795, 'researcher': 7796, 'Bernoullis': 7797, 'Plague': 7798, 'Kafkas': 7799, 'polymorphism': 7800, 'Milgrams': 7801, 'foucault': 7802, 'narrative': 7803, 'F': 7804, 'capacity': 7805, 'Concept': 7806, 'area': 7807, 'Doppler': 7808, 'Impact': 7809, 'elitist': 7810, 'deconstructionism': 7811, 'doubleblind': 7812, 'care': 7813, 'delivery': 7814, 'includesocial': 7815, 'Habers': 7816, 'cat': 7817, 'include': 7818, 'dissolve': 7819, 'Expressionism': 7820, 'regional': 7821, 'Paris': 7822, 'cluster': 7823, 'phronesis': 7824, 'manifestation': 7825, 'online': 7826, 'reformer': 7827, 'Feyerabend': 7828, 'doubleslit': 7829, 'accompany': 7830, 'professionally': 7831, 'Neolithic': 7832, 'plan': 7833, 'Gottlieb': 7834, 'Vygotsky': 7835, 'behaviorism': 7836, 'laureate': 7837, 'utopian': 7838, 'Scarlet': 7839, 'universalism': 7840, 'greek': 7841, 'Ecology': 7842, 'metabolism': 7843, 'migration': 7844, 'sea': 7845, 'Drive': 7846, 'concrete': 7847, 'Ties': 7848, 'Effect': 7849, 'aesthetic': 7850, 'islamic': 7851, 'Treaty': 7852, 'clarity': 7853, 'prosperous': 7854, '18thcentury': 7855, 'alchemist': 7856, 'nativism': 7857, 'simultaneous': 7858, 'pro': 7859, 'Zero': 7860, 'statistical': 7861, 'lateral': 7862, 'Types': 7863, 'frobnicate': 7864, 'selfpace': 7865, 'local': 7866, 'gendered': 7867, 'inclusivity': 7868, 'numeral': 7869, 'sealevel': 7870, '14th': 7871, 'prevalence': 7872, 'Wilson': 7873, 'popularize': 7874, 'echo': 7875, 'Domestic': 7876, 'tutorial': 7877, 'monolingual': 7878, 'tarantula': 7879, 'authorship': 7880, 'England': 7881, 'scale': 7882, 'discussionbase': 7883, 'individualized': 7884, 'submicroscopic': 7885, 'functionalist': 7886, 'pollution': 7887, 'mathematic': 7888, 'Inference': 7889, 'Immune': 7890, 'al': 7891, 'Ramayana': 7892, 'salinity': 7893, 'productive': 7894, 'Dmitri': 7895, 'Nikola': 7896, 'conference': 7897, 'conflation': 7898, 'need': 7899, 'sure': 7900, 'believe': 7901, 'direction': 7902, 'Christian': 7903, 'Fluid': 7904, 'Behaviorist': 7905, 'Increasing': 7906, 'accomplish': 7907}\n"
          ]
        }
      ]
    },
    {
      "cell_type": "markdown",
      "source": [
        "initializing the embedding matrix. The embedding matrix will have dimensions (vocab_size, embedding_dim) where vocab_size is the total number of unique words in my vocabulary and embedding_dim is the dimensionality of the embedding space."
      ],
      "metadata": {
        "id": "DM54njO2bCOo"
      }
    },
    {
      "cell_type": "code",
      "source": [
        "import numpy as np\n",
        "\n",
        "# Set the dimensionality of the embedding space\n",
        "embedding_dim = 20\n",
        "\n",
        "# Initialize the embedding matrix with random values\n",
        "embedding_matrix = np.random.rand(len(vocab), embedding_dim)\n",
        "\n",
        "print(embedding_matrix.shape)\n"
      ],
      "metadata": {
        "colab": {
          "base_uri": "https://localhost:8080/"
        },
        "id": "E2JNEHjZa6rN",
        "outputId": "b7121135-d777-4f2f-c086-091ad7dae76c"
      },
      "execution_count": 50,
      "outputs": [
        {
          "output_type": "stream",
          "name": "stdout",
          "text": [
            "(7908, 20)\n"
          ]
        }
      ]
    },
    {
      "cell_type": "markdown",
      "source": [
        " Map Tokens to Indices"
      ],
      "metadata": {
        "id": "zsvAQlzadVT3"
      }
    },
    {
      "cell_type": "code",
      "source": [
        "def tokens_to_indices(tokens, vocab):\n",
        "    indices = []\n",
        "    # Iterate through each token in the tokenized sequence\n",
        "    for token in tokens:\n",
        "        # Check if the token exists in the vocabulary\n",
        "        if token in vocab:\n",
        "            # Map the token to its corresponding index in the vocabulary\n",
        "            indices.append(vocab[token])\n",
        "        else:\n",
        "            # If the token is out of vocabulary, assign a special index (e.g., <UNK>)\n",
        "            indices.append(vocab['<UNK>'])\n",
        "    return indices"
      ],
      "metadata": {
        "id": "o3CsG0QFcC_D"
      },
      "execution_count": 51,
      "outputs": []
    },
    {
      "cell_type": "markdown",
      "source": [
        "all_indices list contains the indexes of all tokens in the vocab"
      ],
      "metadata": {
        "id": "ejFbFpxYff6X"
      }
    },
    {
      "cell_type": "code",
      "source": [
        "# Initialize a list to store indices for each row\n",
        "all_indices = []\n",
        "\n",
        "# Iterate through each row of tokenized words\n",
        "for tokens in df['filtered_response']:\n",
        "    # Convert tokens to indices using the tokens_to_indices function\n",
        "    indices = tokens_to_indices(tokens, vocab)\n",
        "    # Append the indices for the current row to the list\n",
        "    all_indices.append(indices)\n",
        "\n",
        "# Print the indices for all rows\n",
        "print(all_indices[0:5])\n"
      ],
      "metadata": {
        "colab": {
          "base_uri": "https://localhost:8080/"
        },
        "id": "cC32HhBGfG--",
        "outputId": "4bf66ade-03fe-4b39-87c8-8553f993de84"
      },
      "execution_count": 52,
      "outputs": [
        {
          "output_type": "stream",
          "name": "stdout",
          "text": [
            "[[5558, 4004, 1530, 4114, 6405, 5785, 5847, 1673, 6706, 7030, 6555], [6992, 1355, 2416, 6608, 2696, 6147], [1399, 7247, 6861, 1316, 2507, 2419, 6706, 2097, 5741, 2872, 4194], [5558, 4004, 4159, 2914, 1302, 2872, 2643, 6706], [1399, 1168, 7629, 2362, 1843, 519, 4381]]\n"
          ]
        }
      ]
    },
    {
      "cell_type": "code",
      "source": [
        "# Function to retrieve embeddings for a sequence of token indices\n",
        "def get_embeddings(indices, embedding_matrix):\n",
        "    embeddings = []\n",
        "    # Iterate through each index in the sequence\n",
        "    for idx in indices:\n",
        "        # Lookup the embedding for the current index in the embedding matrix\n",
        "        embedding = embedding_matrix[idx]\n",
        "        embeddings.append(embedding)\n",
        "    return embeddings"
      ],
      "metadata": {
        "id": "m3oMWkt9gJNF"
      },
      "execution_count": 53,
      "outputs": []
    },
    {
      "cell_type": "markdown",
      "source": [
        "Now, we have word embeddings ( Dense vector representations) for each token in our dataset."
      ],
      "metadata": {
        "id": "polUFR4IiiE3"
      }
    },
    {
      "cell_type": "code",
      "source": [
        "# Get embeddings for the first row\n",
        "embeddings_first_row = get_embeddings(all_indices[0], embedding_matrix)\n",
        "print(embeddings_first_row)"
      ],
      "metadata": {
        "colab": {
          "base_uri": "https://localhost:8080/"
        },
        "id": "yTX99FsShbS1",
        "outputId": "6287bab2-7e03-46a8-c230-40f96206773b"
      },
      "execution_count": 54,
      "outputs": [
        {
          "output_type": "stream",
          "name": "stdout",
          "text": [
            "[array([0.29460259, 0.60642216, 0.94842539, 0.44116273, 0.12061002,\n",
            "       0.3648794 , 0.80167681, 0.50869747, 0.4206482 , 0.85496237,\n",
            "       0.12670704, 0.03082472, 0.88553025, 0.67715494, 0.17322786,\n",
            "       0.34455489, 0.97124575, 0.00753809, 0.14577344, 0.23430215]), array([0.31632039, 0.41604789, 0.93239929, 0.86223652, 0.46153682,\n",
            "       0.18215889, 0.60172151, 0.11208777, 0.15077128, 0.60561798,\n",
            "       0.4916407 , 0.82864962, 0.06327833, 0.30637127, 0.76266627,\n",
            "       0.73653239, 0.45756339, 0.30198092, 0.52499889, 0.36244974]), array([0.63882767, 0.90788897, 0.95039051, 0.17939544, 0.02318536,\n",
            "       0.29120161, 0.66329876, 0.8468871 , 0.40127849, 0.06687204,\n",
            "       0.08415771, 0.68358046, 0.48878414, 0.24804418, 0.51121035,\n",
            "       0.78694145, 0.39674847, 0.44742317, 0.82385235, 0.98338702]), array([0.53964716, 0.76830176, 0.94532687, 0.22034966, 0.59333702,\n",
            "       0.05262493, 0.06302793, 0.75573077, 0.27131531, 0.19549647,\n",
            "       0.54210361, 0.57513344, 0.56467415, 0.47167951, 0.65834958,\n",
            "       0.92602773, 0.14070229, 0.67943358, 0.90685632, 0.68530247]), array([0.15740832, 0.06419627, 0.66043658, 0.78493047, 0.99997268,\n",
            "       0.0152026 , 0.35215617, 0.80072161, 0.62379717, 0.64702606,\n",
            "       0.2379437 , 0.61328838, 0.86084402, 0.37087897, 0.84225138,\n",
            "       0.91493362, 0.27835632, 0.57001212, 0.14726745, 0.28426348]), array([0.08756081, 0.88465499, 0.60515297, 0.75661173, 0.56463617,\n",
            "       0.72147217, 0.04807934, 0.85909432, 0.57399831, 0.52263592,\n",
            "       0.9755809 , 0.46527537, 0.34204294, 0.946619  , 0.02272221,\n",
            "       0.85529008, 0.84372421, 0.83824553, 0.1027595 , 0.2344055 ]), array([7.42034658e-01, 6.18047997e-01, 8.72635792e-01, 8.20301518e-01,\n",
            "       8.11171441e-01, 2.98266260e-01, 4.49470691e-01, 4.76344415e-01,\n",
            "       3.84313607e-01, 4.36195944e-01, 8.85740418e-04, 6.74966983e-01,\n",
            "       5.17615288e-01, 9.58217167e-01, 5.91419651e-01, 1.31681248e-01,\n",
            "       2.94991720e-02, 4.92921574e-01, 9.53232007e-01, 4.00055113e-01]), array([0.66648167, 0.59010886, 0.28848   , 0.48226407, 0.46942797,\n",
            "       0.77754698, 0.75506035, 0.30759637, 0.17785505, 0.5176542 ,\n",
            "       0.93006159, 0.79676141, 0.79649305, 0.70680693, 0.34106112,\n",
            "       0.1252994 , 0.91554678, 0.33208563, 0.53982705, 0.61033939]), array([0.87316368, 0.55045245, 0.77133068, 0.71683112, 0.56536666,\n",
            "       0.99641827, 0.134247  , 0.42856296, 0.43450321, 0.18917313,\n",
            "       0.28830684, 0.84964729, 0.48140288, 0.77342944, 0.21175001,\n",
            "       0.43798767, 0.23234596, 0.02868632, 0.58094909, 0.85460398]), array([0.37421203, 0.34110689, 0.70756969, 0.38798666, 0.02539678,\n",
            "       0.16854639, 0.07281527, 0.81134884, 0.07592119, 0.12107777,\n",
            "       0.21708105, 0.25848362, 0.07036563, 0.47323563, 0.8347868 ,\n",
            "       0.3467719 , 0.11013269, 0.48462575, 0.05444426, 0.94299188]), array([0.62063368, 0.14588049, 0.65912447, 0.88786145, 0.58962955,\n",
            "       0.18095829, 0.36912832, 0.09587091, 0.34581814, 0.05957505,\n",
            "       0.75054919, 0.19996482, 0.66593269, 0.78957604, 0.18374862,\n",
            "       0.42385571, 0.31745165, 0.32362885, 0.72715694, 0.94903566])]\n"
          ]
        }
      ]
    },
    {
      "cell_type": "code",
      "source": [
        "# Function to pad sequences to a fixed length\n",
        "def pad_sequences(sequences, max_length):\n",
        "    padded_sequences = []\n",
        "    # Iterate through each sequence in the list of sequences\n",
        "    for sequence in sequences:\n",
        "        # Pad the sequence with zeros if its length is less than the max_length\n",
        "        padded_sequence = sequence[:max_length] + [0] * max(0, max_length - len(sequence))\n",
        "        # Append the padded sequence to the list of padded sequences\n",
        "        padded_sequences.append(padded_sequence)\n",
        "    return padded_sequences\n",
        "\n",
        "max_length = 30\n",
        "\n",
        "# Pad sequences to the maximum length\n",
        "padded_sequences = pad_sequences(all_indices, max_length)\n",
        "print(padded_sequences[0:5])\n"
      ],
      "metadata": {
        "colab": {
          "base_uri": "https://localhost:8080/"
        },
        "id": "y70LBE4ltBeH",
        "outputId": "54d8256a-5523-486f-9a0b-f03dc010bdea"
      },
      "execution_count": 55,
      "outputs": [
        {
          "output_type": "stream",
          "name": "stdout",
          "text": [
            "[[5558, 4004, 1530, 4114, 6405, 5785, 5847, 1673, 6706, 7030, 6555, 0, 0, 0, 0, 0, 0, 0, 0, 0, 0, 0, 0, 0, 0, 0, 0, 0, 0, 0], [6992, 1355, 2416, 6608, 2696, 6147, 0, 0, 0, 0, 0, 0, 0, 0, 0, 0, 0, 0, 0, 0, 0, 0, 0, 0, 0, 0, 0, 0, 0, 0], [1399, 7247, 6861, 1316, 2507, 2419, 6706, 2097, 5741, 2872, 4194, 0, 0, 0, 0, 0, 0, 0, 0, 0, 0, 0, 0, 0, 0, 0, 0, 0, 0, 0], [5558, 4004, 4159, 2914, 1302, 2872, 2643, 6706, 0, 0, 0, 0, 0, 0, 0, 0, 0, 0, 0, 0, 0, 0, 0, 0, 0, 0, 0, 0, 0, 0], [1399, 1168, 7629, 2362, 1843, 519, 4381, 0, 0, 0, 0, 0, 0, 0, 0, 0, 0, 0, 0, 0, 0, 0, 0, 0, 0, 0, 0, 0, 0, 0]]\n"
          ]
        }
      ]
    },
    {
      "cell_type": "markdown",
      "source": [
        "The architecture that i used is as follows:\n",
        "\n",
        "I started first with the embedding layer which is defined in the previous step. After finishing the embedding layer in Step 1, I proceed to create the rest of the model architecture. I start by adding a BI-LSTM layer, which takes inputs from the embedding layer. This layer captures the sequential information from both forward and backward directions. After the BI-LSTM layer, I add a Dense layer on top. This Dense layer is used for the final classification or prediction task. The number of units in this layer matches the number of tags, and I apply a softmax activation function to produce probabilities for each tag."
      ],
      "metadata": {
        "id": "IPx-56NV7pKW"
      }
    },
    {
      "cell_type": "markdown",
      "metadata": {
        "id": "Enuqo6POwEat"
      },
      "source": [
        "The output of the BiLSTM layer is a sequence of contextual representations for each token in the input sequence"
      ]
    },
    {
      "cell_type": "markdown",
      "source": [
        "### Identifying X_Train and Y_Train"
      ],
      "metadata": {
        "id": "eon7V7Gqx37k"
      }
    },
    {
      "cell_type": "code",
      "source": [
        "# Pad sequences to the maximum length expected by the model\n",
        "max_input_length = 30  # Adjust this value based on the expected input length of the model\n",
        "\n",
        "x_train_padded = pad_sequences(all_indices, max_input_length)\n",
        "\n",
        "# Convert X_train to numpy array\n",
        "x_train_np = np.array(x_train_padded)\n",
        "print(x_train_np.shape)\n"
      ],
      "metadata": {
        "colab": {
          "base_uri": "https://localhost:8080/"
        },
        "id": "KUduetSAx9M3",
        "outputId": "a1077b42-844a-4ac1-a8f6-be9ef23b7dcf"
      },
      "execution_count": 56,
      "outputs": [
        {
          "output_type": "stream",
          "name": "stdout",
          "text": [
            "(249118, 30)\n"
          ]
        }
      ]
    },
    {
      "cell_type": "code",
      "source": [
        "# Initialize an empty set to store unique tags\n",
        "unique_tags = set()\n",
        "\n",
        "# Iterate through each row in the \"ner_results\" column\n",
        "for ner_tags in df['ner_results']:\n",
        "    # Extract the tags from each row and add them to the set\n",
        "    for tag in ner_tags:\n",
        "        unique_tags.add(tag[1])  # Assuming tag[1] contains the tag label\n",
        "\n",
        "# Create a tag vocabulary by assigning indices to unique tags\n",
        "tag_vocab = {tag: idx for idx, tag in enumerate(unique_tags)}\n",
        "\n",
        "# Define the maximum length for padding\n",
        "max_length = 30  # Adjust this value based on your dataset\n",
        "\n",
        "# Initialize a list to store y_train\n",
        "y_train = []\n",
        "\n",
        "# Pad sequences of tag indices to the maximum length\n",
        "for ner_tags in df['ner_results']:\n",
        "    tag_indices = [tag_vocab[tag[1]] for tag in ner_tags]\n",
        "    # Pad sequences of tag indices to the maximum length\n",
        "    padded_indices = tag_indices[:max_length] + [0] * max(0, max_length - len(tag_indices))\n",
        "    y_train.append(padded_indices)\n",
        "\n",
        "# Convert the list of tag sequences to a numpy array\n",
        "y_train = np.array(y_train)\n",
        "\n",
        "# Ensure that y_train has the same number of columns as x_train\n",
        "y_train = y_train[:, :max_length]\n",
        "\n",
        "print(y_train.shape)\n"
      ],
      "metadata": {
        "colab": {
          "base_uri": "https://localhost:8080/"
        },
        "id": "5cgVkDDWyBNz",
        "outputId": "0d943a0b-fadd-4e5d-cacc-01ac233f6615"
      },
      "execution_count": 57,
      "outputs": [
        {
          "output_type": "stream",
          "name": "stdout",
          "text": [
            "(249118, 30)\n"
          ]
        }
      ]
    },
    {
      "cell_type": "markdown",
      "source": [
        "### Model Training"
      ],
      "metadata": {
        "id": "srxDVSt5Gd3t"
      }
    },
    {
      "cell_type": "code",
      "source": [
        "from tensorflow.keras.models import Sequential\n",
        "from tensorflow.keras.layers import Embedding, Bidirectional, LSTM, Dense\n",
        "\n",
        "# Defining the model architecture\n",
        "model = Sequential()\n",
        "\n",
        "# Add an Embedding layer\n",
        "model.add(Embedding(input_dim=len(vocab), output_dim=embedding_dim, input_length=max_length))\n",
        "\n",
        "# Add a Bidirectional LSTM layer\n",
        "model.add(Bidirectional(LSTM(units=64, return_sequences=True)))\n",
        "\n",
        "# Add a Dense layer\n",
        "model.add(Dense(units=num_classes, activation='softmax'))\n",
        "\n",
        "# Compile the model\n",
        "model.compile(optimizer='adam', loss='sparse_categorical_crossentropy', metrics=['accuracy'])\n",
        "\n",
        "# Print the model summary\n",
        "model.summary()\n"
      ],
      "metadata": {
        "colab": {
          "base_uri": "https://localhost:8080/"
        },
        "id": "XKEqh4JcBLvj",
        "outputId": "06cbe52a-6382-423f-bbbe-de7f48895f44"
      },
      "execution_count": 60,
      "outputs": [
        {
          "output_type": "stream",
          "name": "stdout",
          "text": [
            "Model: \"sequential_1\"\n",
            "_________________________________________________________________\n",
            " Layer (type)                Output Shape              Param #   \n",
            "=================================================================\n",
            " embedding_1 (Embedding)     (None, 30, 100)           790800    \n",
            "                                                                 \n",
            " bidirectional_1 (Bidirecti  (None, 30, 128)           84480     \n",
            " onal)                                                           \n",
            "                                                                 \n",
            " dense_1 (Dense)             (None, 30, 17)            2193      \n",
            "                                                                 \n",
            "=================================================================\n",
            "Total params: 877473 (3.35 MB)\n",
            "Trainable params: 877473 (3.35 MB)\n",
            "Non-trainable params: 0 (0.00 Byte)\n",
            "_________________________________________________________________\n"
          ]
        }
      ]
    },
    {
      "cell_type": "code",
      "source": [
        "epochs = 3\n",
        "\n",
        "# Train the model\n",
        "history = model.fit(x_train_np, y_train, epochs=epochs, batch_size=32)\n"
      ],
      "metadata": {
        "colab": {
          "base_uri": "https://localhost:8080/"
        },
        "id": "fBaXXLYPBRBB",
        "outputId": "3a2f112c-f9c7-4e14-821c-147d962fa467"
      },
      "execution_count": 61,
      "outputs": [
        {
          "output_type": "stream",
          "name": "stdout",
          "text": [
            "Epoch 1/3\n",
            "7785/7785 [==============================] - 377s 48ms/step - loss: 0.0371 - accuracy: 0.9888\n",
            "Epoch 2/3\n",
            "7785/7785 [==============================] - 379s 49ms/step - loss: 0.0112 - accuracy: 0.9961\n",
            "Epoch 3/3\n",
            "7785/7785 [==============================] - 376s 48ms/step - loss: 0.0086 - accuracy: 0.9970\n"
          ]
        }
      ]
    },
    {
      "cell_type": "code",
      "source": [
        "from sklearn.model_selection import train_test_split\n",
        "\n",
        "# Split the dataset into training and testing sets\n",
        "x_train, x_test, y_train, y_test = train_test_split(x_train_np, y_train, test_size=0.2, random_state=42)\n",
        "\n",
        "print(\"Shape of x_train:\", x_train.shape)\n",
        "print(\"Shape of x_test:\", x_test.shape)\n",
        "print(\"Shape of y_train:\", y_train.shape)\n",
        "print(\"Shape of y_test:\", y_test.shape)\n"
      ],
      "metadata": {
        "colab": {
          "base_uri": "https://localhost:8080/"
        },
        "id": "OK6u1xufBROe",
        "outputId": "e5570bcd-7c76-4858-9b93-fd9094c34f9b"
      },
      "execution_count": 64,
      "outputs": [
        {
          "output_type": "stream",
          "name": "stdout",
          "text": [
            "Shape of x_train: (199294, 30)\n",
            "Shape of x_test: (49824, 30)\n",
            "Shape of y_train: (199294, 30)\n",
            "Shape of y_test: (49824, 30)\n"
          ]
        }
      ]
    },
    {
      "cell_type": "code",
      "source": [
        "# Evaluate the model on test_data\n",
        "loss, accuracy = model.evaluate(x_test, y_test)\n",
        "print(f\"Training Loss: {loss:.4f}, Training Accuracy: {accuracy:.4f}\")"
      ],
      "metadata": {
        "colab": {
          "base_uri": "https://localhost:8080/"
        },
        "id": "IrgSo0CMBfQL",
        "outputId": "18f0be4b-e251-442b-dee3-943e6be23ec9"
      },
      "execution_count": 65,
      "outputs": [
        {
          "output_type": "stream",
          "name": "stdout",
          "text": [
            "1557/1557 [==============================] - 19s 12ms/step - loss: 0.0069 - accuracy: 0.9976\n",
            "Training Loss: 0.0069, Training Accuracy: 0.9976\n"
          ]
        }
      ]
    }
  ],
  "metadata": {
    "colab": {
      "provenance": []
    },
    "kernelspec": {
      "display_name": "Python 3",
      "name": "python3"
    },
    "language_info": {
      "name": "python"
    }
  },
  "nbformat": 4,
  "nbformat_minor": 0
}