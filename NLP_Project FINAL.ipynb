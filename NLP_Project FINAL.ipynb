{
  "cells": [
    {
      "cell_type": "code",
      "execution_count": 3,
      "metadata": {
        "colab": {
          "base_uri": "https://localhost:8080/"
        },
        "id": "wYiorCXc0MPz",
        "outputId": "c646ed62-a98a-45b4-baed-76364e5cf4f5"
      },
      "outputs": [
        {
          "output_type": "stream",
          "name": "stderr",
          "text": [
            "[nltk_data] Downloading package punkt to /root/nltk_data...\n",
            "[nltk_data]   Unzipping tokenizers/punkt.zip.\n",
            "[nltk_data] Downloading package wordnet to /root/nltk_data...\n",
            "[nltk_data] Downloading package omw-1.4 to /root/nltk_data...\n",
            "[nltk_data] Downloading package stopwords to /root/nltk_data...\n",
            "[nltk_data]   Unzipping corpora/stopwords.zip.\n"
          ]
        },
        {
          "output_type": "execute_result",
          "data": {
            "text/plain": [
              "True"
            ]
          },
          "metadata": {},
          "execution_count": 3
        }
      ],
      "source": [
        "\n",
        "import pandas as pd\n",
        "import nltk\n",
        "import spacy\n",
        "nlp = spacy.load('en_core_web_sm')\n",
        "import tensorflow\n",
        "import numpy as np\n",
        "\n",
        "\n",
        "from nltk.tokenize import sent_tokenize\n",
        "from nltk.tokenize import word_tokenize\n",
        "from nltk.stem import WordNetLemmatizer\n",
        "from nltk.stem.porter import PorterStemmer\n",
        "from nltk.corpus import stopwords\n",
        "from nltk.stem.snowball import SnowballStemmer\n",
        "from nltk.stem.porter import *\n",
        "\n",
        "nltk.download('punkt')\n",
        "nltk.download('wordnet')\n",
        "nltk.download('omw-1.4')\n",
        "nltk.download('stopwords')\n",
        "\n"
      ]
    },
    {
      "cell_type": "code",
      "execution_count": 4,
      "metadata": {
        "id": "dpbk-JuG8gF1"
      },
      "outputs": [],
      "source": [
        "# Load the JSONL file into a pandas DataFrame\n",
        "df = pd.read_json('data.jsonl', lines=True)"
      ]
    },
    {
      "cell_type": "code",
      "execution_count": 5,
      "metadata": {
        "colab": {
          "base_uri": "https://localhost:8080/",
          "height": 206
        },
        "id": "KogPGhbB9PN2",
        "outputId": "423bb37f-9978-42b9-f5ae-dc085ce7bf23"
      },
      "outputs": [
        {
          "output_type": "execute_result",
          "data": {
            "text/plain": [
              "                                            response\n",
              "0  \"Compare and contrast the philosophical founda...\n",
              "1  What are the key differences between classicis...\n",
              "2  Analyze the significance of the concept of \"co...\n",
              "3  \"Compare and contrast two different theories r...\n",
              "4  \"Analyze and discuss the role of artificial in..."
            ],
            "text/html": [
              "\n",
              "  <div id=\"df-c55024ed-1dbb-4749-bf45-827aa46bfbb1\" class=\"colab-df-container\">\n",
              "    <div>\n",
              "<style scoped>\n",
              "    .dataframe tbody tr th:only-of-type {\n",
              "        vertical-align: middle;\n",
              "    }\n",
              "\n",
              "    .dataframe tbody tr th {\n",
              "        vertical-align: top;\n",
              "    }\n",
              "\n",
              "    .dataframe thead th {\n",
              "        text-align: right;\n",
              "    }\n",
              "</style>\n",
              "<table border=\"1\" class=\"dataframe\">\n",
              "  <thead>\n",
              "    <tr style=\"text-align: right;\">\n",
              "      <th></th>\n",
              "      <th>response</th>\n",
              "    </tr>\n",
              "  </thead>\n",
              "  <tbody>\n",
              "    <tr>\n",
              "      <th>0</th>\n",
              "      <td>\"Compare and contrast the philosophical founda...</td>\n",
              "    </tr>\n",
              "    <tr>\n",
              "      <th>1</th>\n",
              "      <td>What are the key differences between classicis...</td>\n",
              "    </tr>\n",
              "    <tr>\n",
              "      <th>2</th>\n",
              "      <td>Analyze the significance of the concept of \"co...</td>\n",
              "    </tr>\n",
              "    <tr>\n",
              "      <th>3</th>\n",
              "      <td>\"Compare and contrast two different theories r...</td>\n",
              "    </tr>\n",
              "    <tr>\n",
              "      <th>4</th>\n",
              "      <td>\"Analyze and discuss the role of artificial in...</td>\n",
              "    </tr>\n",
              "  </tbody>\n",
              "</table>\n",
              "</div>\n",
              "    <div class=\"colab-df-buttons\">\n",
              "\n",
              "  <div class=\"colab-df-container\">\n",
              "    <button class=\"colab-df-convert\" onclick=\"convertToInteractive('df-c55024ed-1dbb-4749-bf45-827aa46bfbb1')\"\n",
              "            title=\"Convert this dataframe to an interactive table.\"\n",
              "            style=\"display:none;\">\n",
              "\n",
              "  <svg xmlns=\"http://www.w3.org/2000/svg\" height=\"24px\" viewBox=\"0 -960 960 960\">\n",
              "    <path d=\"M120-120v-720h720v720H120Zm60-500h600v-160H180v160Zm220 220h160v-160H400v160Zm0 220h160v-160H400v160ZM180-400h160v-160H180v160Zm440 0h160v-160H620v160ZM180-180h160v-160H180v160Zm440 0h160v-160H620v160Z\"/>\n",
              "  </svg>\n",
              "    </button>\n",
              "\n",
              "  <style>\n",
              "    .colab-df-container {\n",
              "      display:flex;\n",
              "      gap: 12px;\n",
              "    }\n",
              "\n",
              "    .colab-df-convert {\n",
              "      background-color: #E8F0FE;\n",
              "      border: none;\n",
              "      border-radius: 50%;\n",
              "      cursor: pointer;\n",
              "      display: none;\n",
              "      fill: #1967D2;\n",
              "      height: 32px;\n",
              "      padding: 0 0 0 0;\n",
              "      width: 32px;\n",
              "    }\n",
              "\n",
              "    .colab-df-convert:hover {\n",
              "      background-color: #E2EBFA;\n",
              "      box-shadow: 0px 1px 2px rgba(60, 64, 67, 0.3), 0px 1px 3px 1px rgba(60, 64, 67, 0.15);\n",
              "      fill: #174EA6;\n",
              "    }\n",
              "\n",
              "    .colab-df-buttons div {\n",
              "      margin-bottom: 4px;\n",
              "    }\n",
              "\n",
              "    [theme=dark] .colab-df-convert {\n",
              "      background-color: #3B4455;\n",
              "      fill: #D2E3FC;\n",
              "    }\n",
              "\n",
              "    [theme=dark] .colab-df-convert:hover {\n",
              "      background-color: #434B5C;\n",
              "      box-shadow: 0px 1px 3px 1px rgba(0, 0, 0, 0.15);\n",
              "      filter: drop-shadow(0px 1px 2px rgba(0, 0, 0, 0.3));\n",
              "      fill: #FFFFFF;\n",
              "    }\n",
              "  </style>\n",
              "\n",
              "    <script>\n",
              "      const buttonEl =\n",
              "        document.querySelector('#df-c55024ed-1dbb-4749-bf45-827aa46bfbb1 button.colab-df-convert');\n",
              "      buttonEl.style.display =\n",
              "        google.colab.kernel.accessAllowed ? 'block' : 'none';\n",
              "\n",
              "      async function convertToInteractive(key) {\n",
              "        const element = document.querySelector('#df-c55024ed-1dbb-4749-bf45-827aa46bfbb1');\n",
              "        const dataTable =\n",
              "          await google.colab.kernel.invokeFunction('convertToInteractive',\n",
              "                                                    [key], {});\n",
              "        if (!dataTable) return;\n",
              "\n",
              "        const docLinkHtml = 'Like what you see? Visit the ' +\n",
              "          '<a target=\"_blank\" href=https://colab.research.google.com/notebooks/data_table.ipynb>data table notebook</a>'\n",
              "          + ' to learn more about interactive tables.';\n",
              "        element.innerHTML = '';\n",
              "        dataTable['output_type'] = 'display_data';\n",
              "        await google.colab.output.renderOutput(dataTable, element);\n",
              "        const docLink = document.createElement('div');\n",
              "        docLink.innerHTML = docLinkHtml;\n",
              "        element.appendChild(docLink);\n",
              "      }\n",
              "    </script>\n",
              "  </div>\n",
              "\n",
              "\n",
              "<div id=\"df-84dd572e-12e7-45fb-b0f1-b6221acb79fd\">\n",
              "  <button class=\"colab-df-quickchart\" onclick=\"quickchart('df-84dd572e-12e7-45fb-b0f1-b6221acb79fd')\"\n",
              "            title=\"Suggest charts\"\n",
              "            style=\"display:none;\">\n",
              "\n",
              "<svg xmlns=\"http://www.w3.org/2000/svg\" height=\"24px\"viewBox=\"0 0 24 24\"\n",
              "     width=\"24px\">\n",
              "    <g>\n",
              "        <path d=\"M19 3H5c-1.1 0-2 .9-2 2v14c0 1.1.9 2 2 2h14c1.1 0 2-.9 2-2V5c0-1.1-.9-2-2-2zM9 17H7v-7h2v7zm4 0h-2V7h2v10zm4 0h-2v-4h2v4z\"/>\n",
              "    </g>\n",
              "</svg>\n",
              "  </button>\n",
              "\n",
              "<style>\n",
              "  .colab-df-quickchart {\n",
              "      --bg-color: #E8F0FE;\n",
              "      --fill-color: #1967D2;\n",
              "      --hover-bg-color: #E2EBFA;\n",
              "      --hover-fill-color: #174EA6;\n",
              "      --disabled-fill-color: #AAA;\n",
              "      --disabled-bg-color: #DDD;\n",
              "  }\n",
              "\n",
              "  [theme=dark] .colab-df-quickchart {\n",
              "      --bg-color: #3B4455;\n",
              "      --fill-color: #D2E3FC;\n",
              "      --hover-bg-color: #434B5C;\n",
              "      --hover-fill-color: #FFFFFF;\n",
              "      --disabled-bg-color: #3B4455;\n",
              "      --disabled-fill-color: #666;\n",
              "  }\n",
              "\n",
              "  .colab-df-quickchart {\n",
              "    background-color: var(--bg-color);\n",
              "    border: none;\n",
              "    border-radius: 50%;\n",
              "    cursor: pointer;\n",
              "    display: none;\n",
              "    fill: var(--fill-color);\n",
              "    height: 32px;\n",
              "    padding: 0;\n",
              "    width: 32px;\n",
              "  }\n",
              "\n",
              "  .colab-df-quickchart:hover {\n",
              "    background-color: var(--hover-bg-color);\n",
              "    box-shadow: 0 1px 2px rgba(60, 64, 67, 0.3), 0 1px 3px 1px rgba(60, 64, 67, 0.15);\n",
              "    fill: var(--button-hover-fill-color);\n",
              "  }\n",
              "\n",
              "  .colab-df-quickchart-complete:disabled,\n",
              "  .colab-df-quickchart-complete:disabled:hover {\n",
              "    background-color: var(--disabled-bg-color);\n",
              "    fill: var(--disabled-fill-color);\n",
              "    box-shadow: none;\n",
              "  }\n",
              "\n",
              "  .colab-df-spinner {\n",
              "    border: 2px solid var(--fill-color);\n",
              "    border-color: transparent;\n",
              "    border-bottom-color: var(--fill-color);\n",
              "    animation:\n",
              "      spin 1s steps(1) infinite;\n",
              "  }\n",
              "\n",
              "  @keyframes spin {\n",
              "    0% {\n",
              "      border-color: transparent;\n",
              "      border-bottom-color: var(--fill-color);\n",
              "      border-left-color: var(--fill-color);\n",
              "    }\n",
              "    20% {\n",
              "      border-color: transparent;\n",
              "      border-left-color: var(--fill-color);\n",
              "      border-top-color: var(--fill-color);\n",
              "    }\n",
              "    30% {\n",
              "      border-color: transparent;\n",
              "      border-left-color: var(--fill-color);\n",
              "      border-top-color: var(--fill-color);\n",
              "      border-right-color: var(--fill-color);\n",
              "    }\n",
              "    40% {\n",
              "      border-color: transparent;\n",
              "      border-right-color: var(--fill-color);\n",
              "      border-top-color: var(--fill-color);\n",
              "    }\n",
              "    60% {\n",
              "      border-color: transparent;\n",
              "      border-right-color: var(--fill-color);\n",
              "    }\n",
              "    80% {\n",
              "      border-color: transparent;\n",
              "      border-right-color: var(--fill-color);\n",
              "      border-bottom-color: var(--fill-color);\n",
              "    }\n",
              "    90% {\n",
              "      border-color: transparent;\n",
              "      border-bottom-color: var(--fill-color);\n",
              "    }\n",
              "  }\n",
              "</style>\n",
              "\n",
              "  <script>\n",
              "    async function quickchart(key) {\n",
              "      const quickchartButtonEl =\n",
              "        document.querySelector('#' + key + ' button');\n",
              "      quickchartButtonEl.disabled = true;  // To prevent multiple clicks.\n",
              "      quickchartButtonEl.classList.add('colab-df-spinner');\n",
              "      try {\n",
              "        const charts = await google.colab.kernel.invokeFunction(\n",
              "            'suggestCharts', [key], {});\n",
              "      } catch (error) {\n",
              "        console.error('Error during call to suggestCharts:', error);\n",
              "      }\n",
              "      quickchartButtonEl.classList.remove('colab-df-spinner');\n",
              "      quickchartButtonEl.classList.add('colab-df-quickchart-complete');\n",
              "    }\n",
              "    (() => {\n",
              "      let quickchartButtonEl =\n",
              "        document.querySelector('#df-84dd572e-12e7-45fb-b0f1-b6221acb79fd button');\n",
              "      quickchartButtonEl.style.display =\n",
              "        google.colab.kernel.accessAllowed ? 'block' : 'none';\n",
              "    })();\n",
              "  </script>\n",
              "</div>\n",
              "\n",
              "    </div>\n",
              "  </div>\n"
            ],
            "application/vnd.google.colaboratory.intrinsic+json": {
              "type": "dataframe",
              "variable_name": "df"
            }
          },
          "metadata": {},
          "execution_count": 5
        }
      ],
      "source": [
        "df.head()"
      ]
    },
    {
      "cell_type": "code",
      "execution_count": 6,
      "metadata": {
        "colab": {
          "base_uri": "https://localhost:8080/"
        },
        "id": "6MBClAzW9QcF",
        "outputId": "1e2cdb74-1a61-4705-c9ac-7f03a2f5e63a"
      },
      "outputs": [
        {
          "output_type": "stream",
          "name": "stdout",
          "text": [
            "<class 'pandas.core.frame.DataFrame'>\n",
            "RangeIndex: 250000 entries, 0 to 249999\n",
            "Data columns (total 1 columns):\n",
            " #   Column    Non-Null Count   Dtype \n",
            "---  ------    --------------   ----- \n",
            " 0   response  250000 non-null  object\n",
            "dtypes: object(1)\n",
            "memory usage: 1.9+ MB\n"
          ]
        }
      ],
      "source": [
        "df.info()"
      ]
    },
    {
      "cell_type": "markdown",
      "metadata": {
        "id": "1TRcr5ucQ56e"
      },
      "source": [
        "# **Data Cleaning**"
      ]
    },
    {
      "cell_type": "markdown",
      "metadata": {
        "id": "fPD4rtp9QtE_"
      },
      "source": [
        "By inspecting the dataset, I discovered some rows that have the same word repeated many times. This needs to be cleaned by dropping these rows.\n",
        "\n",
        "Below is an example of some of these rows:"
      ]
    },
    {
      "cell_type": "code",
      "execution_count": 7,
      "metadata": {
        "colab": {
          "base_uri": "https://localhost:8080/"
        },
        "id": "Yt_tZMjGPfq_",
        "outputId": "02ddb826-e6fb-4a97-a8fa-1c7245803100"
      },
      "outputs": [
        {
          "output_type": "stream",
          "name": "stderr",
          "text": [
            "<ipython-input-7-fc6e1fa13723>:5: UserWarning: This pattern is interpreted as a regular expression, and has match groups. To actually get the groups, use str.extract.\n",
            "  repeated_rows = df[df['response'].str.contains(r'\\b(\\w+)\\s+\\1\\s+\\1\\s+\\1\\b')]\n"
          ]
        },
        {
          "output_type": "stream",
          "name": "stdout",
          "text": [
            "                                                                                                                                                                                                       response\n",
            "14875   How does the concept of paradoxical paradox paradox paradox paradox paradox paradox paradox paradox paradox paradox paradox paradox paradox paradox paradox paradox paradox paradox paradox paradox ...\n",
            "68210                \"Compare and contrast the key theories periodically periodically proposed in the history of X period (e.g period period period period period period period period period period period ).\"\n",
            "82552   Explain the defining characteristics of an Empirical Research Study defining Empirical defining Research Research Study Study defining defining defining defining defining defining defining definin...\n",
            "111862  Compare everyday everyday everyday everyday everyday everyday everyday everyday everyday everyday everyday everyday everyday everyday everyday everyday everyday everyday everyday everyday everyday...\n",
            "112666  \"Compare and contrast the Learning Learning Learning Learning Cycle and the Connectivism Learning Theory: How do they differ in their approach to knowledge acquisition, and what are their implicat...\n",
            "231265                                                                                \"In your opinion, what is the most significant development in your chosen field of study in taught taught taught taught?\"\n"
          ]
        }
      ],
      "source": [
        "# Adjust display options to show full content of DataFrame column\n",
        "pd.set_option('display.max_colwidth', 200)\n",
        "\n",
        "#Check rows with repeated values\n",
        "repeated_rows = df[df['response'].str.contains(r'\\b(\\w+)\\s+\\1\\s+\\1\\s+\\1\\b')]\n",
        "print(repeated_rows)"
      ]
    },
    {
      "cell_type": "markdown",
      "metadata": {
        "id": "KvbQ9P0rSClY"
      },
      "source": [
        "I will drop any row that has the same word repeated more than 4 times"
      ]
    },
    {
      "cell_type": "code",
      "execution_count": 8,
      "metadata": {
        "id": "fw_kLP4PROvu"
      },
      "outputs": [],
      "source": [
        "# Dropping rows that have the same word repeated more than 4 times\n",
        "def drop_repeated_words(df, max_repeats=4):\n",
        "\n",
        "    # Splitting each row's text into words\n",
        "    words = df['response'].str.split()\n",
        "\n",
        "    # Checking for repeated words\n",
        "    repeated_indices = []\n",
        "    for i, row_words in enumerate(words):\n",
        "        word_counts = {}\n",
        "        for word in row_words:\n",
        "            word_counts[word] = word_counts.get(word, 0) + 1\n",
        "            if word_counts[word] > max_repeats:\n",
        "                repeated_indices.append(i)\n",
        "                break\n",
        "\n",
        "\n",
        "    df.drop(repeated_indices, inplace=True)\n"
      ]
    },
    {
      "cell_type": "code",
      "execution_count": 9,
      "metadata": {
        "id": "m_9P0VYhSUT4"
      },
      "outputs": [],
      "source": [
        "drop_repeated_words(df)"
      ]
    },
    {
      "cell_type": "code",
      "execution_count": 10,
      "metadata": {
        "colab": {
          "base_uri": "https://localhost:8080/"
        },
        "id": "4QyYtX6pSNeW",
        "outputId": "e266624c-dd60-41f7-f314-3c02b32b79ff"
      },
      "outputs": [
        {
          "output_type": "stream",
          "name": "stdout",
          "text": [
            "<class 'pandas.core.frame.DataFrame'>\n",
            "Index: 249118 entries, 0 to 249999\n",
            "Data columns (total 1 columns):\n",
            " #   Column    Non-Null Count   Dtype \n",
            "---  ------    --------------   ----- \n",
            " 0   response  249118 non-null  object\n",
            "dtypes: object(1)\n",
            "memory usage: 3.8+ MB\n"
          ]
        }
      ],
      "source": [
        "# Now the prompts are 249118 instead of 250,000\n",
        "df.info()"
      ]
    },
    {
      "cell_type": "code",
      "execution_count": 11,
      "metadata": {
        "colab": {
          "base_uri": "https://localhost:8080/"
        },
        "id": "n5DYIOc79pVX",
        "outputId": "c29f94f2-96c3-4988-8869-6336275f1062"
      },
      "outputs": [
        {
          "output_type": "execute_result",
          "data": {
            "text/plain": [
              "response    0\n",
              "dtype: int64"
            ]
          },
          "metadata": {},
          "execution_count": 11
        }
      ],
      "source": [
        "# There are no null values\n",
        "df.isnull().sum()"
      ]
    },
    {
      "cell_type": "code",
      "execution_count": 12,
      "metadata": {
        "colab": {
          "base_uri": "https://localhost:8080/"
        },
        "id": "CQ0EkltQ-IKF",
        "outputId": "8a2cbed4-a3b9-4de1-ab07-8a8642c9f0ed"
      },
      "outputs": [
        {
          "output_type": "execute_result",
          "data": {
            "text/plain": [
              "0         20\n",
              "1         13\n",
              "2         19\n",
              "3         12\n",
              "4         13\n",
              "          ..\n",
              "249995    22\n",
              "249996    22\n",
              "249997    21\n",
              "249998    13\n",
              "249999    19\n",
              "Name: prompt_length, Length: 249118, dtype: int64"
            ]
          },
          "metadata": {},
          "execution_count": 12
        }
      ],
      "source": [
        "# Get the length of each prompt\n",
        "df['prompt_length'] = df['response'].apply(lambda x: len(x.split()))\n",
        "df['prompt_length']"
      ]
    },
    {
      "cell_type": "code",
      "execution_count": 13,
      "metadata": {
        "colab": {
          "base_uri": "https://localhost:8080/"
        },
        "id": "DNTY8Lrc-UB_",
        "outputId": "24ee0f4e-2cda-44f3-e30f-8eeef88b90df"
      },
      "outputs": [
        {
          "output_type": "execute_result",
          "data": {
            "text/plain": [
              "count    249118.000000\n",
              "mean         16.648291\n",
              "std           4.436962\n",
              "min           2.000000\n",
              "25%          14.000000\n",
              "50%          16.000000\n",
              "75%          19.000000\n",
              "max          76.000000\n",
              "Name: prompt_length, dtype: float64"
            ]
          },
          "metadata": {},
          "execution_count": 13
        }
      ],
      "source": [
        "# basic statistics of prompt lengths\n",
        "df['prompt_length'].describe()"
      ]
    },
    {
      "cell_type": "code",
      "execution_count": 14,
      "metadata": {
        "id": "ZslT9fQmAwil"
      },
      "outputs": [],
      "source": [
        "import re\n",
        "\n",
        "# Remove special characters and non-alphanumeric characters\n",
        "df['response'] = df['response'].apply(lambda x: re.sub(r'[^a-zA-Z0-9\\s]', '', x))"
      ]
    },
    {
      "cell_type": "code",
      "execution_count": 15,
      "metadata": {
        "id": "JQJWoiVtF-zH"
      },
      "outputs": [],
      "source": [
        "# Remove leading and trailing whitespaces\n",
        "df['response'] = df['response'].apply(lambda x: x.strip())"
      ]
    },
    {
      "cell_type": "markdown",
      "metadata": {
        "id": "9PeIO4Ihwy-v"
      },
      "source": [
        "# **Data Preprocessing**"
      ]
    },
    {
      "cell_type": "code",
      "execution_count": 16,
      "metadata": {
        "id": "eUubSxEgGmiq"
      },
      "outputs": [],
      "source": [
        "# Tokenization\n",
        "def preprocessing(text):\n",
        "    doc = nlp(text)\n",
        "\n",
        "    # Extract tokens from the SpaCy document\n",
        "    tokens = [token.text for token in doc]\n",
        "    return tokens\n",
        "\n",
        "df['tokens'] = df['response'].apply(preprocessing)\n"
      ]
    },
    {
      "cell_type": "code",
      "execution_count": 17,
      "metadata": {
        "colab": {
          "base_uri": "https://localhost:8080/",
          "height": 580
        },
        "id": "5UZq8W5pMy2y",
        "outputId": "845129ea-01ec-4f7a-f4cc-6f2b5f8a8162"
      },
      "outputs": [
        {
          "output_type": "execute_result",
          "data": {
            "text/plain": [
              "                                                                                                                                                  response  \\\n",
              "0                Compare and contrast the philosophical foundations of two major schools of thought in the field of psychology Behaviorism and Cognitivism   \n",
              "1                                                                    What are the key differences between classicism and romanticism in literature and art   \n",
              "2               Analyze the significance of the concept of cognitive dissonance in social psychology and its implications for understanding human behavior   \n",
              "3                                                                   Compare and contrast two different theories related to human development in psychology   \n",
              "4                                                                       Analyze and discuss the role of artificial intelligence in the future of education   \n",
              "...                                                                                                                                                    ...   \n",
              "249995                   What is the significance of the concept of homeostasis in biology and how does it relate to the functioning of biological systems   \n",
              "249996    Discuss the role of cellular respiration in energy production within living organisms and how it contributes to the overall functioning of cells   \n",
              "249997  In the field of artificial intelligence explain the difference between supervised and unsupervised learning and provide a reallife example of each   \n",
              "249998                                                         Compare and contrast the key differences between Classical and Quantum Mechanics in physics   \n",
              "249999                              In what ways has the use of technology impacted the education system and its effectiveness in achieving academic goals   \n",
              "\n",
              "        prompt_length  \\\n",
              "0                  20   \n",
              "1                  13   \n",
              "2                  19   \n",
              "3                  12   \n",
              "4                  13   \n",
              "...               ...   \n",
              "249995             22   \n",
              "249996             22   \n",
              "249997             21   \n",
              "249998             13   \n",
              "249999             19   \n",
              "\n",
              "                                                                                                                                                                          tokens  \n",
              "0                 [Compare, and, contrast, the, philosophical, foundations, of, two, major, schools, of, thought, in, the, field, of, psychology, Behaviorism, and, Cognitivism]  \n",
              "1                                                                            [What, are, the, key, differences, between, classicism, and, romanticism, in, literature, and, art]  \n",
              "2                 [Analyze, the, significance, of, the, concept, of, cognitive, dissonance, in, social, psychology, and, its, implications, for, understanding, human, behavior]  \n",
              "3                                                                            [Compare, and, contrast, two, different, theories, related, to, human, development, in, psychology]  \n",
              "4                                                                               [Analyze, and, discuss, the, role, of, artificial, intelligence, in, the, future, of, education]  \n",
              "...                                                                                                                                                                          ...  \n",
              "249995                  [What, is, the, significance, of, the, concept, of, homeostasis, in, biology, and, how, does, it, relate, to, the, functioning, of, biological, systems]  \n",
              "249996   [Discuss, the, role, of, cellular, respiration, in, energy, production, within, living, organisms, and, how, it, contributes, to, the, overall, functioning, of, cells]  \n",
              "249997  [In, the, field, of, artificial, intelligence, explain, the, difference, between, supervised, and, unsupervised, learning, and, provide, a, reallife, example, of, each]  \n",
              "249998                                                                 [Compare, and, contrast, the, key, differences, between, Classical, and, Quantum, Mechanics, in, physics]  \n",
              "249999                                [In, what, ways, has, the, use, of, technology, impacted, the, education, system, and, its, effectiveness, in, achieving, academic, goals]  \n",
              "\n",
              "[249118 rows x 3 columns]"
            ],
            "text/html": [
              "\n",
              "  <div id=\"df-58192f27-53f1-4f3e-a539-c66d9f1beedb\" class=\"colab-df-container\">\n",
              "    <div>\n",
              "<style scoped>\n",
              "    .dataframe tbody tr th:only-of-type {\n",
              "        vertical-align: middle;\n",
              "    }\n",
              "\n",
              "    .dataframe tbody tr th {\n",
              "        vertical-align: top;\n",
              "    }\n",
              "\n",
              "    .dataframe thead th {\n",
              "        text-align: right;\n",
              "    }\n",
              "</style>\n",
              "<table border=\"1\" class=\"dataframe\">\n",
              "  <thead>\n",
              "    <tr style=\"text-align: right;\">\n",
              "      <th></th>\n",
              "      <th>response</th>\n",
              "      <th>prompt_length</th>\n",
              "      <th>tokens</th>\n",
              "    </tr>\n",
              "  </thead>\n",
              "  <tbody>\n",
              "    <tr>\n",
              "      <th>0</th>\n",
              "      <td>Compare and contrast the philosophical foundations of two major schools of thought in the field of psychology Behaviorism and Cognitivism</td>\n",
              "      <td>20</td>\n",
              "      <td>[Compare, and, contrast, the, philosophical, foundations, of, two, major, schools, of, thought, in, the, field, of, psychology, Behaviorism, and, Cognitivism]</td>\n",
              "    </tr>\n",
              "    <tr>\n",
              "      <th>1</th>\n",
              "      <td>What are the key differences between classicism and romanticism in literature and art</td>\n",
              "      <td>13</td>\n",
              "      <td>[What, are, the, key, differences, between, classicism, and, romanticism, in, literature, and, art]</td>\n",
              "    </tr>\n",
              "    <tr>\n",
              "      <th>2</th>\n",
              "      <td>Analyze the significance of the concept of cognitive dissonance in social psychology and its implications for understanding human behavior</td>\n",
              "      <td>19</td>\n",
              "      <td>[Analyze, the, significance, of, the, concept, of, cognitive, dissonance, in, social, psychology, and, its, implications, for, understanding, human, behavior]</td>\n",
              "    </tr>\n",
              "    <tr>\n",
              "      <th>3</th>\n",
              "      <td>Compare and contrast two different theories related to human development in psychology</td>\n",
              "      <td>12</td>\n",
              "      <td>[Compare, and, contrast, two, different, theories, related, to, human, development, in, psychology]</td>\n",
              "    </tr>\n",
              "    <tr>\n",
              "      <th>4</th>\n",
              "      <td>Analyze and discuss the role of artificial intelligence in the future of education</td>\n",
              "      <td>13</td>\n",
              "      <td>[Analyze, and, discuss, the, role, of, artificial, intelligence, in, the, future, of, education]</td>\n",
              "    </tr>\n",
              "    <tr>\n",
              "      <th>...</th>\n",
              "      <td>...</td>\n",
              "      <td>...</td>\n",
              "      <td>...</td>\n",
              "    </tr>\n",
              "    <tr>\n",
              "      <th>249995</th>\n",
              "      <td>What is the significance of the concept of homeostasis in biology and how does it relate to the functioning of biological systems</td>\n",
              "      <td>22</td>\n",
              "      <td>[What, is, the, significance, of, the, concept, of, homeostasis, in, biology, and, how, does, it, relate, to, the, functioning, of, biological, systems]</td>\n",
              "    </tr>\n",
              "    <tr>\n",
              "      <th>249996</th>\n",
              "      <td>Discuss the role of cellular respiration in energy production within living organisms and how it contributes to the overall functioning of cells</td>\n",
              "      <td>22</td>\n",
              "      <td>[Discuss, the, role, of, cellular, respiration, in, energy, production, within, living, organisms, and, how, it, contributes, to, the, overall, functioning, of, cells]</td>\n",
              "    </tr>\n",
              "    <tr>\n",
              "      <th>249997</th>\n",
              "      <td>In the field of artificial intelligence explain the difference between supervised and unsupervised learning and provide a reallife example of each</td>\n",
              "      <td>21</td>\n",
              "      <td>[In, the, field, of, artificial, intelligence, explain, the, difference, between, supervised, and, unsupervised, learning, and, provide, a, reallife, example, of, each]</td>\n",
              "    </tr>\n",
              "    <tr>\n",
              "      <th>249998</th>\n",
              "      <td>Compare and contrast the key differences between Classical and Quantum Mechanics in physics</td>\n",
              "      <td>13</td>\n",
              "      <td>[Compare, and, contrast, the, key, differences, between, Classical, and, Quantum, Mechanics, in, physics]</td>\n",
              "    </tr>\n",
              "    <tr>\n",
              "      <th>249999</th>\n",
              "      <td>In what ways has the use of technology impacted the education system and its effectiveness in achieving academic goals</td>\n",
              "      <td>19</td>\n",
              "      <td>[In, what, ways, has, the, use, of, technology, impacted, the, education, system, and, its, effectiveness, in, achieving, academic, goals]</td>\n",
              "    </tr>\n",
              "  </tbody>\n",
              "</table>\n",
              "<p>249118 rows × 3 columns</p>\n",
              "</div>\n",
              "    <div class=\"colab-df-buttons\">\n",
              "\n",
              "  <div class=\"colab-df-container\">\n",
              "    <button class=\"colab-df-convert\" onclick=\"convertToInteractive('df-58192f27-53f1-4f3e-a539-c66d9f1beedb')\"\n",
              "            title=\"Convert this dataframe to an interactive table.\"\n",
              "            style=\"display:none;\">\n",
              "\n",
              "  <svg xmlns=\"http://www.w3.org/2000/svg\" height=\"24px\" viewBox=\"0 -960 960 960\">\n",
              "    <path d=\"M120-120v-720h720v720H120Zm60-500h600v-160H180v160Zm220 220h160v-160H400v160Zm0 220h160v-160H400v160ZM180-400h160v-160H180v160Zm440 0h160v-160H620v160ZM180-180h160v-160H180v160Zm440 0h160v-160H620v160Z\"/>\n",
              "  </svg>\n",
              "    </button>\n",
              "\n",
              "  <style>\n",
              "    .colab-df-container {\n",
              "      display:flex;\n",
              "      gap: 12px;\n",
              "    }\n",
              "\n",
              "    .colab-df-convert {\n",
              "      background-color: #E8F0FE;\n",
              "      border: none;\n",
              "      border-radius: 50%;\n",
              "      cursor: pointer;\n",
              "      display: none;\n",
              "      fill: #1967D2;\n",
              "      height: 32px;\n",
              "      padding: 0 0 0 0;\n",
              "      width: 32px;\n",
              "    }\n",
              "\n",
              "    .colab-df-convert:hover {\n",
              "      background-color: #E2EBFA;\n",
              "      box-shadow: 0px 1px 2px rgba(60, 64, 67, 0.3), 0px 1px 3px 1px rgba(60, 64, 67, 0.15);\n",
              "      fill: #174EA6;\n",
              "    }\n",
              "\n",
              "    .colab-df-buttons div {\n",
              "      margin-bottom: 4px;\n",
              "    }\n",
              "\n",
              "    [theme=dark] .colab-df-convert {\n",
              "      background-color: #3B4455;\n",
              "      fill: #D2E3FC;\n",
              "    }\n",
              "\n",
              "    [theme=dark] .colab-df-convert:hover {\n",
              "      background-color: #434B5C;\n",
              "      box-shadow: 0px 1px 3px 1px rgba(0, 0, 0, 0.15);\n",
              "      filter: drop-shadow(0px 1px 2px rgba(0, 0, 0, 0.3));\n",
              "      fill: #FFFFFF;\n",
              "    }\n",
              "  </style>\n",
              "\n",
              "    <script>\n",
              "      const buttonEl =\n",
              "        document.querySelector('#df-58192f27-53f1-4f3e-a539-c66d9f1beedb button.colab-df-convert');\n",
              "      buttonEl.style.display =\n",
              "        google.colab.kernel.accessAllowed ? 'block' : 'none';\n",
              "\n",
              "      async function convertToInteractive(key) {\n",
              "        const element = document.querySelector('#df-58192f27-53f1-4f3e-a539-c66d9f1beedb');\n",
              "        const dataTable =\n",
              "          await google.colab.kernel.invokeFunction('convertToInteractive',\n",
              "                                                    [key], {});\n",
              "        if (!dataTable) return;\n",
              "\n",
              "        const docLinkHtml = 'Like what you see? Visit the ' +\n",
              "          '<a target=\"_blank\" href=https://colab.research.google.com/notebooks/data_table.ipynb>data table notebook</a>'\n",
              "          + ' to learn more about interactive tables.';\n",
              "        element.innerHTML = '';\n",
              "        dataTable['output_type'] = 'display_data';\n",
              "        await google.colab.output.renderOutput(dataTable, element);\n",
              "        const docLink = document.createElement('div');\n",
              "        docLink.innerHTML = docLinkHtml;\n",
              "        element.appendChild(docLink);\n",
              "      }\n",
              "    </script>\n",
              "  </div>\n",
              "\n",
              "\n",
              "<div id=\"df-1339aa67-0c05-4f48-bae1-c9250135a987\">\n",
              "  <button class=\"colab-df-quickchart\" onclick=\"quickchart('df-1339aa67-0c05-4f48-bae1-c9250135a987')\"\n",
              "            title=\"Suggest charts\"\n",
              "            style=\"display:none;\">\n",
              "\n",
              "<svg xmlns=\"http://www.w3.org/2000/svg\" height=\"24px\"viewBox=\"0 0 24 24\"\n",
              "     width=\"24px\">\n",
              "    <g>\n",
              "        <path d=\"M19 3H5c-1.1 0-2 .9-2 2v14c0 1.1.9 2 2 2h14c1.1 0 2-.9 2-2V5c0-1.1-.9-2-2-2zM9 17H7v-7h2v7zm4 0h-2V7h2v10zm4 0h-2v-4h2v4z\"/>\n",
              "    </g>\n",
              "</svg>\n",
              "  </button>\n",
              "\n",
              "<style>\n",
              "  .colab-df-quickchart {\n",
              "      --bg-color: #E8F0FE;\n",
              "      --fill-color: #1967D2;\n",
              "      --hover-bg-color: #E2EBFA;\n",
              "      --hover-fill-color: #174EA6;\n",
              "      --disabled-fill-color: #AAA;\n",
              "      --disabled-bg-color: #DDD;\n",
              "  }\n",
              "\n",
              "  [theme=dark] .colab-df-quickchart {\n",
              "      --bg-color: #3B4455;\n",
              "      --fill-color: #D2E3FC;\n",
              "      --hover-bg-color: #434B5C;\n",
              "      --hover-fill-color: #FFFFFF;\n",
              "      --disabled-bg-color: #3B4455;\n",
              "      --disabled-fill-color: #666;\n",
              "  }\n",
              "\n",
              "  .colab-df-quickchart {\n",
              "    background-color: var(--bg-color);\n",
              "    border: none;\n",
              "    border-radius: 50%;\n",
              "    cursor: pointer;\n",
              "    display: none;\n",
              "    fill: var(--fill-color);\n",
              "    height: 32px;\n",
              "    padding: 0;\n",
              "    width: 32px;\n",
              "  }\n",
              "\n",
              "  .colab-df-quickchart:hover {\n",
              "    background-color: var(--hover-bg-color);\n",
              "    box-shadow: 0 1px 2px rgba(60, 64, 67, 0.3), 0 1px 3px 1px rgba(60, 64, 67, 0.15);\n",
              "    fill: var(--button-hover-fill-color);\n",
              "  }\n",
              "\n",
              "  .colab-df-quickchart-complete:disabled,\n",
              "  .colab-df-quickchart-complete:disabled:hover {\n",
              "    background-color: var(--disabled-bg-color);\n",
              "    fill: var(--disabled-fill-color);\n",
              "    box-shadow: none;\n",
              "  }\n",
              "\n",
              "  .colab-df-spinner {\n",
              "    border: 2px solid var(--fill-color);\n",
              "    border-color: transparent;\n",
              "    border-bottom-color: var(--fill-color);\n",
              "    animation:\n",
              "      spin 1s steps(1) infinite;\n",
              "  }\n",
              "\n",
              "  @keyframes spin {\n",
              "    0% {\n",
              "      border-color: transparent;\n",
              "      border-bottom-color: var(--fill-color);\n",
              "      border-left-color: var(--fill-color);\n",
              "    }\n",
              "    20% {\n",
              "      border-color: transparent;\n",
              "      border-left-color: var(--fill-color);\n",
              "      border-top-color: var(--fill-color);\n",
              "    }\n",
              "    30% {\n",
              "      border-color: transparent;\n",
              "      border-left-color: var(--fill-color);\n",
              "      border-top-color: var(--fill-color);\n",
              "      border-right-color: var(--fill-color);\n",
              "    }\n",
              "    40% {\n",
              "      border-color: transparent;\n",
              "      border-right-color: var(--fill-color);\n",
              "      border-top-color: var(--fill-color);\n",
              "    }\n",
              "    60% {\n",
              "      border-color: transparent;\n",
              "      border-right-color: var(--fill-color);\n",
              "    }\n",
              "    80% {\n",
              "      border-color: transparent;\n",
              "      border-right-color: var(--fill-color);\n",
              "      border-bottom-color: var(--fill-color);\n",
              "    }\n",
              "    90% {\n",
              "      border-color: transparent;\n",
              "      border-bottom-color: var(--fill-color);\n",
              "    }\n",
              "  }\n",
              "</style>\n",
              "\n",
              "  <script>\n",
              "    async function quickchart(key) {\n",
              "      const quickchartButtonEl =\n",
              "        document.querySelector('#' + key + ' button');\n",
              "      quickchartButtonEl.disabled = true;  // To prevent multiple clicks.\n",
              "      quickchartButtonEl.classList.add('colab-df-spinner');\n",
              "      try {\n",
              "        const charts = await google.colab.kernel.invokeFunction(\n",
              "            'suggestCharts', [key], {});\n",
              "      } catch (error) {\n",
              "        console.error('Error during call to suggestCharts:', error);\n",
              "      }\n",
              "      quickchartButtonEl.classList.remove('colab-df-spinner');\n",
              "      quickchartButtonEl.classList.add('colab-df-quickchart-complete');\n",
              "    }\n",
              "    (() => {\n",
              "      let quickchartButtonEl =\n",
              "        document.querySelector('#df-1339aa67-0c05-4f48-bae1-c9250135a987 button');\n",
              "      quickchartButtonEl.style.display =\n",
              "        google.colab.kernel.accessAllowed ? 'block' : 'none';\n",
              "    })();\n",
              "  </script>\n",
              "</div>\n",
              "\n",
              "  <div id=\"id_4f0baa48-324d-4146-ac8d-f51564090a5c\">\n",
              "    <style>\n",
              "      .colab-df-generate {\n",
              "        background-color: #E8F0FE;\n",
              "        border: none;\n",
              "        border-radius: 50%;\n",
              "        cursor: pointer;\n",
              "        display: none;\n",
              "        fill: #1967D2;\n",
              "        height: 32px;\n",
              "        padding: 0 0 0 0;\n",
              "        width: 32px;\n",
              "      }\n",
              "\n",
              "      .colab-df-generate:hover {\n",
              "        background-color: #E2EBFA;\n",
              "        box-shadow: 0px 1px 2px rgba(60, 64, 67, 0.3), 0px 1px 3px 1px rgba(60, 64, 67, 0.15);\n",
              "        fill: #174EA6;\n",
              "      }\n",
              "\n",
              "      [theme=dark] .colab-df-generate {\n",
              "        background-color: #3B4455;\n",
              "        fill: #D2E3FC;\n",
              "      }\n",
              "\n",
              "      [theme=dark] .colab-df-generate:hover {\n",
              "        background-color: #434B5C;\n",
              "        box-shadow: 0px 1px 3px 1px rgba(0, 0, 0, 0.15);\n",
              "        filter: drop-shadow(0px 1px 2px rgba(0, 0, 0, 0.3));\n",
              "        fill: #FFFFFF;\n",
              "      }\n",
              "    </style>\n",
              "    <button class=\"colab-df-generate\" onclick=\"generateWithVariable('df')\"\n",
              "            title=\"Generate code using this dataframe.\"\n",
              "            style=\"display:none;\">\n",
              "\n",
              "  <svg xmlns=\"http://www.w3.org/2000/svg\" height=\"24px\"viewBox=\"0 0 24 24\"\n",
              "       width=\"24px\">\n",
              "    <path d=\"M7,19H8.4L18.45,9,17,7.55,7,17.6ZM5,21V16.75L18.45,3.32a2,2,0,0,1,2.83,0l1.4,1.43a1.91,1.91,0,0,1,.58,1.4,1.91,1.91,0,0,1-.58,1.4L9.25,21ZM18.45,9,17,7.55Zm-12,3A5.31,5.31,0,0,0,4.9,8.1,5.31,5.31,0,0,0,1,6.5,5.31,5.31,0,0,0,4.9,4.9,5.31,5.31,0,0,0,6.5,1,5.31,5.31,0,0,0,8.1,4.9,5.31,5.31,0,0,0,12,6.5,5.46,5.46,0,0,0,6.5,12Z\"/>\n",
              "  </svg>\n",
              "    </button>\n",
              "    <script>\n",
              "      (() => {\n",
              "      const buttonEl =\n",
              "        document.querySelector('#id_4f0baa48-324d-4146-ac8d-f51564090a5c button.colab-df-generate');\n",
              "      buttonEl.style.display =\n",
              "        google.colab.kernel.accessAllowed ? 'block' : 'none';\n",
              "\n",
              "      buttonEl.onclick = () => {\n",
              "        google.colab.notebook.generateWithVariable('df');\n",
              "      }\n",
              "      })();\n",
              "    </script>\n",
              "  </div>\n",
              "\n",
              "    </div>\n",
              "  </div>\n"
            ],
            "application/vnd.google.colaboratory.intrinsic+json": {
              "type": "dataframe",
              "variable_name": "df"
            }
          },
          "metadata": {},
          "execution_count": 17
        }
      ],
      "source": [
        "df"
      ]
    },
    {
      "cell_type": "code",
      "execution_count": 18,
      "metadata": {
        "id": "j3_aJi1ay21d"
      },
      "outputs": [],
      "source": [
        "# Lemmatization\n",
        "lemmatized_responses = []\n",
        "\n",
        "for token in df['tokens']:\n",
        "    doc = nlp(\" \".join(token))\n",
        "    lemmatized_response = [token.lemma_ for token in doc]\n",
        "    lemmatized_responses.append(lemmatized_response)"
      ]
    },
    {
      "cell_type": "code",
      "execution_count": 19,
      "metadata": {
        "colab": {
          "base_uri": "https://localhost:8080/"
        },
        "id": "XoCFdo1XMT7r",
        "outputId": "4aae32c9-a361-4a9f-e33e-fd91e1ce4b0f"
      },
      "outputs": [
        {
          "output_type": "execute_result",
          "data": {
            "text/plain": [
              "['compare',\n",
              " 'and',\n",
              " 'contrast',\n",
              " 'the',\n",
              " 'philosophical',\n",
              " 'foundation',\n",
              " 'of',\n",
              " 'two',\n",
              " 'major',\n",
              " 'school',\n",
              " 'of',\n",
              " 'thought',\n",
              " 'in',\n",
              " 'the',\n",
              " 'field',\n",
              " 'of',\n",
              " 'psychology',\n",
              " 'Behaviorism',\n",
              " 'and',\n",
              " 'Cognitivism']"
            ]
          },
          "metadata": {},
          "execution_count": 19
        }
      ],
      "source": [
        "lemmatized_responses[0]"
      ]
    },
    {
      "cell_type": "code",
      "execution_count": 20,
      "metadata": {
        "id": "QhEy8ns9joZC"
      },
      "outputs": [],
      "source": [
        "# Remove Stop words\n",
        "filtered_responses = []\n",
        "for response in lemmatized_responses:\n",
        "    filtered_response = [token for token in response if not nlp.vocab[token].is_stop]\n",
        "    filtered_responses.append(filtered_response)\n"
      ]
    },
    {
      "cell_type": "code",
      "execution_count": 21,
      "metadata": {
        "colab": {
          "base_uri": "https://localhost:8080/"
        },
        "id": "3WaQytb2MOnE",
        "outputId": "3d37bd1f-d1f3-4a1f-8e68-075adc0b60c1"
      },
      "outputs": [
        {
          "output_type": "execute_result",
          "data": {
            "text/plain": [
              "['compare',\n",
              " 'contrast',\n",
              " 'philosophical',\n",
              " 'foundation',\n",
              " 'major',\n",
              " 'school',\n",
              " 'thought',\n",
              " 'field',\n",
              " 'psychology',\n",
              " 'Behaviorism',\n",
              " 'Cognitivism']"
            ]
          },
          "metadata": {},
          "execution_count": 21
        }
      ],
      "source": [
        "filtered_responses[0]"
      ]
    },
    {
      "cell_type": "code",
      "execution_count": 22,
      "metadata": {
        "id": "hf_Aci5N4-an"
      },
      "outputs": [],
      "source": [
        "# Responses after removing stop words.\n",
        "df['filtered_response'] = filtered_responses"
      ]
    },
    {
      "cell_type": "code",
      "execution_count": 23,
      "metadata": {
        "id": "O5azwnAZ6LFB",
        "colab": {
          "base_uri": "https://localhost:8080/",
          "height": 327
        },
        "outputId": "b6ee333c-e34e-4868-eb46-0c6d43c9d9ce"
      },
      "outputs": [
        {
          "output_type": "execute_result",
          "data": {
            "text/plain": [
              "                                                                                                                                     response  \\\n",
              "0   Compare and contrast the philosophical foundations of two major schools of thought in the field of psychology Behaviorism and Cognitivism   \n",
              "1                                                       What are the key differences between classicism and romanticism in literature and art   \n",
              "2  Analyze the significance of the concept of cognitive dissonance in social psychology and its implications for understanding human behavior   \n",
              "3                                                      Compare and contrast two different theories related to human development in psychology   \n",
              "4                                                          Analyze and discuss the role of artificial intelligence in the future of education   \n",
              "\n",
              "   prompt_length  \\\n",
              "0             20   \n",
              "1             13   \n",
              "2             19   \n",
              "3             12   \n",
              "4             13   \n",
              "\n",
              "                                                                                                                                                           tokens  \\\n",
              "0  [Compare, and, contrast, the, philosophical, foundations, of, two, major, schools, of, thought, in, the, field, of, psychology, Behaviorism, and, Cognitivism]   \n",
              "1                                                             [What, are, the, key, differences, between, classicism, and, romanticism, in, literature, and, art]   \n",
              "2  [Analyze, the, significance, of, the, concept, of, cognitive, dissonance, in, social, psychology, and, its, implications, for, understanding, human, behavior]   \n",
              "3                                                             [Compare, and, contrast, two, different, theories, related, to, human, development, in, psychology]   \n",
              "4                                                                [Analyze, and, discuss, the, role, of, artificial, intelligence, in, the, future, of, education]   \n",
              "\n",
              "                                                                                                       filtered_response  \n",
              "0    [compare, contrast, philosophical, foundation, major, school, thought, field, psychology, Behaviorism, Cognitivism]  \n",
              "1                                                            [key, difference, classicism, romanticism, literature, art]  \n",
              "2  [analyze, significance, concept, cognitive, dissonance, social, psychology, implication, understand, human, behavior]  \n",
              "3                                         [compare, contrast, different, theory, relate, human, development, psychology]  \n",
              "4                                                  [analyze, discuss, role, artificial, intelligence, future, education]  "
            ],
            "text/html": [
              "\n",
              "  <div id=\"df-dfe639a2-bffd-455d-8017-5f3c0f0f61aa\" class=\"colab-df-container\">\n",
              "    <div>\n",
              "<style scoped>\n",
              "    .dataframe tbody tr th:only-of-type {\n",
              "        vertical-align: middle;\n",
              "    }\n",
              "\n",
              "    .dataframe tbody tr th {\n",
              "        vertical-align: top;\n",
              "    }\n",
              "\n",
              "    .dataframe thead th {\n",
              "        text-align: right;\n",
              "    }\n",
              "</style>\n",
              "<table border=\"1\" class=\"dataframe\">\n",
              "  <thead>\n",
              "    <tr style=\"text-align: right;\">\n",
              "      <th></th>\n",
              "      <th>response</th>\n",
              "      <th>prompt_length</th>\n",
              "      <th>tokens</th>\n",
              "      <th>filtered_response</th>\n",
              "    </tr>\n",
              "  </thead>\n",
              "  <tbody>\n",
              "    <tr>\n",
              "      <th>0</th>\n",
              "      <td>Compare and contrast the philosophical foundations of two major schools of thought in the field of psychology Behaviorism and Cognitivism</td>\n",
              "      <td>20</td>\n",
              "      <td>[Compare, and, contrast, the, philosophical, foundations, of, two, major, schools, of, thought, in, the, field, of, psychology, Behaviorism, and, Cognitivism]</td>\n",
              "      <td>[compare, contrast, philosophical, foundation, major, school, thought, field, psychology, Behaviorism, Cognitivism]</td>\n",
              "    </tr>\n",
              "    <tr>\n",
              "      <th>1</th>\n",
              "      <td>What are the key differences between classicism and romanticism in literature and art</td>\n",
              "      <td>13</td>\n",
              "      <td>[What, are, the, key, differences, between, classicism, and, romanticism, in, literature, and, art]</td>\n",
              "      <td>[key, difference, classicism, romanticism, literature, art]</td>\n",
              "    </tr>\n",
              "    <tr>\n",
              "      <th>2</th>\n",
              "      <td>Analyze the significance of the concept of cognitive dissonance in social psychology and its implications for understanding human behavior</td>\n",
              "      <td>19</td>\n",
              "      <td>[Analyze, the, significance, of, the, concept, of, cognitive, dissonance, in, social, psychology, and, its, implications, for, understanding, human, behavior]</td>\n",
              "      <td>[analyze, significance, concept, cognitive, dissonance, social, psychology, implication, understand, human, behavior]</td>\n",
              "    </tr>\n",
              "    <tr>\n",
              "      <th>3</th>\n",
              "      <td>Compare and contrast two different theories related to human development in psychology</td>\n",
              "      <td>12</td>\n",
              "      <td>[Compare, and, contrast, two, different, theories, related, to, human, development, in, psychology]</td>\n",
              "      <td>[compare, contrast, different, theory, relate, human, development, psychology]</td>\n",
              "    </tr>\n",
              "    <tr>\n",
              "      <th>4</th>\n",
              "      <td>Analyze and discuss the role of artificial intelligence in the future of education</td>\n",
              "      <td>13</td>\n",
              "      <td>[Analyze, and, discuss, the, role, of, artificial, intelligence, in, the, future, of, education]</td>\n",
              "      <td>[analyze, discuss, role, artificial, intelligence, future, education]</td>\n",
              "    </tr>\n",
              "  </tbody>\n",
              "</table>\n",
              "</div>\n",
              "    <div class=\"colab-df-buttons\">\n",
              "\n",
              "  <div class=\"colab-df-container\">\n",
              "    <button class=\"colab-df-convert\" onclick=\"convertToInteractive('df-dfe639a2-bffd-455d-8017-5f3c0f0f61aa')\"\n",
              "            title=\"Convert this dataframe to an interactive table.\"\n",
              "            style=\"display:none;\">\n",
              "\n",
              "  <svg xmlns=\"http://www.w3.org/2000/svg\" height=\"24px\" viewBox=\"0 -960 960 960\">\n",
              "    <path d=\"M120-120v-720h720v720H120Zm60-500h600v-160H180v160Zm220 220h160v-160H400v160Zm0 220h160v-160H400v160ZM180-400h160v-160H180v160Zm440 0h160v-160H620v160ZM180-180h160v-160H180v160Zm440 0h160v-160H620v160Z\"/>\n",
              "  </svg>\n",
              "    </button>\n",
              "\n",
              "  <style>\n",
              "    .colab-df-container {\n",
              "      display:flex;\n",
              "      gap: 12px;\n",
              "    }\n",
              "\n",
              "    .colab-df-convert {\n",
              "      background-color: #E8F0FE;\n",
              "      border: none;\n",
              "      border-radius: 50%;\n",
              "      cursor: pointer;\n",
              "      display: none;\n",
              "      fill: #1967D2;\n",
              "      height: 32px;\n",
              "      padding: 0 0 0 0;\n",
              "      width: 32px;\n",
              "    }\n",
              "\n",
              "    .colab-df-convert:hover {\n",
              "      background-color: #E2EBFA;\n",
              "      box-shadow: 0px 1px 2px rgba(60, 64, 67, 0.3), 0px 1px 3px 1px rgba(60, 64, 67, 0.15);\n",
              "      fill: #174EA6;\n",
              "    }\n",
              "\n",
              "    .colab-df-buttons div {\n",
              "      margin-bottom: 4px;\n",
              "    }\n",
              "\n",
              "    [theme=dark] .colab-df-convert {\n",
              "      background-color: #3B4455;\n",
              "      fill: #D2E3FC;\n",
              "    }\n",
              "\n",
              "    [theme=dark] .colab-df-convert:hover {\n",
              "      background-color: #434B5C;\n",
              "      box-shadow: 0px 1px 3px 1px rgba(0, 0, 0, 0.15);\n",
              "      filter: drop-shadow(0px 1px 2px rgba(0, 0, 0, 0.3));\n",
              "      fill: #FFFFFF;\n",
              "    }\n",
              "  </style>\n",
              "\n",
              "    <script>\n",
              "      const buttonEl =\n",
              "        document.querySelector('#df-dfe639a2-bffd-455d-8017-5f3c0f0f61aa button.colab-df-convert');\n",
              "      buttonEl.style.display =\n",
              "        google.colab.kernel.accessAllowed ? 'block' : 'none';\n",
              "\n",
              "      async function convertToInteractive(key) {\n",
              "        const element = document.querySelector('#df-dfe639a2-bffd-455d-8017-5f3c0f0f61aa');\n",
              "        const dataTable =\n",
              "          await google.colab.kernel.invokeFunction('convertToInteractive',\n",
              "                                                    [key], {});\n",
              "        if (!dataTable) return;\n",
              "\n",
              "        const docLinkHtml = 'Like what you see? Visit the ' +\n",
              "          '<a target=\"_blank\" href=https://colab.research.google.com/notebooks/data_table.ipynb>data table notebook</a>'\n",
              "          + ' to learn more about interactive tables.';\n",
              "        element.innerHTML = '';\n",
              "        dataTable['output_type'] = 'display_data';\n",
              "        await google.colab.output.renderOutput(dataTable, element);\n",
              "        const docLink = document.createElement('div');\n",
              "        docLink.innerHTML = docLinkHtml;\n",
              "        element.appendChild(docLink);\n",
              "      }\n",
              "    </script>\n",
              "  </div>\n",
              "\n",
              "\n",
              "<div id=\"df-abbd968d-28ee-4172-b4fa-e65f25b6421e\">\n",
              "  <button class=\"colab-df-quickchart\" onclick=\"quickchart('df-abbd968d-28ee-4172-b4fa-e65f25b6421e')\"\n",
              "            title=\"Suggest charts\"\n",
              "            style=\"display:none;\">\n",
              "\n",
              "<svg xmlns=\"http://www.w3.org/2000/svg\" height=\"24px\"viewBox=\"0 0 24 24\"\n",
              "     width=\"24px\">\n",
              "    <g>\n",
              "        <path d=\"M19 3H5c-1.1 0-2 .9-2 2v14c0 1.1.9 2 2 2h14c1.1 0 2-.9 2-2V5c0-1.1-.9-2-2-2zM9 17H7v-7h2v7zm4 0h-2V7h2v10zm4 0h-2v-4h2v4z\"/>\n",
              "    </g>\n",
              "</svg>\n",
              "  </button>\n",
              "\n",
              "<style>\n",
              "  .colab-df-quickchart {\n",
              "      --bg-color: #E8F0FE;\n",
              "      --fill-color: #1967D2;\n",
              "      --hover-bg-color: #E2EBFA;\n",
              "      --hover-fill-color: #174EA6;\n",
              "      --disabled-fill-color: #AAA;\n",
              "      --disabled-bg-color: #DDD;\n",
              "  }\n",
              "\n",
              "  [theme=dark] .colab-df-quickchart {\n",
              "      --bg-color: #3B4455;\n",
              "      --fill-color: #D2E3FC;\n",
              "      --hover-bg-color: #434B5C;\n",
              "      --hover-fill-color: #FFFFFF;\n",
              "      --disabled-bg-color: #3B4455;\n",
              "      --disabled-fill-color: #666;\n",
              "  }\n",
              "\n",
              "  .colab-df-quickchart {\n",
              "    background-color: var(--bg-color);\n",
              "    border: none;\n",
              "    border-radius: 50%;\n",
              "    cursor: pointer;\n",
              "    display: none;\n",
              "    fill: var(--fill-color);\n",
              "    height: 32px;\n",
              "    padding: 0;\n",
              "    width: 32px;\n",
              "  }\n",
              "\n",
              "  .colab-df-quickchart:hover {\n",
              "    background-color: var(--hover-bg-color);\n",
              "    box-shadow: 0 1px 2px rgba(60, 64, 67, 0.3), 0 1px 3px 1px rgba(60, 64, 67, 0.15);\n",
              "    fill: var(--button-hover-fill-color);\n",
              "  }\n",
              "\n",
              "  .colab-df-quickchart-complete:disabled,\n",
              "  .colab-df-quickchart-complete:disabled:hover {\n",
              "    background-color: var(--disabled-bg-color);\n",
              "    fill: var(--disabled-fill-color);\n",
              "    box-shadow: none;\n",
              "  }\n",
              "\n",
              "  .colab-df-spinner {\n",
              "    border: 2px solid var(--fill-color);\n",
              "    border-color: transparent;\n",
              "    border-bottom-color: var(--fill-color);\n",
              "    animation:\n",
              "      spin 1s steps(1) infinite;\n",
              "  }\n",
              "\n",
              "  @keyframes spin {\n",
              "    0% {\n",
              "      border-color: transparent;\n",
              "      border-bottom-color: var(--fill-color);\n",
              "      border-left-color: var(--fill-color);\n",
              "    }\n",
              "    20% {\n",
              "      border-color: transparent;\n",
              "      border-left-color: var(--fill-color);\n",
              "      border-top-color: var(--fill-color);\n",
              "    }\n",
              "    30% {\n",
              "      border-color: transparent;\n",
              "      border-left-color: var(--fill-color);\n",
              "      border-top-color: var(--fill-color);\n",
              "      border-right-color: var(--fill-color);\n",
              "    }\n",
              "    40% {\n",
              "      border-color: transparent;\n",
              "      border-right-color: var(--fill-color);\n",
              "      border-top-color: var(--fill-color);\n",
              "    }\n",
              "    60% {\n",
              "      border-color: transparent;\n",
              "      border-right-color: var(--fill-color);\n",
              "    }\n",
              "    80% {\n",
              "      border-color: transparent;\n",
              "      border-right-color: var(--fill-color);\n",
              "      border-bottom-color: var(--fill-color);\n",
              "    }\n",
              "    90% {\n",
              "      border-color: transparent;\n",
              "      border-bottom-color: var(--fill-color);\n",
              "    }\n",
              "  }\n",
              "</style>\n",
              "\n",
              "  <script>\n",
              "    async function quickchart(key) {\n",
              "      const quickchartButtonEl =\n",
              "        document.querySelector('#' + key + ' button');\n",
              "      quickchartButtonEl.disabled = true;  // To prevent multiple clicks.\n",
              "      quickchartButtonEl.classList.add('colab-df-spinner');\n",
              "      try {\n",
              "        const charts = await google.colab.kernel.invokeFunction(\n",
              "            'suggestCharts', [key], {});\n",
              "      } catch (error) {\n",
              "        console.error('Error during call to suggestCharts:', error);\n",
              "      }\n",
              "      quickchartButtonEl.classList.remove('colab-df-spinner');\n",
              "      quickchartButtonEl.classList.add('colab-df-quickchart-complete');\n",
              "    }\n",
              "    (() => {\n",
              "      let quickchartButtonEl =\n",
              "        document.querySelector('#df-abbd968d-28ee-4172-b4fa-e65f25b6421e button');\n",
              "      quickchartButtonEl.style.display =\n",
              "        google.colab.kernel.accessAllowed ? 'block' : 'none';\n",
              "    })();\n",
              "  </script>\n",
              "</div>\n",
              "\n",
              "    </div>\n",
              "  </div>\n"
            ],
            "application/vnd.google.colaboratory.intrinsic+json": {
              "type": "dataframe",
              "variable_name": "df"
            }
          },
          "metadata": {},
          "execution_count": 23
        }
      ],
      "source": [
        "df.head()"
      ]
    },
    {
      "cell_type": "code",
      "execution_count": 24,
      "metadata": {
        "id": "x9Eowg6bzu0u"
      },
      "outputs": [],
      "source": [
        "# Remove punctuation\n",
        "punctuations = \"?:!.,;\"\n",
        "filtered_responses_without_punctuation = []\n",
        "\n",
        "for response in filtered_responses:\n",
        "    filtered_response = [word for word in response if word not in punctuations]\n",
        "    filtered_responses_without_punctuation.append(filtered_response)"
      ]
    },
    {
      "cell_type": "code",
      "execution_count": 25,
      "metadata": {
        "colab": {
          "base_uri": "https://localhost:8080/"
        },
        "id": "DWrsngBhzu-V",
        "outputId": "5caa2e70-797d-4ad9-a339-753d8c294dec"
      },
      "outputs": [
        {
          "output_type": "execute_result",
          "data": {
            "text/plain": [
              "['compare',\n",
              " 'contrast',\n",
              " 'philosophical',\n",
              " 'foundation',\n",
              " 'major',\n",
              " 'school',\n",
              " 'thought',\n",
              " 'field',\n",
              " 'psychology',\n",
              " 'Behaviorism',\n",
              " 'Cognitivism']"
            ]
          },
          "metadata": {},
          "execution_count": 25
        }
      ],
      "source": [
        "filtered_responses_without_punctuation[0]"
      ]
    },
    {
      "cell_type": "code",
      "execution_count": 25,
      "metadata": {
        "id": "HfmtSqkd464c"
      },
      "outputs": [],
      "source": []
    },
    {
      "cell_type": "code",
      "execution_count": 26,
      "metadata": {
        "id": "6R5NoPAAjUT_"
      },
      "outputs": [],
      "source": [
        "# POS tagging\n",
        "def pos_tagging(filtered_responses):\n",
        "    tagged_responses = []\n",
        "    for response in filtered_responses:\n",
        "        doc = nlp(\" \".join(response))\n",
        "        tagged_response = [(token.text, token.pos_) for token in doc]\n",
        "        tagged_responses.append(tagged_response)\n",
        "    return tagged_responses\n",
        "\n",
        "tagged_responses = pos_tagging(filtered_responses)"
      ]
    },
    {
      "cell_type": "code",
      "execution_count": 26,
      "metadata": {
        "id": "d7wD81HFkfkC"
      },
      "outputs": [],
      "source": []
    },
    {
      "cell_type": "code",
      "execution_count": 27,
      "metadata": {
        "id": "mP7ieRpgrF1O"
      },
      "outputs": [],
      "source": [
        "# Named Entity Recognition (NER)\n",
        "# def ner_tagging(filtered_responses):\n",
        "#     tagged_responses = []\n",
        "#     for response in filtered_responses:\n",
        "#         doc = nlp(\" \".join(response))\n",
        "#         tagged_response = [(ent.text, ent.label_) for ent in doc.ents]\n",
        "#         tagged_responses.append(tagged_response)\n",
        "#     return tagged_responses\n",
        "\n",
        "# ner_tagged_responses = ner_tagging(filtered_responses)"
      ]
    },
    {
      "cell_type": "code",
      "execution_count": 27,
      "metadata": {
        "id": "EgcRK0P4quVg"
      },
      "outputs": [],
      "source": []
    },
    {
      "cell_type": "code",
      "execution_count": 28,
      "metadata": {
        "colab": {
          "base_uri": "https://localhost:8080/",
          "height": 466
        },
        "id": "qglv1O3CxOwc",
        "outputId": "0b859cb4-6c7d-4fc7-84c7-144a5a3cd888"
      },
      "outputs": [
        {
          "output_type": "execute_result",
          "data": {
            "text/plain": [
              "                                                                                                                                     response  \\\n",
              "0   Compare and contrast the philosophical foundations of two major schools of thought in the field of psychology Behaviorism and Cognitivism   \n",
              "1                                                       What are the key differences between classicism and romanticism in literature and art   \n",
              "2  Analyze the significance of the concept of cognitive dissonance in social psychology and its implications for understanding human behavior   \n",
              "3                                                      Compare and contrast two different theories related to human development in psychology   \n",
              "4                                                          Analyze and discuss the role of artificial intelligence in the future of education   \n",
              "\n",
              "   prompt_length  \\\n",
              "0             20   \n",
              "1             13   \n",
              "2             19   \n",
              "3             12   \n",
              "4             13   \n",
              "\n",
              "                                                                                                                                                           tokens  \\\n",
              "0  [Compare, and, contrast, the, philosophical, foundations, of, two, major, schools, of, thought, in, the, field, of, psychology, Behaviorism, and, Cognitivism]   \n",
              "1                                                             [What, are, the, key, differences, between, classicism, and, romanticism, in, literature, and, art]   \n",
              "2  [Analyze, the, significance, of, the, concept, of, cognitive, dissonance, in, social, psychology, and, its, implications, for, understanding, human, behavior]   \n",
              "3                                                             [Compare, and, contrast, two, different, theories, related, to, human, development, in, psychology]   \n",
              "4                                                                [Analyze, and, discuss, the, role, of, artificial, intelligence, in, the, future, of, education]   \n",
              "\n",
              "                                                                                                       filtered_response  \\\n",
              "0    [compare, contrast, philosophical, foundation, major, school, thought, field, psychology, Behaviorism, Cognitivism]   \n",
              "1                                                            [key, difference, classicism, romanticism, literature, art]   \n",
              "2  [analyze, significance, concept, cognitive, dissonance, social, psychology, implication, understand, human, behavior]   \n",
              "3                                         [compare, contrast, different, theory, relate, human, development, psychology]   \n",
              "4                                                  [analyze, discuss, role, artificial, intelligence, future, education]   \n",
              "\n",
              "                                                                                                                                                                                               pos_results  \n",
              "0  [(compare, VERB), (contrast, NOUN), (philosophical, ADJ), (foundation, NOUN), (major, ADJ), (school, NOUN), (thought, VERB), (field, NOUN), (psychology, NOUN), (Behaviorism, PROPN), (Cognitivism, ...  \n",
              "1                                                                                              [(key, ADJ), (difference, NOUN), (classicism, NOUN), (romanticism, NOUN), (literature, PROPN), (art, NOUN)]  \n",
              "2  [(analyze, VERB), (significance, NOUN), (concept, NOUN), (cognitive, ADJ), (dissonance, NOUN), (social, ADJ), (psychology, NOUN), (implication, NOUN), (understand, VERB), (human, ADJ), (behavior, ...  \n",
              "3                                                           [(compare, VERB), (contrast, NOUN), (different, ADJ), (theory, NOUN), (relate, VERB), (human, PROPN), (development, NOUN), (psychology, NOUN)]  \n",
              "4                                                                              [(analyze, VERB), (discuss, VERB), (role, NOUN), (artificial, ADJ), (intelligence, NOUN), (future, ADJ), (education, NOUN)]  "
            ],
            "text/html": [
              "\n",
              "  <div id=\"df-901b5b1b-0788-4562-ae6b-f54b4b74b33f\" class=\"colab-df-container\">\n",
              "    <div>\n",
              "<style scoped>\n",
              "    .dataframe tbody tr th:only-of-type {\n",
              "        vertical-align: middle;\n",
              "    }\n",
              "\n",
              "    .dataframe tbody tr th {\n",
              "        vertical-align: top;\n",
              "    }\n",
              "\n",
              "    .dataframe thead th {\n",
              "        text-align: right;\n",
              "    }\n",
              "</style>\n",
              "<table border=\"1\" class=\"dataframe\">\n",
              "  <thead>\n",
              "    <tr style=\"text-align: right;\">\n",
              "      <th></th>\n",
              "      <th>response</th>\n",
              "      <th>prompt_length</th>\n",
              "      <th>tokens</th>\n",
              "      <th>filtered_response</th>\n",
              "      <th>pos_results</th>\n",
              "    </tr>\n",
              "  </thead>\n",
              "  <tbody>\n",
              "    <tr>\n",
              "      <th>0</th>\n",
              "      <td>Compare and contrast the philosophical foundations of two major schools of thought in the field of psychology Behaviorism and Cognitivism</td>\n",
              "      <td>20</td>\n",
              "      <td>[Compare, and, contrast, the, philosophical, foundations, of, two, major, schools, of, thought, in, the, field, of, psychology, Behaviorism, and, Cognitivism]</td>\n",
              "      <td>[compare, contrast, philosophical, foundation, major, school, thought, field, psychology, Behaviorism, Cognitivism]</td>\n",
              "      <td>[(compare, VERB), (contrast, NOUN), (philosophical, ADJ), (foundation, NOUN), (major, ADJ), (school, NOUN), (thought, VERB), (field, NOUN), (psychology, NOUN), (Behaviorism, PROPN), (Cognitivism, ...</td>\n",
              "    </tr>\n",
              "    <tr>\n",
              "      <th>1</th>\n",
              "      <td>What are the key differences between classicism and romanticism in literature and art</td>\n",
              "      <td>13</td>\n",
              "      <td>[What, are, the, key, differences, between, classicism, and, romanticism, in, literature, and, art]</td>\n",
              "      <td>[key, difference, classicism, romanticism, literature, art]</td>\n",
              "      <td>[(key, ADJ), (difference, NOUN), (classicism, NOUN), (romanticism, NOUN), (literature, PROPN), (art, NOUN)]</td>\n",
              "    </tr>\n",
              "    <tr>\n",
              "      <th>2</th>\n",
              "      <td>Analyze the significance of the concept of cognitive dissonance in social psychology and its implications for understanding human behavior</td>\n",
              "      <td>19</td>\n",
              "      <td>[Analyze, the, significance, of, the, concept, of, cognitive, dissonance, in, social, psychology, and, its, implications, for, understanding, human, behavior]</td>\n",
              "      <td>[analyze, significance, concept, cognitive, dissonance, social, psychology, implication, understand, human, behavior]</td>\n",
              "      <td>[(analyze, VERB), (significance, NOUN), (concept, NOUN), (cognitive, ADJ), (dissonance, NOUN), (social, ADJ), (psychology, NOUN), (implication, NOUN), (understand, VERB), (human, ADJ), (behavior, ...</td>\n",
              "    </tr>\n",
              "    <tr>\n",
              "      <th>3</th>\n",
              "      <td>Compare and contrast two different theories related to human development in psychology</td>\n",
              "      <td>12</td>\n",
              "      <td>[Compare, and, contrast, two, different, theories, related, to, human, development, in, psychology]</td>\n",
              "      <td>[compare, contrast, different, theory, relate, human, development, psychology]</td>\n",
              "      <td>[(compare, VERB), (contrast, NOUN), (different, ADJ), (theory, NOUN), (relate, VERB), (human, PROPN), (development, NOUN), (psychology, NOUN)]</td>\n",
              "    </tr>\n",
              "    <tr>\n",
              "      <th>4</th>\n",
              "      <td>Analyze and discuss the role of artificial intelligence in the future of education</td>\n",
              "      <td>13</td>\n",
              "      <td>[Analyze, and, discuss, the, role, of, artificial, intelligence, in, the, future, of, education]</td>\n",
              "      <td>[analyze, discuss, role, artificial, intelligence, future, education]</td>\n",
              "      <td>[(analyze, VERB), (discuss, VERB), (role, NOUN), (artificial, ADJ), (intelligence, NOUN), (future, ADJ), (education, NOUN)]</td>\n",
              "    </tr>\n",
              "  </tbody>\n",
              "</table>\n",
              "</div>\n",
              "    <div class=\"colab-df-buttons\">\n",
              "\n",
              "  <div class=\"colab-df-container\">\n",
              "    <button class=\"colab-df-convert\" onclick=\"convertToInteractive('df-901b5b1b-0788-4562-ae6b-f54b4b74b33f')\"\n",
              "            title=\"Convert this dataframe to an interactive table.\"\n",
              "            style=\"display:none;\">\n",
              "\n",
              "  <svg xmlns=\"http://www.w3.org/2000/svg\" height=\"24px\" viewBox=\"0 -960 960 960\">\n",
              "    <path d=\"M120-120v-720h720v720H120Zm60-500h600v-160H180v160Zm220 220h160v-160H400v160Zm0 220h160v-160H400v160ZM180-400h160v-160H180v160Zm440 0h160v-160H620v160ZM180-180h160v-160H180v160Zm440 0h160v-160H620v160Z\"/>\n",
              "  </svg>\n",
              "    </button>\n",
              "\n",
              "  <style>\n",
              "    .colab-df-container {\n",
              "      display:flex;\n",
              "      gap: 12px;\n",
              "    }\n",
              "\n",
              "    .colab-df-convert {\n",
              "      background-color: #E8F0FE;\n",
              "      border: none;\n",
              "      border-radius: 50%;\n",
              "      cursor: pointer;\n",
              "      display: none;\n",
              "      fill: #1967D2;\n",
              "      height: 32px;\n",
              "      padding: 0 0 0 0;\n",
              "      width: 32px;\n",
              "    }\n",
              "\n",
              "    .colab-df-convert:hover {\n",
              "      background-color: #E2EBFA;\n",
              "      box-shadow: 0px 1px 2px rgba(60, 64, 67, 0.3), 0px 1px 3px 1px rgba(60, 64, 67, 0.15);\n",
              "      fill: #174EA6;\n",
              "    }\n",
              "\n",
              "    .colab-df-buttons div {\n",
              "      margin-bottom: 4px;\n",
              "    }\n",
              "\n",
              "    [theme=dark] .colab-df-convert {\n",
              "      background-color: #3B4455;\n",
              "      fill: #D2E3FC;\n",
              "    }\n",
              "\n",
              "    [theme=dark] .colab-df-convert:hover {\n",
              "      background-color: #434B5C;\n",
              "      box-shadow: 0px 1px 3px 1px rgba(0, 0, 0, 0.15);\n",
              "      filter: drop-shadow(0px 1px 2px rgba(0, 0, 0, 0.3));\n",
              "      fill: #FFFFFF;\n",
              "    }\n",
              "  </style>\n",
              "\n",
              "    <script>\n",
              "      const buttonEl =\n",
              "        document.querySelector('#df-901b5b1b-0788-4562-ae6b-f54b4b74b33f button.colab-df-convert');\n",
              "      buttonEl.style.display =\n",
              "        google.colab.kernel.accessAllowed ? 'block' : 'none';\n",
              "\n",
              "      async function convertToInteractive(key) {\n",
              "        const element = document.querySelector('#df-901b5b1b-0788-4562-ae6b-f54b4b74b33f');\n",
              "        const dataTable =\n",
              "          await google.colab.kernel.invokeFunction('convertToInteractive',\n",
              "                                                    [key], {});\n",
              "        if (!dataTable) return;\n",
              "\n",
              "        const docLinkHtml = 'Like what you see? Visit the ' +\n",
              "          '<a target=\"_blank\" href=https://colab.research.google.com/notebooks/data_table.ipynb>data table notebook</a>'\n",
              "          + ' to learn more about interactive tables.';\n",
              "        element.innerHTML = '';\n",
              "        dataTable['output_type'] = 'display_data';\n",
              "        await google.colab.output.renderOutput(dataTable, element);\n",
              "        const docLink = document.createElement('div');\n",
              "        docLink.innerHTML = docLinkHtml;\n",
              "        element.appendChild(docLink);\n",
              "      }\n",
              "    </script>\n",
              "  </div>\n",
              "\n",
              "\n",
              "<div id=\"df-1d4e44c3-1225-4fbd-ae35-27c252866cb1\">\n",
              "  <button class=\"colab-df-quickchart\" onclick=\"quickchart('df-1d4e44c3-1225-4fbd-ae35-27c252866cb1')\"\n",
              "            title=\"Suggest charts\"\n",
              "            style=\"display:none;\">\n",
              "\n",
              "<svg xmlns=\"http://www.w3.org/2000/svg\" height=\"24px\"viewBox=\"0 0 24 24\"\n",
              "     width=\"24px\">\n",
              "    <g>\n",
              "        <path d=\"M19 3H5c-1.1 0-2 .9-2 2v14c0 1.1.9 2 2 2h14c1.1 0 2-.9 2-2V5c0-1.1-.9-2-2-2zM9 17H7v-7h2v7zm4 0h-2V7h2v10zm4 0h-2v-4h2v4z\"/>\n",
              "    </g>\n",
              "</svg>\n",
              "  </button>\n",
              "\n",
              "<style>\n",
              "  .colab-df-quickchart {\n",
              "      --bg-color: #E8F0FE;\n",
              "      --fill-color: #1967D2;\n",
              "      --hover-bg-color: #E2EBFA;\n",
              "      --hover-fill-color: #174EA6;\n",
              "      --disabled-fill-color: #AAA;\n",
              "      --disabled-bg-color: #DDD;\n",
              "  }\n",
              "\n",
              "  [theme=dark] .colab-df-quickchart {\n",
              "      --bg-color: #3B4455;\n",
              "      --fill-color: #D2E3FC;\n",
              "      --hover-bg-color: #434B5C;\n",
              "      --hover-fill-color: #FFFFFF;\n",
              "      --disabled-bg-color: #3B4455;\n",
              "      --disabled-fill-color: #666;\n",
              "  }\n",
              "\n",
              "  .colab-df-quickchart {\n",
              "    background-color: var(--bg-color);\n",
              "    border: none;\n",
              "    border-radius: 50%;\n",
              "    cursor: pointer;\n",
              "    display: none;\n",
              "    fill: var(--fill-color);\n",
              "    height: 32px;\n",
              "    padding: 0;\n",
              "    width: 32px;\n",
              "  }\n",
              "\n",
              "  .colab-df-quickchart:hover {\n",
              "    background-color: var(--hover-bg-color);\n",
              "    box-shadow: 0 1px 2px rgba(60, 64, 67, 0.3), 0 1px 3px 1px rgba(60, 64, 67, 0.15);\n",
              "    fill: var(--button-hover-fill-color);\n",
              "  }\n",
              "\n",
              "  .colab-df-quickchart-complete:disabled,\n",
              "  .colab-df-quickchart-complete:disabled:hover {\n",
              "    background-color: var(--disabled-bg-color);\n",
              "    fill: var(--disabled-fill-color);\n",
              "    box-shadow: none;\n",
              "  }\n",
              "\n",
              "  .colab-df-spinner {\n",
              "    border: 2px solid var(--fill-color);\n",
              "    border-color: transparent;\n",
              "    border-bottom-color: var(--fill-color);\n",
              "    animation:\n",
              "      spin 1s steps(1) infinite;\n",
              "  }\n",
              "\n",
              "  @keyframes spin {\n",
              "    0% {\n",
              "      border-color: transparent;\n",
              "      border-bottom-color: var(--fill-color);\n",
              "      border-left-color: var(--fill-color);\n",
              "    }\n",
              "    20% {\n",
              "      border-color: transparent;\n",
              "      border-left-color: var(--fill-color);\n",
              "      border-top-color: var(--fill-color);\n",
              "    }\n",
              "    30% {\n",
              "      border-color: transparent;\n",
              "      border-left-color: var(--fill-color);\n",
              "      border-top-color: var(--fill-color);\n",
              "      border-right-color: var(--fill-color);\n",
              "    }\n",
              "    40% {\n",
              "      border-color: transparent;\n",
              "      border-right-color: var(--fill-color);\n",
              "      border-top-color: var(--fill-color);\n",
              "    }\n",
              "    60% {\n",
              "      border-color: transparent;\n",
              "      border-right-color: var(--fill-color);\n",
              "    }\n",
              "    80% {\n",
              "      border-color: transparent;\n",
              "      border-right-color: var(--fill-color);\n",
              "      border-bottom-color: var(--fill-color);\n",
              "    }\n",
              "    90% {\n",
              "      border-color: transparent;\n",
              "      border-bottom-color: var(--fill-color);\n",
              "    }\n",
              "  }\n",
              "</style>\n",
              "\n",
              "  <script>\n",
              "    async function quickchart(key) {\n",
              "      const quickchartButtonEl =\n",
              "        document.querySelector('#' + key + ' button');\n",
              "      quickchartButtonEl.disabled = true;  // To prevent multiple clicks.\n",
              "      quickchartButtonEl.classList.add('colab-df-spinner');\n",
              "      try {\n",
              "        const charts = await google.colab.kernel.invokeFunction(\n",
              "            'suggestCharts', [key], {});\n",
              "      } catch (error) {\n",
              "        console.error('Error during call to suggestCharts:', error);\n",
              "      }\n",
              "      quickchartButtonEl.classList.remove('colab-df-spinner');\n",
              "      quickchartButtonEl.classList.add('colab-df-quickchart-complete');\n",
              "    }\n",
              "    (() => {\n",
              "      let quickchartButtonEl =\n",
              "        document.querySelector('#df-1d4e44c3-1225-4fbd-ae35-27c252866cb1 button');\n",
              "      quickchartButtonEl.style.display =\n",
              "        google.colab.kernel.accessAllowed ? 'block' : 'none';\n",
              "    })();\n",
              "  </script>\n",
              "</div>\n",
              "\n",
              "    </div>\n",
              "  </div>\n"
            ],
            "application/vnd.google.colaboratory.intrinsic+json": {
              "type": "dataframe",
              "variable_name": "df"
            }
          },
          "metadata": {},
          "execution_count": 28
        }
      ],
      "source": [
        "df['pos_results'] = tagged_responses\n",
        "df.head()"
      ]
    },
    {
      "cell_type": "markdown",
      "metadata": {
        "id": "4845Ki3AUeBs"
      },
      "source": [
        "# **Data Analysis and insights**"
      ]
    },
    {
      "cell_type": "code",
      "execution_count": 29,
      "metadata": {
        "id": "xK4WQHlq_3GE"
      },
      "outputs": [],
      "source": [
        "# This method returns a list of all the words in the dataset after removing stopwords, removing punctuation, lowercasing, and lemmatization\n",
        "\n",
        "def extract_vocab(filtered_responses):\n",
        "    vocab = set()\n",
        "    for response in filtered_responses:\n",
        "        for word in response:\n",
        "            vocab.add(word)\n",
        "    return list(vocab)\n"
      ]
    },
    {
      "cell_type": "code",
      "execution_count": 30,
      "metadata": {
        "colab": {
          "base_uri": "https://localhost:8080/"
        },
        "id": "BZY5lAHzL3hS",
        "outputId": "0c5fcf5d-4c3f-4c20-f2d3-282df00a985f"
      },
      "outputs": [
        {
          "output_type": "execute_result",
          "data": {
            "text/plain": [
              "['paradigm',\n",
              " 'Samsa',\n",
              " 'Lavoisier',\n",
              " 'grow',\n",
              " 'operationalization',\n",
              " 'welldevelope',\n",
              " 'ofBehaviorism',\n",
              " 'typically',\n",
              " 'Narratology',\n",
              " 'completing',\n",
              " 'bx',\n",
              " 'QuineDu',\n",
              " 'review',\n",
              " 'Compare',\n",
              " 'amplitude',\n",
              " 'double',\n",
              " 'turnover',\n",
              " 'wild',\n",
              " 'gerontology',\n",
              " 'threesentence',\n",
              " 'Assess',\n",
              " 'hormesis',\n",
              " 'uncertainty',\n",
              " 'orientation',\n",
              " 'maslow',\n",
              " 'vast',\n",
              " 'enhanced',\n",
              " 'schizophrenia',\n",
              " 'Communicative',\n",
              " 'Schopenhauers']"
            ]
          },
          "metadata": {},
          "execution_count": 30
        }
      ],
      "source": [
        "# My Vocab\n",
        "# Word_list contains all the words \"Vocab\" of my dataset\n",
        "words_list = extract_vocab(filtered_responses)\n",
        "\n",
        "# Example of some of the words\n",
        "words_list[0:30]"
      ]
    },
    {
      "cell_type": "code",
      "execution_count": 30,
      "metadata": {
        "id": "CfW2tbyrhHaa"
      },
      "outputs": [],
      "source": []
    },
    {
      "cell_type": "code",
      "execution_count": 31,
      "metadata": {
        "id": "jwchRGAcc8Tl"
      },
      "outputs": [],
      "source": [
        "# This methods returns a dictionary where each 'key' is a word in the dataset and each 'value' is the frequency of that word in the dataset.\n",
        "def termFrequency(filtered_responses):\n",
        "    term_freq_dict = {}\n",
        "    for response in filtered_responses:\n",
        "        for word in response:\n",
        "            if word not in nlp.Defaults.stop_words:  # Check if word is not a stop word\n",
        "                term_freq_dict[word] = term_freq_dict.get(word, 0) + 1\n",
        "    return term_freq_dict"
      ]
    },
    {
      "cell_type": "code",
      "execution_count": 32,
      "metadata": {
        "colab": {
          "base_uri": "https://localhost:8080/"
        },
        "id": "_2eiGpe1eP7H",
        "outputId": "c77fb814-a0e8-4fcc-d5b3-cbff509b049c"
      },
      "outputs": [
        {
          "output_type": "execute_result",
          "data": {
            "text/plain": [
              "{'compare': 57516,\n",
              " 'significance': 57396,\n",
              " 'contrast': 57024,\n",
              " 'field': 56935,\n",
              " 'theory': 56283,\n",
              " 'explain': 54501,\n",
              " 'key': 53012,\n",
              " 'concept': 42367,\n",
              " 'difference': 38508,\n",
              " 'development': 35789}"
            ]
          },
          "metadata": {},
          "execution_count": 32
        }
      ],
      "source": [
        "#word_freq_dict having each word in the dataset and it's corresponding count\n",
        "term_freq = termFrequency(filtered_responses)\n",
        "sorted_term_freq = dict(sorted(term_freq.items(), key=lambda item: item[1], reverse=True))\n",
        "\n",
        "# Take only the top 10 items\n",
        "top_10_term_freq = dict(list(sorted_term_freq.items())[:10])\n",
        "\n",
        "top_10_term_freq"
      ]
    },
    {
      "cell_type": "code",
      "execution_count": 33,
      "metadata": {
        "colab": {
          "base_uri": "https://localhost:8080/"
        },
        "id": "GuS-yjK8ax3Q",
        "outputId": "4c9db8f3-69ab-4174-9727-39227d52f7b9"
      },
      "outputs": [
        {
          "output_type": "stream",
          "name": "stdout",
          "text": [
            "Most frequent word: compare\n",
            "Frequency: 57516\n"
          ]
        }
      ],
      "source": [
        "# Getting the most frequent word\n",
        "def most_frequent_word(term_freq_dict):\n",
        "\n",
        "    max_freq_word = max(term_freq_dict, key=term_freq_dict.get)\n",
        "    max_freq = term_freq_dict[max_freq_word]\n",
        "    return max_freq_word, max_freq\n",
        "\n",
        "most_freq_word, freq = most_frequent_word(term_freq)\n",
        "print(\"Most frequent word:\", most_freq_word)\n",
        "print(\"Frequency:\", freq)"
      ]
    },
    {
      "cell_type": "markdown",
      "metadata": {
        "id": "ZaqOmslIjAWT"
      },
      "source": [
        "As we can see, the most frquent word is **\"Compare\"**. This can provide insights about our data that most of the prompts focus on  comparisons between different entities, concepts, ideas, or phenomena."
      ]
    },
    {
      "cell_type": "code",
      "execution_count": 34,
      "metadata": {
        "colab": {
          "base_uri": "https://localhost:8080/",
          "height": 607
        },
        "id": "BhgSKzZsbRTV",
        "outputId": "505b456d-9d00-44f8-edbf-472d214f400e"
      },
      "outputs": [
        {
          "output_type": "display_data",
          "data": {
            "text/plain": [
              "<Figure size 1000x600 with 1 Axes>"
            ],
            "image/png": "[encoded data removed]"
          },
          "metadata": {}
        }
      ],
      "source": [
        "import matplotlib.pyplot as plt\n",
        "\n",
        "def plot_top_10_words(term_freq_dict):\n",
        "\n",
        "    sorted_freq = sorted(term_freq_dict.items(), key=lambda x: x[1], reverse=True)\n",
        "\n",
        "\n",
        "    top_10_words = sorted_freq[:10]\n",
        "\n",
        "\n",
        "    words = [item[0] for item in top_10_words]\n",
        "    frequencies = [item[1] for item in top_10_words]\n",
        "\n",
        "\n",
        "    plt.figure(figsize=(10, 6))\n",
        "    plt.bar(words, frequencies, color='skyblue')\n",
        "    plt.xlabel('Words')\n",
        "    plt.ylabel('Frequency')\n",
        "    plt.title('Top 10 Most Frequent Words')\n",
        "    plt.xticks(rotation=45, ha='right')\n",
        "    plt.tight_layout()\n",
        "    plt.show()\n",
        "plot_top_10_words(term_freq)"
      ]
    },
    {
      "cell_type": "code",
      "execution_count": 35,
      "metadata": {
        "id": "sCbFMKUygfGT"
      },
      "outputs": [],
      "source": [
        "# This method calculates the docunemt frequency of each word, which means how many prompts contain each word.\n",
        "def wordDocFreq(filtered_responses):\n",
        "    doc_freq_dict = {}\n",
        "    for response in filtered_responses:\n",
        "        seen_words = set()\n",
        "        for word in response:\n",
        "            if word not in seen_words:\n",
        "                doc_freq_dict[word] = doc_freq_dict.get(word, 0) + 1\n",
        "                seen_words.add(word)\n",
        "    return doc_freq_dict"
      ]
    },
    {
      "cell_type": "code",
      "execution_count": 36,
      "metadata": {
        "colab": {
          "base_uri": "https://localhost:8080/"
        },
        "id": "G4YUW1ZhghT0",
        "outputId": "b7263f1f-c121-448d-f7e4-9e71d815b85e"
      },
      "outputs": [
        {
          "output_type": "execute_result",
          "data": {
            "text/plain": [
              "{'compare': 57516,\n",
              " 'significance': 57396,\n",
              " 'contrast': 56974,\n",
              " 'field': 56809,\n",
              " 'explain': 54482,\n",
              " 'theory': 54240,\n",
              " 'key': 53002,\n",
              " 'concept': 42281,\n",
              " 'difference': 37749,\n",
              " 'development': 35407}"
            ]
          },
          "metadata": {},
          "execution_count": 36
        }
      ],
      "source": [
        "doc_freq = wordDocFreq(filtered_responses)\n",
        "sorted_doc_freq = dict(sorted(doc_freq.items(), key=lambda item: item[1], reverse=True))\n",
        "\n",
        "# Take only the top 10 items\n",
        "top_10_doc_freq = dict(list(sorted_doc_freq.items())[:10])\n",
        "\n",
        "top_10_doc_freq"
      ]
    },
    {
      "cell_type": "code",
      "execution_count": 37,
      "metadata": {
        "colab": {
          "base_uri": "https://localhost:8080/"
        },
        "id": "opWOA4H1chhl",
        "outputId": "b1ef808b-bb86-4eba-d000-bef3a201ee5d"
      },
      "outputs": [
        {
          "output_type": "stream",
          "name": "stdout",
          "text": [
            "Word with highest document frequency: compare\n",
            "Document Frequency: 57516\n"
          ]
        }
      ],
      "source": [
        "# Finding the word with the highest document frequency count\n",
        "def word_with_highest_doc_freq(doc_freq_dict):\n",
        "\n",
        "    max_freq_word = max(doc_freq_dict, key=doc_freq_dict.get)\n",
        "    max_freq = doc_freq_dict[max_freq_word]\n",
        "    return max_freq_word, max_freq\n",
        "\n",
        "\n",
        "max_freq_word, freq = word_with_highest_doc_freq(doc_freq)\n",
        "print(\"Word with highest document frequency:\", max_freq_word)\n",
        "print(\"Document Frequency:\", freq)"
      ]
    },
    {
      "cell_type": "markdown",
      "metadata": {
        "id": "pJRohSCckEUK"
      },
      "source": [
        "Again, \"**Compare**\" has the highest document frequency. This again means that most of the documents contain questions in the form of comparison"
      ]
    },
    {
      "cell_type": "code",
      "execution_count": 38,
      "metadata": {
        "colab": {
          "base_uri": "https://localhost:8080/",
          "height": 607
        },
        "id": "PeLg9MJkcuVV",
        "outputId": "9f8d66f3-4ac2-487a-ec53-93d868c24628"
      },
      "outputs": [
        {
          "output_type": "display_data",
          "data": {
            "text/plain": [
              "<Figure size 1000x600 with 1 Axes>"
            ],
            "image/png": "[encoded data removed]"
          },
          "metadata": {}
        }
      ],
      "source": [
        "import matplotlib.pyplot as plt\n",
        "\n",
        "sorted_doc_freq = sorted(doc_freq.items(), key=lambda x: x[1], reverse=True)\n",
        "\n",
        "\n",
        "top_10_words = sorted_doc_freq[:10]\n",
        "\n",
        "\n",
        "words = [item[0] for item in top_10_words]\n",
        "frequencies = [item[1] for item in top_10_words]\n",
        "\n",
        "\n",
        "plt.figure(figsize=(10, 6))\n",
        "plt.bar(words, frequencies, color='skyblue')\n",
        "plt.xlabel('Words')\n",
        "plt.ylabel('Document Frequency')\n",
        "plt.title('Top 10 Words with Highest Document Frequency Counts')\n",
        "plt.xticks(rotation=45, ha='right')\n",
        "plt.tight_layout()\n",
        "plt.show()"
      ]
    },
    {
      "cell_type": "code",
      "execution_count": 39,
      "metadata": {
        "id": "Vzidal6DjPaq"
      },
      "outputs": [],
      "source": [
        "# This function calculates the IDF score for each word in the entire dataset\n",
        "# The IDF score indicates how unique or important each word is relative to the entire corpus of documents.\n",
        "import math\n",
        "\n",
        "def calculate_idf(filtered_responses):\n",
        "    total_documents = len(filtered_responses)\n",
        "    word_document_count = {}\n",
        "\n",
        "    for response in filtered_responses:\n",
        "        seen_words = set()\n",
        "        for word in response:\n",
        "            if word not in seen_words:\n",
        "                word_document_count[word] = word_document_count.get(word, 0) + 1\n",
        "                seen_words.add(word)\n",
        "\n",
        "\n",
        "    idf_scores = {}\n",
        "    for word, doc_count in word_document_count.items():\n",
        "        idf_scores[word] = math.log(total_documents / (doc_count + 1))\n",
        "\n",
        "    return idf_scores"
      ]
    },
    {
      "cell_type": "markdown",
      "metadata": {
        "id": "fR5680IkkxCb"
      },
      "source": [
        "The IDF score indicates how unique or important each word is relative to the entire corpus of documents"
      ]
    },
    {
      "cell_type": "code",
      "execution_count": 40,
      "metadata": {
        "colab": {
          "base_uri": "https://localhost:8080/"
        },
        "id": "bFxapRYpjRPZ",
        "outputId": "2da3de2f-2fc9-4229-df77-7cee3a96d82d"
      },
      "outputs": [
        {
          "output_type": "execute_result",
          "data": {
            "text/plain": [
              "{'compare': 1.465846123513262,\n",
              " 'contrast': 1.4753141046622402,\n",
              " 'philosophical': 2.5594290928502232,\n",
              " 'foundation': 3.867538781030934,\n",
              " 'major': 3.7083272924376023,\n",
              " 'school': 5.537109499210763,\n",
              " 'thought': 4.682412257947121,\n",
              " 'field': 1.4782143132249528,\n",
              " 'psychology': 2.5559063207255335,\n",
              " 'Behaviorism': 5.944104829499694}"
            ]
          },
          "metadata": {},
          "execution_count": 40
        }
      ],
      "source": [
        "#IDF score for each word\n",
        "idf_scores = calculate_idf(filtered_responses)\n",
        "sorted_idf_scores = dict(sorted(idf_scores.items(), key=lambda item: item[1], reverse=True))\n",
        "\n",
        "# Take only the top 10 items\n",
        "top_10_idf_scores = dict(list(idf_scores.items())[:10])\n",
        "\n",
        "top_10_idf_scores"
      ]
    },
    {
      "cell_type": "code",
      "execution_count": 41,
      "metadata": {
        "colab": {
          "base_uri": "https://localhost:8080/"
        },
        "id": "v_3Okiixdcvd",
        "outputId": "7c69d092-afdc-40e1-9e59-dad5a0ccb073"
      },
      "outputs": [
        {
          "output_type": "stream",
          "name": "stdout",
          "text": [
            "Word with highest IDF score: connectionism\n",
            "IDF Score: 11.73253477821618\n"
          ]
        }
      ],
      "source": [
        "# Finding the word with the highest IDF score\n",
        "max_idf_word = max(idf_scores, key=idf_scores.get)\n",
        "max_idf_score = idf_scores[max_idf_word]\n",
        "\n",
        "print(\"Word with highest IDF score:\", max_idf_word)\n",
        "print(\"IDF Score:\", max_idf_score)"
      ]
    },
    {
      "cell_type": "markdown",
      "metadata": {
        "id": "pPdVNB4EdjHk"
      },
      "source": [
        "The IDF score reflects how much information the word provides.The higher the IDF score, the more rare or unique the word is, and therefore, it's considered more important or significant in distinguishing between documents.\n",
        "\n",
        "Words with high IDF scores are often indicative of terms that are crucial for understanding specific topics or concepts in the dataset. **\"connectionism\"** may be a key concept within psychology or cognitive science"
      ]
    },
    {
      "cell_type": "code",
      "execution_count": 42,
      "metadata": {
        "colab": {
          "base_uri": "https://localhost:8080/",
          "height": 607
        },
        "id": "7gWOf3UDebrL",
        "outputId": "aa9b7c21-0f86-4d63-bb59-e084af3d2457"
      },
      "outputs": [
        {
          "output_type": "display_data",
          "data": {
            "text/plain": [
              "<Figure size 1000x600 with 1 Axes>"
            ],
            "image/png": "[encoded data removed]"
          },
          "metadata": {}
        }
      ],
      "source": [
        "import matplotlib.pyplot as plt\n",
        "\n",
        "sorted_idf_scores = sorted(idf_scores.items(), key=lambda x: x[1], reverse=True)\n",
        "\n",
        "top_10_words = sorted_idf_scores[:10]\n",
        "\n",
        "words = [item[0] for item in top_10_words]\n",
        "idf_scores = [item[1] for item in top_10_words]\n",
        "\n",
        "plt.figure(figsize=(10, 6))\n",
        "plt.bar(words, idf_scores, color='skyblue')\n",
        "plt.xlabel('Words')\n",
        "plt.ylabel('IDF Score')\n",
        "plt.title('Top 10 Words with Highest IDF Scores')\n",
        "plt.xticks(rotation=45, ha='right')\n",
        "plt.tight_layout()\n",
        "plt.show()"
      ]
    },
    {
      "cell_type": "code",
      "execution_count": 43,
      "metadata": {
        "id": "W3oov3PcnC13"
      },
      "outputs": [],
      "source": [
        "#This function Calculates the TF-IDF score for each word in each preprocessed response individually.\n",
        "import math\n",
        "\n",
        "def calculate_tf_idf(filtered_responses):\n",
        "    # Calculate TF (Term Frequency)\n",
        "    tf_scores = {}\n",
        "    for response in filtered_responses:\n",
        "        for word in response:\n",
        "            tf_scores[word] = tf_scores.get(word, 0) + 1\n",
        "\n",
        "    # Calculate IDF (Inverse Document Frequency)\n",
        "    total_documents = len(filtered_responses)\n",
        "    word_document_count = {}\n",
        "    for response in filtered_responses:\n",
        "        seen_words = set()  # Keep track of words already seen in the current response\n",
        "        for word in response:\n",
        "            if word not in seen_words:  # Only count each word once per response\n",
        "                word_document_count[word] = word_document_count.get(word, 0) + 1\n",
        "                seen_words.add(word)\n",
        "\n",
        "    idf_scores = {}\n",
        "    for word, doc_count in word_document_count.items():\n",
        "        idf_scores[word] = math.log(total_documents / (doc_count + 1))  # Add 1 to avoid division by zero\n",
        "\n",
        "    # Calculate TF-IDF (Term Frequency-Inverse Document Frequency)\n",
        "    tf_idf_scores = {}\n",
        "    for word, tf_score in tf_scores.items():\n",
        "        tf_idf_scores[word] = tf_score * idf_scores.get(word, 0)\n",
        "\n",
        "    return tf_idf_scores"
      ]
    },
    {
      "cell_type": "markdown",
      "metadata": {
        "id": "f4eN9Hs-mb6D"
      },
      "source": [
        "The TF-IDF score is a statistical measure used to evaluate the importance of a word in a document relative to a collection of document.\n",
        "\n",
        "a high TF-IDF score for a word in a document indicates that the word is both frequent within that document and rare across the entire corpus, making it more likely to be relevant to the content of that document."
      ]
    },
    {
      "cell_type": "code",
      "execution_count": 44,
      "metadata": {
        "colab": {
          "base_uri": "https://localhost:8080/"
        },
        "id": "52Ze3eesnC4I",
        "outputId": "fff93d4a-4e70-4750-85c5-17ea7cb09cf3"
      },
      "outputs": [
        {
          "output_type": "execute_result",
          "data": {
            "text/plain": [
              "{'compare': 84309.60563998877,\n",
              " 'contrast': 84128.31150425959,\n",
              " 'philosophical': 49402.10035019501,\n",
              " 'foundation': 20149.877049171166,\n",
              " 'major': 22654.17142950131,\n",
              " 'school': 5470.664185220234,\n",
              " 'thought': 10811.689903599901,\n",
              " 'field': 84162.13192346269,\n",
              " 'psychology': 50392.24901942462,\n",
              " 'Behaviorism': 3875.5563488338007}"
            ]
          },
          "metadata": {},
          "execution_count": 44
        }
      ],
      "source": [
        "tf_idf_scores = calculate_tf_idf(filtered_responses)\n",
        "sorted_tf_idf_scores = dict(sorted(tf_idf_scores.items(), key=lambda item: item[1], reverse=True))\n",
        "\n",
        "# Take only the top 10 items\n",
        "top_10_tf_idf_scores = dict(list(tf_idf_scores.items())[:10])\n",
        "\n",
        "top_10_tf_idf_scores"
      ]
    },
    {
      "cell_type": "code",
      "execution_count": 45,
      "metadata": {
        "colab": {
          "base_uri": "https://localhost:8080/"
        },
        "id": "AsopT7-9fM5k",
        "outputId": "87af6dc2-e727-4a04-8a9d-eac2990a6b6e"
      },
      "outputs": [
        {
          "output_type": "stream",
          "name": "stdout",
          "text": [
            "Word with highest TF-IDF score: theory\n",
            "TF-IDF Score: 85802.8481429335\n"
          ]
        }
      ],
      "source": [
        "# Finding the highest TF-IDF score\n",
        "max_tfidf_word = max(tf_idf_scores, key=tf_idf_scores.get)\n",
        "max_tfidf_score = tf_idf_scores[max_tfidf_word]\n",
        "\n",
        "print(\"Word with highest TF-IDF score:\", max_tfidf_word)\n",
        "print(\"TF-IDF Score:\", max_tfidf_score)"
      ]
    },
    {
      "cell_type": "markdown",
      "metadata": {
        "id": "MNB6iLtWfAEX"
      },
      "source": [
        "A high TF-IDF score suggests that the word **\"theory\"** is significant and representative of the content in the dataset. It indicates that **\"theory**\" appears frequently in some documents (high TF) but is relatively rare across the entire dataset (high IDF), making it a distinguishing term.\n",
        "\n",
        "Moreover, The presence of **\"theory\"** as the word with the highest TF-IDF score may indicate that the dataset contains documents with a strong focus on theoretical concepts or discussions. It suggests that the topic or theme revolving around **\"theory\"** is central to the dataset."
      ]
    },
    {
      "cell_type": "code",
      "execution_count": 46,
      "metadata": {
        "colab": {
          "base_uri": "https://localhost:8080/"
        },
        "id": "nPgUOuy2mPUB",
        "outputId": "ce0c45cd-cd67-4a49-aa7b-73f37349be82"
      },
      "outputs": [
        {
          "output_type": "stream",
          "name": "stdout",
          "text": [
            "1. Word: theory, TF-IDF Score: 85802.8481429335\n",
            "2. Word: compare, TF-IDF Score: 84309.60563998877\n",
            "3. Word: significance, TF-IDF Score: 84253.57674911941\n",
            "4. Word: field, TF-IDF Score: 84162.13192346269\n",
            "5. Word: contrast, TF-IDF Score: 84128.31150425959\n",
            "6. Word: explain, TF-IDF Score: 82843.58849768207\n",
            "7. Word: key, TF-IDF Score: 82040.21363369022\n",
            "8. Word: concept, TF-IDF Score: 75140.63751563714\n",
            "9. Word: difference, TF-IDF Score: 72662.33188744255\n",
            "10. Word: development, TF-IDF Score: 69823.94161631221\n"
          ]
        }
      ],
      "source": [
        "# Finding the top 10 highest TF-IDF scores\n",
        "sorted_tf_idf_scores = sorted(tf_idf_scores.items(), key=lambda x: x[1], reverse=True)\n",
        "\n",
        "top_10_words = sorted_tf_idf_scores[:10]\n",
        "\n",
        "for i, (word, score) in enumerate(top_10_words, 1):\n",
        "    print(f\"{i}. Word: {word}, TF-IDF Score: {score}\")"
      ]
    },
    {
      "cell_type": "markdown",
      "metadata": {
        "id": "cHKl8S6ThXHV"
      },
      "source": [
        "# **Neural Network model**"
      ]
    },
    {
      "cell_type": "markdown",
      "metadata": {
        "id": "dROKIxdwZ8ND"
      },
      "source": [
        " Assigning a unique index to each word in my dataset."
      ]
    },
    {
      "cell_type": "code",
      "execution_count": 47,
      "metadata": {
        "id": "46h6-vcMZv2B"
      },
      "outputs": [],
      "source": [
        "# Create a vocabulary dictionary to map words to indices\n",
        "vocab = {}\n",
        "index = 0\n",
        "\n",
        "# Iterate through each word in the vocabulary list\n",
        "for word in words_list:\n",
        "    # Check if the word is not already in the vocabulary\n",
        "    if word not in vocab:\n",
        "        # Assign the current index to the word and increment the index\n",
        "        vocab[word] = index\n",
        "        index += 1"
      ]
    },
    {
      "cell_type": "code",
      "execution_count": 48,
      "metadata": {
        "id": "E2JNEHjZa6rN"
      },
      "outputs": [],
      "source": [
        "# Set the dimensionality of the embedding space\n",
        "embedding_dim = 200"
      ]
    },
    {
      "cell_type": "markdown",
      "metadata": {
        "id": "zsvAQlzadVT3"
      },
      "source": [
        " Map Tokens to Indices"
      ]
    },
    {
      "cell_type": "code",
      "execution_count": 49,
      "metadata": {
        "id": "o3CsG0QFcC_D"
      },
      "outputs": [],
      "source": [
        "def tokens_to_indices(tokens, vocab):\n",
        "    indices = []\n",
        "    # Iterate through each token in the tokenized sequence\n",
        "    for token in tokens:\n",
        "        # Check if the token exists in the vocabulary\n",
        "        if token in vocab:\n",
        "            # Map the token to its corresponding index in the vocabulary\n",
        "            indices.append(vocab[token])\n",
        "        # else:\n",
        "        #     # If the token is out of vocabulary, assign a special index (e.g., <UNK>)\n",
        "        #     indices.append(vocab['<UNK>'])\n",
        "    return indices\n"
      ]
    },
    {
      "cell_type": "markdown",
      "metadata": {
        "id": "ejFbFpxYff6X"
      },
      "source": [
        "all_indices list contains the indexes of all tokens in the vocab"
      ]
    },
    {
      "cell_type": "code",
      "execution_count": 50,
      "metadata": {
        "colab": {
          "base_uri": "https://localhost:8080/"
        },
        "id": "cC32HhBGfG--",
        "outputId": "b8cca018-d2db-4b05-af25-4cd5eea13c2a"
      },
      "outputs": [
        {
          "output_type": "stream",
          "name": "stdout",
          "text": [
            "[[4080, 5202, 4488, 1736, 4050, 3551, 7537, 3226, 4502, 7053, 2300], [187, 5923, 6162, 2493, 7815, 4000], [845, 3973, 2669, 4394, 3823, 1392, 4502, 1172, 4051, 1109, 4772], [4080, 5202, 5338, 4208, 7830, 1109, 7242, 4502], [845, 5116, 1033, 3897, 1339, 4461, 1041]]\n"
          ]
        }
      ],
      "source": [
        "# Initialize a list to store indices for each row\n",
        "all_indices = []\n",
        "\n",
        "# Iterate through each row of tokenized words\n",
        "for tokens in df['filtered_response']:\n",
        "    # Convert tokens to indices using the tokens_to_indices function\n",
        "    indices = tokens_to_indices(tokens, vocab)\n",
        "    # Append the indices for the current row to the list\n",
        "    all_indices.append(indices)\n",
        "\n",
        "# Print the indices for all rows\n",
        "print(all_indices[0:5])\n"
      ]
    },
    {
      "cell_type": "code",
      "execution_count": 51,
      "metadata": {
        "colab": {
          "base_uri": "https://localhost:8080/"
        },
        "id": "y70LBE4ltBeH",
        "outputId": "e456457b-144a-462a-824d-1993ce705b41"
      },
      "outputs": [
        {
          "output_type": "stream",
          "name": "stdout",
          "text": [
            "[[4080, 5202, 4488, 1736, 4050, 3551, 7537, 3226, 4502, 7053, 2300, 0, 0, 0, 0, 0, 0, 0, 0, 0, 0, 0, 0, 0, 0, 0, 0, 0, 0, 0, 0, 0, 0, 0, 0, 0, 0, 0, 0, 0, 0, 0, 0, 0, 0, 0, 0, 0, 0, 0, 0, 0, 0, 0, 0, 0, 0, 0, 0], [187, 5923, 6162, 2493, 7815, 4000, 0, 0, 0, 0, 0, 0, 0, 0, 0, 0, 0, 0, 0, 0, 0, 0, 0, 0, 0, 0, 0, 0, 0, 0, 0, 0, 0, 0, 0, 0, 0, 0, 0, 0, 0, 0, 0, 0, 0, 0, 0, 0, 0, 0, 0, 0, 0, 0, 0, 0, 0, 0, 0], [845, 3973, 2669, 4394, 3823, 1392, 4502, 1172, 4051, 1109, 4772, 0, 0, 0, 0, 0, 0, 0, 0, 0, 0, 0, 0, 0, 0, 0, 0, 0, 0, 0, 0, 0, 0, 0, 0, 0, 0, 0, 0, 0, 0, 0, 0, 0, 0, 0, 0, 0, 0, 0, 0, 0, 0, 0, 0, 0, 0, 0, 0], [4080, 5202, 5338, 4208, 7830, 1109, 7242, 4502, 0, 0, 0, 0, 0, 0, 0, 0, 0, 0, 0, 0, 0, 0, 0, 0, 0, 0, 0, 0, 0, 0, 0, 0, 0, 0, 0, 0, 0, 0, 0, 0, 0, 0, 0, 0, 0, 0, 0, 0, 0, 0, 0, 0, 0, 0, 0, 0, 0, 0, 0], [845, 5116, 1033, 3897, 1339, 4461, 1041, 0, 0, 0, 0, 0, 0, 0, 0, 0, 0, 0, 0, 0, 0, 0, 0, 0, 0, 0, 0, 0, 0, 0, 0, 0, 0, 0, 0, 0, 0, 0, 0, 0, 0, 0, 0, 0, 0, 0, 0, 0, 0, 0, 0, 0, 0, 0, 0, 0, 0, 0, 0]]\n"
          ]
        }
      ],
      "source": [
        "# Function to pad sequences to a fixed length\n",
        "def pad_sequences(sequences, max_length):\n",
        "    padded_sequences = []\n",
        "    # Iterate through each sequence in the list of sequences\n",
        "    for sequence in sequences:\n",
        "        # Pad the sequence with zeros if its length is less than the max_length\n",
        "        padded_sequence = sequence[:max_length] + [0] * max(0, max_length - len(sequence))\n",
        "        # Append the padded sequence to the list of padded sequences\n",
        "        padded_sequences.append(padded_sequence)\n",
        "    return padded_sequences\n",
        "\n",
        "max_length = 59\n",
        "\n",
        "# Pad sequences to the maximum length\n",
        "padded_sequences = pad_sequences(all_indices, max_length)\n",
        "print(padded_sequences[0:5])\n"
      ]
    },
    {
      "cell_type": "markdown",
      "metadata": {
        "id": "eon7V7Gqx37k"
      },
      "source": [
        "### Identifying X_Train and Y_Train"
      ]
    },
    {
      "cell_type": "code",
      "execution_count": 52,
      "metadata": {
        "colab": {
          "base_uri": "https://localhost:8080/"
        },
        "id": "CG2OGP9CydES",
        "outputId": "61921a84-8050-4f85-a92c-5751bcb10976"
      },
      "outputs": [
        {
          "output_type": "stream",
          "name": "stdout",
          "text": [
            "[4080, 5202, 4488, 1736, 4050, 3551, 7537, 3226, 4502, 7053, 2300, 0, 0, 0, 0, 0, 0, 0, 0, 0, 0, 0, 0, 0, 0, 0, 0, 0, 0, 0, 0, 0, 0, 0, 0, 0, 0, 0, 0, 0, 0, 0, 0, 0, 0, 0, 0, 0, 0, 0, 0, 0, 0, 0, 0, 0, 0, 0, 0]\n"
          ]
        }
      ],
      "source": [
        "x_train = padded_sequences\n",
        "print(x_train[0])"
      ]
    },
    {
      "cell_type": "code",
      "execution_count": 53,
      "metadata": {
        "colab": {
          "base_uri": "https://localhost:8080/",
          "height": 466
        },
        "id": "77rd8qVCCt3X",
        "outputId": "22f85d20-77b3-429b-9223-4c47144e4245"
      },
      "outputs": [
        {
          "output_type": "execute_result",
          "data": {
            "text/plain": [
              "                                                                                                                                     response  \\\n",
              "0   Compare and contrast the philosophical foundations of two major schools of thought in the field of psychology Behaviorism and Cognitivism   \n",
              "1                                                       What are the key differences between classicism and romanticism in literature and art   \n",
              "2  Analyze the significance of the concept of cognitive dissonance in social psychology and its implications for understanding human behavior   \n",
              "3                                                      Compare and contrast two different theories related to human development in psychology   \n",
              "4                                                          Analyze and discuss the role of artificial intelligence in the future of education   \n",
              "\n",
              "   prompt_length  \\\n",
              "0             20   \n",
              "1             13   \n",
              "2             19   \n",
              "3             12   \n",
              "4             13   \n",
              "\n",
              "                                                                                                                                                           tokens  \\\n",
              "0  [Compare, and, contrast, the, philosophical, foundations, of, two, major, schools, of, thought, in, the, field, of, psychology, Behaviorism, and, Cognitivism]   \n",
              "1                                                             [What, are, the, key, differences, between, classicism, and, romanticism, in, literature, and, art]   \n",
              "2  [Analyze, the, significance, of, the, concept, of, cognitive, dissonance, in, social, psychology, and, its, implications, for, understanding, human, behavior]   \n",
              "3                                                             [Compare, and, contrast, two, different, theories, related, to, human, development, in, psychology]   \n",
              "4                                                                [Analyze, and, discuss, the, role, of, artificial, intelligence, in, the, future, of, education]   \n",
              "\n",
              "                                                                                                       filtered_response  \\\n",
              "0    [compare, contrast, philosophical, foundation, major, school, thought, field, psychology, Behaviorism, Cognitivism]   \n",
              "1                                                            [key, difference, classicism, romanticism, literature, art]   \n",
              "2  [analyze, significance, concept, cognitive, dissonance, social, psychology, implication, understand, human, behavior]   \n",
              "3                                         [compare, contrast, different, theory, relate, human, development, psychology]   \n",
              "4                                                  [analyze, discuss, role, artificial, intelligence, future, education]   \n",
              "\n",
              "                                                                                                                                                                                               pos_results  \n",
              "0  [(compare, VERB), (contrast, NOUN), (philosophical, ADJ), (foundation, NOUN), (major, ADJ), (school, NOUN), (thought, VERB), (field, NOUN), (psychology, NOUN), (Behaviorism, PROPN), (Cognitivism, ...  \n",
              "1                                                                                              [(key, ADJ), (difference, NOUN), (classicism, NOUN), (romanticism, NOUN), (literature, PROPN), (art, NOUN)]  \n",
              "2  [(analyze, VERB), (significance, NOUN), (concept, NOUN), (cognitive, ADJ), (dissonance, NOUN), (social, ADJ), (psychology, NOUN), (implication, NOUN), (understand, VERB), (human, ADJ), (behavior, ...  \n",
              "3                                                           [(compare, VERB), (contrast, NOUN), (different, ADJ), (theory, NOUN), (relate, VERB), (human, PROPN), (development, NOUN), (psychology, NOUN)]  \n",
              "4                                                                              [(analyze, VERB), (discuss, VERB), (role, NOUN), (artificial, ADJ), (intelligence, NOUN), (future, ADJ), (education, NOUN)]  "
            ],
            "text/html": [
              "\n",
              "  <div id=\"df-31487faa-2b25-4b79-b20c-805e0055b85b\" class=\"colab-df-container\">\n",
              "    <div>\n",
              "<style scoped>\n",
              "    .dataframe tbody tr th:only-of-type {\n",
              "        vertical-align: middle;\n",
              "    }\n",
              "\n",
              "    .dataframe tbody tr th {\n",
              "        vertical-align: top;\n",
              "    }\n",
              "\n",
              "    .dataframe thead th {\n",
              "        text-align: right;\n",
              "    }\n",
              "</style>\n",
              "<table border=\"1\" class=\"dataframe\">\n",
              "  <thead>\n",
              "    <tr style=\"text-align: right;\">\n",
              "      <th></th>\n",
              "      <th>response</th>\n",
              "      <th>prompt_length</th>\n",
              "      <th>tokens</th>\n",
              "      <th>filtered_response</th>\n",
              "      <th>pos_results</th>\n",
              "    </tr>\n",
              "  </thead>\n",
              "  <tbody>\n",
              "    <tr>\n",
              "      <th>0</th>\n",
              "      <td>Compare and contrast the philosophical foundations of two major schools of thought in the field of psychology Behaviorism and Cognitivism</td>\n",
              "      <td>20</td>\n",
              "      <td>[Compare, and, contrast, the, philosophical, foundations, of, two, major, schools, of, thought, in, the, field, of, psychology, Behaviorism, and, Cognitivism]</td>\n",
              "      <td>[compare, contrast, philosophical, foundation, major, school, thought, field, psychology, Behaviorism, Cognitivism]</td>\n",
              "      <td>[(compare, VERB), (contrast, NOUN), (philosophical, ADJ), (foundation, NOUN), (major, ADJ), (school, NOUN), (thought, VERB), (field, NOUN), (psychology, NOUN), (Behaviorism, PROPN), (Cognitivism, ...</td>\n",
              "    </tr>\n",
              "    <tr>\n",
              "      <th>1</th>\n",
              "      <td>What are the key differences between classicism and romanticism in literature and art</td>\n",
              "      <td>13</td>\n",
              "      <td>[What, are, the, key, differences, between, classicism, and, romanticism, in, literature, and, art]</td>\n",
              "      <td>[key, difference, classicism, romanticism, literature, art]</td>\n",
              "      <td>[(key, ADJ), (difference, NOUN), (classicism, NOUN), (romanticism, NOUN), (literature, PROPN), (art, NOUN)]</td>\n",
              "    </tr>\n",
              "    <tr>\n",
              "      <th>2</th>\n",
              "      <td>Analyze the significance of the concept of cognitive dissonance in social psychology and its implications for understanding human behavior</td>\n",
              "      <td>19</td>\n",
              "      <td>[Analyze, the, significance, of, the, concept, of, cognitive, dissonance, in, social, psychology, and, its, implications, for, understanding, human, behavior]</td>\n",
              "      <td>[analyze, significance, concept, cognitive, dissonance, social, psychology, implication, understand, human, behavior]</td>\n",
              "      <td>[(analyze, VERB), (significance, NOUN), (concept, NOUN), (cognitive, ADJ), (dissonance, NOUN), (social, ADJ), (psychology, NOUN), (implication, NOUN), (understand, VERB), (human, ADJ), (behavior, ...</td>\n",
              "    </tr>\n",
              "    <tr>\n",
              "      <th>3</th>\n",
              "      <td>Compare and contrast two different theories related to human development in psychology</td>\n",
              "      <td>12</td>\n",
              "      <td>[Compare, and, contrast, two, different, theories, related, to, human, development, in, psychology]</td>\n",
              "      <td>[compare, contrast, different, theory, relate, human, development, psychology]</td>\n",
              "      <td>[(compare, VERB), (contrast, NOUN), (different, ADJ), (theory, NOUN), (relate, VERB), (human, PROPN), (development, NOUN), (psychology, NOUN)]</td>\n",
              "    </tr>\n",
              "    <tr>\n",
              "      <th>4</th>\n",
              "      <td>Analyze and discuss the role of artificial intelligence in the future of education</td>\n",
              "      <td>13</td>\n",
              "      <td>[Analyze, and, discuss, the, role, of, artificial, intelligence, in, the, future, of, education]</td>\n",
              "      <td>[analyze, discuss, role, artificial, intelligence, future, education]</td>\n",
              "      <td>[(analyze, VERB), (discuss, VERB), (role, NOUN), (artificial, ADJ), (intelligence, NOUN), (future, ADJ), (education, NOUN)]</td>\n",
              "    </tr>\n",
              "  </tbody>\n",
              "</table>\n",
              "</div>\n",
              "    <div class=\"colab-df-buttons\">\n",
              "\n",
              "  <div class=\"colab-df-container\">\n",
              "    <button class=\"colab-df-convert\" onclick=\"convertToInteractive('df-31487faa-2b25-4b79-b20c-805e0055b85b')\"\n",
              "            title=\"Convert this dataframe to an interactive table.\"\n",
              "            style=\"display:none;\">\n",
              "\n",
              "  <svg xmlns=\"http://www.w3.org/2000/svg\" height=\"24px\" viewBox=\"0 -960 960 960\">\n",
              "    <path d=\"M120-120v-720h720v720H120Zm60-500h600v-160H180v160Zm220 220h160v-160H400v160Zm0 220h160v-160H400v160ZM180-400h160v-160H180v160Zm440 0h160v-160H620v160ZM180-180h160v-160H180v160Zm440 0h160v-160H620v160Z\"/>\n",
              "  </svg>\n",
              "    </button>\n",
              "\n",
              "  <style>\n",
              "    .colab-df-container {\n",
              "      display:flex;\n",
              "      gap: 12px;\n",
              "    }\n",
              "\n",
              "    .colab-df-convert {\n",
              "      background-color: #E8F0FE;\n",
              "      border: none;\n",
              "      border-radius: 50%;\n",
              "      cursor: pointer;\n",
              "      display: none;\n",
              "      fill: #1967D2;\n",
              "      height: 32px;\n",
              "      padding: 0 0 0 0;\n",
              "      width: 32px;\n",
              "    }\n",
              "\n",
              "    .colab-df-convert:hover {\n",
              "      background-color: #E2EBFA;\n",
              "      box-shadow: 0px 1px 2px rgba(60, 64, 67, 0.3), 0px 1px 3px 1px rgba(60, 64, 67, 0.15);\n",
              "      fill: #174EA6;\n",
              "    }\n",
              "\n",
              "    .colab-df-buttons div {\n",
              "      margin-bottom: 4px;\n",
              "    }\n",
              "\n",
              "    [theme=dark] .colab-df-convert {\n",
              "      background-color: #3B4455;\n",
              "      fill: #D2E3FC;\n",
              "    }\n",
              "\n",
              "    [theme=dark] .colab-df-convert:hover {\n",
              "      background-color: #434B5C;\n",
              "      box-shadow: 0px 1px 3px 1px rgba(0, 0, 0, 0.15);\n",
              "      filter: drop-shadow(0px 1px 2px rgba(0, 0, 0, 0.3));\n",
              "      fill: #FFFFFF;\n",
              "    }\n",
              "  </style>\n",
              "\n",
              "    <script>\n",
              "      const buttonEl =\n",
              "        document.querySelector('#df-31487faa-2b25-4b79-b20c-805e0055b85b button.colab-df-convert');\n",
              "      buttonEl.style.display =\n",
              "        google.colab.kernel.accessAllowed ? 'block' : 'none';\n",
              "\n",
              "      async function convertToInteractive(key) {\n",
              "        const element = document.querySelector('#df-31487faa-2b25-4b79-b20c-805e0055b85b');\n",
              "        const dataTable =\n",
              "          await google.colab.kernel.invokeFunction('convertToInteractive',\n",
              "                                                    [key], {});\n",
              "        if (!dataTable) return;\n",
              "\n",
              "        const docLinkHtml = 'Like what you see? Visit the ' +\n",
              "          '<a target=\"_blank\" href=https://colab.research.google.com/notebooks/data_table.ipynb>data table notebook</a>'\n",
              "          + ' to learn more about interactive tables.';\n",
              "        element.innerHTML = '';\n",
              "        dataTable['output_type'] = 'display_data';\n",
              "        await google.colab.output.renderOutput(dataTable, element);\n",
              "        const docLink = document.createElement('div');\n",
              "        docLink.innerHTML = docLinkHtml;\n",
              "        element.appendChild(docLink);\n",
              "      }\n",
              "    </script>\n",
              "  </div>\n",
              "\n",
              "\n",
              "<div id=\"df-3da467f1-96e1-43a8-b590-b3b0fd1ef723\">\n",
              "  <button class=\"colab-df-quickchart\" onclick=\"quickchart('df-3da467f1-96e1-43a8-b590-b3b0fd1ef723')\"\n",
              "            title=\"Suggest charts\"\n",
              "            style=\"display:none;\">\n",
              "\n",
              "<svg xmlns=\"http://www.w3.org/2000/svg\" height=\"24px\"viewBox=\"0 0 24 24\"\n",
              "     width=\"24px\">\n",
              "    <g>\n",
              "        <path d=\"M19 3H5c-1.1 0-2 .9-2 2v14c0 1.1.9 2 2 2h14c1.1 0 2-.9 2-2V5c0-1.1-.9-2-2-2zM9 17H7v-7h2v7zm4 0h-2V7h2v10zm4 0h-2v-4h2v4z\"/>\n",
              "    </g>\n",
              "</svg>\n",
              "  </button>\n",
              "\n",
              "<style>\n",
              "  .colab-df-quickchart {\n",
              "      --bg-color: #E8F0FE;\n",
              "      --fill-color: #1967D2;\n",
              "      --hover-bg-color: #E2EBFA;\n",
              "      --hover-fill-color: #174EA6;\n",
              "      --disabled-fill-color: #AAA;\n",
              "      --disabled-bg-color: #DDD;\n",
              "  }\n",
              "\n",
              "  [theme=dark] .colab-df-quickchart {\n",
              "      --bg-color: #3B4455;\n",
              "      --fill-color: #D2E3FC;\n",
              "      --hover-bg-color: #434B5C;\n",
              "      --hover-fill-color: #FFFFFF;\n",
              "      --disabled-bg-color: #3B4455;\n",
              "      --disabled-fill-color: #666;\n",
              "  }\n",
              "\n",
              "  .colab-df-quickchart {\n",
              "    background-color: var(--bg-color);\n",
              "    border: none;\n",
              "    border-radius: 50%;\n",
              "    cursor: pointer;\n",
              "    display: none;\n",
              "    fill: var(--fill-color);\n",
              "    height: 32px;\n",
              "    padding: 0;\n",
              "    width: 32px;\n",
              "  }\n",
              "\n",
              "  .colab-df-quickchart:hover {\n",
              "    background-color: var(--hover-bg-color);\n",
              "    box-shadow: 0 1px 2px rgba(60, 64, 67, 0.3), 0 1px 3px 1px rgba(60, 64, 67, 0.15);\n",
              "    fill: var(--button-hover-fill-color);\n",
              "  }\n",
              "\n",
              "  .colab-df-quickchart-complete:disabled,\n",
              "  .colab-df-quickchart-complete:disabled:hover {\n",
              "    background-color: var(--disabled-bg-color);\n",
              "    fill: var(--disabled-fill-color);\n",
              "    box-shadow: none;\n",
              "  }\n",
              "\n",
              "  .colab-df-spinner {\n",
              "    border: 2px solid var(--fill-color);\n",
              "    border-color: transparent;\n",
              "    border-bottom-color: var(--fill-color);\n",
              "    animation:\n",
              "      spin 1s steps(1) infinite;\n",
              "  }\n",
              "\n",
              "  @keyframes spin {\n",
              "    0% {\n",
              "      border-color: transparent;\n",
              "      border-bottom-color: var(--fill-color);\n",
              "      border-left-color: var(--fill-color);\n",
              "    }\n",
              "    20% {\n",
              "      border-color: transparent;\n",
              "      border-left-color: var(--fill-color);\n",
              "      border-top-color: var(--fill-color);\n",
              "    }\n",
              "    30% {\n",
              "      border-color: transparent;\n",
              "      border-left-color: var(--fill-color);\n",
              "      border-top-color: var(--fill-color);\n",
              "      border-right-color: var(--fill-color);\n",
              "    }\n",
              "    40% {\n",
              "      border-color: transparent;\n",
              "      border-right-color: var(--fill-color);\n",
              "      border-top-color: var(--fill-color);\n",
              "    }\n",
              "    60% {\n",
              "      border-color: transparent;\n",
              "      border-right-color: var(--fill-color);\n",
              "    }\n",
              "    80% {\n",
              "      border-color: transparent;\n",
              "      border-right-color: var(--fill-color);\n",
              "      border-bottom-color: var(--fill-color);\n",
              "    }\n",
              "    90% {\n",
              "      border-color: transparent;\n",
              "      border-bottom-color: var(--fill-color);\n",
              "    }\n",
              "  }\n",
              "</style>\n",
              "\n",
              "  <script>\n",
              "    async function quickchart(key) {\n",
              "      const quickchartButtonEl =\n",
              "        document.querySelector('#' + key + ' button');\n",
              "      quickchartButtonEl.disabled = true;  // To prevent multiple clicks.\n",
              "      quickchartButtonEl.classList.add('colab-df-spinner');\n",
              "      try {\n",
              "        const charts = await google.colab.kernel.invokeFunction(\n",
              "            'suggestCharts', [key], {});\n",
              "      } catch (error) {\n",
              "        console.error('Error during call to suggestCharts:', error);\n",
              "      }\n",
              "      quickchartButtonEl.classList.remove('colab-df-spinner');\n",
              "      quickchartButtonEl.classList.add('colab-df-quickchart-complete');\n",
              "    }\n",
              "    (() => {\n",
              "      let quickchartButtonEl =\n",
              "        document.querySelector('#df-3da467f1-96e1-43a8-b590-b3b0fd1ef723 button');\n",
              "      quickchartButtonEl.style.display =\n",
              "        google.colab.kernel.accessAllowed ? 'block' : 'none';\n",
              "    })();\n",
              "  </script>\n",
              "</div>\n",
              "\n",
              "    </div>\n",
              "  </div>\n"
            ],
            "application/vnd.google.colaboratory.intrinsic+json": {
              "type": "dataframe",
              "variable_name": "df"
            }
          },
          "metadata": {},
          "execution_count": 53
        }
      ],
      "source": [
        "df.head()"
      ]
    },
    {
      "cell_type": "code",
      "execution_count": 54,
      "metadata": {
        "colab": {
          "base_uri": "https://localhost:8080/"
        },
        "id": "Gld_rIGvCwmx",
        "outputId": "546f1558-629c-4a3a-a117-3448e2018b45"
      },
      "outputs": [
        {
          "output_type": "stream",
          "name": "stdout",
          "text": [
            "[187, 5923, 6162, 2493, 7815, 4000, 0, 0, 0, 0, 0, 0, 0, 0, 0, 0, 0, 0, 0, 0, 0, 0, 0, 0, 0, 0, 0, 0, 0, 0, 0, 0, 0, 0, 0, 0, 0, 0, 0, 0, 0, 0, 0, 0, 0, 0, 0, 0, 0, 0, 0, 0, 0, 0, 0, 0, 0, 0, 0]\n"
          ]
        }
      ],
      "source": [
        "print(x_train[1])"
      ]
    },
    {
      "cell_type": "code",
      "execution_count": 55,
      "metadata": {
        "colab": {
          "base_uri": "https://localhost:8080/"
        },
        "id": "RYOwdU-_w_Aw",
        "outputId": "ca297dad-2cda-4c4d-9163-af102dd01ce2"
      },
      "outputs": [
        {
          "output_type": "stream",
          "name": "stdout",
          "text": [
            "{'INTJ': 0, 'VERB': 1, 'PUNCT': 2, 'PRON': 3, 'ADV': 4, 'SCONJ': 5, 'ADJ': 6, 'X': 7, 'SPACE': 8, 'NUM': 9, 'SYM': 10, 'ADP': 11, 'NOUN': 12, 'DET': 13, 'PROPN': 14, 'PART': 15, 'AUX': 16}\n"
          ]
        }
      ],
      "source": [
        "# Create a dictionary mapping each unique tag to an integer index\n",
        "unique_tags = set()\n",
        "\n",
        "# Iterate through each row in the \"ner_results\" column\n",
        "for ner_tags in df['pos_results']:\n",
        "    # Extract the tags from each row and add them to the set\n",
        "    for tag in ner_tags:\n",
        "        unique_tags.add(tag[1])\n",
        "\n",
        "tag2idx = {tag: idx for idx, tag in enumerate(unique_tags)}\n",
        "\n",
        "# Print the tag-to-index mapping\n",
        "print(tag2idx)\n"
      ]
    },
    {
      "cell_type": "code",
      "execution_count": 56,
      "metadata": {
        "id": "iJxKJ28LxT0Q"
      },
      "outputs": [],
      "source": [
        "# Define a function to convert tag sequences to integer indices\n",
        "def tags_to_indices(tag_sequence, tag2idx):\n",
        "    return [tag2idx[tag[1]] for tag in tag_sequence]\n",
        "\n",
        "# Convert tag sequences to integer indices for y_train\n",
        "y_train = []\n",
        "\n",
        "for ner_tags in df['pos_results']:\n",
        "    # Convert each tag sequence to integer indices using the tag2idx mapping\n",
        "    tag_indices = tags_to_indices(ner_tags, tag2idx)\n",
        "    # Append the integer indices to y_train\n",
        "    y_train.append(tag_indices)\n",
        "\n"
      ]
    },
    {
      "cell_type": "code",
      "execution_count": 57,
      "metadata": {
        "id": "uz3TirpFxllQ"
      },
      "outputs": [],
      "source": [
        "# Find the maximum length of sequences in y_train\n",
        "max_y_length = max(len(seq) for seq in y_train)\n",
        "\n",
        "# Pad sequences in y_train to the maximum length\n",
        "padded_y_train = []\n",
        "for seq in y_train:\n",
        "    padded_seq = seq + [0] * (max_y_length - len(seq))  # Pad with zeros\n",
        "    padded_y_train.append(padded_seq)\n",
        "\n",
        "# Convert padded_y_train to a numpy array\n",
        "y_train_np = np.array(padded_y_train)\n"
      ]
    },
    {
      "cell_type": "code",
      "execution_count": 58,
      "metadata": {
        "colab": {
          "base_uri": "https://localhost:8080/"
        },
        "id": "mDdQpZc74B-z",
        "outputId": "19173f4e-6a04-4e3b-b480-85d7caa355ff"
      },
      "outputs": [
        {
          "output_type": "stream",
          "name": "stdout",
          "text": [
            "[ 1  1 12  6 12  6 12  0  0  0  0  0  0  0  0  0  0  0  0  0  0  0  0  0\n",
            "  0  0  0  0  0  0  0  0  0  0  0  0  0  0  0  0  0  0  0  0  0  0  0  0\n",
            "  0  0  0  0  0  0  0  0  0  0  0]\n"
          ]
        }
      ],
      "source": [
        "print(y_train_np[4])"
      ]
    },
    {
      "cell_type": "code",
      "execution_count": 59,
      "metadata": {
        "id": "XhNPMWKx0yUc"
      },
      "outputs": [],
      "source": [
        "x_train = np.array(x_train)"
      ]
    },
    {
      "cell_type": "markdown",
      "metadata": {
        "id": "srxDVSt5Gd3t"
      },
      "source": [
        "### Model Training"
      ]
    },
    {
      "cell_type": "code",
      "execution_count": 60,
      "metadata": {
        "id": "4Djj-EifrTVo"
      },
      "outputs": [],
      "source": [
        "# This is the number of the unique tags\n",
        "num_classes = 17"
      ]
    },
    {
      "cell_type": "code",
      "execution_count": 61,
      "metadata": {
        "colab": {
          "base_uri": "https://localhost:8080/"
        },
        "id": "XKEqh4JcBLvj",
        "outputId": "0ac06656-a830-4c9a-9c3d-a774050fb5c6"
      },
      "outputs": [
        {
          "output_type": "stream",
          "name": "stdout",
          "text": [
            "Model: \"sequential\"\n",
            "_________________________________________________________________\n",
            " Layer (type)                Output Shape              Param #   \n",
            "=================================================================\n",
            " embedding (Embedding)       (None, 59, 200)           1581600   \n",
            "                                                                 \n",
            " bidirectional (Bidirection  (None, 59, 128)           135680    \n",
            " al)                                                             \n",
            "                                                                 \n",
            " dense (Dense)               (None, 59, 17)            2193      \n",
            "                                                                 \n",
            "=================================================================\n",
            "Total params: 1719473 (6.56 MB)\n",
            "Trainable params: 1719473 (6.56 MB)\n",
            "Non-trainable params: 0 (0.00 Byte)\n",
            "_________________________________________________________________\n"
          ]
        }
      ],
      "source": [
        "from tensorflow.keras.models import Sequential\n",
        "from tensorflow.keras.layers import Embedding, Bidirectional, LSTM, Dense\n",
        "\n",
        "# Defining the model architecture\n",
        "model = Sequential()\n",
        "\n",
        "# Add an Embedding layer\n",
        "model.add(Embedding(input_dim=len(vocab), output_dim=embedding_dim, input_length=max_length))\n",
        "\n",
        "# Add a Bidirectional LSTM layer\n",
        "model.add(Bidirectional(LSTM(units=64, return_sequences=True)))\n",
        "\n",
        "# Add a Dense layer\n",
        "model.add(Dense(units=num_classes, activation='softmax'))\n",
        "\n",
        "# Compile the model\n",
        "model.compile(optimizer='adam', loss='sparse_categorical_crossentropy', metrics=['accuracy'])\n",
        "\n",
        "# Print the model summary\n",
        "model.summary()\n"
      ]
    },
    {
      "cell_type": "code",
      "execution_count": 62,
      "metadata": {
        "id": "fBaXXLYPBRBB",
        "colab": {
          "base_uri": "https://localhost:8080/"
        },
        "outputId": "63d92f81-29a9-4685-c983-8b4aa5508963"
      },
      "outputs": [
        {
          "output_type": "stream",
          "name": "stdout",
          "text": [
            "Epoch 1/5\n",
            "1947/1947 [==============================] - 561s 285ms/step - loss: 0.0468 - accuracy: 0.9884\n",
            "Epoch 2/5\n",
            "1947/1947 [==============================] - 548s 282ms/step - loss: 0.0075 - accuracy: 0.9975\n",
            "Epoch 3/5\n",
            "1947/1947 [==============================] - 551s 283ms/step - loss: 0.0054 - accuracy: 0.9981\n",
            "Epoch 4/5\n",
            "1947/1947 [==============================] - 549s 282ms/step - loss: 0.0044 - accuracy: 0.9985\n",
            "Epoch 5/5\n",
            "1947/1947 [==============================] - 546s 281ms/step - loss: 0.0037 - accuracy: 0.9987\n"
          ]
        }
      ],
      "source": [
        "epochs = 5\n",
        "\n",
        "history = model.fit(x_train, y_train_np, epochs=epochs, batch_size=128)\n"
      ]
    },
    {
      "cell_type": "markdown",
      "metadata": {
        "id": "OJxkcDWGD5NK"
      },
      "source": [
        "### Model Evaluation"
      ]
    },
    {
      "cell_type": "code",
      "execution_count": 63,
      "metadata": {
        "colab": {
          "base_uri": "https://localhost:8080/"
        },
        "id": "OK6u1xufBROe",
        "outputId": "abac23c4-f800-4e8e-b14f-7a80eaa6f350"
      },
      "outputs": [
        {
          "output_type": "stream",
          "name": "stdout",
          "text": [
            "Shape of x_train: (199294, 59)\n",
            "Shape of x_test: (49824, 59)\n",
            "Shape of y_train: (199294, 59)\n",
            "Shape of y_test: (49824, 59)\n"
          ]
        }
      ],
      "source": [
        "from sklearn.model_selection import train_test_split\n",
        "\n",
        "# Split the dataset into training and testing sets\n",
        "x_train, x_test, y_train, y_test = train_test_split(x_train, y_train_np, test_size=0.2, random_state=42)\n",
        "\n",
        "print(\"Shape of x_train:\", x_train.shape)\n",
        "print(\"Shape of x_test:\", x_test.shape)\n",
        "print(\"Shape of y_train:\", y_train.shape)\n",
        "print(\"Shape of y_test:\", y_test.shape)\n"
      ]
    },
    {
      "cell_type": "code",
      "execution_count": 64,
      "metadata": {
        "colab": {
          "base_uri": "https://localhost:8080/"
        },
        "id": "03fS220E747m",
        "outputId": "a1c32fd6-ffec-499d-d00a-463472da98a3"
      },
      "outputs": [
        {
          "output_type": "stream",
          "name": "stdout",
          "text": [
            "1557/1557 [==============================] - 57s 36ms/step\n"
          ]
        }
      ],
      "source": [
        "y_pred = model.predict(x_test)\n"
      ]
    },
    {
      "cell_type": "code",
      "execution_count": 65,
      "metadata": {
        "id": "V4DYy79Y-BKj"
      },
      "outputs": [],
      "source": [
        "y_pred_classes = np.argmax(y_pred, axis=-1)\n"
      ]
    },
    {
      "cell_type": "code",
      "execution_count": 66,
      "metadata": {
        "colab": {
          "base_uri": "https://localhost:8080/"
        },
        "id": "-M3iSSVemx4G",
        "outputId": "93930f86-0d49-4d8b-cd5e-039af6ec96d8"
      },
      "outputs": [
        {
          "output_type": "stream",
          "name": "stdout",
          "text": [
            "[ 1  6 12  1  6 12  6 12  0  0  0  0  0  0  0  0  0  0  0  0  0  0  0  0\n",
            "  0  0  0  0  0  0  0  0  0  0  0  0  0  0  0  0  0  0  0  0  0  0  0  0\n",
            "  0  0  0  0  0  0  0  0  0  0  0]\n"
          ]
        }
      ],
      "source": [
        "print(y_pred_classes[1])"
      ]
    },
    {
      "cell_type": "code",
      "execution_count": 67,
      "metadata": {
        "colab": {
          "base_uri": "https://localhost:8080/"
        },
        "id": "IrgSo0CMBfQL",
        "outputId": "9a2b8328-41f1-49cd-973d-a94812789d54"
      },
      "outputs": [
        {
          "output_type": "stream",
          "name": "stdout",
          "text": [
            "1557/1557 [==============================] - 58s 36ms/step - loss: 0.0032 - accuracy: 0.9989\n",
            "Training Loss: 0.0032, Training Accuracy: 0.9989\n"
          ]
        }
      ],
      "source": [
        "loss, accuracy = model.evaluate(x_test, y_test)\n",
        "print(f\"Training Loss: {loss:.4f}, Training Accuracy: {accuracy:.4f}\")"
      ]
    },
    {
      "cell_type": "markdown",
      "metadata": {
        "id": "qOBuB93ua1h1"
      },
      "source": [
        "### Comparing the actual and the predicted tags"
      ]
    },
    {
      "cell_type": "code",
      "execution_count": 68,
      "metadata": {
        "colab": {
          "base_uri": "https://localhost:8080/"
        },
        "id": "XSkJb3jSZ4PW",
        "outputId": "afd9f9e6-8509-418f-9fff-34378de4d508"
      },
      "outputs": [
        {
          "output_type": "stream",
          "name": "stdout",
          "text": [
            "The actual tags for prompt number 0 is :\n",
            "[ 1 12 12  6 12 12 12 12 12  0  0  0  0  0  0  0  0  0  0  0  0  0  0  0\n",
            "  0  0  0  0  0  0  0  0  0  0  0  0  0  0  0  0  0  0  0  0  0  0  0  0\n",
            "  0  0  0  0  0  0  0  0  0  0  0]\n",
            "\n",
            "The predicted tags for prompt number 0 is :\n",
            "[ 1 12 12  6 12 12 12 12 12  0  0  0  0  0  0  0  0  0  0  0  0  0  0  0\n",
            "  0  0  0  0  0  0  0  0  0  0  0  0  0  0  0  0  0  0  0  0  0  0  0  0\n",
            "  0  0  0  0  0  0  0  0  0  0  0]\n",
            "\n",
            "----------------------------------\n",
            "The actual tags for prompt number 1 is :\n",
            "[ 1  6 12  1  6 12  6 12  0  0  0  0  0  0  0  0  0  0  0  0  0  0  0  0\n",
            "  0  0  0  0  0  0  0  0  0  0  0  0  0  0  0  0  0  0  0  0  0  0  0  0\n",
            "  0  0  0  0  0  0  0  0  0  0  0]\n",
            "\n",
            "The predicted tags for prompt number 1 is :\n",
            "[ 1  6 12  1  6 12  6 12  0  0  0  0  0  0  0  0  0  0  0  0  0  0  0  0\n",
            "  0  0  0  0  0  0  0  0  0  0  0  0  0  0  0  0  0  0  0  0  0  0  0  0\n",
            "  0  0  0  0  0  0  0  0  0  0  0]\n",
            "\n",
            "----------------------------------\n",
            "The actual tags for prompt number 2 is :\n",
            "[ 6 12 12 12 12 12 12  0  0  0  0  0  0  0  0  0  0  0  0  0  0  0  0  0\n",
            "  0  0  0  0  0  0  0  0  0  0  0  0  0  0  0  0  0  0  0  0  0  0  0  0\n",
            "  0  0  0  0  0  0  0  0  0  0  0]\n",
            "\n",
            "The predicted tags for prompt number 2 is :\n",
            "[ 6 12 12 12 12 12 12  0  0  0  0  0  0  0  0  0  0  0  0  0  0  0  0  0\n",
            "  0  0  0  0  0  0  0  0  0  0  0  0  0  0  0  0  0  0  0  0  0  0  0  0\n",
            "  0  0  0  0  0  0  0  0  0  0  0]\n",
            "\n",
            "----------------------------------\n",
            "The actual tags for prompt number 3 is :\n",
            "[ 1 12 12 12  1  6  6 12  0  0  0  0  0  0  0  0  0  0  0  0  0  0  0  0\n",
            "  0  0  0  0  0  0  0  0  0  0  0  0  0  0  0  0  0  0  0  0  0  0  0  0\n",
            "  0  0  0  0  0  0  0  0  0  0  0]\n",
            "\n",
            "The predicted tags for prompt number 3 is :\n",
            "[ 1 12 12 12  1  6  6 12  0  0  0  0  0  0  0  0  0  0  0  0  0  0  0  0\n",
            "  0  0  0  0  0  0  0  0  0  0  0  0  0  0  0  0  0  0  0  0  0  0  0  0\n",
            "  0  0  0  0  0  0  0  0  0  0  0]\n",
            "\n",
            "----------------------------------\n",
            "The actual tags for prompt number 4 is :\n",
            "[ 6 12  1 12 12 12 12  6 12  0  0  0  0  0  0  0  0  0  0  0  0  0  0  0\n",
            "  0  0  0  0  0  0  0  0  0  0  0  0  0  0  0  0  0  0  0  0  0  0  0  0\n",
            "  0  0  0  0  0  0  0  0  0  0  0]\n",
            "\n",
            "The predicted tags for prompt number 4 is :\n",
            "[ 6 12  1 12 12 12 12  6 12  0  0  0  0  0  0  0  0  0  0  0  0  0  0  0\n",
            "  0  0  0  0  0  0  0  0  0  0  0  0  0  0  0  0  0  0  0  0  0  0  0  0\n",
            "  0  0  0  0  0  0  0  0  0  0  0]\n",
            "\n",
            "----------------------------------\n",
            "The actual tags for prompt number 5 is :\n",
            "[12 12  6 12  1 12  6 14  0  0  0  0  0  0  0  0  0  0  0  0  0  0  0  0\n",
            "  0  0  0  0  0  0  0  0  0  0  0  0  0  0  0  0  0  0  0  0  0  0  0  0\n",
            "  0  0  0  0  0  0  0  0  0  0  0]\n",
            "\n",
            "The predicted tags for prompt number 5 is :\n",
            "[12 12  6 12  1 12  6 14  0  0  0  0  0  0  0  0  0  0  0  0  0  0  0  0\n",
            "  0  0  0  0  0  0  0  0  0  0  0  0  0  0  0  0  0  0  0  0  0  0  0  0\n",
            "  0  0  0  0  0  0  0  0  0  0  0]\n",
            "\n",
            "----------------------------------\n",
            "The actual tags for prompt number 6 is :\n",
            "[ 1  6 12  6 12  6 12 12 12  0  0  0  0  0  0  0  0  0  0  0  0  0  0  0\n",
            "  0  0  0  0  0  0  0  0  0  0  0  0  0  0  0  0  0  0  0  0  0  0  0  0\n",
            "  0  0  0  0  0  0  0  0  0  0  0]\n",
            "\n",
            "The predicted tags for prompt number 6 is :\n",
            "[ 1  6 12  6 12  6 12 12 12  0  0  0  0  0  0  0  0  0  0  0  0  0  0  0\n",
            "  0  0  0  0  0  0  0  0  0  0  0  0  0  0  0  0  0  0  0  0  0  0  0  0\n",
            "  0  0  0  0  0  0  0  0  0  0  0]\n",
            "\n",
            "----------------------------------\n",
            "The actual tags for prompt number 7 is :\n",
            "[ 1 12  6 12 14 14 14 14 12 12  6 12 12 12  0  0  0  0  0  0  0  0  0  0\n",
            "  0  0  0  0  0  0  0  0  0  0  0  0  0  0  0  0  0  0  0  0  0  0  0  0\n",
            "  0  0  0  0  0  0  0  0  0  0  0]\n",
            "\n",
            "The predicted tags for prompt number 7 is :\n",
            "[ 1 12  6 12 14 14 14 14 12 12  6 12 12 12  0  0  0  0  0  0  0  0  0  0\n",
            "  0  0  0  0  0  0  0  0  0  0  0  0  0  0  0  0  0  0  0  0  0  0  0  0\n",
            "  0  0  0  0  0  0  0  0  0  0  0]\n",
            "\n",
            "----------------------------------\n",
            "The actual tags for prompt number 8 is :\n",
            "[12  6 12 12  1  6 12  0  0  0  0  0  0  0  0  0  0  0  0  0  0  0  0  0\n",
            "  0  0  0  0  0  0  0  0  0  0  0  0  0  0  0  0  0  0  0  0  0  0  0  0\n",
            "  0  0  0  0  0  0  0  0  0  0  0]\n",
            "\n",
            "The predicted tags for prompt number 8 is :\n",
            "[12  6 12 12  1  6 12  0  0  0  0  0  0  0  0  0  0  0  0  0  0  0  0  0\n",
            "  0  0  0  0  0  0  0  0  0  0  0  0  0  0  0  0  0  0  0  0  0  0  0  0\n",
            "  0  0  0  0  0  0  0  0  0  0  0]\n",
            "\n",
            "----------------------------------\n",
            "The actual tags for prompt number 9 is :\n",
            "[ 1 12 12  6 12  6 12 12  0  0  0  0  0  0  0  0  0  0  0  0  0  0  0  0\n",
            "  0  0  0  0  0  0  0  0  0  0  0  0  0  0  0  0  0  0  0  0  0  0  0  0\n",
            "  0  0  0  0  0  0  0  0  0  0  0]\n",
            "\n",
            "The predicted tags for prompt number 9 is :\n",
            "[ 1 12 12  6 12  6 12 12  0  0  0  0  0  0  0  0  0  0  0  0  0  0  0  0\n",
            "  0  0  0  0  0  0  0  0  0  0  0  0  0  0  0  0  0  0  0  0  0  0  0  0\n",
            "  0  0  0  0  0  0  0  0  0  0  0]\n",
            "\n",
            "----------------------------------\n"
          ]
        }
      ],
      "source": [
        "for i in range(10):\n",
        "  print(f\"The actual tags for prompt number {i} is :\")\n",
        "  print(y_test[i])\n",
        "  print()\n",
        "  print(f\"The predicted tags for prompt number {i} is :\")\n",
        "  print(y_pred_classes[i])\n",
        "  print()\n",
        "  print(\"----------------------------------\")"
      ]
    },
    {
      "cell_type": "markdown",
      "metadata": {
        "id": "pzuTHW_eB3Cj"
      },
      "source": [
        "# **BERT**"
      ]
    },
    {
      "cell_type": "code",
      "execution_count": 69,
      "metadata": {
        "colab": {
          "base_uri": "https://localhost:8080/",
          "height": 1000,
          "referenced_widgets": [
            "d33948a2ca204746b3f261a7d03c8d89",
            "efdbd770d8ef46078bbc480f5c2b3b5b",
            "9e0136c5cda541e89dbe414bac994d1c",
            "6374dba9337348d381b4717fe19676ea",
            "976231293ffa4b6494461a382419fea4",
            "5f42d32da6ca4e378966edb5147a5e71",
            "b8d541e345b74f2fa404d6364943bd96",
            "c91eec3b859041498bf918c6b028590a",
            "1e178b55260a49f797efbebe50399088",
            "2e888dbe3e874d2d91b601959efdb933",
            "1557477d76a44287a7c82d1d7e62bd25",
            "523986d4e38f4ae7ab06b7f1cd5e9e0f",
            "9e50c3d6b709489da472f1ca18ec3ae2",
            "06efc9b021e84822a4e383434024e50d",
            "93dcea26103148fbbe3fec92424b177a",
            "17c08a790ba743a88d140a2ba00da877",
            "51b535c38cd844928893a7bf6d232816",
            "e85e1803ee7b477db4a6c8011231ff4f",
            "562b7d6390134f5c9361aec18b80b21a",
            "79723836fc864a56945ec81b518b0b42",
            "ec28269da422455b9530f56d94251cf5",
            "fb1e69f527fa4f6082d84f94acfdc483",
            "a7c6f28f7ce646a8bb3629de94b5dcf3",
            "0feca7309e91465f8a450487cb160a93",
            "136591497221460a8599554dc1088e6e",
            "0aaaeeb918ce4a46ae1d5c7e1b83f46a",
            "d55936d88b6e430e897c58198b920cdc",
            "7d21803c213c4ff8bccf223e5fbc613d",
            "1ec4530787734552b9f0d30f8192bbdc",
            "3d185a27611a43ab8f63e1be2b0b21cd",
            "275a31afcb8049429c09eb254ac0d6b1",
            "dccdd6c669e74c6fa8eb8a0bbedbb299",
            "8d970972642145998fe459019987cd5a"
          ]
        },
        "id": "FNfsB9rKCPH_",
        "outputId": "c8e16eb1-7c38-4bf5-98ea-8bede18adf75"
      },
      "outputs": [
        {
          "output_type": "stream",
          "name": "stderr",
          "text": [
            "/usr/local/lib/python3.10/dist-packages/huggingface_hub/utils/_token.py:88: UserWarning: \n",
            "The secret `HF_TOKEN` does not exist in your Colab secrets.\n",
            "To authenticate with the Hugging Face Hub, create a token in your settings tab (https://huggingface.co/settings/tokens), set it as secret in your Google Colab and restart your session.\n",
            "You will be able to reuse this secret in all of your notebooks.\n",
            "Please note that authentication is recommended but still optional to access public models or datasets.\n",
            "  warnings.warn(\n"
          ]
        },
        {
          "output_type": "display_data",
          "data": {
            "text/plain": [
              "vocab.txt:   0%|          | 0.00/232k [00:00<?, ?B/s]"
            ],
            "application/vnd.jupyter.widget-view+json": {
              "version_major": 2,
              "version_minor": 0,
              "model_id": "d33948a2ca204746b3f261a7d03c8d89"
            }
          },
          "metadata": {}
        },
        {
          "output_type": "display_data",
          "data": {
            "text/plain": [
              "config.json:   0%|          | 0.00/285 [00:00<?, ?B/s]"
            ],
            "application/vnd.jupyter.widget-view+json": {
              "version_major": 2,
              "version_minor": 0,
              "model_id": "523986d4e38f4ae7ab06b7f1cd5e9e0f"
            }
          },
          "metadata": {}
        },
        {
          "output_type": "display_data",
          "data": {
            "text/plain": [
              "pytorch_model.bin:   0%|          | 0.00/17.8M [00:00<?, ?B/s]"
            ],
            "application/vnd.jupyter.widget-view+json": {
              "version_major": 2,
              "version_minor": 0,
              "model_id": "a7c6f28f7ce646a8bb3629de94b5dcf3"
            }
          },
          "metadata": {}
        },
        {
          "output_type": "stream",
          "name": "stderr",
          "text": [
            "Some weights of BertForTokenClassification were not initialized from the model checkpoint at prajjwal1/bert-tiny and are newly initialized: ['classifier.bias', 'classifier.weight']\n",
            "You should probably TRAIN this model on a down-stream task to be able to use it for predictions and inference.\n"
          ]
        },
        {
          "output_type": "stream",
          "name": "stdout",
          "text": [
            "BertForTokenClassification(\n",
            "  (bert): BertModel(\n",
            "    (embeddings): BertEmbeddings(\n",
            "      (word_embeddings): Embedding(30522, 128, padding_idx=0)\n",
            "      (position_embeddings): Embedding(512, 128)\n",
            "      (token_type_embeddings): Embedding(2, 128)\n",
            "      (LayerNorm): LayerNorm((128,), eps=1e-12, elementwise_affine=True)\n",
            "      (dropout): Dropout(p=0.1, inplace=False)\n",
            "    )\n",
            "    (encoder): BertEncoder(\n",
            "      (layer): ModuleList(\n",
            "        (0-1): 2 x BertLayer(\n",
            "          (attention): BertAttention(\n",
            "            (self): BertSelfAttention(\n",
            "              (query): Linear(in_features=128, out_features=128, bias=True)\n",
            "              (key): Linear(in_features=128, out_features=128, bias=True)\n",
            "              (value): Linear(in_features=128, out_features=128, bias=True)\n",
            "              (dropout): Dropout(p=0.1, inplace=False)\n",
            "            )\n",
            "            (output): BertSelfOutput(\n",
            "              (dense): Linear(in_features=128, out_features=128, bias=True)\n",
            "              (LayerNorm): LayerNorm((128,), eps=1e-12, elementwise_affine=True)\n",
            "              (dropout): Dropout(p=0.1, inplace=False)\n",
            "            )\n",
            "          )\n",
            "          (intermediate): BertIntermediate(\n",
            "            (dense): Linear(in_features=128, out_features=512, bias=True)\n",
            "            (intermediate_act_fn): GELUActivation()\n",
            "          )\n",
            "          (output): BertOutput(\n",
            "            (dense): Linear(in_features=512, out_features=128, bias=True)\n",
            "            (LayerNorm): LayerNorm((128,), eps=1e-12, elementwise_affine=True)\n",
            "            (dropout): Dropout(p=0.1, inplace=False)\n",
            "          )\n",
            "        )\n",
            "      )\n",
            "    )\n",
            "  )\n",
            "  (dropout): Dropout(p=0.1, inplace=False)\n",
            "  (classifier): Linear(in_features=128, out_features=2, bias=True)\n",
            ")\n"
          ]
        }
      ],
      "source": [
        "from transformers import BertTokenizer, BertForTokenClassification\n",
        "\n",
        "# Define the pre-trained TinyBERT model name\n",
        "model_name = \"prajjwal1/bert-tiny\"\n",
        "\n",
        "# Load the tokenizer for the TinyBERT model\n",
        "tokenizer = BertTokenizer.from_pretrained(model_name)\n",
        "\n",
        "# Load the pre-trained TinyBERT model for token classification\n",
        "model = BertForTokenClassification.from_pretrained(model_name)\n",
        "\n",
        "# Print model architecture\n",
        "print(model)\n"
      ]
    },
    {
      "cell_type": "code",
      "execution_count": 70,
      "metadata": {
        "id": "4xTDqtcACeQy"
      },
      "outputs": [],
      "source": [
        "# Initialize an empty list to store tokenized sequences\n",
        "tokenized_sequences = []\n",
        "\n",
        "# Iterate over the values in the \"filtered_response\" column\n",
        "for sequence in df[\"filtered_response\"]:\n",
        "    # Convert the value to string\n",
        "    sequence_str = str(sequence)\n",
        "    # Tokenize the sequence\n",
        "    tokens = tokenizer.tokenize(sequence_str)\n",
        "    # Convert tokens to token IDs\n",
        "    token_ids = tokenizer.convert_tokens_to_ids(tokens)\n",
        "    # Append token IDs to the list\n",
        "    tokenized_sequences.append(token_ids)\n"
      ]
    },
    {
      "cell_type": "code",
      "execution_count": 71,
      "metadata": {
        "colab": {
          "base_uri": "https://localhost:8080/",
          "height": 466
        },
        "id": "A-0uV0G7DB2T",
        "outputId": "cc8bd3e2-ff73-408d-c72c-9410e2654b44"
      },
      "outputs": [
        {
          "output_type": "execute_result",
          "data": {
            "text/plain": [
              "                                                                                                                                     response  \\\n",
              "0   Compare and contrast the philosophical foundations of two major schools of thought in the field of psychology Behaviorism and Cognitivism   \n",
              "1                                                       What are the key differences between classicism and romanticism in literature and art   \n",
              "2  Analyze the significance of the concept of cognitive dissonance in social psychology and its implications for understanding human behavior   \n",
              "3                                                      Compare and contrast two different theories related to human development in psychology   \n",
              "4                                                          Analyze and discuss the role of artificial intelligence in the future of education   \n",
              "\n",
              "   prompt_length  \\\n",
              "0             20   \n",
              "1             13   \n",
              "2             19   \n",
              "3             12   \n",
              "4             13   \n",
              "\n",
              "                                                                                                                                                           tokens  \\\n",
              "0  [Compare, and, contrast, the, philosophical, foundations, of, two, major, schools, of, thought, in, the, field, of, psychology, Behaviorism, and, Cognitivism]   \n",
              "1                                                             [What, are, the, key, differences, between, classicism, and, romanticism, in, literature, and, art]   \n",
              "2  [Analyze, the, significance, of, the, concept, of, cognitive, dissonance, in, social, psychology, and, its, implications, for, understanding, human, behavior]   \n",
              "3                                                             [Compare, and, contrast, two, different, theories, related, to, human, development, in, psychology]   \n",
              "4                                                                [Analyze, and, discuss, the, role, of, artificial, intelligence, in, the, future, of, education]   \n",
              "\n",
              "                                                                                                       filtered_response  \\\n",
              "0    [compare, contrast, philosophical, foundation, major, school, thought, field, psychology, Behaviorism, Cognitivism]   \n",
              "1                                                            [key, difference, classicism, romanticism, literature, art]   \n",
              "2  [analyze, significance, concept, cognitive, dissonance, social, psychology, implication, understand, human, behavior]   \n",
              "3                                         [compare, contrast, different, theory, relate, human, development, psychology]   \n",
              "4                                                  [analyze, discuss, role, artificial, intelligence, future, education]   \n",
              "\n",
              "                                                                                                                                                                                               pos_results  \n",
              "0  [(compare, VERB), (contrast, NOUN), (philosophical, ADJ), (foundation, NOUN), (major, ADJ), (school, NOUN), (thought, VERB), (field, NOUN), (psychology, NOUN), (Behaviorism, PROPN), (Cognitivism, ...  \n",
              "1                                                                                              [(key, ADJ), (difference, NOUN), (classicism, NOUN), (romanticism, NOUN), (literature, PROPN), (art, NOUN)]  \n",
              "2  [(analyze, VERB), (significance, NOUN), (concept, NOUN), (cognitive, ADJ), (dissonance, NOUN), (social, ADJ), (psychology, NOUN), (implication, NOUN), (understand, VERB), (human, ADJ), (behavior, ...  \n",
              "3                                                           [(compare, VERB), (contrast, NOUN), (different, ADJ), (theory, NOUN), (relate, VERB), (human, PROPN), (development, NOUN), (psychology, NOUN)]  \n",
              "4                                                                              [(analyze, VERB), (discuss, VERB), (role, NOUN), (artificial, ADJ), (intelligence, NOUN), (future, ADJ), (education, NOUN)]  "
            ],
            "text/html": [
              "\n",
              "  <div id=\"df-d6f0b46f-7b35-4b23-acbb-af00e8fcc4cd\" class=\"colab-df-container\">\n",
              "    <div>\n",
              "<style scoped>\n",
              "    .dataframe tbody tr th:only-of-type {\n",
              "        vertical-align: middle;\n",
              "    }\n",
              "\n",
              "    .dataframe tbody tr th {\n",
              "        vertical-align: top;\n",
              "    }\n",
              "\n",
              "    .dataframe thead th {\n",
              "        text-align: right;\n",
              "    }\n",
              "</style>\n",
              "<table border=\"1\" class=\"dataframe\">\n",
              "  <thead>\n",
              "    <tr style=\"text-align: right;\">\n",
              "      <th></th>\n",
              "      <th>response</th>\n",
              "      <th>prompt_length</th>\n",
              "      <th>tokens</th>\n",
              "      <th>filtered_response</th>\n",
              "      <th>pos_results</th>\n",
              "    </tr>\n",
              "  </thead>\n",
              "  <tbody>\n",
              "    <tr>\n",
              "      <th>0</th>\n",
              "      <td>Compare and contrast the philosophical foundations of two major schools of thought in the field of psychology Behaviorism and Cognitivism</td>\n",
              "      <td>20</td>\n",
              "      <td>[Compare, and, contrast, the, philosophical, foundations, of, two, major, schools, of, thought, in, the, field, of, psychology, Behaviorism, and, Cognitivism]</td>\n",
              "      <td>[compare, contrast, philosophical, foundation, major, school, thought, field, psychology, Behaviorism, Cognitivism]</td>\n",
              "      <td>[(compare, VERB), (contrast, NOUN), (philosophical, ADJ), (foundation, NOUN), (major, ADJ), (school, NOUN), (thought, VERB), (field, NOUN), (psychology, NOUN), (Behaviorism, PROPN), (Cognitivism, ...</td>\n",
              "    </tr>\n",
              "    <tr>\n",
              "      <th>1</th>\n",
              "      <td>What are the key differences between classicism and romanticism in literature and art</td>\n",
              "      <td>13</td>\n",
              "      <td>[What, are, the, key, differences, between, classicism, and, romanticism, in, literature, and, art]</td>\n",
              "      <td>[key, difference, classicism, romanticism, literature, art]</td>\n",
              "      <td>[(key, ADJ), (difference, NOUN), (classicism, NOUN), (romanticism, NOUN), (literature, PROPN), (art, NOUN)]</td>\n",
              "    </tr>\n",
              "    <tr>\n",
              "      <th>2</th>\n",
              "      <td>Analyze the significance of the concept of cognitive dissonance in social psychology and its implications for understanding human behavior</td>\n",
              "      <td>19</td>\n",
              "      <td>[Analyze, the, significance, of, the, concept, of, cognitive, dissonance, in, social, psychology, and, its, implications, for, understanding, human, behavior]</td>\n",
              "      <td>[analyze, significance, concept, cognitive, dissonance, social, psychology, implication, understand, human, behavior]</td>\n",
              "      <td>[(analyze, VERB), (significance, NOUN), (concept, NOUN), (cognitive, ADJ), (dissonance, NOUN), (social, ADJ), (psychology, NOUN), (implication, NOUN), (understand, VERB), (human, ADJ), (behavior, ...</td>\n",
              "    </tr>\n",
              "    <tr>\n",
              "      <th>3</th>\n",
              "      <td>Compare and contrast two different theories related to human development in psychology</td>\n",
              "      <td>12</td>\n",
              "      <td>[Compare, and, contrast, two, different, theories, related, to, human, development, in, psychology]</td>\n",
              "      <td>[compare, contrast, different, theory, relate, human, development, psychology]</td>\n",
              "      <td>[(compare, VERB), (contrast, NOUN), (different, ADJ), (theory, NOUN), (relate, VERB), (human, PROPN), (development, NOUN), (psychology, NOUN)]</td>\n",
              "    </tr>\n",
              "    <tr>\n",
              "      <th>4</th>\n",
              "      <td>Analyze and discuss the role of artificial intelligence in the future of education</td>\n",
              "      <td>13</td>\n",
              "      <td>[Analyze, and, discuss, the, role, of, artificial, intelligence, in, the, future, of, education]</td>\n",
              "      <td>[analyze, discuss, role, artificial, intelligence, future, education]</td>\n",
              "      <td>[(analyze, VERB), (discuss, VERB), (role, NOUN), (artificial, ADJ), (intelligence, NOUN), (future, ADJ), (education, NOUN)]</td>\n",
              "    </tr>\n",
              "  </tbody>\n",
              "</table>\n",
              "</div>\n",
              "    <div class=\"colab-df-buttons\">\n",
              "\n",
              "  <div class=\"colab-df-container\">\n",
              "    <button class=\"colab-df-convert\" onclick=\"convertToInteractive('df-d6f0b46f-7b35-4b23-acbb-af00e8fcc4cd')\"\n",
              "            title=\"Convert this dataframe to an interactive table.\"\n",
              "            style=\"display:none;\">\n",
              "\n",
              "  <svg xmlns=\"http://www.w3.org/2000/svg\" height=\"24px\" viewBox=\"0 -960 960 960\">\n",
              "    <path d=\"M120-120v-720h720v720H120Zm60-500h600v-160H180v160Zm220 220h160v-160H400v160Zm0 220h160v-160H400v160ZM180-400h160v-160H180v160Zm440 0h160v-160H620v160ZM180-180h160v-160H180v160Zm440 0h160v-160H620v160Z\"/>\n",
              "  </svg>\n",
              "    </button>\n",
              "\n",
              "  <style>\n",
              "    .colab-df-container {\n",
              "      display:flex;\n",
              "      gap: 12px;\n",
              "    }\n",
              "\n",
              "    .colab-df-convert {\n",
              "      background-color: #E8F0FE;\n",
              "      border: none;\n",
              "      border-radius: 50%;\n",
              "      cursor: pointer;\n",
              "      display: none;\n",
              "      fill: #1967D2;\n",
              "      height: 32px;\n",
              "      padding: 0 0 0 0;\n",
              "      width: 32px;\n",
              "    }\n",
              "\n",
              "    .colab-df-convert:hover {\n",
              "      background-color: #E2EBFA;\n",
              "      box-shadow: 0px 1px 2px rgba(60, 64, 67, 0.3), 0px 1px 3px 1px rgba(60, 64, 67, 0.15);\n",
              "      fill: #174EA6;\n",
              "    }\n",
              "\n",
              "    .colab-df-buttons div {\n",
              "      margin-bottom: 4px;\n",
              "    }\n",
              "\n",
              "    [theme=dark] .colab-df-convert {\n",
              "      background-color: #3B4455;\n",
              "      fill: #D2E3FC;\n",
              "    }\n",
              "\n",
              "    [theme=dark] .colab-df-convert:hover {\n",
              "      background-color: #434B5C;\n",
              "      box-shadow: 0px 1px 3px 1px rgba(0, 0, 0, 0.15);\n",
              "      filter: drop-shadow(0px 1px 2px rgba(0, 0, 0, 0.3));\n",
              "      fill: #FFFFFF;\n",
              "    }\n",
              "  </style>\n",
              "\n",
              "    <script>\n",
              "      const buttonEl =\n",
              "        document.querySelector('#df-d6f0b46f-7b35-4b23-acbb-af00e8fcc4cd button.colab-df-convert');\n",
              "      buttonEl.style.display =\n",
              "        google.colab.kernel.accessAllowed ? 'block' : 'none';\n",
              "\n",
              "      async function convertToInteractive(key) {\n",
              "        const element = document.querySelector('#df-d6f0b46f-7b35-4b23-acbb-af00e8fcc4cd');\n",
              "        const dataTable =\n",
              "          await google.colab.kernel.invokeFunction('convertToInteractive',\n",
              "                                                    [key], {});\n",
              "        if (!dataTable) return;\n",
              "\n",
              "        const docLinkHtml = 'Like what you see? Visit the ' +\n",
              "          '<a target=\"_blank\" href=https://colab.research.google.com/notebooks/data_table.ipynb>data table notebook</a>'\n",
              "          + ' to learn more about interactive tables.';\n",
              "        element.innerHTML = '';\n",
              "        dataTable['output_type'] = 'display_data';\n",
              "        await google.colab.output.renderOutput(dataTable, element);\n",
              "        const docLink = document.createElement('div');\n",
              "        docLink.innerHTML = docLinkHtml;\n",
              "        element.appendChild(docLink);\n",
              "      }\n",
              "    </script>\n",
              "  </div>\n",
              "\n",
              "\n",
              "<div id=\"df-e9033729-31bd-41fe-9cf6-2d3a4e727657\">\n",
              "  <button class=\"colab-df-quickchart\" onclick=\"quickchart('df-e9033729-31bd-41fe-9cf6-2d3a4e727657')\"\n",
              "            title=\"Suggest charts\"\n",
              "            style=\"display:none;\">\n",
              "\n",
              "<svg xmlns=\"http://www.w3.org/2000/svg\" height=\"24px\"viewBox=\"0 0 24 24\"\n",
              "     width=\"24px\">\n",
              "    <g>\n",
              "        <path d=\"M19 3H5c-1.1 0-2 .9-2 2v14c0 1.1.9 2 2 2h14c1.1 0 2-.9 2-2V5c0-1.1-.9-2-2-2zM9 17H7v-7h2v7zm4 0h-2V7h2v10zm4 0h-2v-4h2v4z\"/>\n",
              "    </g>\n",
              "</svg>\n",
              "  </button>\n",
              "\n",
              "<style>\n",
              "  .colab-df-quickchart {\n",
              "      --bg-color: #E8F0FE;\n",
              "      --fill-color: #1967D2;\n",
              "      --hover-bg-color: #E2EBFA;\n",
              "      --hover-fill-color: #174EA6;\n",
              "      --disabled-fill-color: #AAA;\n",
              "      --disabled-bg-color: #DDD;\n",
              "  }\n",
              "\n",
              "  [theme=dark] .colab-df-quickchart {\n",
              "      --bg-color: #3B4455;\n",
              "      --fill-color: #D2E3FC;\n",
              "      --hover-bg-color: #434B5C;\n",
              "      --hover-fill-color: #FFFFFF;\n",
              "      --disabled-bg-color: #3B4455;\n",
              "      --disabled-fill-color: #666;\n",
              "  }\n",
              "\n",
              "  .colab-df-quickchart {\n",
              "    background-color: var(--bg-color);\n",
              "    border: none;\n",
              "    border-radius: 50%;\n",
              "    cursor: pointer;\n",
              "    display: none;\n",
              "    fill: var(--fill-color);\n",
              "    height: 32px;\n",
              "    padding: 0;\n",
              "    width: 32px;\n",
              "  }\n",
              "\n",
              "  .colab-df-quickchart:hover {\n",
              "    background-color: var(--hover-bg-color);\n",
              "    box-shadow: 0 1px 2px rgba(60, 64, 67, 0.3), 0 1px 3px 1px rgba(60, 64, 67, 0.15);\n",
              "    fill: var(--button-hover-fill-color);\n",
              "  }\n",
              "\n",
              "  .colab-df-quickchart-complete:disabled,\n",
              "  .colab-df-quickchart-complete:disabled:hover {\n",
              "    background-color: var(--disabled-bg-color);\n",
              "    fill: var(--disabled-fill-color);\n",
              "    box-shadow: none;\n",
              "  }\n",
              "\n",
              "  .colab-df-spinner {\n",
              "    border: 2px solid var(--fill-color);\n",
              "    border-color: transparent;\n",
              "    border-bottom-color: var(--fill-color);\n",
              "    animation:\n",
              "      spin 1s steps(1) infinite;\n",
              "  }\n",
              "\n",
              "  @keyframes spin {\n",
              "    0% {\n",
              "      border-color: transparent;\n",
              "      border-bottom-color: var(--fill-color);\n",
              "      border-left-color: var(--fill-color);\n",
              "    }\n",
              "    20% {\n",
              "      border-color: transparent;\n",
              "      border-left-color: var(--fill-color);\n",
              "      border-top-color: var(--fill-color);\n",
              "    }\n",
              "    30% {\n",
              "      border-color: transparent;\n",
              "      border-left-color: var(--fill-color);\n",
              "      border-top-color: var(--fill-color);\n",
              "      border-right-color: var(--fill-color);\n",
              "    }\n",
              "    40% {\n",
              "      border-color: transparent;\n",
              "      border-right-color: var(--fill-color);\n",
              "      border-top-color: var(--fill-color);\n",
              "    }\n",
              "    60% {\n",
              "      border-color: transparent;\n",
              "      border-right-color: var(--fill-color);\n",
              "    }\n",
              "    80% {\n",
              "      border-color: transparent;\n",
              "      border-right-color: var(--fill-color);\n",
              "      border-bottom-color: var(--fill-color);\n",
              "    }\n",
              "    90% {\n",
              "      border-color: transparent;\n",
              "      border-bottom-color: var(--fill-color);\n",
              "    }\n",
              "  }\n",
              "</style>\n",
              "\n",
              "  <script>\n",
              "    async function quickchart(key) {\n",
              "      const quickchartButtonEl =\n",
              "        document.querySelector('#' + key + ' button');\n",
              "      quickchartButtonEl.disabled = true;  // To prevent multiple clicks.\n",
              "      quickchartButtonEl.classList.add('colab-df-spinner');\n",
              "      try {\n",
              "        const charts = await google.colab.kernel.invokeFunction(\n",
              "            'suggestCharts', [key], {});\n",
              "      } catch (error) {\n",
              "        console.error('Error during call to suggestCharts:', error);\n",
              "      }\n",
              "      quickchartButtonEl.classList.remove('colab-df-spinner');\n",
              "      quickchartButtonEl.classList.add('colab-df-quickchart-complete');\n",
              "    }\n",
              "    (() => {\n",
              "      let quickchartButtonEl =\n",
              "        document.querySelector('#df-e9033729-31bd-41fe-9cf6-2d3a4e727657 button');\n",
              "      quickchartButtonEl.style.display =\n",
              "        google.colab.kernel.accessAllowed ? 'block' : 'none';\n",
              "    })();\n",
              "  </script>\n",
              "</div>\n",
              "\n",
              "    </div>\n",
              "  </div>\n"
            ],
            "application/vnd.google.colaboratory.intrinsic+json": {
              "type": "dataframe",
              "variable_name": "df"
            }
          },
          "metadata": {},
          "execution_count": 71
        }
      ],
      "source": [
        "df.head()"
      ]
    },
    {
      "cell_type": "code",
      "execution_count": 72,
      "metadata": {
        "id": "ZMUmi2PeCp1f"
      },
      "outputs": [],
      "source": [
        "from tensorflow.keras.preprocessing.sequence import pad_sequences\n",
        "\n",
        "# Pad tokenized sequences to a maximum length\n",
        "max_length = 59\n",
        "padded_sequences = pad_sequences(tokenized_sequences, maxlen=max_length, padding='post', truncating='post')\n",
        "\n"
      ]
    },
    {
      "cell_type": "code",
      "execution_count": 73,
      "metadata": {
        "colab": {
          "base_uri": "https://localhost:8080/"
        },
        "id": "P5FLj5W4_0k_",
        "outputId": "c9e5ad44-5fbf-43fb-a789-5237f1b6a233"
      },
      "outputs": [
        {
          "output_type": "stream",
          "name": "stdout",
          "text": [
            "[6, 12, 12, 12, 14, 12, 0, 0, 0, 0, 0, 0, 0, 0, 0, 0, 0, 0, 0, 0, 0, 0, 0, 0, 0, 0, 0, 0, 0, 0, 0, 0, 0, 0, 0, 0, 0, 0, 0, 0, 0, 0, 0, 0, 0, 0, 0, 0, 0, 0, 0, 0, 0, 0, 0, 0, 0, 0, 0]\n"
          ]
        }
      ],
      "source": [
        "# This shows that my y_train successfully shows correct labels\n",
        "print(padded_y_train[1])"
      ]
    },
    {
      "cell_type": "markdown",
      "metadata": {
        "id": "6_GHh39iALfv"
      },
      "source": [
        "This shows that my y_train successfully shows correct labels"
      ]
    },
    {
      "cell_type": "code",
      "execution_count": 74,
      "metadata": {
        "colab": {
          "base_uri": "https://localhost:8080/",
          "height": 466
        },
        "id": "VJihULu2_8V3",
        "outputId": "c039c223-fb61-4549-f54a-87bf6a0a6c03"
      },
      "outputs": [
        {
          "output_type": "execute_result",
          "data": {
            "text/plain": [
              "                                                                                                                                     response  \\\n",
              "0   Compare and contrast the philosophical foundations of two major schools of thought in the field of psychology Behaviorism and Cognitivism   \n",
              "1                                                       What are the key differences between classicism and romanticism in literature and art   \n",
              "2  Analyze the significance of the concept of cognitive dissonance in social psychology and its implications for understanding human behavior   \n",
              "3                                                      Compare and contrast two different theories related to human development in psychology   \n",
              "4                                                          Analyze and discuss the role of artificial intelligence in the future of education   \n",
              "\n",
              "   prompt_length  \\\n",
              "0             20   \n",
              "1             13   \n",
              "2             19   \n",
              "3             12   \n",
              "4             13   \n",
              "\n",
              "                                                                                                                                                           tokens  \\\n",
              "0  [Compare, and, contrast, the, philosophical, foundations, of, two, major, schools, of, thought, in, the, field, of, psychology, Behaviorism, and, Cognitivism]   \n",
              "1                                                             [What, are, the, key, differences, between, classicism, and, romanticism, in, literature, and, art]   \n",
              "2  [Analyze, the, significance, of, the, concept, of, cognitive, dissonance, in, social, psychology, and, its, implications, for, understanding, human, behavior]   \n",
              "3                                                             [Compare, and, contrast, two, different, theories, related, to, human, development, in, psychology]   \n",
              "4                                                                [Analyze, and, discuss, the, role, of, artificial, intelligence, in, the, future, of, education]   \n",
              "\n",
              "                                                                                                       filtered_response  \\\n",
              "0    [compare, contrast, philosophical, foundation, major, school, thought, field, psychology, Behaviorism, Cognitivism]   \n",
              "1                                                            [key, difference, classicism, romanticism, literature, art]   \n",
              "2  [analyze, significance, concept, cognitive, dissonance, social, psychology, implication, understand, human, behavior]   \n",
              "3                                         [compare, contrast, different, theory, relate, human, development, psychology]   \n",
              "4                                                  [analyze, discuss, role, artificial, intelligence, future, education]   \n",
              "\n",
              "                                                                                                                                                                                               pos_results  \n",
              "0  [(compare, VERB), (contrast, NOUN), (philosophical, ADJ), (foundation, NOUN), (major, ADJ), (school, NOUN), (thought, VERB), (field, NOUN), (psychology, NOUN), (Behaviorism, PROPN), (Cognitivism, ...  \n",
              "1                                                                                              [(key, ADJ), (difference, NOUN), (classicism, NOUN), (romanticism, NOUN), (literature, PROPN), (art, NOUN)]  \n",
              "2  [(analyze, VERB), (significance, NOUN), (concept, NOUN), (cognitive, ADJ), (dissonance, NOUN), (social, ADJ), (psychology, NOUN), (implication, NOUN), (understand, VERB), (human, ADJ), (behavior, ...  \n",
              "3                                                           [(compare, VERB), (contrast, NOUN), (different, ADJ), (theory, NOUN), (relate, VERB), (human, PROPN), (development, NOUN), (psychology, NOUN)]  \n",
              "4                                                                              [(analyze, VERB), (discuss, VERB), (role, NOUN), (artificial, ADJ), (intelligence, NOUN), (future, ADJ), (education, NOUN)]  "
            ],
            "text/html": [
              "\n",
              "  <div id=\"df-4107760f-b5f9-4e53-8672-792787734eff\" class=\"colab-df-container\">\n",
              "    <div>\n",
              "<style scoped>\n",
              "    .dataframe tbody tr th:only-of-type {\n",
              "        vertical-align: middle;\n",
              "    }\n",
              "\n",
              "    .dataframe tbody tr th {\n",
              "        vertical-align: top;\n",
              "    }\n",
              "\n",
              "    .dataframe thead th {\n",
              "        text-align: right;\n",
              "    }\n",
              "</style>\n",
              "<table border=\"1\" class=\"dataframe\">\n",
              "  <thead>\n",
              "    <tr style=\"text-align: right;\">\n",
              "      <th></th>\n",
              "      <th>response</th>\n",
              "      <th>prompt_length</th>\n",
              "      <th>tokens</th>\n",
              "      <th>filtered_response</th>\n",
              "      <th>pos_results</th>\n",
              "    </tr>\n",
              "  </thead>\n",
              "  <tbody>\n",
              "    <tr>\n",
              "      <th>0</th>\n",
              "      <td>Compare and contrast the philosophical foundations of two major schools of thought in the field of psychology Behaviorism and Cognitivism</td>\n",
              "      <td>20</td>\n",
              "      <td>[Compare, and, contrast, the, philosophical, foundations, of, two, major, schools, of, thought, in, the, field, of, psychology, Behaviorism, and, Cognitivism]</td>\n",
              "      <td>[compare, contrast, philosophical, foundation, major, school, thought, field, psychology, Behaviorism, Cognitivism]</td>\n",
              "      <td>[(compare, VERB), (contrast, NOUN), (philosophical, ADJ), (foundation, NOUN), (major, ADJ), (school, NOUN), (thought, VERB), (field, NOUN), (psychology, NOUN), (Behaviorism, PROPN), (Cognitivism, ...</td>\n",
              "    </tr>\n",
              "    <tr>\n",
              "      <th>1</th>\n",
              "      <td>What are the key differences between classicism and romanticism in literature and art</td>\n",
              "      <td>13</td>\n",
              "      <td>[What, are, the, key, differences, between, classicism, and, romanticism, in, literature, and, art]</td>\n",
              "      <td>[key, difference, classicism, romanticism, literature, art]</td>\n",
              "      <td>[(key, ADJ), (difference, NOUN), (classicism, NOUN), (romanticism, NOUN), (literature, PROPN), (art, NOUN)]</td>\n",
              "    </tr>\n",
              "    <tr>\n",
              "      <th>2</th>\n",
              "      <td>Analyze the significance of the concept of cognitive dissonance in social psychology and its implications for understanding human behavior</td>\n",
              "      <td>19</td>\n",
              "      <td>[Analyze, the, significance, of, the, concept, of, cognitive, dissonance, in, social, psychology, and, its, implications, for, understanding, human, behavior]</td>\n",
              "      <td>[analyze, significance, concept, cognitive, dissonance, social, psychology, implication, understand, human, behavior]</td>\n",
              "      <td>[(analyze, VERB), (significance, NOUN), (concept, NOUN), (cognitive, ADJ), (dissonance, NOUN), (social, ADJ), (psychology, NOUN), (implication, NOUN), (understand, VERB), (human, ADJ), (behavior, ...</td>\n",
              "    </tr>\n",
              "    <tr>\n",
              "      <th>3</th>\n",
              "      <td>Compare and contrast two different theories related to human development in psychology</td>\n",
              "      <td>12</td>\n",
              "      <td>[Compare, and, contrast, two, different, theories, related, to, human, development, in, psychology]</td>\n",
              "      <td>[compare, contrast, different, theory, relate, human, development, psychology]</td>\n",
              "      <td>[(compare, VERB), (contrast, NOUN), (different, ADJ), (theory, NOUN), (relate, VERB), (human, PROPN), (development, NOUN), (psychology, NOUN)]</td>\n",
              "    </tr>\n",
              "    <tr>\n",
              "      <th>4</th>\n",
              "      <td>Analyze and discuss the role of artificial intelligence in the future of education</td>\n",
              "      <td>13</td>\n",
              "      <td>[Analyze, and, discuss, the, role, of, artificial, intelligence, in, the, future, of, education]</td>\n",
              "      <td>[analyze, discuss, role, artificial, intelligence, future, education]</td>\n",
              "      <td>[(analyze, VERB), (discuss, VERB), (role, NOUN), (artificial, ADJ), (intelligence, NOUN), (future, ADJ), (education, NOUN)]</td>\n",
              "    </tr>\n",
              "  </tbody>\n",
              "</table>\n",
              "</div>\n",
              "    <div class=\"colab-df-buttons\">\n",
              "\n",
              "  <div class=\"colab-df-container\">\n",
              "    <button class=\"colab-df-convert\" onclick=\"convertToInteractive('df-4107760f-b5f9-4e53-8672-792787734eff')\"\n",
              "            title=\"Convert this dataframe to an interactive table.\"\n",
              "            style=\"display:none;\">\n",
              "\n",
              "  <svg xmlns=\"http://www.w3.org/2000/svg\" height=\"24px\" viewBox=\"0 -960 960 960\">\n",
              "    <path d=\"M120-120v-720h720v720H120Zm60-500h600v-160H180v160Zm220 220h160v-160H400v160Zm0 220h160v-160H400v160ZM180-400h160v-160H180v160Zm440 0h160v-160H620v160ZM180-180h160v-160H180v160Zm440 0h160v-160H620v160Z\"/>\n",
              "  </svg>\n",
              "    </button>\n",
              "\n",
              "  <style>\n",
              "    .colab-df-container {\n",
              "      display:flex;\n",
              "      gap: 12px;\n",
              "    }\n",
              "\n",
              "    .colab-df-convert {\n",
              "      background-color: #E8F0FE;\n",
              "      border: none;\n",
              "      border-radius: 50%;\n",
              "      cursor: pointer;\n",
              "      display: none;\n",
              "      fill: #1967D2;\n",
              "      height: 32px;\n",
              "      padding: 0 0 0 0;\n",
              "      width: 32px;\n",
              "    }\n",
              "\n",
              "    .colab-df-convert:hover {\n",
              "      background-color: #E2EBFA;\n",
              "      box-shadow: 0px 1px 2px rgba(60, 64, 67, 0.3), 0px 1px 3px 1px rgba(60, 64, 67, 0.15);\n",
              "      fill: #174EA6;\n",
              "    }\n",
              "\n",
              "    .colab-df-buttons div {\n",
              "      margin-bottom: 4px;\n",
              "    }\n",
              "\n",
              "    [theme=dark] .colab-df-convert {\n",
              "      background-color: #3B4455;\n",
              "      fill: #D2E3FC;\n",
              "    }\n",
              "\n",
              "    [theme=dark] .colab-df-convert:hover {\n",
              "      background-color: #434B5C;\n",
              "      box-shadow: 0px 1px 3px 1px rgba(0, 0, 0, 0.15);\n",
              "      filter: drop-shadow(0px 1px 2px rgba(0, 0, 0, 0.3));\n",
              "      fill: #FFFFFF;\n",
              "    }\n",
              "  </style>\n",
              "\n",
              "    <script>\n",
              "      const buttonEl =\n",
              "        document.querySelector('#df-4107760f-b5f9-4e53-8672-792787734eff button.colab-df-convert');\n",
              "      buttonEl.style.display =\n",
              "        google.colab.kernel.accessAllowed ? 'block' : 'none';\n",
              "\n",
              "      async function convertToInteractive(key) {\n",
              "        const element = document.querySelector('#df-4107760f-b5f9-4e53-8672-792787734eff');\n",
              "        const dataTable =\n",
              "          await google.colab.kernel.invokeFunction('convertToInteractive',\n",
              "                                                    [key], {});\n",
              "        if (!dataTable) return;\n",
              "\n",
              "        const docLinkHtml = 'Like what you see? Visit the ' +\n",
              "          '<a target=\"_blank\" href=https://colab.research.google.com/notebooks/data_table.ipynb>data table notebook</a>'\n",
              "          + ' to learn more about interactive tables.';\n",
              "        element.innerHTML = '';\n",
              "        dataTable['output_type'] = 'display_data';\n",
              "        await google.colab.output.renderOutput(dataTable, element);\n",
              "        const docLink = document.createElement('div');\n",
              "        docLink.innerHTML = docLinkHtml;\n",
              "        element.appendChild(docLink);\n",
              "      }\n",
              "    </script>\n",
              "  </div>\n",
              "\n",
              "\n",
              "<div id=\"df-c926c3c4-92a8-4b52-a6bf-3e8312b1cd18\">\n",
              "  <button class=\"colab-df-quickchart\" onclick=\"quickchart('df-c926c3c4-92a8-4b52-a6bf-3e8312b1cd18')\"\n",
              "            title=\"Suggest charts\"\n",
              "            style=\"display:none;\">\n",
              "\n",
              "<svg xmlns=\"http://www.w3.org/2000/svg\" height=\"24px\"viewBox=\"0 0 24 24\"\n",
              "     width=\"24px\">\n",
              "    <g>\n",
              "        <path d=\"M19 3H5c-1.1 0-2 .9-2 2v14c0 1.1.9 2 2 2h14c1.1 0 2-.9 2-2V5c0-1.1-.9-2-2-2zM9 17H7v-7h2v7zm4 0h-2V7h2v10zm4 0h-2v-4h2v4z\"/>\n",
              "    </g>\n",
              "</svg>\n",
              "  </button>\n",
              "\n",
              "<style>\n",
              "  .colab-df-quickchart {\n",
              "      --bg-color: #E8F0FE;\n",
              "      --fill-color: #1967D2;\n",
              "      --hover-bg-color: #E2EBFA;\n",
              "      --hover-fill-color: #174EA6;\n",
              "      --disabled-fill-color: #AAA;\n",
              "      --disabled-bg-color: #DDD;\n",
              "  }\n",
              "\n",
              "  [theme=dark] .colab-df-quickchart {\n",
              "      --bg-color: #3B4455;\n",
              "      --fill-color: #D2E3FC;\n",
              "      --hover-bg-color: #434B5C;\n",
              "      --hover-fill-color: #FFFFFF;\n",
              "      --disabled-bg-color: #3B4455;\n",
              "      --disabled-fill-color: #666;\n",
              "  }\n",
              "\n",
              "  .colab-df-quickchart {\n",
              "    background-color: var(--bg-color);\n",
              "    border: none;\n",
              "    border-radius: 50%;\n",
              "    cursor: pointer;\n",
              "    display: none;\n",
              "    fill: var(--fill-color);\n",
              "    height: 32px;\n",
              "    padding: 0;\n",
              "    width: 32px;\n",
              "  }\n",
              "\n",
              "  .colab-df-quickchart:hover {\n",
              "    background-color: var(--hover-bg-color);\n",
              "    box-shadow: 0 1px 2px rgba(60, 64, 67, 0.3), 0 1px 3px 1px rgba(60, 64, 67, 0.15);\n",
              "    fill: var(--button-hover-fill-color);\n",
              "  }\n",
              "\n",
              "  .colab-df-quickchart-complete:disabled,\n",
              "  .colab-df-quickchart-complete:disabled:hover {\n",
              "    background-color: var(--disabled-bg-color);\n",
              "    fill: var(--disabled-fill-color);\n",
              "    box-shadow: none;\n",
              "  }\n",
              "\n",
              "  .colab-df-spinner {\n",
              "    border: 2px solid var(--fill-color);\n",
              "    border-color: transparent;\n",
              "    border-bottom-color: var(--fill-color);\n",
              "    animation:\n",
              "      spin 1s steps(1) infinite;\n",
              "  }\n",
              "\n",
              "  @keyframes spin {\n",
              "    0% {\n",
              "      border-color: transparent;\n",
              "      border-bottom-color: var(--fill-color);\n",
              "      border-left-color: var(--fill-color);\n",
              "    }\n",
              "    20% {\n",
              "      border-color: transparent;\n",
              "      border-left-color: var(--fill-color);\n",
              "      border-top-color: var(--fill-color);\n",
              "    }\n",
              "    30% {\n",
              "      border-color: transparent;\n",
              "      border-left-color: var(--fill-color);\n",
              "      border-top-color: var(--fill-color);\n",
              "      border-right-color: var(--fill-color);\n",
              "    }\n",
              "    40% {\n",
              "      border-color: transparent;\n",
              "      border-right-color: var(--fill-color);\n",
              "      border-top-color: var(--fill-color);\n",
              "    }\n",
              "    60% {\n",
              "      border-color: transparent;\n",
              "      border-right-color: var(--fill-color);\n",
              "    }\n",
              "    80% {\n",
              "      border-color: transparent;\n",
              "      border-right-color: var(--fill-color);\n",
              "      border-bottom-color: var(--fill-color);\n",
              "    }\n",
              "    90% {\n",
              "      border-color: transparent;\n",
              "      border-bottom-color: var(--fill-color);\n",
              "    }\n",
              "  }\n",
              "</style>\n",
              "\n",
              "  <script>\n",
              "    async function quickchart(key) {\n",
              "      const quickchartButtonEl =\n",
              "        document.querySelector('#' + key + ' button');\n",
              "      quickchartButtonEl.disabled = true;  // To prevent multiple clicks.\n",
              "      quickchartButtonEl.classList.add('colab-df-spinner');\n",
              "      try {\n",
              "        const charts = await google.colab.kernel.invokeFunction(\n",
              "            'suggestCharts', [key], {});\n",
              "      } catch (error) {\n",
              "        console.error('Error during call to suggestCharts:', error);\n",
              "      }\n",
              "      quickchartButtonEl.classList.remove('colab-df-spinner');\n",
              "      quickchartButtonEl.classList.add('colab-df-quickchart-complete');\n",
              "    }\n",
              "    (() => {\n",
              "      let quickchartButtonEl =\n",
              "        document.querySelector('#df-c926c3c4-92a8-4b52-a6bf-3e8312b1cd18 button');\n",
              "      quickchartButtonEl.style.display =\n",
              "        google.colab.kernel.accessAllowed ? 'block' : 'none';\n",
              "    })();\n",
              "  </script>\n",
              "</div>\n",
              "\n",
              "    </div>\n",
              "  </div>\n"
            ],
            "application/vnd.google.colaboratory.intrinsic+json": {
              "type": "dataframe",
              "variable_name": "df"
            }
          },
          "metadata": {},
          "execution_count": 74
        }
      ],
      "source": [
        "df.head()"
      ]
    },
    {
      "cell_type": "code",
      "execution_count": 75,
      "metadata": {
        "colab": {
          "base_uri": "https://localhost:8080/"
        },
        "id": "0dkGBJODID09",
        "outputId": "5f4afe98-564a-4b1a-d372-86a91f322196"
      },
      "outputs": [
        {
          "output_type": "stream",
          "name": "stderr",
          "text": [
            "Some weights of BertForTokenClassification were not initialized from the model checkpoint at prajjwal1/bert-tiny and are newly initialized: ['classifier.bias', 'classifier.weight']\n",
            "You should probably TRAIN this model on a down-stream task to be able to use it for predictions and inference.\n",
            "/usr/local/lib/python3.10/dist-packages/transformers/optimization.py:521: FutureWarning: This implementation of AdamW is deprecated and will be removed in a future version. Use the PyTorch implementation torch.optim.AdamW instead, or set `no_deprecation_warning=True` to disable this warning\n",
            "  warnings.warn(\n"
          ]
        },
        {
          "output_type": "stream",
          "name": "stdout",
          "text": [
            "Epoch 1/3\n"
          ]
        },
        {
          "output_type": "stream",
          "name": "stderr",
          "text": [
            "  0%|          | 0/1947 [00:00<?, ?it/s]We strongly recommend passing in an `attention_mask` since your input_ids may be padded. See https://huggingface.co/docs/transformers/troubleshooting#incorrect-output-when-padding-tokens-arent-masked.\n",
            "Loss: 0.0576: 100%|██████████| 1947/1947 [18:40<00:00,  1.74it/s]\n"
          ]
        },
        {
          "output_type": "stream",
          "name": "stdout",
          "text": [
            "Epoch 2/3\n"
          ]
        },
        {
          "output_type": "stream",
          "name": "stderr",
          "text": [
            "Loss: 0.0354: 100%|██████████| 1947/1947 [18:19<00:00,  1.77it/s]\n"
          ]
        },
        {
          "output_type": "stream",
          "name": "stdout",
          "text": [
            "Epoch 3/3\n"
          ]
        },
        {
          "output_type": "stream",
          "name": "stderr",
          "text": [
            "Loss: 0.0264: 100%|██████████| 1947/1947 [18:20<00:00,  1.77it/s]\n"
          ]
        }
      ],
      "source": [
        "import torch\n",
        "from transformers import BertTokenizer, BertForTokenClassification, AdamW\n",
        "from torch.utils.data import TensorDataset, DataLoader, RandomSampler\n",
        "from tqdm import tqdm\n",
        "\n",
        "# Define hyperparameters\n",
        "batch_size = 128\n",
        "num_epochs = 3\n",
        "learning_rate = 7e-5\n",
        "\n",
        "# Convert input sequences and labels to PyTorch tensors\n",
        "input_ids = torch.tensor(padded_sequences)\n",
        "labels = torch.tensor(padded_y_train)\n",
        "\n",
        "# Create TensorDataset\n",
        "dataset = TensorDataset(input_ids, labels)\n",
        "\n",
        "# Create DataLoader for batching and shuffling\n",
        "dataloader = DataLoader(dataset, batch_size=batch_size, sampler=RandomSampler(dataset))\n",
        "\n",
        "# Load pre-trained TinyBERT model\n",
        "model = BertForTokenClassification.from_pretrained(model_name, num_labels=num_classes)\n",
        "\n",
        "# Define optimizer\n",
        "optimizer = AdamW(model.parameters(), lr=learning_rate)\n",
        "\n",
        "# Fine-tune the model\n",
        "for epoch in range(num_epochs):\n",
        "    print(f\"Epoch {epoch + 1}/{num_epochs}\")\n",
        "    progress_bar = tqdm(enumerate(dataloader), total=len(dataloader))\n",
        "    model.train()\n",
        "    for step, batch in progress_bar:\n",
        "        # Unpack batch\n",
        "        input_ids_batch, labels_batch = batch\n",
        "\n",
        "        # Zero gradients\n",
        "        optimizer.zero_grad()\n",
        "\n",
        "        # Forward pass\n",
        "        outputs = model(input_ids_batch, labels=labels_batch)\n",
        "        loss = outputs.loss\n",
        "\n",
        "        # Backward pass\n",
        "        loss.backward()\n",
        "\n",
        "        # Update parameters\n",
        "        optimizer.step()\n",
        "\n",
        "        progress_bar.set_description(f\"Loss: {loss.item():.4f}\")\n",
        "\n",
        "# Save the fine-tuned model\n",
        "model.save_pretrained(\"fine_tuned_tinybert\")\n"
      ]
    },
    {
      "cell_type": "markdown",
      "metadata": {
        "id": "dHvIufMcr4BE"
      },
      "source": [
        "## Evaluating the model on my test set"
      ]
    },
    {
      "cell_type": "code",
      "execution_count": 76,
      "metadata": {
        "id": "GSI04hH3s6Yh"
      },
      "outputs": [],
      "source": [
        "from torch.utils.data import TensorDataset, DataLoader\n",
        "\n",
        "# Convert x_test and y_test to PyTorch tensors\n",
        "input_ids_test = torch.tensor(x_test)\n",
        "labels_test = torch.tensor(y_test)\n",
        "\n",
        "# Create TensorDataset for test data\n",
        "dataset_test = TensorDataset(input_ids_test, labels_test)\n",
        "\n",
        "# Define batch size for test DataLoader\n",
        "batch_size_test = 128\n",
        "\n",
        "# Create DataLoader for test data\n",
        "dataloader_test = DataLoader(dataset_test, batch_size=batch_size_test)\n"
      ]
    },
    {
      "cell_type": "code",
      "execution_count": 77,
      "metadata": {
        "colab": {
          "base_uri": "https://localhost:8080/"
        },
        "id": "Epz5r0Xnr6Kq",
        "outputId": "c335b4b1-b1b4-435c-d824-e1cdd44c0ab1"
      },
      "outputs": [
        {
          "output_type": "stream",
          "name": "stderr",
          "text": [
            "Evaluation: 100%|██████████| 390/390 [01:12<00:00,  5.40it/s]\n"
          ]
        },
        {
          "output_type": "stream",
          "name": "stdout",
          "text": [
            "Accuracy: 0.8561788342422956\n"
          ]
        }
      ],
      "source": [
        "from tqdm import tqdm\n",
        "\n",
        "# Set the model to evaluation mode\n",
        "model.eval()\n",
        "\n",
        "# Initialize lists to store predictions and true labels\n",
        "all_predictions = []\n",
        "all_true_labels = []\n",
        "\n",
        "# Initialize tqdm progress bar\n",
        "progress_bar = tqdm(dataloader_test, desc=\"Evaluation\")\n",
        "\n",
        "# Iterate over the test DataLoader\n",
        "for batch in progress_bar:\n",
        "    # Unpack batch\n",
        "    input_ids_batch, labels_batch = batch\n",
        "\n",
        "    # Disable gradient calculation\n",
        "    with torch.no_grad():\n",
        "        # Forward pass\n",
        "        outputs = model(input_ids_batch)\n",
        "        logits = outputs.logits\n",
        "\n",
        "        # Apply softmax to get probabilities\n",
        "        probabilities = torch.softmax(logits, dim=-1)\n",
        "\n",
        "        # Get predicted labels (argmax over logits)\n",
        "        predictions = torch.argmax(probabilities, dim=-1)\n",
        "\n",
        "    # Append predictions and true labels to lists\n",
        "    all_predictions.extend(predictions.tolist())\n",
        "    all_true_labels.extend(labels_batch.tolist())\n",
        "\n",
        "# Close tqdm progress bar\n",
        "progress_bar.close()\n",
        "\n",
        "# Convert lists to numpy arrays\n",
        "predictions_np = np.array(all_predictions)\n",
        "true_labels_np = np.array(all_true_labels)\n",
        "\n",
        "# Calculate accuracy\n",
        "accuracy = np.mean(predictions_np == true_labels_np)\n",
        "\n",
        "\n",
        "print(\"Accuracy:\", accuracy)\n"
      ]
    },
    {
      "cell_type": "code",
      "execution_count": 78,
      "metadata": {
        "colab": {
          "base_uri": "https://localhost:8080/",
          "height": 518
        },
        "id": "AuCAJdGfrDbp",
        "outputId": "355fccf4-fa36-40bc-a3f4-8da30804ceb1"
      },
      "outputs": [
        {
          "output_type": "execute_result",
          "data": {
            "text/plain": [
              "                                                                                                                                                  response  \\\n",
              "249995                   What is the significance of the concept of homeostasis in biology and how does it relate to the functioning of biological systems   \n",
              "249996    Discuss the role of cellular respiration in energy production within living organisms and how it contributes to the overall functioning of cells   \n",
              "249997  In the field of artificial intelligence explain the difference between supervised and unsupervised learning and provide a reallife example of each   \n",
              "249998                                                         Compare and contrast the key differences between Classical and Quantum Mechanics in physics   \n",
              "249999                              In what ways has the use of technology impacted the education system and its effectiveness in achieving academic goals   \n",
              "\n",
              "        prompt_length  \\\n",
              "249995             22   \n",
              "249996             22   \n",
              "249997             21   \n",
              "249998             13   \n",
              "249999             19   \n",
              "\n",
              "                                                                                                                                                                          tokens  \\\n",
              "249995                  [What, is, the, significance, of, the, concept, of, homeostasis, in, biology, and, how, does, it, relate, to, the, functioning, of, biological, systems]   \n",
              "249996   [Discuss, the, role, of, cellular, respiration, in, energy, production, within, living, organisms, and, how, it, contributes, to, the, overall, functioning, of, cells]   \n",
              "249997  [In, the, field, of, artificial, intelligence, explain, the, difference, between, supervised, and, unsupervised, learning, and, provide, a, reallife, example, of, each]   \n",
              "249998                                                                 [Compare, and, contrast, the, key, differences, between, Classical, and, Quantum, Mechanics, in, physics]   \n",
              "249999                                [In, what, ways, has, the, use, of, technology, impacted, the, education, system, and, its, effectiveness, in, achieving, academic, goals]   \n",
              "\n",
              "                                                                                                             filtered_response  \\\n",
              "249995                                  [significance, concept, homeostasis, biology, relate, functioning, biological, system]   \n",
              "249996    [discuss, role, cellular, respiration, energy, production, living, organism, contribute, overall, functioning, cell]   \n",
              "249997  [field, artificial, intelligence, explain, difference, supervised, unsupervised, learning, provide, reallife, example]   \n",
              "249998                                            [compare, contrast, key, difference, Classical, Quantum, Mechanics, physics]   \n",
              "249999                               [way, use, technology, impact, education, system, effectiveness, achieve, academic, goal]   \n",
              "\n",
              "                                                                                                                                                                                                    pos_results  \n",
              "249995                                                    [(significance, NOUN), (concept, NOUN), (homeostasis, NOUN), (biology, NOUN), (relate, VERB), (functioning, VERB), (biological, ADJ), (system, NOUN)]  \n",
              "249996  [(discuss, VERB), (role, NOUN), (cellular, ADJ), (respiration, NOUN), (energy, NOUN), (production, NOUN), (living, NOUN), (organism, NOUN), (contribute, VERB), (overall, ADJ), (functioning, VERB),...  \n",
              "249997  [(field, NOUN), (artificial, ADJ), (intelligence, NOUN), (explain, VERB), (difference, NOUN), (supervised, VERB), (unsupervised, ADJ), (learning, NOUN), (provide, VERB), (reallife, NOUN), (example...  \n",
              "249998                                                           [(compare, VERB), (contrast, NOUN), (key, ADJ), (difference, NOUN), (Classical, PROPN), (Quantum, PROPN), (Mechanics, PROPN), (physics, NOUN)]  \n",
              "249999                                 [(way, NOUN), (use, VERB), (technology, NOUN), (impact, NOUN), (education, NOUN), (system, NOUN), (effectiveness, NOUN), (achieve, VERB), (academic, ADJ), (goal, NOUN)]  "
            ],
            "text/html": [
              "\n",
              "  <div id=\"df-124f9ba0-1dc8-496d-8c8c-3d66b011ca85\" class=\"colab-df-container\">\n",
              "    <div>\n",
              "<style scoped>\n",
              "    .dataframe tbody tr th:only-of-type {\n",
              "        vertical-align: middle;\n",
              "    }\n",
              "\n",
              "    .dataframe tbody tr th {\n",
              "        vertical-align: top;\n",
              "    }\n",
              "\n",
              "    .dataframe thead th {\n",
              "        text-align: right;\n",
              "    }\n",
              "</style>\n",
              "<table border=\"1\" class=\"dataframe\">\n",
              "  <thead>\n",
              "    <tr style=\"text-align: right;\">\n",
              "      <th></th>\n",
              "      <th>response</th>\n",
              "      <th>prompt_length</th>\n",
              "      <th>tokens</th>\n",
              "      <th>filtered_response</th>\n",
              "      <th>pos_results</th>\n",
              "    </tr>\n",
              "  </thead>\n",
              "  <tbody>\n",
              "    <tr>\n",
              "      <th>249995</th>\n",
              "      <td>What is the significance of the concept of homeostasis in biology and how does it relate to the functioning of biological systems</td>\n",
              "      <td>22</td>\n",
              "      <td>[What, is, the, significance, of, the, concept, of, homeostasis, in, biology, and, how, does, it, relate, to, the, functioning, of, biological, systems]</td>\n",
              "      <td>[significance, concept, homeostasis, biology, relate, functioning, biological, system]</td>\n",
              "      <td>[(significance, NOUN), (concept, NOUN), (homeostasis, NOUN), (biology, NOUN), (relate, VERB), (functioning, VERB), (biological, ADJ), (system, NOUN)]</td>\n",
              "    </tr>\n",
              "    <tr>\n",
              "      <th>249996</th>\n",
              "      <td>Discuss the role of cellular respiration in energy production within living organisms and how it contributes to the overall functioning of cells</td>\n",
              "      <td>22</td>\n",
              "      <td>[Discuss, the, role, of, cellular, respiration, in, energy, production, within, living, organisms, and, how, it, contributes, to, the, overall, functioning, of, cells]</td>\n",
              "      <td>[discuss, role, cellular, respiration, energy, production, living, organism, contribute, overall, functioning, cell]</td>\n",
              "      <td>[(discuss, VERB), (role, NOUN), (cellular, ADJ), (respiration, NOUN), (energy, NOUN), (production, NOUN), (living, NOUN), (organism, NOUN), (contribute, VERB), (overall, ADJ), (functioning, VERB),...</td>\n",
              "    </tr>\n",
              "    <tr>\n",
              "      <th>249997</th>\n",
              "      <td>In the field of artificial intelligence explain the difference between supervised and unsupervised learning and provide a reallife example of each</td>\n",
              "      <td>21</td>\n",
              "      <td>[In, the, field, of, artificial, intelligence, explain, the, difference, between, supervised, and, unsupervised, learning, and, provide, a, reallife, example, of, each]</td>\n",
              "      <td>[field, artificial, intelligence, explain, difference, supervised, unsupervised, learning, provide, reallife, example]</td>\n",
              "      <td>[(field, NOUN), (artificial, ADJ), (intelligence, NOUN), (explain, VERB), (difference, NOUN), (supervised, VERB), (unsupervised, ADJ), (learning, NOUN), (provide, VERB), (reallife, NOUN), (example...</td>\n",
              "    </tr>\n",
              "    <tr>\n",
              "      <th>249998</th>\n",
              "      <td>Compare and contrast the key differences between Classical and Quantum Mechanics in physics</td>\n",
              "      <td>13</td>\n",
              "      <td>[Compare, and, contrast, the, key, differences, between, Classical, and, Quantum, Mechanics, in, physics]</td>\n",
              "      <td>[compare, contrast, key, difference, Classical, Quantum, Mechanics, physics]</td>\n",
              "      <td>[(compare, VERB), (contrast, NOUN), (key, ADJ), (difference, NOUN), (Classical, PROPN), (Quantum, PROPN), (Mechanics, PROPN), (physics, NOUN)]</td>\n",
              "    </tr>\n",
              "    <tr>\n",
              "      <th>249999</th>\n",
              "      <td>In what ways has the use of technology impacted the education system and its effectiveness in achieving academic goals</td>\n",
              "      <td>19</td>\n",
              "      <td>[In, what, ways, has, the, use, of, technology, impacted, the, education, system, and, its, effectiveness, in, achieving, academic, goals]</td>\n",
              "      <td>[way, use, technology, impact, education, system, effectiveness, achieve, academic, goal]</td>\n",
              "      <td>[(way, NOUN), (use, VERB), (technology, NOUN), (impact, NOUN), (education, NOUN), (system, NOUN), (effectiveness, NOUN), (achieve, VERB), (academic, ADJ), (goal, NOUN)]</td>\n",
              "    </tr>\n",
              "  </tbody>\n",
              "</table>\n",
              "</div>\n",
              "    <div class=\"colab-df-buttons\">\n",
              "\n",
              "  <div class=\"colab-df-container\">\n",
              "    <button class=\"colab-df-convert\" onclick=\"convertToInteractive('df-124f9ba0-1dc8-496d-8c8c-3d66b011ca85')\"\n",
              "            title=\"Convert this dataframe to an interactive table.\"\n",
              "            style=\"display:none;\">\n",
              "\n",
              "  <svg xmlns=\"http://www.w3.org/2000/svg\" height=\"24px\" viewBox=\"0 -960 960 960\">\n",
              "    <path d=\"M120-120v-720h720v720H120Zm60-500h600v-160H180v160Zm220 220h160v-160H400v160Zm0 220h160v-160H400v160ZM180-400h160v-160H180v160Zm440 0h160v-160H620v160ZM180-180h160v-160H180v160Zm440 0h160v-160H620v160Z\"/>\n",
              "  </svg>\n",
              "    </button>\n",
              "\n",
              "  <style>\n",
              "    .colab-df-container {\n",
              "      display:flex;\n",
              "      gap: 12px;\n",
              "    }\n",
              "\n",
              "    .colab-df-convert {\n",
              "      background-color: #E8F0FE;\n",
              "      border: none;\n",
              "      border-radius: 50%;\n",
              "      cursor: pointer;\n",
              "      display: none;\n",
              "      fill: #1967D2;\n",
              "      height: 32px;\n",
              "      padding: 0 0 0 0;\n",
              "      width: 32px;\n",
              "    }\n",
              "\n",
              "    .colab-df-convert:hover {\n",
              "      background-color: #E2EBFA;\n",
              "      box-shadow: 0px 1px 2px rgba(60, 64, 67, 0.3), 0px 1px 3px 1px rgba(60, 64, 67, 0.15);\n",
              "      fill: #174EA6;\n",
              "    }\n",
              "\n",
              "    .colab-df-buttons div {\n",
              "      margin-bottom: 4px;\n",
              "    }\n",
              "\n",
              "    [theme=dark] .colab-df-convert {\n",
              "      background-color: #3B4455;\n",
              "      fill: #D2E3FC;\n",
              "    }\n",
              "\n",
              "    [theme=dark] .colab-df-convert:hover {\n",
              "      background-color: #434B5C;\n",
              "      box-shadow: 0px 1px 3px 1px rgba(0, 0, 0, 0.15);\n",
              "      filter: drop-shadow(0px 1px 2px rgba(0, 0, 0, 0.3));\n",
              "      fill: #FFFFFF;\n",
              "    }\n",
              "  </style>\n",
              "\n",
              "    <script>\n",
              "      const buttonEl =\n",
              "        document.querySelector('#df-124f9ba0-1dc8-496d-8c8c-3d66b011ca85 button.colab-df-convert');\n",
              "      buttonEl.style.display =\n",
              "        google.colab.kernel.accessAllowed ? 'block' : 'none';\n",
              "\n",
              "      async function convertToInteractive(key) {\n",
              "        const element = document.querySelector('#df-124f9ba0-1dc8-496d-8c8c-3d66b011ca85');\n",
              "        const dataTable =\n",
              "          await google.colab.kernel.invokeFunction('convertToInteractive',\n",
              "                                                    [key], {});\n",
              "        if (!dataTable) return;\n",
              "\n",
              "        const docLinkHtml = 'Like what you see? Visit the ' +\n",
              "          '<a target=\"_blank\" href=https://colab.research.google.com/notebooks/data_table.ipynb>data table notebook</a>'\n",
              "          + ' to learn more about interactive tables.';\n",
              "        element.innerHTML = '';\n",
              "        dataTable['output_type'] = 'display_data';\n",
              "        await google.colab.output.renderOutput(dataTable, element);\n",
              "        const docLink = document.createElement('div');\n",
              "        docLink.innerHTML = docLinkHtml;\n",
              "        element.appendChild(docLink);\n",
              "      }\n",
              "    </script>\n",
              "  </div>\n",
              "\n",
              "\n",
              "<div id=\"df-378f87c1-e253-4242-a70d-84bbffd8a87a\">\n",
              "  <button class=\"colab-df-quickchart\" onclick=\"quickchart('df-378f87c1-e253-4242-a70d-84bbffd8a87a')\"\n",
              "            title=\"Suggest charts\"\n",
              "            style=\"display:none;\">\n",
              "\n",
              "<svg xmlns=\"http://www.w3.org/2000/svg\" height=\"24px\"viewBox=\"0 0 24 24\"\n",
              "     width=\"24px\">\n",
              "    <g>\n",
              "        <path d=\"M19 3H5c-1.1 0-2 .9-2 2v14c0 1.1.9 2 2 2h14c1.1 0 2-.9 2-2V5c0-1.1-.9-2-2-2zM9 17H7v-7h2v7zm4 0h-2V7h2v10zm4 0h-2v-4h2v4z\"/>\n",
              "    </g>\n",
              "</svg>\n",
              "  </button>\n",
              "\n",
              "<style>\n",
              "  .colab-df-quickchart {\n",
              "      --bg-color: #E8F0FE;\n",
              "      --fill-color: #1967D2;\n",
              "      --hover-bg-color: #E2EBFA;\n",
              "      --hover-fill-color: #174EA6;\n",
              "      --disabled-fill-color: #AAA;\n",
              "      --disabled-bg-color: #DDD;\n",
              "  }\n",
              "\n",
              "  [theme=dark] .colab-df-quickchart {\n",
              "      --bg-color: #3B4455;\n",
              "      --fill-color: #D2E3FC;\n",
              "      --hover-bg-color: #434B5C;\n",
              "      --hover-fill-color: #FFFFFF;\n",
              "      --disabled-bg-color: #3B4455;\n",
              "      --disabled-fill-color: #666;\n",
              "  }\n",
              "\n",
              "  .colab-df-quickchart {\n",
              "    background-color: var(--bg-color);\n",
              "    border: none;\n",
              "    border-radius: 50%;\n",
              "    cursor: pointer;\n",
              "    display: none;\n",
              "    fill: var(--fill-color);\n",
              "    height: 32px;\n",
              "    padding: 0;\n",
              "    width: 32px;\n",
              "  }\n",
              "\n",
              "  .colab-df-quickchart:hover {\n",
              "    background-color: var(--hover-bg-color);\n",
              "    box-shadow: 0 1px 2px rgba(60, 64, 67, 0.3), 0 1px 3px 1px rgba(60, 64, 67, 0.15);\n",
              "    fill: var(--button-hover-fill-color);\n",
              "  }\n",
              "\n",
              "  .colab-df-quickchart-complete:disabled,\n",
              "  .colab-df-quickchart-complete:disabled:hover {\n",
              "    background-color: var(--disabled-bg-color);\n",
              "    fill: var(--disabled-fill-color);\n",
              "    box-shadow: none;\n",
              "  }\n",
              "\n",
              "  .colab-df-spinner {\n",
              "    border: 2px solid var(--fill-color);\n",
              "    border-color: transparent;\n",
              "    border-bottom-color: var(--fill-color);\n",
              "    animation:\n",
              "      spin 1s steps(1) infinite;\n",
              "  }\n",
              "\n",
              "  @keyframes spin {\n",
              "    0% {\n",
              "      border-color: transparent;\n",
              "      border-bottom-color: var(--fill-color);\n",
              "      border-left-color: var(--fill-color);\n",
              "    }\n",
              "    20% {\n",
              "      border-color: transparent;\n",
              "      border-left-color: var(--fill-color);\n",
              "      border-top-color: var(--fill-color);\n",
              "    }\n",
              "    30% {\n",
              "      border-color: transparent;\n",
              "      border-left-color: var(--fill-color);\n",
              "      border-top-color: var(--fill-color);\n",
              "      border-right-color: var(--fill-color);\n",
              "    }\n",
              "    40% {\n",
              "      border-color: transparent;\n",
              "      border-right-color: var(--fill-color);\n",
              "      border-top-color: var(--fill-color);\n",
              "    }\n",
              "    60% {\n",
              "      border-color: transparent;\n",
              "      border-right-color: var(--fill-color);\n",
              "    }\n",
              "    80% {\n",
              "      border-color: transparent;\n",
              "      border-right-color: var(--fill-color);\n",
              "      border-bottom-color: var(--fill-color);\n",
              "    }\n",
              "    90% {\n",
              "      border-color: transparent;\n",
              "      border-bottom-color: var(--fill-color);\n",
              "    }\n",
              "  }\n",
              "</style>\n",
              "\n",
              "  <script>\n",
              "    async function quickchart(key) {\n",
              "      const quickchartButtonEl =\n",
              "        document.querySelector('#' + key + ' button');\n",
              "      quickchartButtonEl.disabled = true;  // To prevent multiple clicks.\n",
              "      quickchartButtonEl.classList.add('colab-df-spinner');\n",
              "      try {\n",
              "        const charts = await google.colab.kernel.invokeFunction(\n",
              "            'suggestCharts', [key], {});\n",
              "      } catch (error) {\n",
              "        console.error('Error during call to suggestCharts:', error);\n",
              "      }\n",
              "      quickchartButtonEl.classList.remove('colab-df-spinner');\n",
              "      quickchartButtonEl.classList.add('colab-df-quickchart-complete');\n",
              "    }\n",
              "    (() => {\n",
              "      let quickchartButtonEl =\n",
              "        document.querySelector('#df-378f87c1-e253-4242-a70d-84bbffd8a87a button');\n",
              "      quickchartButtonEl.style.display =\n",
              "        google.colab.kernel.accessAllowed ? 'block' : 'none';\n",
              "    })();\n",
              "  </script>\n",
              "</div>\n",
              "\n",
              "    </div>\n",
              "  </div>\n"
            ],
            "application/vnd.google.colaboratory.intrinsic+json": {
              "type": "dataframe",
              "summary": "{\n  \"name\": \"df\",\n  \"rows\": 5,\n  \"fields\": [\n    {\n      \"column\": \"response\",\n      \"properties\": {\n        \"dtype\": \"string\",\n        \"num_unique_values\": 5,\n        \"samples\": [\n          \"Discuss the role of cellular respiration in energy production within living organisms and how it contributes to the overall functioning of cells\",\n          \"In what ways has the use of technology impacted the education system and its effectiveness in achieving academic goals\",\n          \"In the field of artificial intelligence explain the difference between supervised and unsupervised learning and provide a reallife example of each\"\n        ],\n        \"semantic_type\": \"\",\n        \"description\": \"\"\n      }\n    },\n    {\n      \"column\": \"prompt_length\",\n      \"properties\": {\n        \"dtype\": \"number\",\n        \"std\": 3,\n        \"min\": 13,\n        \"max\": 22,\n        \"num_unique_values\": 4,\n        \"samples\": [\n          21,\n          19,\n          22\n        ],\n        \"semantic_type\": \"\",\n        \"description\": \"\"\n      }\n    },\n    {\n      \"column\": \"tokens\",\n      \"properties\": {\n        \"dtype\": \"object\",\n        \"semantic_type\": \"\",\n        \"description\": \"\"\n      }\n    },\n    {\n      \"column\": \"filtered_response\",\n      \"properties\": {\n        \"dtype\": \"object\",\n        \"semantic_type\": \"\",\n        \"description\": \"\"\n      }\n    },\n    {\n      \"column\": \"pos_results\",\n      \"properties\": {\n        \"dtype\": \"object\",\n        \"semantic_type\": \"\",\n        \"description\": \"\"\n      }\n    }\n  ]\n}"
            }
          },
          "metadata": {},
          "execution_count": 78
        }
      ],
      "source": [
        "df.tail()"
      ]
    },
    {
      "cell_type": "markdown",
      "metadata": {
        "id": "AYlylyRz7lz7"
      },
      "source": [
        "## Evaluating the model on text from my dataset"
      ]
    },
    {
      "cell_type": "code",
      "execution_count": 84,
      "metadata": {
        "colab": {
          "base_uri": "https://localhost:8080/"
        },
        "id": "-nfS0NCWM4jm",
        "outputId": "283a8b1d-d930-4784-c82f-886be3d5ffe7"
      },
      "outputs": [
        {
          "output_type": "stream",
          "name": "stdout",
          "text": [
            "Predicted labels: [[14, 14, 14]]\n"
          ]
        }
      ],
      "source": [
        "import torch\n",
        "\n",
        "# Example words from my  dataset\n",
        "input_text = \"Classical Quantum Mechanics\"\n",
        "\n",
        "# Tokenization\n",
        "tokens = tokenizer.tokenize(input_text)\n",
        "token_ids = tokenizer.convert_tokens_to_ids(tokens)\n",
        "\n",
        "# Convert token IDs to tensor and add batch dimension\n",
        "input_ids = torch.tensor([token_ids])\n",
        "\n",
        "# Set the model to evaluation mode\n",
        "model.eval()\n",
        "\n",
        "# Disable gradient calculation\n",
        "with torch.no_grad():\n",
        "    # Forward pass\n",
        "    outputs = model(input_ids)\n",
        "    logits = outputs.logits\n",
        "\n",
        "    # Apply softmax to get probabilities\n",
        "    probabilities = torch.softmax(logits, dim=-1)\n",
        "\n",
        "    # Get predicted labels (argmax over logits)\n",
        "    predictions = torch.argmax(probabilities, dim=-1)\n",
        "\n",
        "# Print predicted labels\n",
        "print(\"Predicted labels:\", predictions.tolist())\n"
      ]
    },
    {
      "cell_type": "markdown",
      "metadata": {
        "id": "ChUz66wf7x6Y"
      },
      "source": [
        "The model predicted labels for words from my  dataset correctly, which means there is no model underfitting and the model successfully learned patterns in the dataset\n"
      ]
    },
    {
      "cell_type": "markdown",
      "metadata": {
        "id": "pEQdECO38V4B"
      },
      "source": [
        "## Evaluating the model on unseen text"
      ]
    },
    {
      "cell_type": "code",
      "execution_count": 80,
      "metadata": {
        "colab": {
          "base_uri": "https://localhost:8080/"
        },
        "id": "XAJ9f2PdsCjZ",
        "outputId": "932b1950-108a-4cd3-b10b-6d8b4c779fc9"
      },
      "outputs": [
        {
          "output_type": "stream",
          "name": "stdout",
          "text": [
            "Predicted labels: [[6, 12, 12]]\n"
          ]
        }
      ],
      "source": [
        "import torch\n",
        "\n",
        "\n",
        "input_text = \" Natural language processing\"\n",
        "\n",
        "# Tokenization\n",
        "tokens = tokenizer.tokenize(input_text)\n",
        "token_ids = tokenizer.convert_tokens_to_ids(tokens)\n",
        "\n",
        "# Convert token IDs to tensor and add batch dimension\n",
        "input_ids = torch.tensor([token_ids])\n",
        "\n",
        "# Set the model to evaluation mode\n",
        "model.eval()\n",
        "\n",
        "# Disable gradient calculation\n",
        "with torch.no_grad():\n",
        "    # Forward pass\n",
        "    outputs = model(input_ids)\n",
        "    logits = outputs.logits\n",
        "\n",
        "    # Apply softmax to get probabilities\n",
        "    probabilities = torch.softmax(logits, dim=-1)\n",
        "\n",
        "    # Get predicted labels (argmax over logits)\n",
        "    predictions = torch.argmax(probabilities, dim=-1)\n",
        "\n",
        "# Print predicted labels\n",
        "print(\"Predicted labels:\", predictions.tolist())\n"
      ]
    },
    {
      "cell_type": "markdown",
      "metadata": {
        "id": "KCxtegkq9im0"
      },
      "source": [
        "I noticed that the model predicts words spearatley correct, but when put in a sentence, they are predicted wrong.\n",
        "\n",
        "For example, the word \"natural\" alone is predicted correctly as \"ADJ\" (6).\n",
        "             the word \"language\" alone is predicted correctly as \"ADJ\" (6).\n",
        "             the word \"processing\" alone is predicted correctly as \"PROPN\" (14).\n",
        "\n",
        "However, when they are put together in one sentence \"Natural language processing\", the predictions are different. The same goes to most of the sentences."
      ]
    },
    {
      "cell_type": "code",
      "execution_count": 81,
      "metadata": {
        "colab": {
          "base_uri": "https://localhost:8080/"
        },
        "id": "Su7pseAo9AMr",
        "outputId": "53995574-17ca-4ae5-fd11-b9eb0d473456"
      },
      "outputs": [
        {
          "output_type": "stream",
          "name": "stdout",
          "text": [
            "Predicted labels: [[6]]\n"
          ]
        }
      ],
      "source": [
        "import torch\n",
        "\n",
        "\n",
        "input_text = \" natural\"\n",
        "\n",
        "# Tokenization\n",
        "tokens = tokenizer.tokenize(input_text)\n",
        "token_ids = tokenizer.convert_tokens_to_ids(tokens)\n",
        "\n",
        "# Convert token IDs to tensor and add batch dimension\n",
        "input_ids = torch.tensor([token_ids])\n",
        "\n",
        "# Set the model to evaluation mode\n",
        "model.eval()\n",
        "\n",
        "# Disable gradient calculation\n",
        "with torch.no_grad():\n",
        "    # Forward pass\n",
        "    outputs = model(input_ids)\n",
        "    logits = outputs.logits\n",
        "\n",
        "    # Apply softmax to get probabilities\n",
        "    probabilities = torch.softmax(logits, dim=-1)\n",
        "\n",
        "    # Get predicted labels (argmax over logits)\n",
        "    predictions = torch.argmax(probabilities, dim=-1)\n",
        "\n",
        "# Print predicted labels\n",
        "print(\"Predicted labels:\", predictions.tolist())\n"
      ]
    },
    {
      "cell_type": "code",
      "execution_count": 82,
      "metadata": {
        "colab": {
          "base_uri": "https://localhost:8080/"
        },
        "id": "WkPCXMlW-xOg",
        "outputId": "437cddc4-8e37-4f96-994b-db1efd4e0850"
      },
      "outputs": [
        {
          "output_type": "stream",
          "name": "stdout",
          "text": [
            "Predicted labels: [[6]]\n"
          ]
        }
      ],
      "source": [
        "import torch\n",
        "\n",
        "\n",
        "input_text = \"language\"\n",
        "\n",
        "# Tokenization\n",
        "tokens = tokenizer.tokenize(input_text)\n",
        "token_ids = tokenizer.convert_tokens_to_ids(tokens)\n",
        "\n",
        "# Convert token IDs to tensor and add batch dimension\n",
        "input_ids = torch.tensor([token_ids])\n",
        "\n",
        "# Set the model to evaluation mode\n",
        "model.eval()\n",
        "\n",
        "# Disable gradient calculation\n",
        "with torch.no_grad():\n",
        "    # Forward pass\n",
        "    outputs = model(input_ids)\n",
        "    logits = outputs.logits\n",
        "\n",
        "    # Apply softmax to get probabilities\n",
        "    probabilities = torch.softmax(logits, dim=-1)\n",
        "\n",
        "    # Get predicted labels (argmax over logits)\n",
        "    predictions = torch.argmax(probabilities, dim=-1)\n",
        "\n",
        "# Print predicted labels\n",
        "print(\"Predicted labels:\", predictions.tolist())\n"
      ]
    },
    {
      "cell_type": "code",
      "execution_count": 83,
      "metadata": {
        "colab": {
          "base_uri": "https://localhost:8080/"
        },
        "id": "rtd-uo1s-xWQ",
        "outputId": "9ee84990-e58e-4b4f-e5a3-427fed91396c"
      },
      "outputs": [
        {
          "output_type": "stream",
          "name": "stdout",
          "text": [
            "Predicted labels: [[14]]\n"
          ]
        }
      ],
      "source": [
        "import torch\n",
        "\n",
        "input_text = \"processing\"\n",
        "\n",
        "# Tokenization\n",
        "tokens = tokenizer.tokenize(input_text)\n",
        "token_ids = tokenizer.convert_tokens_to_ids(tokens)\n",
        "\n",
        "# Convert token IDs to tensor and add batch dimension\n",
        "input_ids = torch.tensor([token_ids])\n",
        "\n",
        "# Set the model to evaluation mode\n",
        "model.eval()\n",
        "\n",
        "# Disable gradient calculation\n",
        "with torch.no_grad():\n",
        "    # Forward pass\n",
        "    outputs = model(input_ids)\n",
        "    logits = outputs.logits\n",
        "\n",
        "    # Apply softmax to get probabilities\n",
        "    probabilities = torch.softmax(logits, dim=-1)\n",
        "\n",
        "    # Get predicted labels (argmax over logits)\n",
        "    predictions = torch.argmax(probabilities, dim=-1)\n",
        "\n",
        "# Print predicted labels\n",
        "print(\"Predicted labels:\", predictions.tolist())\n"
      ]
    }
  ],
  "metadata": {
    "colab": {
      "provenance": []
    },
    "kernelspec": {
      "display_name": "Python 3",
      "name": "python3"
    },
    "language_info": {
      "name": "python"
    },
    "widgets": {
      "application/vnd.jupyter.widget-state+json": {
        "d33948a2ca204746b3f261a7d03c8d89": {
          "model_module": "@jupyter-widgets/controls",
          "model_name": "HBoxModel",
          "model_module_version": "1.5.0",
          "state": {
            "_dom_classes": [],
            "_model_module": "@jupyter-widgets/controls",
            "_model_module_version": "1.5.0",
            "_model_name": "HBoxModel",
            "_view_count": null,
            "_view_module": "@jupyter-widgets/controls",
            "_view_module_version": "1.5.0",
            "_view_name": "HBoxView",
            "box_style": "",
            "children": [
              "IPY_MODEL_efdbd770d8ef46078bbc480f5c2b3b5b",
              "IPY_MODEL_9e0136c5cda541e89dbe414bac994d1c",
              "IPY_MODEL_6374dba9337348d381b4717fe19676ea"
            ],
            "layout": "IPY_MODEL_976231293ffa4b6494461a382419fea4"
          }
        },
        "efdbd770d8ef46078bbc480f5c2b3b5b": {
          "model_module": "@jupyter-widgets/controls",
          "model_name": "HTMLModel",
          "model_module_version": "1.5.0",
          "state": {
            "_dom_classes": [],
            "_model_module": "@jupyter-widgets/controls",
            "_model_module_version": "1.5.0",
            "_model_name": "HTMLModel",
            "_view_count": null,
            "_view_module": "@jupyter-widgets/controls",
            "_view_module_version": "1.5.0",
            "_view_name": "HTMLView",
            "description": "",
            "description_tooltip": null,
            "layout": "IPY_MODEL_5f42d32da6ca4e378966edb5147a5e71",
            "placeholder": "​",
            "style": "IPY_MODEL_b8d541e345b74f2fa404d6364943bd96",
            "value": "vocab.txt: 100%"
          }
        },
        "9e0136c5cda541e89dbe414bac994d1c": {
          "model_module": "@jupyter-widgets/controls",
          "model_name": "FloatProgressModel",
          "model_module_version": "1.5.0",
          "state": {
            "_dom_classes": [],
            "_model_module": "@jupyter-widgets/controls",
            "_model_module_version": "1.5.0",
            "_model_name": "FloatProgressModel",
            "_view_count": null,
            "_view_module": "@jupyter-widgets/controls",
            "_view_module_version": "1.5.0",
            "_view_name": "ProgressView",
            "bar_style": "success",
            "description": "",
            "description_tooltip": null,
            "layout": "IPY_MODEL_c91eec3b859041498bf918c6b028590a",
            "max": 231508,
            "min": 0,
            "orientation": "horizontal",
            "style": "IPY_MODEL_1e178b55260a49f797efbebe50399088",
            "value": 231508
          }
        },
        "6374dba9337348d381b4717fe19676ea": {
          "model_module": "@jupyter-widgets/controls",
          "model_name": "HTMLModel",
          "model_module_version": "1.5.0",
          "state": {
            "_dom_classes": [],
            "_model_module": "@jupyter-widgets/controls",
            "_model_module_version": "1.5.0",
            "_model_name": "HTMLModel",
            "_view_count": null,
            "_view_module": "@jupyter-widgets/controls",
            "_view_module_version": "1.5.0",
            "_view_name": "HTMLView",
            "description": "",
            "description_tooltip": null,
            "layout": "IPY_MODEL_2e888dbe3e874d2d91b601959efdb933",
            "placeholder": "​",
            "style": "IPY_MODEL_1557477d76a44287a7c82d1d7e62bd25",
            "value": " 232k/232k [00:00&lt;00:00, 5.76MB/s]"
          }
        },
        "976231293ffa4b6494461a382419fea4": {
          "model_module": "@jupyter-widgets/base",
          "model_name": "LayoutModel",
          "model_module_version": "1.2.0",
          "state": {
            "_model_module": "@jupyter-widgets/base",
            "_model_module_version": "1.2.0",
            "_model_name": "LayoutModel",
            "_view_count": null,
            "_view_module": "@jupyter-widgets/base",
            "_view_module_version": "1.2.0",
            "_view_name": "LayoutView",
            "align_content": null,
            "align_items": null,
            "align_self": null,
            "border": null,
            "bottom": null,
            "display": null,
            "flex": null,
            "flex_flow": null,
            "grid_area": null,
            "grid_auto_columns": null,
            "grid_auto_flow": null,
            "grid_auto_rows": null,
            "grid_column": null,
            "grid_gap": null,
            "grid_row": null,
            "grid_template_areas": null,
            "grid_template_columns": null,
            "grid_template_rows": null,
            "height": null,
            "justify_content": null,
            "justify_items": null,
            "left": null,
            "margin": null,
            "max_height": null,
            "max_width": null,
            "min_height": null,
            "min_width": null,
            "object_fit": null,
            "object_position": null,
            "order": null,
            "overflow": null,
            "overflow_x": null,
            "overflow_y": null,
            "padding": null,
            "right": null,
            "top": null,
            "visibility": null,
            "width": null
          }
        },
        "5f42d32da6ca4e378966edb5147a5e71": {
          "model_module": "@jupyter-widgets/base",
          "model_name": "LayoutModel",
          "model_module_version": "1.2.0",
          "state": {
            "_model_module": "@jupyter-widgets/base",
            "_model_module_version": "1.2.0",
            "_model_name": "LayoutModel",
            "_view_count": null,
            "_view_module": "@jupyter-widgets/base",
            "_view_module_version": "1.2.0",
            "_view_name": "LayoutView",
            "align_content": null,
            "align_items": null,
            "align_self": null,
            "border": null,
            "bottom": null,
            "display": null,
            "flex": null,
            "flex_flow": null,
            "grid_area": null,
            "grid_auto_columns": null,
            "grid_auto_flow": null,
            "grid_auto_rows": null,
            "grid_column": null,
            "grid_gap": null,
            "grid_row": null,
            "grid_template_areas": null,
            "grid_template_columns": null,
            "grid_template_rows": null,
            "height": null,
            "justify_content": null,
            "justify_items": null,
            "left": null,
            "margin": null,
            "max_height": null,
            "max_width": null,
            "min_height": null,
            "min_width": null,
            "object_fit": null,
            "object_position": null,
            "order": null,
            "overflow": null,
            "overflow_x": null,
            "overflow_y": null,
            "padding": null,
            "right": null,
            "top": null,
            "visibility": null,
            "width": null
          }
        },
        "b8d541e345b74f2fa404d6364943bd96": {
          "model_module": "@jupyter-widgets/controls",
          "model_name": "DescriptionStyleModel",
          "model_module_version": "1.5.0",
          "state": {
            "_model_module": "@jupyter-widgets/controls",
            "_model_module_version": "1.5.0",
            "_model_name": "DescriptionStyleModel",
            "_view_count": null,
            "_view_module": "@jupyter-widgets/base",
            "_view_module_version": "1.2.0",
            "_view_name": "StyleView",
            "description_width": ""
          }
        },
        "c91eec3b859041498bf918c6b028590a": {
          "model_module": "@jupyter-widgets/base",
          "model_name": "LayoutModel",
          "model_module_version": "1.2.0",
          "state": {
            "_model_module": "@jupyter-widgets/base",
            "_model_module_version": "1.2.0",
            "_model_name": "LayoutModel",
            "_view_count": null,
            "_view_module": "@jupyter-widgets/base",
            "_view_module_version": "1.2.0",
            "_view_name": "LayoutView",
            "align_content": null,
            "align_items": null,
            "align_self": null,
            "border": null,
            "bottom": null,
            "display": null,
            "flex": null,
            "flex_flow": null,
            "grid_area": null,
            "grid_auto_columns": null,
            "grid_auto_flow": null,
            "grid_auto_rows": null,
            "grid_column": null,
            "grid_gap": null,
            "grid_row": null,
            "grid_template_areas": null,
            "grid_template_columns": null,
            "grid_template_rows": null,
            "height": null,
            "justify_content": null,
            "justify_items": null,
            "left": null,
            "margin": null,
            "max_height": null,
            "max_width": null,
            "min_height": null,
            "min_width": null,
            "object_fit": null,
            "object_position": null,
            "order": null,
            "overflow": null,
            "overflow_x": null,
            "overflow_y": null,
            "padding": null,
            "right": null,
            "top": null,
            "visibility": null,
            "width": null
          }
        },
        "1e178b55260a49f797efbebe50399088": {
          "model_module": "@jupyter-widgets/controls",
          "model_name": "ProgressStyleModel",
          "model_module_version": "1.5.0",
          "state": {
            "_model_module": "@jupyter-widgets/controls",
            "_model_module_version": "1.5.0",
            "_model_name": "ProgressStyleModel",
            "_view_count": null,
            "_view_module": "@jupyter-widgets/base",
            "_view_module_version": "1.2.0",
            "_view_name": "StyleView",
            "bar_color": null,
            "description_width": ""
          }
        },
        "2e888dbe3e874d2d91b601959efdb933": {
          "model_module": "@jupyter-widgets/base",
          "model_name": "LayoutModel",
          "model_module_version": "1.2.0",
          "state": {
            "_model_module": "@jupyter-widgets/base",
            "_model_module_version": "1.2.0",
            "_model_name": "LayoutModel",
            "_view_count": null,
            "_view_module": "@jupyter-widgets/base",
            "_view_module_version": "1.2.0",
            "_view_name": "LayoutView",
            "align_content": null,
            "align_items": null,
            "align_self": null,
            "border": null,
            "bottom": null,
            "display": null,
            "flex": null,
            "flex_flow": null,
            "grid_area": null,
            "grid_auto_columns": null,
            "grid_auto_flow": null,
            "grid_auto_rows": null,
            "grid_column": null,
            "grid_gap": null,
            "grid_row": null,
            "grid_template_areas": null,
            "grid_template_columns": null,
            "grid_template_rows": null,
            "height": null,
            "justify_content": null,
            "justify_items": null,
            "left": null,
            "margin": null,
            "max_height": null,
            "max_width": null,
            "min_height": null,
            "min_width": null,
            "object_fit": null,
            "object_position": null,
            "order": null,
            "overflow": null,
            "overflow_x": null,
            "overflow_y": null,
            "padding": null,
            "right": null,
            "top": null,
            "visibility": null,
            "width": null
          }
        },
        "1557477d76a44287a7c82d1d7e62bd25": {
          "model_module": "@jupyter-widgets/controls",
          "model_name": "DescriptionStyleModel",
          "model_module_version": "1.5.0",
          "state": {
            "_model_module": "@jupyter-widgets/controls",
            "_model_module_version": "1.5.0",
            "_model_name": "DescriptionStyleModel",
            "_view_count": null,
            "_view_module": "@jupyter-widgets/base",
            "_view_module_version": "1.2.0",
            "_view_name": "StyleView",
            "description_width": ""
          }
        },
        "523986d4e38f4ae7ab06b7f1cd5e9e0f": {
          "model_module": "@jupyter-widgets/controls",
          "model_name": "HBoxModel",
          "model_module_version": "1.5.0",
          "state": {
            "_dom_classes": [],
            "_model_module": "@jupyter-widgets/controls",
            "_model_module_version": "1.5.0",
            "_model_name": "HBoxModel",
            "_view_count": null,
            "_view_module": "@jupyter-widgets/controls",
            "_view_module_version": "1.5.0",
            "_view_name": "HBoxView",
            "box_style": "",
            "children": [
              "IPY_MODEL_9e50c3d6b709489da472f1ca18ec3ae2",
              "IPY_MODEL_06efc9b021e84822a4e383434024e50d",
              "IPY_MODEL_93dcea26103148fbbe3fec92424b177a"
            ],
            "layout": "IPY_MODEL_17c08a790ba743a88d140a2ba00da877"
          }
        },
        "9e50c3d6b709489da472f1ca18ec3ae2": {
          "model_module": "@jupyter-widgets/controls",
          "model_name": "HTMLModel",
          "model_module_version": "1.5.0",
          "state": {
            "_dom_classes": [],
            "_model_module": "@jupyter-widgets/controls",
            "_model_module_version": "1.5.0",
            "_model_name": "HTMLModel",
            "_view_count": null,
            "_view_module": "@jupyter-widgets/controls",
            "_view_module_version": "1.5.0",
            "_view_name": "HTMLView",
            "description": "",
            "description_tooltip": null,
            "layout": "IPY_MODEL_51b535c38cd844928893a7bf6d232816",
            "placeholder": "​",
            "style": "IPY_MODEL_e85e1803ee7b477db4a6c8011231ff4f",
            "value": "config.json: 100%"
          }
        },
        "06efc9b021e84822a4e383434024e50d": {
          "model_module": "@jupyter-widgets/controls",
          "model_name": "FloatProgressModel",
          "model_module_version": "1.5.0",
          "state": {
            "_dom_classes": [],
            "_model_module": "@jupyter-widgets/controls",
            "_model_module_version": "1.5.0",
            "_model_name": "FloatProgressModel",
            "_view_count": null,
            "_view_module": "@jupyter-widgets/controls",
            "_view_module_version": "1.5.0",
            "_view_name": "ProgressView",
            "bar_style": "success",
            "description": "",
            "description_tooltip": null,
            "layout": "IPY_MODEL_562b7d6390134f5c9361aec18b80b21a",
            "max": 285,
            "min": 0,
            "orientation": "horizontal",
            "style": "IPY_MODEL_79723836fc864a56945ec81b518b0b42",
            "value": 285
          }
        },
        "93dcea26103148fbbe3fec92424b177a": {
          "model_module": "@jupyter-widgets/controls",
          "model_name": "HTMLModel",
          "model_module_version": "1.5.0",
          "state": {
            "_dom_classes": [],
            "_model_module": "@jupyter-widgets/controls",
            "_model_module_version": "1.5.0",
            "_model_name": "HTMLModel",
            "_view_count": null,
            "_view_module": "@jupyter-widgets/controls",
            "_view_module_version": "1.5.0",
            "_view_name": "HTMLView",
            "description": "",
            "description_tooltip": null,
            "layout": "IPY_MODEL_ec28269da422455b9530f56d94251cf5",
            "placeholder": "​",
            "style": "IPY_MODEL_fb1e69f527fa4f6082d84f94acfdc483",
            "value": " 285/285 [00:00&lt;00:00, 12.8kB/s]"
          }
        },
        "17c08a790ba743a88d140a2ba00da877": {
          "model_module": "@jupyter-widgets/base",
          "model_name": "LayoutModel",
          "model_module_version": "1.2.0",
          "state": {
            "_model_module": "@jupyter-widgets/base",
            "_model_module_version": "1.2.0",
            "_model_name": "LayoutModel",
            "_view_count": null,
            "_view_module": "@jupyter-widgets/base",
            "_view_module_version": "1.2.0",
            "_view_name": "LayoutView",
            "align_content": null,
            "align_items": null,
            "align_self": null,
            "border": null,
            "bottom": null,
            "display": null,
            "flex": null,
            "flex_flow": null,
            "grid_area": null,
            "grid_auto_columns": null,
            "grid_auto_flow": null,
            "grid_auto_rows": null,
            "grid_column": null,
            "grid_gap": null,
            "grid_row": null,
            "grid_template_areas": null,
            "grid_template_columns": null,
            "grid_template_rows": null,
            "height": null,
            "justify_content": null,
            "justify_items": null,
            "left": null,
            "margin": null,
            "max_height": null,
            "max_width": null,
            "min_height": null,
            "min_width": null,
            "object_fit": null,
            "object_position": null,
            "order": null,
            "overflow": null,
            "overflow_x": null,
            "overflow_y": null,
            "padding": null,
            "right": null,
            "top": null,
            "visibility": null,
            "width": null
          }
        },
        "51b535c38cd844928893a7bf6d232816": {
          "model_module": "@jupyter-widgets/base",
          "model_name": "LayoutModel",
          "model_module_version": "1.2.0",
          "state": {
            "_model_module": "@jupyter-widgets/base",
            "_model_module_version": "1.2.0",
            "_model_name": "LayoutModel",
            "_view_count": null,
            "_view_module": "@jupyter-widgets/base",
            "_view_module_version": "1.2.0",
            "_view_name": "LayoutView",
            "align_content": null,
            "align_items": null,
            "align_self": null,
            "border": null,
            "bottom": null,
            "display": null,
            "flex": null,
            "flex_flow": null,
            "grid_area": null,
            "grid_auto_columns": null,
            "grid_auto_flow": null,
            "grid_auto_rows": null,
            "grid_column": null,
            "grid_gap": null,
            "grid_row": null,
            "grid_template_areas": null,
            "grid_template_columns": null,
            "grid_template_rows": null,
            "height": null,
            "justify_content": null,
            "justify_items": null,
            "left": null,
            "margin": null,
            "max_height": null,
            "max_width": null,
            "min_height": null,
            "min_width": null,
            "object_fit": null,
            "object_position": null,
            "order": null,
            "overflow": null,
            "overflow_x": null,
            "overflow_y": null,
            "padding": null,
            "right": null,
            "top": null,
            "visibility": null,
            "width": null
          }
        },
        "e85e1803ee7b477db4a6c8011231ff4f": {
          "model_module": "@jupyter-widgets/controls",
          "model_name": "DescriptionStyleModel",
          "model_module_version": "1.5.0",
          "state": {
            "_model_module": "@jupyter-widgets/controls",
            "_model_module_version": "1.5.0",
            "_model_name": "DescriptionStyleModel",
            "_view_count": null,
            "_view_module": "@jupyter-widgets/base",
            "_view_module_version": "1.2.0",
            "_view_name": "StyleView",
            "description_width": ""
          }
        },
        "562b7d6390134f5c9361aec18b80b21a": {
          "model_module": "@jupyter-widgets/base",
          "model_name": "LayoutModel",
          "model_module_version": "1.2.0",
          "state": {
            "_model_module": "@jupyter-widgets/base",
            "_model_module_version": "1.2.0",
            "_model_name": "LayoutModel",
            "_view_count": null,
            "_view_module": "@jupyter-widgets/base",
            "_view_module_version": "1.2.0",
            "_view_name": "LayoutView",
            "align_content": null,
            "align_items": null,
            "align_self": null,
            "border": null,
            "bottom": null,
            "display": null,
            "flex": null,
            "flex_flow": null,
            "grid_area": null,
            "grid_auto_columns": null,
            "grid_auto_flow": null,
            "grid_auto_rows": null,
            "grid_column": null,
            "grid_gap": null,
            "grid_row": null,
            "grid_template_areas": null,
            "grid_template_columns": null,
            "grid_template_rows": null,
            "height": null,
            "justify_content": null,
            "justify_items": null,
            "left": null,
            "margin": null,
            "max_height": null,
            "max_width": null,
            "min_height": null,
            "min_width": null,
            "object_fit": null,
            "object_position": null,
            "order": null,
            "overflow": null,
            "overflow_x": null,
            "overflow_y": null,
            "padding": null,
            "right": null,
            "top": null,
            "visibility": null,
            "width": null
          }
        },
        "79723836fc864a56945ec81b518b0b42": {
          "model_module": "@jupyter-widgets/controls",
          "model_name": "ProgressStyleModel",
          "model_module_version": "1.5.0",
          "state": {
            "_model_module": "@jupyter-widgets/controls",
            "_model_module_version": "1.5.0",
            "_model_name": "ProgressStyleModel",
            "_view_count": null,
            "_view_module": "@jupyter-widgets/base",
            "_view_module_version": "1.2.0",
            "_view_name": "StyleView",
            "bar_color": null,
            "description_width": ""
          }
        },
        "ec28269da422455b9530f56d94251cf5": {
          "model_module": "@jupyter-widgets/base",
          "model_name": "LayoutModel",
          "model_module_version": "1.2.0",
          "state": {
            "_model_module": "@jupyter-widgets/base",
            "_model_module_version": "1.2.0",
            "_model_name": "LayoutModel",
            "_view_count": null,
            "_view_module": "@jupyter-widgets/base",
            "_view_module_version": "1.2.0",
            "_view_name": "LayoutView",
            "align_content": null,
            "align_items": null,
            "align_self": null,
            "border": null,
            "bottom": null,
            "display": null,
            "flex": null,
            "flex_flow": null,
            "grid_area": null,
            "grid_auto_columns": null,
            "grid_auto_flow": null,
            "grid_auto_rows": null,
            "grid_column": null,
            "grid_gap": null,
            "grid_row": null,
            "grid_template_areas": null,
            "grid_template_columns": null,
            "grid_template_rows": null,
            "height": null,
            "justify_content": null,
            "justify_items": null,
            "left": null,
            "margin": null,
            "max_height": null,
            "max_width": null,
            "min_height": null,
            "min_width": null,
            "object_fit": null,
            "object_position": null,
            "order": null,
            "overflow": null,
            "overflow_x": null,
            "overflow_y": null,
            "padding": null,
            "right": null,
            "top": null,
            "visibility": null,
            "width": null
          }
        },
        "fb1e69f527fa4f6082d84f94acfdc483": {
          "model_module": "@jupyter-widgets/controls",
          "model_name": "DescriptionStyleModel",
          "model_module_version": "1.5.0",
          "state": {
            "_model_module": "@jupyter-widgets/controls",
            "_model_module_version": "1.5.0",
            "_model_name": "DescriptionStyleModel",
            "_view_count": null,
            "_view_module": "@jupyter-widgets/base",
            "_view_module_version": "1.2.0",
            "_view_name": "StyleView",
            "description_width": ""
          }
        },
        "a7c6f28f7ce646a8bb3629de94b5dcf3": {
          "model_module": "@jupyter-widgets/controls",
          "model_name": "HBoxModel",
          "model_module_version": "1.5.0",
          "state": {
            "_dom_classes": [],
            "_model_module": "@jupyter-widgets/controls",
            "_model_module_version": "1.5.0",
            "_model_name": "HBoxModel",
            "_view_count": null,
            "_view_module": "@jupyter-widgets/controls",
            "_view_module_version": "1.5.0",
            "_view_name": "HBoxView",
            "box_style": "",
            "children": [
              "IPY_MODEL_0feca7309e91465f8a450487cb160a93",
              "IPY_MODEL_136591497221460a8599554dc1088e6e",
              "IPY_MODEL_0aaaeeb918ce4a46ae1d5c7e1b83f46a"
            ],
            "layout": "IPY_MODEL_d55936d88b6e430e897c58198b920cdc"
          }
        },
        "0feca7309e91465f8a450487cb160a93": {
          "model_module": "@jupyter-widgets/controls",
          "model_name": "HTMLModel",
          "model_module_version": "1.5.0",
          "state": {
            "_dom_classes": [],
            "_model_module": "@jupyter-widgets/controls",
            "_model_module_version": "1.5.0",
            "_model_name": "HTMLModel",
            "_view_count": null,
            "_view_module": "@jupyter-widgets/controls",
            "_view_module_version": "1.5.0",
            "_view_name": "HTMLView",
            "description": "",
            "description_tooltip": null,
            "layout": "IPY_MODEL_7d21803c213c4ff8bccf223e5fbc613d",
            "placeholder": "​",
            "style": "IPY_MODEL_1ec4530787734552b9f0d30f8192bbdc",
            "value": "pytorch_model.bin: 100%"
          }
        },
        "136591497221460a8599554dc1088e6e": {
          "model_module": "@jupyter-widgets/controls",
          "model_name": "FloatProgressModel",
          "model_module_version": "1.5.0",
          "state": {
            "_dom_classes": [],
            "_model_module": "@jupyter-widgets/controls",
            "_model_module_version": "1.5.0",
            "_model_name": "FloatProgressModel",
            "_view_count": null,
            "_view_module": "@jupyter-widgets/controls",
            "_view_module_version": "1.5.0",
            "_view_name": "ProgressView",
            "bar_style": "success",
            "description": "",
            "description_tooltip": null,
            "layout": "IPY_MODEL_3d185a27611a43ab8f63e1be2b0b21cd",
            "max": 17756393,
            "min": 0,
            "orientation": "horizontal",
            "style": "IPY_MODEL_275a31afcb8049429c09eb254ac0d6b1",
            "value": 17756393
          }
        },
        "0aaaeeb918ce4a46ae1d5c7e1b83f46a": {
          "model_module": "@jupyter-widgets/controls",
          "model_name": "HTMLModel",
          "model_module_version": "1.5.0",
          "state": {
            "_dom_classes": [],
            "_model_module": "@jupyter-widgets/controls",
            "_model_module_version": "1.5.0",
            "_model_name": "HTMLModel",
            "_view_count": null,
            "_view_module": "@jupyter-widgets/controls",
            "_view_module_version": "1.5.0",
            "_view_name": "HTMLView",
            "description": "",
            "description_tooltip": null,
            "layout": "IPY_MODEL_dccdd6c669e74c6fa8eb8a0bbedbb299",
            "placeholder": "​",
            "style": "IPY_MODEL_8d970972642145998fe459019987cd5a",
            "value": " 17.8M/17.8M [00:00&lt;00:00, 95.1MB/s]"
          }
        },
        "d55936d88b6e430e897c58198b920cdc": {
          "model_module": "@jupyter-widgets/base",
          "model_name": "LayoutModel",
          "model_module_version": "1.2.0",
          "state": {
            "_model_module": "@jupyter-widgets/base",
            "_model_module_version": "1.2.0",
            "_model_name": "LayoutModel",
            "_view_count": null,
            "_view_module": "@jupyter-widgets/base",
            "_view_module_version": "1.2.0",
            "_view_name": "LayoutView",
            "align_content": null,
            "align_items": null,
            "align_self": null,
            "border": null,
            "bottom": null,
            "display": null,
            "flex": null,
            "flex_flow": null,
            "grid_area": null,
            "grid_auto_columns": null,
            "grid_auto_flow": null,
            "grid_auto_rows": null,
            "grid_column": null,
            "grid_gap": null,
            "grid_row": null,
            "grid_template_areas": null,
            "grid_template_columns": null,
            "grid_template_rows": null,
            "height": null,
            "justify_content": null,
            "justify_items": null,
            "left": null,
            "margin": null,
            "max_height": null,
            "max_width": null,
            "min_height": null,
            "min_width": null,
            "object_fit": null,
            "object_position": null,
            "order": null,
            "overflow": null,
            "overflow_x": null,
            "overflow_y": null,
            "padding": null,
            "right": null,
            "top": null,
            "visibility": null,
            "width": null
          }
        },
        "7d21803c213c4ff8bccf223e5fbc613d": {
          "model_module": "@jupyter-widgets/base",
          "model_name": "LayoutModel",
          "model_module_version": "1.2.0",
          "state": {
            "_model_module": "@jupyter-widgets/base",
            "_model_module_version": "1.2.0",
            "_model_name": "LayoutModel",
            "_view_count": null,
            "_view_module": "@jupyter-widgets/base",
            "_view_module_version": "1.2.0",
            "_view_name": "LayoutView",
            "align_content": null,
            "align_items": null,
            "align_self": null,
            "border": null,
            "bottom": null,
            "display": null,
            "flex": null,
            "flex_flow": null,
            "grid_area": null,
            "grid_auto_columns": null,
            "grid_auto_flow": null,
            "grid_auto_rows": null,
            "grid_column": null,
            "grid_gap": null,
            "grid_row": null,
            "grid_template_areas": null,
            "grid_template_columns": null,
            "grid_template_rows": null,
            "height": null,
            "justify_content": null,
            "justify_items": null,
            "left": null,
            "margin": null,
            "max_height": null,
            "max_width": null,
            "min_height": null,
            "min_width": null,
            "object_fit": null,
            "object_position": null,
            "order": null,
            "overflow": null,
            "overflow_x": null,
            "overflow_y": null,
            "padding": null,
            "right": null,
            "top": null,
            "visibility": null,
            "width": null
          }
        },
        "1ec4530787734552b9f0d30f8192bbdc": {
          "model_module": "@jupyter-widgets/controls",
          "model_name": "DescriptionStyleModel",
          "model_module_version": "1.5.0",
          "state": {
            "_model_module": "@jupyter-widgets/controls",
            "_model_module_version": "1.5.0",
            "_model_name": "DescriptionStyleModel",
            "_view_count": null,
            "_view_module": "@jupyter-widgets/base",
            "_view_module_version": "1.2.0",
            "_view_name": "StyleView",
            "description_width": ""
          }
        },
        "3d185a27611a43ab8f63e1be2b0b21cd": {
          "model_module": "@jupyter-widgets/base",
          "model_name": "LayoutModel",
          "model_module_version": "1.2.0",
          "state": {
            "_model_module": "@jupyter-widgets/base",
            "_model_module_version": "1.2.0",
            "_model_name": "LayoutModel",
            "_view_count": null,
            "_view_module": "@jupyter-widgets/base",
            "_view_module_version": "1.2.0",
            "_view_name": "LayoutView",
            "align_content": null,
            "align_items": null,
            "align_self": null,
            "border": null,
            "bottom": null,
            "display": null,
            "flex": null,
            "flex_flow": null,
            "grid_area": null,
            "grid_auto_columns": null,
            "grid_auto_flow": null,
            "grid_auto_rows": null,
            "grid_column": null,
            "grid_gap": null,
            "grid_row": null,
            "grid_template_areas": null,
            "grid_template_columns": null,
            "grid_template_rows": null,
            "height": null,
            "justify_content": null,
            "justify_items": null,
            "left": null,
            "margin": null,
            "max_height": null,
            "max_width": null,
            "min_height": null,
            "min_width": null,
            "object_fit": null,
            "object_position": null,
            "order": null,
            "overflow": null,
            "overflow_x": null,
            "overflow_y": null,
            "padding": null,
            "right": null,
            "top": null,
            "visibility": null,
            "width": null
          }
        },
        "275a31afcb8049429c09eb254ac0d6b1": {
          "model_module": "@jupyter-widgets/controls",
          "model_name": "ProgressStyleModel",
          "model_module_version": "1.5.0",
          "state": {
            "_model_module": "@jupyter-widgets/controls",
            "_model_module_version": "1.5.0",
            "_model_name": "ProgressStyleModel",
            "_view_count": null,
            "_view_module": "@jupyter-widgets/base",
            "_view_module_version": "1.2.0",
            "_view_name": "StyleView",
            "bar_color": null,
            "description_width": ""
          }
        },
        "dccdd6c669e74c6fa8eb8a0bbedbb299": {
          "model_module": "@jupyter-widgets/base",
          "model_name": "LayoutModel",
          "model_module_version": "1.2.0",
          "state": {
            "_model_module": "@jupyter-widgets/base",
            "_model_module_version": "1.2.0",
            "_model_name": "LayoutModel",
            "_view_count": null,
            "_view_module": "@jupyter-widgets/base",
            "_view_module_version": "1.2.0",
            "_view_name": "LayoutView",
            "align_content": null,
            "align_items": null,
            "align_self": null,
            "border": null,
            "bottom": null,
            "display": null,
            "flex": null,
            "flex_flow": null,
            "grid_area": null,
            "grid_auto_columns": null,
            "grid_auto_flow": null,
            "grid_auto_rows": null,
            "grid_column": null,
            "grid_gap": null,
            "grid_row": null,
            "grid_template_areas": null,
            "grid_template_columns": null,
            "grid_template_rows": null,
            "height": null,
            "justify_content": null,
            "justify_items": null,
            "left": null,
            "margin": null,
            "max_height": null,
            "max_width": null,
            "min_height": null,
            "min_width": null,
            "object_fit": null,
            "object_position": null,
            "order": null,
            "overflow": null,
            "overflow_x": null,
            "overflow_y": null,
            "padding": null,
            "right": null,
            "top": null,
            "visibility": null,
            "width": null
          }
        },
        "8d970972642145998fe459019987cd5a": {
          "model_module": "@jupyter-widgets/controls",
          "model_name": "DescriptionStyleModel",
          "model_module_version": "1.5.0",
          "state": {
            "_model_module": "@jupyter-widgets/controls",
            "_model_module_version": "1.5.0",
            "_model_name": "DescriptionStyleModel",
            "_view_count": null,
            "_view_module": "@jupyter-widgets/base",
            "_view_module_version": "1.2.0",
            "_view_name": "StyleView",
            "description_width": ""
          }
        }
      }
    }
  },
  "nbformat": 4,
  "nbformat_minor": 0
}